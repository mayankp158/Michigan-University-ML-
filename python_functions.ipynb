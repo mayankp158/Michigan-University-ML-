{
  "nbformat": 4,
  "nbformat_minor": 0,
  "metadata": {
    "colab": {
      "name": "python_functions.ipynb",
      "provenance": [],
      "collapsed_sections": [],
      "authorship_tag": "ABX9TyOYFw08F93gick+YhnsDTlj",
      "include_colab_link": true
    },
    "kernelspec": {
      "name": "python3",
      "display_name": "Python 3"
    }
  },
  "cells": [
    {
      "cell_type": "markdown",
      "metadata": {
        "id": "view-in-github",
        "colab_type": "text"
      },
      "source": [
        "<a href=\"https://colab.research.google.com/github/mayankp158/Michigan-University-ML-/blob/main/python_functions.ipynb\" target=\"_parent\"><img src=\"https://colab.research.google.com/assets/colab-badge.svg\" alt=\"Open In Colab\"/></a>"
      ]
    },
    {
      "cell_type": "code",
      "metadata": {
        "colab": {
          "base_uri": "https://localhost:8080/"
        },
        "id": "nOeJH0oiycbv",
        "outputId": "f4833c28-aba0-4c95-d471-fe5338550287"
      },
      "source": [
        "import csv\n",
        "%precision 2\n",
        "with open('mpg.csv') as new:\n",
        "  mpg = list(csv.DictReader(new))\n",
        "\n",
        "mpg[:3]"
      ],
      "execution_count": 7,
      "outputs": [
        {
          "output_type": "execute_result",
          "data": {
            "text/plain": [
              "[OrderedDict([('mpg', '18'),\n",
              "              ('cylinders', '8'),\n",
              "              ('displacement', '307'),\n",
              "              ('horsepower', '130'),\n",
              "              ('weight', '3504'),\n",
              "              ('acceleration', '12'),\n",
              "              ('model_year', '70'),\n",
              "              ('origin', '1'),\n",
              "              ('name', 'chevrolet chevelle malibu')]),\n",
              " OrderedDict([('mpg', '15'),\n",
              "              ('cylinders', '8'),\n",
              "              ('displacement', '350'),\n",
              "              ('horsepower', '165'),\n",
              "              ('weight', '3693'),\n",
              "              ('acceleration', '11.5'),\n",
              "              ('model_year', '70'),\n",
              "              ('origin', '1'),\n",
              "              ('name', 'buick skylark 320')]),\n",
              " OrderedDict([('mpg', '18'),\n",
              "              ('cylinders', '8'),\n",
              "              ('displacement', '318'),\n",
              "              ('horsepower', '150'),\n",
              "              ('weight', '3436'),\n",
              "              ('acceleration', '11'),\n",
              "              ('model_year', '70'),\n",
              "              ('origin', '1'),\n",
              "              ('name', 'plymouth satellite')])]"
            ]
          },
          "metadata": {
            "tags": []
          },
          "execution_count": 7
        }
      ]
    },
    {
      "cell_type": "code",
      "metadata": {
        "colab": {
          "base_uri": "https://localhost:8080/"
        },
        "id": "s5_HunFu0_Kj",
        "outputId": "b9a67059-d6fc-4c2b-9bd8-9d2a74e7c2fa"
      },
      "source": [
        "len(mpg)"
      ],
      "execution_count": 9,
      "outputs": [
        {
          "output_type": "execute_result",
          "data": {
            "text/plain": [
              "398"
            ]
          },
          "metadata": {
            "tags": []
          },
          "execution_count": 9
        }
      ]
    },
    {
      "cell_type": "code",
      "metadata": {
        "colab": {
          "base_uri": "https://localhost:8080/"
        },
        "id": "rfxKMrf21C4E",
        "outputId": "792453f2-6581-4b0c-8de1-3cc1711c8fab"
      },
      "source": [
        "mpg[0].keys()"
      ],
      "execution_count": 10,
      "outputs": [
        {
          "output_type": "execute_result",
          "data": {
            "text/plain": [
              "odict_keys(['mpg', 'cylinders', 'displacement', 'horsepower', 'weight', 'acceleration', 'model_year', 'origin', 'name'])"
            ]
          },
          "metadata": {
            "tags": []
          },
          "execution_count": 10
        }
      ]
    },
    {
      "cell_type": "code",
      "metadata": {
        "colab": {
          "base_uri": "https://localhost:8080/"
        },
        "id": "y5UDevmC1XZc",
        "outputId": "d4ed337e-789c-40dd-e60b-4d7fa6c8f9b4"
      },
      "source": [
        "sum(float(i['weight']) for i in mpg)/len(mpg)"
      ],
      "execution_count": 14,
      "outputs": [
        {
          "output_type": "execute_result",
          "data": {
            "text/plain": [
              "2970.42"
            ]
          },
          "metadata": {
            "tags": []
          },
          "execution_count": 14
        }
      ]
    },
    {
      "cell_type": "code",
      "metadata": {
        "colab": {
          "base_uri": "https://localhost:8080/"
        },
        "id": "mkXFQDrF2emk",
        "outputId": "a0e787bb-51d7-4647-cfaa-7f6969897d64"
      },
      "source": [
        "cyl = set(j['cylinders'] for j in mpg)\n",
        "cyl"
      ],
      "execution_count": 15,
      "outputs": [
        {
          "output_type": "execute_result",
          "data": {
            "text/plain": [
              "{'3', '4', '5', '6', '8'}"
            ]
          },
          "metadata": {
            "tags": []
          },
          "execution_count": 15
        }
      ]
    },
    {
      "cell_type": "code",
      "metadata": {
        "colab": {
          "base_uri": "https://localhost:8080/"
        },
        "id": "dv5KmKdx21Iw",
        "outputId": "f2c95f38-a353-4a98-d1e1-c9c95485bbd8"
      },
      "source": [
        "ctympgbycl = []\n",
        "for i in cyl:\n",
        "  sum1 = 0\n",
        "  count1 = 0\n",
        "  for j in mpg:\n",
        "    if j['cylinders'] == i:\n",
        "      sum1 += float(j['cylinders'])\n",
        "      count1 += 1\n",
        "  ctympgbycl.append((i,sum1/count1))\n",
        "\n",
        "ctympgbycl.sort(key=lambda x: x[0])\n",
        "ctympgbycl"
      ],
      "execution_count": 23,
      "outputs": [
        {
          "output_type": "execute_result",
          "data": {
            "text/plain": [
              "[('3', 3.00), ('4', 4.00), ('5', 5.00), ('6', 6.00), ('8', 8.00)]"
            ]
          },
          "metadata": {
            "tags": []
          },
          "execution_count": 23
        }
      ]
    },
    {
      "cell_type": "code",
      "metadata": {
        "colab": {
          "base_uri": "https://localhost:8080/"
        },
        "id": "gcDVJPuI5ahL",
        "outputId": "c67492d6-14fb-4caf-b355-a9aa8176c5cf"
      },
      "source": [
        "vc = set(j['name'] for j in mpg)\n",
        "vc"
      ],
      "execution_count": 24,
      "outputs": [
        {
          "output_type": "execute_result",
          "data": {
            "text/plain": [
              "{'amc ambassador brougham',\n",
              " 'amc ambassador dpl',\n",
              " 'amc ambassador sst',\n",
              " 'amc concord',\n",
              " 'amc concord d/l',\n",
              " 'amc concord dl',\n",
              " 'amc concord dl 6',\n",
              " 'amc gremlin',\n",
              " 'amc hornet',\n",
              " 'amc hornet sportabout (sw)',\n",
              " 'amc matador',\n",
              " 'amc matador (sw)',\n",
              " 'amc pacer',\n",
              " 'amc pacer d/l',\n",
              " 'amc rebel sst',\n",
              " 'amc spirit dl',\n",
              " 'audi 100 ls',\n",
              " 'audi 100ls',\n",
              " 'audi 4000',\n",
              " 'audi 5000',\n",
              " 'audi 5000s (diesel)',\n",
              " 'audi fox',\n",
              " 'bmw 2002',\n",
              " 'bmw 320i',\n",
              " 'buick century',\n",
              " 'buick century 350',\n",
              " 'buick century limited',\n",
              " 'buick century luxus (sw)',\n",
              " 'buick century special',\n",
              " 'buick electra 225 custom',\n",
              " 'buick estate wagon (sw)',\n",
              " 'buick lesabre custom',\n",
              " 'buick opel isuzu deluxe',\n",
              " 'buick regal sport coupe (turbo)',\n",
              " 'buick skyhawk',\n",
              " 'buick skylark',\n",
              " 'buick skylark 320',\n",
              " 'buick skylark limited',\n",
              " 'cadillac eldorado',\n",
              " 'cadillac seville',\n",
              " 'capri ii',\n",
              " 'chevroelt chevelle malibu',\n",
              " 'chevrolet bel air',\n",
              " 'chevrolet camaro',\n",
              " 'chevrolet caprice classic',\n",
              " 'chevrolet cavalier',\n",
              " 'chevrolet cavalier 2-door',\n",
              " 'chevrolet cavalier wagon',\n",
              " 'chevrolet chevelle concours (sw)',\n",
              " 'chevrolet chevelle malibu',\n",
              " 'chevrolet chevelle malibu classic',\n",
              " 'chevrolet chevette',\n",
              " 'chevrolet citation',\n",
              " 'chevrolet concours',\n",
              " 'chevrolet impala',\n",
              " 'chevrolet malibu',\n",
              " 'chevrolet malibu classic (sw)',\n",
              " 'chevrolet monte carlo',\n",
              " 'chevrolet monte carlo landau',\n",
              " 'chevrolet monte carlo s',\n",
              " 'chevrolet monza 2+2',\n",
              " 'chevrolet nova',\n",
              " 'chevrolet nova custom',\n",
              " 'chevrolet vega',\n",
              " 'chevrolet vega (sw)',\n",
              " 'chevrolet vega 2300',\n",
              " 'chevrolet woody',\n",
              " 'chevy c10',\n",
              " 'chevy c20',\n",
              " 'chevy s-10',\n",
              " 'chrysler cordoba',\n",
              " 'chrysler lebaron medallion',\n",
              " 'chrysler lebaron salon',\n",
              " 'chrysler lebaron town @ country (sw)',\n",
              " 'chrysler new yorker brougham',\n",
              " 'chrysler newport royal',\n",
              " 'datsun 1200',\n",
              " 'datsun 200-sx',\n",
              " 'datsun 200sx',\n",
              " 'datsun 210',\n",
              " 'datsun 210 mpg',\n",
              " 'datsun 280-zx',\n",
              " 'datsun 310',\n",
              " 'datsun 310 gx',\n",
              " 'datsun 510',\n",
              " 'datsun 510 (sw)',\n",
              " 'datsun 510 hatchback',\n",
              " 'datsun 610',\n",
              " 'datsun 710',\n",
              " 'datsun 810',\n",
              " 'datsun 810 maxima',\n",
              " 'datsun b-210',\n",
              " 'datsun b210',\n",
              " 'datsun b210 gx',\n",
              " 'datsun f-10 hatchback',\n",
              " 'datsun pl510',\n",
              " 'dodge aries se',\n",
              " 'dodge aries wagon (sw)',\n",
              " 'dodge aspen',\n",
              " 'dodge aspen 6',\n",
              " 'dodge aspen se',\n",
              " 'dodge challenger se',\n",
              " 'dodge charger 2.2',\n",
              " 'dodge colt',\n",
              " 'dodge colt (sw)',\n",
              " 'dodge colt hardtop',\n",
              " 'dodge colt hatchback custom',\n",
              " 'dodge colt m/m',\n",
              " 'dodge coronet brougham',\n",
              " 'dodge coronet custom',\n",
              " 'dodge coronet custom (sw)',\n",
              " 'dodge d100',\n",
              " 'dodge d200',\n",
              " 'dodge dart custom',\n",
              " 'dodge diplomat',\n",
              " 'dodge magnum xe',\n",
              " 'dodge monaco (sw)',\n",
              " 'dodge monaco brougham',\n",
              " 'dodge omni',\n",
              " 'dodge rampage',\n",
              " 'dodge st. regis',\n",
              " 'fiat 124 sport coupe',\n",
              " 'fiat 124 tc',\n",
              " 'fiat 124b',\n",
              " 'fiat 128',\n",
              " 'fiat 131',\n",
              " 'fiat strada custom',\n",
              " 'fiat x1.9',\n",
              " 'ford country',\n",
              " 'ford country squire (sw)',\n",
              " 'ford escort 2h',\n",
              " 'ford escort 4w',\n",
              " 'ford f108',\n",
              " 'ford f250',\n",
              " 'ford fairmont',\n",
              " 'ford fairmont (auto)',\n",
              " 'ford fairmont (man)',\n",
              " 'ford fairmont 4',\n",
              " 'ford fairmont futura',\n",
              " 'ford fiesta',\n",
              " 'ford futura',\n",
              " 'ford galaxie 500',\n",
              " 'ford gran torino',\n",
              " 'ford gran torino (sw)',\n",
              " 'ford granada',\n",
              " 'ford granada ghia',\n",
              " 'ford granada gl',\n",
              " 'ford granada l',\n",
              " 'ford ltd',\n",
              " 'ford ltd landau',\n",
              " 'ford maverick',\n",
              " 'ford mustang',\n",
              " 'ford mustang cobra',\n",
              " 'ford mustang gl',\n",
              " 'ford mustang ii',\n",
              " 'ford mustang ii 2+2',\n",
              " 'ford pinto',\n",
              " 'ford pinto (sw)',\n",
              " 'ford pinto runabout',\n",
              " 'ford ranger',\n",
              " 'ford thunderbird',\n",
              " 'ford torino',\n",
              " 'ford torino 500',\n",
              " 'hi 1200d',\n",
              " 'honda accord',\n",
              " 'honda accord cvcc',\n",
              " 'honda accord lx',\n",
              " 'honda civic',\n",
              " 'honda civic (auto)',\n",
              " 'honda civic 1300',\n",
              " 'honda civic 1500 gl',\n",
              " 'honda civic cvcc',\n",
              " 'honda prelude',\n",
              " 'maxda glc deluxe',\n",
              " 'maxda rx3',\n",
              " 'mazda 626',\n",
              " 'mazda glc',\n",
              " 'mazda glc 4',\n",
              " 'mazda glc custom',\n",
              " 'mazda glc custom l',\n",
              " 'mazda glc deluxe',\n",
              " 'mazda rx-4',\n",
              " 'mazda rx-7 gs',\n",
              " 'mazda rx2 coupe',\n",
              " 'mercedes benz 300d',\n",
              " 'mercedes-benz 240d',\n",
              " 'mercedes-benz 280s',\n",
              " 'mercury capri 2000',\n",
              " 'mercury capri v6',\n",
              " 'mercury cougar brougham',\n",
              " 'mercury grand marquis',\n",
              " 'mercury lynx l',\n",
              " 'mercury marquis',\n",
              " 'mercury marquis brougham',\n",
              " 'mercury monarch',\n",
              " 'mercury monarch ghia',\n",
              " 'mercury zephyr',\n",
              " 'mercury zephyr 6',\n",
              " 'nissan stanza xe',\n",
              " 'oldsmobile cutlass ciera (diesel)',\n",
              " 'oldsmobile cutlass ls',\n",
              " 'oldsmobile cutlass salon brougham',\n",
              " 'oldsmobile cutlass supreme',\n",
              " 'oldsmobile delta 88 royale',\n",
              " 'oldsmobile omega',\n",
              " 'oldsmobile omega brougham',\n",
              " 'oldsmobile starfire sx',\n",
              " 'oldsmobile vista cruiser',\n",
              " 'opel 1900',\n",
              " 'opel manta',\n",
              " 'peugeot 304',\n",
              " 'peugeot 504',\n",
              " 'peugeot 504 (sw)',\n",
              " 'peugeot 505s turbo diesel',\n",
              " 'peugeot 604sl',\n",
              " \"plymouth 'cuda 340\",\n",
              " 'plymouth arrow gs',\n",
              " 'plymouth champ',\n",
              " 'plymouth cricket',\n",
              " 'plymouth custom suburb',\n",
              " 'plymouth duster',\n",
              " 'plymouth fury',\n",
              " 'plymouth fury gran sedan',\n",
              " 'plymouth fury iii',\n",
              " 'plymouth grand fury',\n",
              " 'plymouth horizon',\n",
              " 'plymouth horizon 4',\n",
              " 'plymouth horizon miser',\n",
              " 'plymouth horizon tc3',\n",
              " 'plymouth reliant',\n",
              " 'plymouth sapporo',\n",
              " 'plymouth satellite',\n",
              " 'plymouth satellite custom',\n",
              " 'plymouth satellite custom (sw)',\n",
              " 'plymouth satellite sebring',\n",
              " 'plymouth valiant',\n",
              " 'plymouth valiant custom',\n",
              " 'plymouth volare',\n",
              " 'plymouth volare custom',\n",
              " 'plymouth volare premier v8',\n",
              " 'pontiac astro',\n",
              " 'pontiac catalina',\n",
              " 'pontiac catalina brougham',\n",
              " 'pontiac firebird',\n",
              " 'pontiac grand prix',\n",
              " 'pontiac grand prix lj',\n",
              " 'pontiac j2000 se hatchback',\n",
              " 'pontiac lemans v6',\n",
              " 'pontiac phoenix',\n",
              " 'pontiac phoenix lj',\n",
              " 'pontiac safari (sw)',\n",
              " 'pontiac sunbird coupe',\n",
              " 'pontiac ventura sj',\n",
              " 'renault 12 (sw)',\n",
              " 'renault 12tl',\n",
              " 'renault 18i',\n",
              " 'renault 5 gtl',\n",
              " 'renault lecar deluxe',\n",
              " 'saab 99e',\n",
              " 'saab 99gle',\n",
              " 'saab 99le',\n",
              " 'subaru',\n",
              " 'subaru dl',\n",
              " 'toyota carina',\n",
              " 'toyota celica gt',\n",
              " 'toyota celica gt liftback',\n",
              " 'toyota corolla',\n",
              " 'toyota corolla 1200',\n",
              " 'toyota corolla 1600 (sw)',\n",
              " 'toyota corolla liftback',\n",
              " 'toyota corolla tercel',\n",
              " 'toyota corona',\n",
              " 'toyota corona hardtop',\n",
              " 'toyota corona liftback',\n",
              " 'toyota corona mark ii',\n",
              " 'toyota cressida',\n",
              " 'toyota mark ii',\n",
              " 'toyota starlet',\n",
              " 'toyota tercel',\n",
              " 'toyouta corona mark ii (sw)',\n",
              " 'triumph tr7 coupe',\n",
              " 'vokswagen rabbit',\n",
              " 'volkswagen 1131 deluxe sedan',\n",
              " 'volkswagen 411 (sw)',\n",
              " 'volkswagen dasher',\n",
              " 'volkswagen jetta',\n",
              " 'volkswagen model 111',\n",
              " 'volkswagen rabbit',\n",
              " 'volkswagen rabbit custom',\n",
              " 'volkswagen rabbit custom diesel',\n",
              " 'volkswagen rabbit l',\n",
              " 'volkswagen scirocco',\n",
              " 'volkswagen super beetle',\n",
              " 'volkswagen type 3',\n",
              " 'volvo 144ea',\n",
              " 'volvo 145e (sw)',\n",
              " 'volvo 244dl',\n",
              " 'volvo 245',\n",
              " 'volvo 264gl',\n",
              " 'volvo diesel',\n",
              " 'vw dasher (diesel)',\n",
              " 'vw pickup',\n",
              " 'vw rabbit',\n",
              " 'vw rabbit c (diesel)',\n",
              " 'vw rabbit custom'}"
            ]
          },
          "metadata": {
            "tags": []
          },
          "execution_count": 24
        }
      ]
    },
    {
      "cell_type": "code",
      "metadata": {
        "id": "q_JAfvNc6CXo"
      },
      "source": [
        "import datetime as dt\n",
        "import time as t"
      ],
      "execution_count": 30,
      "outputs": []
    },
    {
      "cell_type": "code",
      "metadata": {
        "colab": {
          "base_uri": "https://localhost:8080/"
        },
        "id": "CVpXxfSA9Qpv",
        "outputId": "6a20e685-4b18-4802-c200-4ccfa58a304d"
      },
      "source": [
        "print(t.time())"
      ],
      "execution_count": 31,
      "outputs": [
        {
          "output_type": "stream",
          "text": [
            "1606753267.2124684\n"
          ],
          "name": "stdout"
        }
      ]
    },
    {
      "cell_type": "code",
      "metadata": {
        "colab": {
          "base_uri": "https://localhost:8080/"
        },
        "id": "500W89Rn9Tn0",
        "outputId": "602d4e60-ea4d-4b9a-dc34-fea236c4215b"
      },
      "source": [
        "dtnow = dt.datetime.fromtimestamp(t.time())\n",
        "dtnow"
      ],
      "execution_count": 33,
      "outputs": [
        {
          "output_type": "execute_result",
          "data": {
            "text/plain": [
              "datetime.datetime(2020, 11, 30, 16, 22, 38, 545832)"
            ]
          },
          "metadata": {
            "tags": []
          },
          "execution_count": 33
        }
      ]
    },
    {
      "cell_type": "code",
      "metadata": {
        "colab": {
          "base_uri": "https://localhost:8080/"
        },
        "id": "MMe5xOLr9rlX",
        "outputId": "2dd0f96d-e9a3-45dc-fadc-72fd06c18aa5"
      },
      "source": [
        "dtnow.year, dtnow.month, dtnow.day, dtnow.hour,dtnow.minute,dtnow.second"
      ],
      "execution_count": 35,
      "outputs": [
        {
          "output_type": "execute_result",
          "data": {
            "text/plain": [
              "(2020, 11, 30, 16, 22, 38)"
            ]
          },
          "metadata": {
            "tags": []
          },
          "execution_count": 35
        }
      ]
    },
    {
      "cell_type": "code",
      "metadata": {
        "colab": {
          "base_uri": "https://localhost:8080/"
        },
        "id": "fQAmD3rh-EHi",
        "outputId": "c03aed1c-c8e9-4997-f881-685f636cd374"
      },
      "source": [
        "delta = dt.timedelta(days=100)\n",
        "delta"
      ],
      "execution_count": 36,
      "outputs": [
        {
          "output_type": "execute_result",
          "data": {
            "text/plain": [
              "datetime.timedelta(100)"
            ]
          },
          "metadata": {
            "tags": []
          },
          "execution_count": 36
        }
      ]
    },
    {
      "cell_type": "code",
      "metadata": {
        "id": "8sqYZpFQ-bE1"
      },
      "source": [
        "today = dt.date.today()"
      ],
      "execution_count": 39,
      "outputs": []
    },
    {
      "cell_type": "code",
      "metadata": {
        "colab": {
          "base_uri": "https://localhost:8080/"
        },
        "id": "rCBn08nx-ppv",
        "outputId": "09c547d1-e6ca-41f6-f59e-ce730fce2854"
      },
      "source": [
        "today-delta"
      ],
      "execution_count": 40,
      "outputs": [
        {
          "output_type": "execute_result",
          "data": {
            "text/plain": [
              "datetime.date(2020, 8, 22)"
            ]
          },
          "metadata": {
            "tags": []
          },
          "execution_count": 40
        }
      ]
    },
    {
      "cell_type": "code",
      "metadata": {
        "colab": {
          "base_uri": "https://localhost:8080/"
        },
        "id": "miqrRvs6-9mp",
        "outputId": "fc9f56e6-5458-48a2-f951-355352443629"
      },
      "source": [
        "today>today-delta"
      ],
      "execution_count": 41,
      "outputs": [
        {
          "output_type": "execute_result",
          "data": {
            "text/plain": [
              "True"
            ]
          },
          "metadata": {
            "tags": []
          },
          "execution_count": 41
        }
      ]
    },
    {
      "cell_type": "code",
      "metadata": {
        "colab": {
          "base_uri": "https://localhost:8080/"
        },
        "id": "fh7xi7V7B7GV",
        "outputId": "f77103e0-ae78-42f9-9120-d862b720261d"
      },
      "source": [
        "people = ['Dr. Christopher Brooks', 'Dr. Kevyn Collins-Thompson', 'Dr. VG Vinod Vydiswaran', 'Dr. Daniel Romero']\n",
        "\n",
        "def split_title_and_name(person):\n",
        "    return person.split()[0] + ' ' + person.split()[-1]\n",
        "\n",
        "#option 1\n",
        "for person in people:\n",
        "    print(split_title_and_name(person) == (lambda person: person.split()[0] + ' ' + person.split()[-1])(person))\n",
        "\n",
        "#option 2\n",
        "#list(map(split_title_and_name, people)) == list(map(???))\n"
      ],
      "execution_count": 43,
      "outputs": [
        {
          "output_type": "stream",
          "text": [
            "True\n",
            "True\n",
            "True\n",
            "True\n"
          ],
          "name": "stdout"
        }
      ]
    },
    {
      "cell_type": "code",
      "metadata": {
        "colab": {
          "base_uri": "https://localhost:8080/"
        },
        "id": "OEOeoQ93SMYN",
        "outputId": "89ac724c-0cfb-4ad0-d09e-255b844038b1"
      },
      "source": [
        "import numpy as np\n",
        "\n",
        "a = [1,2,3]\n",
        "b = np.array(a)\n",
        "print(b)\n",
        "print(b.ndim)"
      ],
      "execution_count": 89,
      "outputs": [
        {
          "output_type": "stream",
          "text": [
            "[1 2 3]\n",
            "1\n"
          ],
          "name": "stdout"
        }
      ]
    },
    {
      "cell_type": "code",
      "metadata": {
        "colab": {
          "base_uri": "https://localhost:8080/"
        },
        "id": "bEkn1sjsShBz",
        "outputId": "813d61c7-85a6-426d-ffcc-3608e05bd1f1"
      },
      "source": [
        "c = np.arange(0,30,2)\n",
        "c"
      ],
      "execution_count": 5,
      "outputs": [
        {
          "output_type": "execute_result",
          "data": {
            "text/plain": [
              "array([ 0,  2,  4,  6,  8, 10, 12, 14, 16, 18, 20, 22, 24, 26, 28])"
            ]
          },
          "metadata": {
            "tags": []
          },
          "execution_count": 5
        }
      ]
    },
    {
      "cell_type": "code",
      "metadata": {
        "colab": {
          "base_uri": "https://localhost:8080/"
        },
        "id": "0o6z39D6SpdT",
        "outputId": "0b19f0a9-da26-4b66-8bad-19f9276470f4"
      },
      "source": [
        "d = np.array([[1,2,3],[4,5,6]])\n",
        "d.shape"
      ],
      "execution_count": 9,
      "outputs": [
        {
          "output_type": "execute_result",
          "data": {
            "text/plain": [
              "(2, 3)"
            ]
          },
          "metadata": {
            "tags": []
          },
          "execution_count": 9
        }
      ]
    },
    {
      "cell_type": "code",
      "metadata": {
        "colab": {
          "base_uri": "https://localhost:8080/"
        },
        "id": "2uusw0zGTH9M",
        "outputId": "5b28b015-26e3-4af6-ac24-605412426151"
      },
      "source": [
        "c.reshape(3,5)"
      ],
      "execution_count": 11,
      "outputs": [
        {
          "output_type": "execute_result",
          "data": {
            "text/plain": [
              "array([[ 0,  2,  4,  6,  8],\n",
              "       [10, 12, 14, 16, 18],\n",
              "       [20, 22, 24, 26, 28]])"
            ]
          },
          "metadata": {
            "tags": []
          },
          "execution_count": 11
        }
      ]
    },
    {
      "cell_type": "code",
      "metadata": {
        "colab": {
          "base_uri": "https://localhost:8080/"
        },
        "id": "_Db9QumTTvHD",
        "outputId": "a3f59681-b3be-4a18-b453-4c7f358444ae"
      },
      "source": [
        "e = np.linspace(0,4,9)\n",
        "e"
      ],
      "execution_count": 12,
      "outputs": [
        {
          "output_type": "execute_result",
          "data": {
            "text/plain": [
              "array([0. , 0.5, 1. , 1.5, 2. , 2.5, 3. , 3.5, 4. ])"
            ]
          },
          "metadata": {
            "tags": []
          },
          "execution_count": 12
        }
      ]
    },
    {
      "cell_type": "code",
      "metadata": {
        "colab": {
          "base_uri": "https://localhost:8080/"
        },
        "id": "g9lWxqWxT25G",
        "outputId": "f1bdd094-48ed-4cc6-870e-53f5c8a8a263"
      },
      "source": [
        "e.resize(3,3)\n",
        "e"
      ],
      "execution_count": 14,
      "outputs": [
        {
          "output_type": "execute_result",
          "data": {
            "text/plain": [
              "array([[0. , 0.5, 1. ],\n",
              "       [1.5, 2. , 2.5],\n",
              "       [3. , 3.5, 4. ]])"
            ]
          },
          "metadata": {
            "tags": []
          },
          "execution_count": 14
        }
      ]
    },
    {
      "cell_type": "code",
      "metadata": {
        "colab": {
          "base_uri": "https://localhost:8080/"
        },
        "id": "sWXit2vdUN-8",
        "outputId": "7d93b8ec-dc2c-4e32-d1da-218f7debde21"
      },
      "source": [
        "np.ones((2,3))"
      ],
      "execution_count": 17,
      "outputs": [
        {
          "output_type": "execute_result",
          "data": {
            "text/plain": [
              "array([[1., 1., 1.],\n",
              "       [1., 1., 1.]])"
            ]
          },
          "metadata": {
            "tags": []
          },
          "execution_count": 17
        }
      ]
    },
    {
      "cell_type": "code",
      "metadata": {
        "colab": {
          "base_uri": "https://localhost:8080/"
        },
        "id": "VFAIrBtaUbzt",
        "outputId": "1cec39e5-92e8-45ac-ab88-4c7f63ba9aa5"
      },
      "source": [
        "np.zeros((2,3))"
      ],
      "execution_count": 18,
      "outputs": [
        {
          "output_type": "execute_result",
          "data": {
            "text/plain": [
              "array([[0., 0., 0.],\n",
              "       [0., 0., 0.]])"
            ]
          },
          "metadata": {
            "tags": []
          },
          "execution_count": 18
        }
      ]
    },
    {
      "cell_type": "code",
      "metadata": {
        "colab": {
          "base_uri": "https://localhost:8080/"
        },
        "id": "-KYriPnfUggN",
        "outputId": "22ceea4b-5a1d-487c-99c7-c277e56a6b63"
      },
      "source": [
        "np.eye(3)"
      ],
      "execution_count": 23,
      "outputs": [
        {
          "output_type": "execute_result",
          "data": {
            "text/plain": [
              "array([[1., 0., 0.],\n",
              "       [0., 1., 0.],\n",
              "       [0., 0., 1.]])"
            ]
          },
          "metadata": {
            "tags": []
          },
          "execution_count": 23
        }
      ]
    },
    {
      "cell_type": "code",
      "metadata": {
        "colab": {
          "base_uri": "https://localhost:8080/"
        },
        "id": "6GBEPG_9Uu3k",
        "outputId": "6a663557-1267-4ba9-a5cd-c9c8a86f68ab"
      },
      "source": [
        "np.diag(a)"
      ],
      "execution_count": 24,
      "outputs": [
        {
          "output_type": "execute_result",
          "data": {
            "text/plain": [
              "array([[1, 0, 0],\n",
              "       [0, 2, 0],\n",
              "       [0, 0, 3]])"
            ]
          },
          "metadata": {
            "tags": []
          },
          "execution_count": 24
        }
      ]
    },
    {
      "cell_type": "code",
      "metadata": {
        "colab": {
          "base_uri": "https://localhost:8080/"
        },
        "id": "qc_Cr4QeV3Xe",
        "outputId": "cfb1e08f-e1a5-4963-e13f-0623451f7743"
      },
      "source": [
        "np.array([1,2,3]*3)"
      ],
      "execution_count": 25,
      "outputs": [
        {
          "output_type": "execute_result",
          "data": {
            "text/plain": [
              "array([1, 2, 3, 1, 2, 3, 1, 2, 3])"
            ]
          },
          "metadata": {
            "tags": []
          },
          "execution_count": 25
        }
      ]
    },
    {
      "cell_type": "code",
      "metadata": {
        "colab": {
          "base_uri": "https://localhost:8080/"
        },
        "id": "gSYUsXEeWBSW",
        "outputId": "9cfe8853-84cd-4a6c-d9d8-422e6cfc2a0f"
      },
      "source": [
        "np.repeat([1,2,3],3)"
      ],
      "execution_count": 26,
      "outputs": [
        {
          "output_type": "execute_result",
          "data": {
            "text/plain": [
              "array([1, 1, 1, 2, 2, 2, 3, 3, 3])"
            ]
          },
          "metadata": {
            "tags": []
          },
          "execution_count": 26
        }
      ]
    },
    {
      "cell_type": "code",
      "metadata": {
        "colab": {
          "base_uri": "https://localhost:8080/"
        },
        "id": "6yBPpO2wWHGf",
        "outputId": "bba26043-30ff-4260-dd25-9ae34bb4f905"
      },
      "source": [
        "p = np.ones((2,3),int)\n",
        "p"
      ],
      "execution_count": 31,
      "outputs": [
        {
          "output_type": "execute_result",
          "data": {
            "text/plain": [
              "array([[1, 1, 1],\n",
              "       [1, 1, 1]])"
            ]
          },
          "metadata": {
            "tags": []
          },
          "execution_count": 31
        }
      ]
    },
    {
      "cell_type": "code",
      "metadata": {
        "colab": {
          "base_uri": "https://localhost:8080/"
        },
        "id": "IhzOlbB8WWTu",
        "outputId": "50f6cde0-973c-4dd3-c66d-626fed2aef33"
      },
      "source": [
        "np.vstack((p,2*p))"
      ],
      "execution_count": 33,
      "outputs": [
        {
          "output_type": "execute_result",
          "data": {
            "text/plain": [
              "array([[1, 1, 1],\n",
              "       [1, 1, 1],\n",
              "       [2, 2, 2],\n",
              "       [2, 2, 2]])"
            ]
          },
          "metadata": {
            "tags": []
          },
          "execution_count": 33
        }
      ]
    },
    {
      "cell_type": "code",
      "metadata": {
        "colab": {
          "base_uri": "https://localhost:8080/"
        },
        "id": "QUbg6Ux4Wm83",
        "outputId": "6d3cb0e9-d007-4eb9-8d4d-851532f7212a"
      },
      "source": [
        "np.hstack((p,2*p))"
      ],
      "execution_count": 34,
      "outputs": [
        {
          "output_type": "execute_result",
          "data": {
            "text/plain": [
              "array([[1, 1, 1, 2, 2, 2],\n",
              "       [1, 1, 1, 2, 2, 2]])"
            ]
          },
          "metadata": {
            "tags": []
          },
          "execution_count": 34
        }
      ]
    },
    {
      "cell_type": "code",
      "metadata": {
        "colab": {
          "base_uri": "https://localhost:8080/"
        },
        "id": "f2f51fYQW7Pn",
        "outputId": "a67d64b3-388a-4e45-92e8-bc18f6c436a3"
      },
      "source": [
        "h = np.array([4,5,6])\n",
        "i = np.array([1,2,3])\n",
        "h+i"
      ],
      "execution_count": 44,
      "outputs": [
        {
          "output_type": "execute_result",
          "data": {
            "text/plain": [
              "array([5, 7, 9])"
            ]
          },
          "metadata": {
            "tags": []
          },
          "execution_count": 44
        }
      ]
    },
    {
      "cell_type": "code",
      "metadata": {
        "colab": {
          "base_uri": "https://localhost:8080/"
        },
        "id": "NBdWfuuZW9NI",
        "outputId": "0bc41b85-3862-4654-bce8-5a44c387de4a"
      },
      "source": [
        "h*i"
      ],
      "execution_count": 45,
      "outputs": [
        {
          "output_type": "execute_result",
          "data": {
            "text/plain": [
              "array([ 4, 10, 18])"
            ]
          },
          "metadata": {
            "tags": []
          },
          "execution_count": 45
        }
      ]
    },
    {
      "cell_type": "code",
      "metadata": {
        "colab": {
          "base_uri": "https://localhost:8080/"
        },
        "id": "Ko93EGEOXhnQ",
        "outputId": "af4b5044-0933-4064-f079-48effe745494"
      },
      "source": [
        "h**2"
      ],
      "execution_count": 46,
      "outputs": [
        {
          "output_type": "execute_result",
          "data": {
            "text/plain": [
              "array([16, 25, 36])"
            ]
          },
          "metadata": {
            "tags": []
          },
          "execution_count": 46
        }
      ]
    },
    {
      "cell_type": "code",
      "metadata": {
        "colab": {
          "base_uri": "https://localhost:8080/"
        },
        "id": "sR_qvbidYTX3",
        "outputId": "34d48e94-5d92-4af6-cb0f-71ad7bf32d81"
      },
      "source": [
        "h.dot(i)"
      ],
      "execution_count": 47,
      "outputs": [
        {
          "output_type": "execute_result",
          "data": {
            "text/plain": [
              "32"
            ]
          },
          "metadata": {
            "tags": []
          },
          "execution_count": 47
        }
      ]
    },
    {
      "cell_type": "code",
      "metadata": {
        "colab": {
          "base_uri": "https://localhost:8080/"
        },
        "id": "vEFHykShYYiq",
        "outputId": "6a41530b-753f-4624-a4d9-b6a3ea6add6b"
      },
      "source": [
        "z = np.array([h,h*2])\n",
        "z"
      ],
      "execution_count": 49,
      "outputs": [
        {
          "output_type": "execute_result",
          "data": {
            "text/plain": [
              "array([[ 4,  5,  6],\n",
              "       [ 8, 10, 12]])"
            ]
          },
          "metadata": {
            "tags": []
          },
          "execution_count": 49
        }
      ]
    },
    {
      "cell_type": "code",
      "metadata": {
        "colab": {
          "base_uri": "https://localhost:8080/"
        },
        "id": "iGwRa4BtYwEW",
        "outputId": "51269ad6-ad7f-49e2-802a-d1a6b70537d9"
      },
      "source": [
        "z.shape"
      ],
      "execution_count": 51,
      "outputs": [
        {
          "output_type": "execute_result",
          "data": {
            "text/plain": [
              "(2, 3)"
            ]
          },
          "metadata": {
            "tags": []
          },
          "execution_count": 51
        }
      ]
    },
    {
      "cell_type": "code",
      "metadata": {
        "colab": {
          "base_uri": "https://localhost:8080/"
        },
        "id": "H33R-_uTY0eP",
        "outputId": "9b5c84b6-4e8c-498d-845c-bc21b6e90eb0"
      },
      "source": [
        "z.T"
      ],
      "execution_count": 52,
      "outputs": [
        {
          "output_type": "execute_result",
          "data": {
            "text/plain": [
              "array([[ 4,  8],\n",
              "       [ 5, 10],\n",
              "       [ 6, 12]])"
            ]
          },
          "metadata": {
            "tags": []
          },
          "execution_count": 52
        }
      ]
    },
    {
      "cell_type": "code",
      "metadata": {
        "colab": {
          "base_uri": "https://localhost:8080/"
        },
        "id": "edBo1qQJY2rY",
        "outputId": "ba0e2452-e09b-4655-9822-1a22ecbaadce"
      },
      "source": [
        "z.T.shape"
      ],
      "execution_count": 53,
      "outputs": [
        {
          "output_type": "execute_result",
          "data": {
            "text/plain": [
              "(3, 2)"
            ]
          },
          "metadata": {
            "tags": []
          },
          "execution_count": 53
        }
      ]
    },
    {
      "cell_type": "code",
      "metadata": {
        "colab": {
          "base_uri": "https://localhost:8080/"
        },
        "id": "RvTBQoWfY63Q",
        "outputId": "fb995817-5080-48ad-b322-4bdc6d311f7c"
      },
      "source": [
        "z.dtype"
      ],
      "execution_count": 54,
      "outputs": [
        {
          "output_type": "execute_result",
          "data": {
            "text/plain": [
              "dtype('int64')"
            ]
          },
          "metadata": {
            "tags": []
          },
          "execution_count": 54
        }
      ]
    },
    {
      "cell_type": "code",
      "metadata": {
        "colab": {
          "base_uri": "https://localhost:8080/"
        },
        "id": "mEfEhmblZLgX",
        "outputId": "155dfcdb-0b88-481a-fce3-d9dd9ae5c197"
      },
      "source": [
        "z = z.astype('f')\n",
        "z.dtype"
      ],
      "execution_count": 56,
      "outputs": [
        {
          "output_type": "execute_result",
          "data": {
            "text/plain": [
              "dtype('float32')"
            ]
          },
          "metadata": {
            "tags": []
          },
          "execution_count": 56
        }
      ]
    },
    {
      "cell_type": "code",
      "metadata": {
        "colab": {
          "base_uri": "https://localhost:8080/"
        },
        "id": "iFu1-NV4ZWxE",
        "outputId": "1efe5788-fe26-4fa3-c7da-5258eb31a2b3"
      },
      "source": [
        "z.max()"
      ],
      "execution_count": 57,
      "outputs": [
        {
          "output_type": "execute_result",
          "data": {
            "text/plain": [
              "12.0"
            ]
          },
          "metadata": {
            "tags": []
          },
          "execution_count": 57
        }
      ]
    },
    {
      "cell_type": "code",
      "metadata": {
        "colab": {
          "base_uri": "https://localhost:8080/"
        },
        "id": "LbYP2B-8ZaRQ",
        "outputId": "fdd01481-9b6c-4bd7-d88e-518ed8130e72"
      },
      "source": [
        "z.min()"
      ],
      "execution_count": 58,
      "outputs": [
        {
          "output_type": "execute_result",
          "data": {
            "text/plain": [
              "4.0"
            ]
          },
          "metadata": {
            "tags": []
          },
          "execution_count": 58
        }
      ]
    },
    {
      "cell_type": "code",
      "metadata": {
        "colab": {
          "base_uri": "https://localhost:8080/"
        },
        "id": "V2OwNa7AZcPi",
        "outputId": "04d90f8a-f7ef-4d79-84fa-65bbac3b0645"
      },
      "source": [
        "z.sum()"
      ],
      "execution_count": 59,
      "outputs": [
        {
          "output_type": "execute_result",
          "data": {
            "text/plain": [
              "45.0"
            ]
          },
          "metadata": {
            "tags": []
          },
          "execution_count": 59
        }
      ]
    },
    {
      "cell_type": "code",
      "metadata": {
        "colab": {
          "base_uri": "https://localhost:8080/"
        },
        "id": "WCQjJLc5Zi2E",
        "outputId": "3243c7e4-098c-4e3f-f644-aae6a081bc17"
      },
      "source": [
        "z.mean()"
      ],
      "execution_count": 60,
      "outputs": [
        {
          "output_type": "execute_result",
          "data": {
            "text/plain": [
              "7.5"
            ]
          },
          "metadata": {
            "tags": []
          },
          "execution_count": 60
        }
      ]
    },
    {
      "cell_type": "code",
      "metadata": {
        "colab": {
          "base_uri": "https://localhost:8080/"
        },
        "id": "27279HcjZk2J",
        "outputId": "39eff6a4-c559-492b-c84c-d7de84cbdc21"
      },
      "source": [
        "z.std()"
      ],
      "execution_count": 62,
      "outputs": [
        {
          "output_type": "execute_result",
          "data": {
            "text/plain": [
              "2.813657"
            ]
          },
          "metadata": {
            "tags": []
          },
          "execution_count": 62
        }
      ]
    },
    {
      "cell_type": "code",
      "metadata": {
        "colab": {
          "base_uri": "https://localhost:8080/"
        },
        "id": "SaL0gDoFaBkD",
        "outputId": "3d43b060-dfa7-4056-98a0-69825069a281"
      },
      "source": [
        "z.argmax()"
      ],
      "execution_count": 63,
      "outputs": [
        {
          "output_type": "execute_result",
          "data": {
            "text/plain": [
              "5"
            ]
          },
          "metadata": {
            "tags": []
          },
          "execution_count": 63
        }
      ]
    },
    {
      "cell_type": "code",
      "metadata": {
        "colab": {
          "base_uri": "https://localhost:8080/"
        },
        "id": "1ArW7WmRaEqd",
        "outputId": "b7dd5b66-82bb-42e2-bfc0-4ac2610cbf9c"
      },
      "source": [
        "z.argmin()"
      ],
      "execution_count": 64,
      "outputs": [
        {
          "output_type": "execute_result",
          "data": {
            "text/plain": [
              "0"
            ]
          },
          "metadata": {
            "tags": []
          },
          "execution_count": 64
        }
      ]
    },
    {
      "cell_type": "code",
      "metadata": {
        "colab": {
          "base_uri": "https://localhost:8080/"
        },
        "id": "FkmlmGZbaGw9",
        "outputId": "c9e9a567-30c0-41ec-9ecc-95ca557b8898"
      },
      "source": [
        "s = np.arange(13)**2\n",
        "s"
      ],
      "execution_count": 66,
      "outputs": [
        {
          "output_type": "execute_result",
          "data": {
            "text/plain": [
              "array([  0,   1,   4,   9,  16,  25,  36,  49,  64,  81, 100, 121, 144])"
            ]
          },
          "metadata": {
            "tags": []
          },
          "execution_count": 66
        }
      ]
    },
    {
      "cell_type": "code",
      "metadata": {
        "colab": {
          "base_uri": "https://localhost:8080/"
        },
        "id": "OVSlCoaWaLq9",
        "outputId": "3f6a5ae0-6bee-482a-e2c0-cc57fd6c660d"
      },
      "source": [
        "s[-4:]"
      ],
      "execution_count": 67,
      "outputs": [
        {
          "output_type": "execute_result",
          "data": {
            "text/plain": [
              "array([ 81, 100, 121, 144])"
            ]
          },
          "metadata": {
            "tags": []
          },
          "execution_count": 67
        }
      ]
    },
    {
      "cell_type": "code",
      "metadata": {
        "colab": {
          "base_uri": "https://localhost:8080/"
        },
        "id": "kvoMeeP5aYWe",
        "outputId": "1c9e9929-ceb9-40da-fccd-03d8cae9c33a"
      },
      "source": [
        "s[-5::-1]"
      ],
      "execution_count": 71,
      "outputs": [
        {
          "output_type": "execute_result",
          "data": {
            "text/plain": [
              "array([64, 49, 36, 25, 16,  9,  4,  1,  0])"
            ]
          },
          "metadata": {
            "tags": []
          },
          "execution_count": 71
        }
      ]
    },
    {
      "cell_type": "code",
      "metadata": {
        "colab": {
          "base_uri": "https://localhost:8080/"
        },
        "id": "xdVRsLnJbVsx",
        "outputId": "bfdb6386-4068-4b66-cb95-6e00a28c122d"
      },
      "source": [
        "r = np.arange(36)\n",
        "r.resize(6,6)\n",
        "r"
      ],
      "execution_count": 72,
      "outputs": [
        {
          "output_type": "execute_result",
          "data": {
            "text/plain": [
              "array([[ 0,  1,  2,  3,  4,  5],\n",
              "       [ 6,  7,  8,  9, 10, 11],\n",
              "       [12, 13, 14, 15, 16, 17],\n",
              "       [18, 19, 20, 21, 22, 23],\n",
              "       [24, 25, 26, 27, 28, 29],\n",
              "       [30, 31, 32, 33, 34, 35]])"
            ]
          },
          "metadata": {
            "tags": []
          },
          "execution_count": 72
        }
      ]
    },
    {
      "cell_type": "code",
      "metadata": {
        "colab": {
          "base_uri": "https://localhost:8080/"
        },
        "id": "NkNHEiMybgWK",
        "outputId": "1a3fa4c1-4be6-40ff-9954-681abc4ff9c0"
      },
      "source": [
        "r[2,2]"
      ],
      "execution_count": 73,
      "outputs": [
        {
          "output_type": "execute_result",
          "data": {
            "text/plain": [
              "14"
            ]
          },
          "metadata": {
            "tags": []
          },
          "execution_count": 73
        }
      ]
    },
    {
      "cell_type": "code",
      "metadata": {
        "colab": {
          "base_uri": "https://localhost:8080/"
        },
        "id": "n6xnaaq0bi0S",
        "outputId": "69bdfd64-01e5-4f12-d025-a7679f8a5482"
      },
      "source": [
        "r[-1,::2]"
      ],
      "execution_count": 74,
      "outputs": [
        {
          "output_type": "execute_result",
          "data": {
            "text/plain": [
              "array([30, 32, 34])"
            ]
          },
          "metadata": {
            "tags": []
          },
          "execution_count": 74
        }
      ]
    },
    {
      "cell_type": "code",
      "metadata": {
        "colab": {
          "base_uri": "https://localhost:8080/"
        },
        "id": "eo_2rWYObs0b",
        "outputId": "e61f5cf7-11a5-4bcd-ac66-a2ecfa0e4fde"
      },
      "source": [
        "r[r>30]"
      ],
      "execution_count": 75,
      "outputs": [
        {
          "output_type": "execute_result",
          "data": {
            "text/plain": [
              "array([31, 32, 33, 34, 35])"
            ]
          },
          "metadata": {
            "tags": []
          },
          "execution_count": 75
        }
      ]
    },
    {
      "cell_type": "code",
      "metadata": {
        "colab": {
          "base_uri": "https://localhost:8080/"
        },
        "id": "19ovN5u1bzWs",
        "outputId": "805470d1-d9b6-4650-be03-13383361c290"
      },
      "source": [
        "r[r>30] = 30\n",
        "r"
      ],
      "execution_count": 76,
      "outputs": [
        {
          "output_type": "execute_result",
          "data": {
            "text/plain": [
              "array([[ 0,  1,  2,  3,  4,  5],\n",
              "       [ 6,  7,  8,  9, 10, 11],\n",
              "       [12, 13, 14, 15, 16, 17],\n",
              "       [18, 19, 20, 21, 22, 23],\n",
              "       [24, 25, 26, 27, 28, 29],\n",
              "       [30, 30, 30, 30, 30, 30]])"
            ]
          },
          "metadata": {
            "tags": []
          },
          "execution_count": 76
        }
      ]
    },
    {
      "cell_type": "code",
      "metadata": {
        "colab": {
          "base_uri": "https://localhost:8080/"
        },
        "id": "6o-maC0ycG7D",
        "outputId": "be1cee2a-a4a9-4ae2-90c3-4cce68536256"
      },
      "source": [
        "r2=r[:3,:3]\n",
        "r2"
      ],
      "execution_count": 77,
      "outputs": [
        {
          "output_type": "execute_result",
          "data": {
            "text/plain": [
              "array([[ 0,  1,  2],\n",
              "       [ 6,  7,  8],\n",
              "       [12, 13, 14]])"
            ]
          },
          "metadata": {
            "tags": []
          },
          "execution_count": 77
        }
      ]
    },
    {
      "cell_type": "code",
      "metadata": {
        "colab": {
          "base_uri": "https://localhost:8080/"
        },
        "id": "_NikOm0ncLaB",
        "outputId": "aa2c7903-a1a2-4fd7-9e79-4cc6cba1f1fb"
      },
      "source": [
        "r2[:] = 0\n",
        "r"
      ],
      "execution_count": 78,
      "outputs": [
        {
          "output_type": "execute_result",
          "data": {
            "text/plain": [
              "array([[ 0,  0,  0,  3,  4,  5],\n",
              "       [ 0,  0,  0,  9, 10, 11],\n",
              "       [ 0,  0,  0, 15, 16, 17],\n",
              "       [18, 19, 20, 21, 22, 23],\n",
              "       [24, 25, 26, 27, 28, 29],\n",
              "       [30, 30, 30, 30, 30, 30]])"
            ]
          },
          "metadata": {
            "tags": []
          },
          "execution_count": 78
        }
      ]
    },
    {
      "cell_type": "code",
      "metadata": {
        "colab": {
          "base_uri": "https://localhost:8080/"
        },
        "id": "WpcZOSyhcYWL",
        "outputId": "a4d4ecc6-7d71-435e-b077-0c0dcd2ebdfc"
      },
      "source": [
        "r_copy = r.copy()\n",
        "r_copy[:] = 10\n",
        "\n",
        "print(r_copy)\n",
        "print(r)"
      ],
      "execution_count": 79,
      "outputs": [
        {
          "output_type": "stream",
          "text": [
            "[[10 10 10 10 10 10]\n",
            " [10 10 10 10 10 10]\n",
            " [10 10 10 10 10 10]\n",
            " [10 10 10 10 10 10]\n",
            " [10 10 10 10 10 10]\n",
            " [10 10 10 10 10 10]]\n",
            "[[ 0  0  0  3  4  5]\n",
            " [ 0  0  0  9 10 11]\n",
            " [ 0  0  0 15 16 17]\n",
            " [18 19 20 21 22 23]\n",
            " [24 25 26 27 28 29]\n",
            " [30 30 30 30 30 30]]\n"
          ],
          "name": "stdout"
        }
      ]
    },
    {
      "cell_type": "code",
      "metadata": {
        "colab": {
          "base_uri": "https://localhost:8080/"
        },
        "id": "WAyeVkS0c2ew",
        "outputId": "d7445e2b-e95a-4d6b-c228-856b2cbb8373"
      },
      "source": [
        "ran = np.random.randint(0,10,(5,3))\n",
        "ran"
      ],
      "execution_count": 81,
      "outputs": [
        {
          "output_type": "execute_result",
          "data": {
            "text/plain": [
              "array([[4, 9, 6],\n",
              "       [8, 5, 4],\n",
              "       [8, 9, 3],\n",
              "       [3, 0, 7],\n",
              "       [5, 8, 9]])"
            ]
          },
          "metadata": {
            "tags": []
          },
          "execution_count": 81
        }
      ]
    },
    {
      "cell_type": "code",
      "metadata": {
        "colab": {
          "base_uri": "https://localhost:8080/"
        },
        "id": "h-7-HS1UdCtg",
        "outputId": "dd77400d-c263-4c0a-d676-8c9557ba5f3b"
      },
      "source": [
        "for row in ran:\n",
        "  print(row)"
      ],
      "execution_count": 82,
      "outputs": [
        {
          "output_type": "stream",
          "text": [
            "[4 9 6]\n",
            "[8 5 4]\n",
            "[8 9 3]\n",
            "[3 0 7]\n",
            "[5 8 9]\n"
          ],
          "name": "stdout"
        }
      ]
    },
    {
      "cell_type": "code",
      "metadata": {
        "colab": {
          "base_uri": "https://localhost:8080/"
        },
        "id": "VvTnZetDdImw",
        "outputId": "3add5890-28a9-4535-d1f0-ce1fd0ed16cc"
      },
      "source": [
        "for i,row in enumerate(ran):\n",
        "  print(\"row\",i,\"is\",row)"
      ],
      "execution_count": 84,
      "outputs": [
        {
          "output_type": "stream",
          "text": [
            "row 0 is [4 9 6]\n",
            "row 1 is [8 5 4]\n",
            "row 2 is [8 9 3]\n",
            "row 3 is [3 0 7]\n",
            "row 4 is [5 8 9]\n"
          ],
          "name": "stdout"
        }
      ]
    },
    {
      "cell_type": "code",
      "metadata": {
        "colab": {
          "base_uri": "https://localhost:8080/"
        },
        "id": "cBL9N9e8dsIO",
        "outputId": "f2ac52f0-005d-4099-a49a-653ad0a25eb4"
      },
      "source": [
        "ran2 = ran**2\n",
        "ran2"
      ],
      "execution_count": 86,
      "outputs": [
        {
          "output_type": "execute_result",
          "data": {
            "text/plain": [
              "array([[16, 81, 36],\n",
              "       [64, 25, 16],\n",
              "       [64, 81,  9],\n",
              "       [ 9,  0, 49],\n",
              "       [25, 64, 81]])"
            ]
          },
          "metadata": {
            "tags": []
          },
          "execution_count": 86
        }
      ]
    },
    {
      "cell_type": "code",
      "metadata": {
        "colab": {
          "base_uri": "https://localhost:8080/"
        },
        "id": "AjDVDAIgd06t",
        "outputId": "765a9469-aac8-43c4-c964-72e624c2b1de"
      },
      "source": [
        "for i,j in zip(ran,ran2):\n",
        "  print(i,\"+\",j,\"=\",i+j)"
      ],
      "execution_count": 87,
      "outputs": [
        {
          "output_type": "stream",
          "text": [
            "[4 9 6] + [16 81 36] = [20 90 42]\n",
            "[8 5 4] + [64 25 16] = [72 30 20]\n",
            "[8 9 3] + [64 81  9] = [72 90 12]\n",
            "[3 0 7] + [ 9  0 49] = [12  0 56]\n",
            "[5 8 9] + [25 64 81] = [30 72 90]\n"
          ],
          "name": "stdout"
        }
      ]
    }
  ]
}
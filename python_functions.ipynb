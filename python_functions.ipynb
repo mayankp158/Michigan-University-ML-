{
  "nbformat": 4,
  "nbformat_minor": 0,
  "metadata": {
    "colab": {
      "name": "python_functions.ipynb",
      "provenance": [],
      "collapsed_sections": [],
      "authorship_tag": "ABX9TyMtiCPxO2iXm9PAT+8tu4XH",
      "include_colab_link": true
    },
    "kernelspec": {
      "name": "python3",
      "display_name": "Python 3"
    }
  },
  "cells": [
    {
      "cell_type": "markdown",
      "metadata": {
        "id": "view-in-github",
        "colab_type": "text"
      },
      "source": [
        "<a href=\"https://colab.research.google.com/github/mayankp158/Michigan-University-ML-/blob/main/python_functions.ipynb\" target=\"_parent\"><img src=\"https://colab.research.google.com/assets/colab-badge.svg\" alt=\"Open In Colab\"/></a>"
      ]
    },
    {
      "cell_type": "code",
      "metadata": {
        "colab": {
          "base_uri": "https://localhost:8080/"
        },
        "id": "nOeJH0oiycbv",
        "outputId": "f4833c28-aba0-4c95-d471-fe5338550287"
      },
      "source": [
        "import csv\n",
        "%precision 2\n",
        "with open('mpg.csv') as new:\n",
        "  mpg = list(csv.DictReader(new))\n",
        "\n",
        "mpg[:3]"
      ],
      "execution_count": null,
      "outputs": [
        {
          "output_type": "execute_result",
          "data": {
            "text/plain": [
              "[OrderedDict([('mpg', '18'),\n",
              "              ('cylinders', '8'),\n",
              "              ('displacement', '307'),\n",
              "              ('horsepower', '130'),\n",
              "              ('weight', '3504'),\n",
              "              ('acceleration', '12'),\n",
              "              ('model_year', '70'),\n",
              "              ('origin', '1'),\n",
              "              ('name', 'chevrolet chevelle malibu')]),\n",
              " OrderedDict([('mpg', '15'),\n",
              "              ('cylinders', '8'),\n",
              "              ('displacement', '350'),\n",
              "              ('horsepower', '165'),\n",
              "              ('weight', '3693'),\n",
              "              ('acceleration', '11.5'),\n",
              "              ('model_year', '70'),\n",
              "              ('origin', '1'),\n",
              "              ('name', 'buick skylark 320')]),\n",
              " OrderedDict([('mpg', '18'),\n",
              "              ('cylinders', '8'),\n",
              "              ('displacement', '318'),\n",
              "              ('horsepower', '150'),\n",
              "              ('weight', '3436'),\n",
              "              ('acceleration', '11'),\n",
              "              ('model_year', '70'),\n",
              "              ('origin', '1'),\n",
              "              ('name', 'plymouth satellite')])]"
            ]
          },
          "metadata": {
            "tags": []
          },
          "execution_count": 7
        }
      ]
    },
    {
      "cell_type": "code",
      "metadata": {
        "colab": {
          "base_uri": "https://localhost:8080/"
        },
        "id": "s5_HunFu0_Kj",
        "outputId": "b9a67059-d6fc-4c2b-9bd8-9d2a74e7c2fa"
      },
      "source": [
        "len(mpg)"
      ],
      "execution_count": null,
      "outputs": [
        {
          "output_type": "execute_result",
          "data": {
            "text/plain": [
              "398"
            ]
          },
          "metadata": {
            "tags": []
          },
          "execution_count": 9
        }
      ]
    },
    {
      "cell_type": "code",
      "metadata": {
        "colab": {
          "base_uri": "https://localhost:8080/"
        },
        "id": "rfxKMrf21C4E",
        "outputId": "792453f2-6581-4b0c-8de1-3cc1711c8fab"
      },
      "source": [
        "mpg[0].keys()"
      ],
      "execution_count": null,
      "outputs": [
        {
          "output_type": "execute_result",
          "data": {
            "text/plain": [
              "odict_keys(['mpg', 'cylinders', 'displacement', 'horsepower', 'weight', 'acceleration', 'model_year', 'origin', 'name'])"
            ]
          },
          "metadata": {
            "tags": []
          },
          "execution_count": 10
        }
      ]
    },
    {
      "cell_type": "code",
      "metadata": {
        "colab": {
          "base_uri": "https://localhost:8080/"
        },
        "id": "y5UDevmC1XZc",
        "outputId": "d4ed337e-789c-40dd-e60b-4d7fa6c8f9b4"
      },
      "source": [
        "sum(float(i['weight']) for i in mpg)/len(mpg)"
      ],
      "execution_count": null,
      "outputs": [
        {
          "output_type": "execute_result",
          "data": {
            "text/plain": [
              "2970.42"
            ]
          },
          "metadata": {
            "tags": []
          },
          "execution_count": 14
        }
      ]
    },
    {
      "cell_type": "code",
      "metadata": {
        "colab": {
          "base_uri": "https://localhost:8080/"
        },
        "id": "mkXFQDrF2emk",
        "outputId": "a0e787bb-51d7-4647-cfaa-7f6969897d64"
      },
      "source": [
        "cyl = set(j['cylinders'] for j in mpg)\n",
        "cyl"
      ],
      "execution_count": null,
      "outputs": [
        {
          "output_type": "execute_result",
          "data": {
            "text/plain": [
              "{'3', '4', '5', '6', '8'}"
            ]
          },
          "metadata": {
            "tags": []
          },
          "execution_count": 15
        }
      ]
    },
    {
      "cell_type": "code",
      "metadata": {
        "colab": {
          "base_uri": "https://localhost:8080/"
        },
        "id": "dv5KmKdx21Iw",
        "outputId": "f2c95f38-a353-4a98-d1e1-c9c95485bbd8"
      },
      "source": [
        "ctympgbycl = []\n",
        "for i in cyl:\n",
        "  sum1 = 0\n",
        "  count1 = 0\n",
        "  for j in mpg:\n",
        "    if j['cylinders'] == i:\n",
        "      sum1 += float(j['cylinders'])\n",
        "      count1 += 1\n",
        "  ctympgbycl.append((i,sum1/count1))\n",
        "\n",
        "ctympgbycl.sort(key=lambda x: x[0])\n",
        "ctympgbycl"
      ],
      "execution_count": null,
      "outputs": [
        {
          "output_type": "execute_result",
          "data": {
            "text/plain": [
              "[('3', 3.00), ('4', 4.00), ('5', 5.00), ('6', 6.00), ('8', 8.00)]"
            ]
          },
          "metadata": {
            "tags": []
          },
          "execution_count": 23
        }
      ]
    },
    {
      "cell_type": "code",
      "metadata": {
        "colab": {
          "base_uri": "https://localhost:8080/"
        },
        "id": "gcDVJPuI5ahL",
        "outputId": "c67492d6-14fb-4caf-b355-a9aa8176c5cf"
      },
      "source": [
        "vc = set(j['name'] for j in mpg)\n",
        "vc"
      ],
      "execution_count": null,
      "outputs": [
        {
          "output_type": "execute_result",
          "data": {
            "text/plain": [
              "{'amc ambassador brougham',\n",
              " 'amc ambassador dpl',\n",
              " 'amc ambassador sst',\n",
              " 'amc concord',\n",
              " 'amc concord d/l',\n",
              " 'amc concord dl',\n",
              " 'amc concord dl 6',\n",
              " 'amc gremlin',\n",
              " 'amc hornet',\n",
              " 'amc hornet sportabout (sw)',\n",
              " 'amc matador',\n",
              " 'amc matador (sw)',\n",
              " 'amc pacer',\n",
              " 'amc pacer d/l',\n",
              " 'amc rebel sst',\n",
              " 'amc spirit dl',\n",
              " 'audi 100 ls',\n",
              " 'audi 100ls',\n",
              " 'audi 4000',\n",
              " 'audi 5000',\n",
              " 'audi 5000s (diesel)',\n",
              " 'audi fox',\n",
              " 'bmw 2002',\n",
              " 'bmw 320i',\n",
              " 'buick century',\n",
              " 'buick century 350',\n",
              " 'buick century limited',\n",
              " 'buick century luxus (sw)',\n",
              " 'buick century special',\n",
              " 'buick electra 225 custom',\n",
              " 'buick estate wagon (sw)',\n",
              " 'buick lesabre custom',\n",
              " 'buick opel isuzu deluxe',\n",
              " 'buick regal sport coupe (turbo)',\n",
              " 'buick skyhawk',\n",
              " 'buick skylark',\n",
              " 'buick skylark 320',\n",
              " 'buick skylark limited',\n",
              " 'cadillac eldorado',\n",
              " 'cadillac seville',\n",
              " 'capri ii',\n",
              " 'chevroelt chevelle malibu',\n",
              " 'chevrolet bel air',\n",
              " 'chevrolet camaro',\n",
              " 'chevrolet caprice classic',\n",
              " 'chevrolet cavalier',\n",
              " 'chevrolet cavalier 2-door',\n",
              " 'chevrolet cavalier wagon',\n",
              " 'chevrolet chevelle concours (sw)',\n",
              " 'chevrolet chevelle malibu',\n",
              " 'chevrolet chevelle malibu classic',\n",
              " 'chevrolet chevette',\n",
              " 'chevrolet citation',\n",
              " 'chevrolet concours',\n",
              " 'chevrolet impala',\n",
              " 'chevrolet malibu',\n",
              " 'chevrolet malibu classic (sw)',\n",
              " 'chevrolet monte carlo',\n",
              " 'chevrolet monte carlo landau',\n",
              " 'chevrolet monte carlo s',\n",
              " 'chevrolet monza 2+2',\n",
              " 'chevrolet nova',\n",
              " 'chevrolet nova custom',\n",
              " 'chevrolet vega',\n",
              " 'chevrolet vega (sw)',\n",
              " 'chevrolet vega 2300',\n",
              " 'chevrolet woody',\n",
              " 'chevy c10',\n",
              " 'chevy c20',\n",
              " 'chevy s-10',\n",
              " 'chrysler cordoba',\n",
              " 'chrysler lebaron medallion',\n",
              " 'chrysler lebaron salon',\n",
              " 'chrysler lebaron town @ country (sw)',\n",
              " 'chrysler new yorker brougham',\n",
              " 'chrysler newport royal',\n",
              " 'datsun 1200',\n",
              " 'datsun 200-sx',\n",
              " 'datsun 200sx',\n",
              " 'datsun 210',\n",
              " 'datsun 210 mpg',\n",
              " 'datsun 280-zx',\n",
              " 'datsun 310',\n",
              " 'datsun 310 gx',\n",
              " 'datsun 510',\n",
              " 'datsun 510 (sw)',\n",
              " 'datsun 510 hatchback',\n",
              " 'datsun 610',\n",
              " 'datsun 710',\n",
              " 'datsun 810',\n",
              " 'datsun 810 maxima',\n",
              " 'datsun b-210',\n",
              " 'datsun b210',\n",
              " 'datsun b210 gx',\n",
              " 'datsun f-10 hatchback',\n",
              " 'datsun pl510',\n",
              " 'dodge aries se',\n",
              " 'dodge aries wagon (sw)',\n",
              " 'dodge aspen',\n",
              " 'dodge aspen 6',\n",
              " 'dodge aspen se',\n",
              " 'dodge challenger se',\n",
              " 'dodge charger 2.2',\n",
              " 'dodge colt',\n",
              " 'dodge colt (sw)',\n",
              " 'dodge colt hardtop',\n",
              " 'dodge colt hatchback custom',\n",
              " 'dodge colt m/m',\n",
              " 'dodge coronet brougham',\n",
              " 'dodge coronet custom',\n",
              " 'dodge coronet custom (sw)',\n",
              " 'dodge d100',\n",
              " 'dodge d200',\n",
              " 'dodge dart custom',\n",
              " 'dodge diplomat',\n",
              " 'dodge magnum xe',\n",
              " 'dodge monaco (sw)',\n",
              " 'dodge monaco brougham',\n",
              " 'dodge omni',\n",
              " 'dodge rampage',\n",
              " 'dodge st. regis',\n",
              " 'fiat 124 sport coupe',\n",
              " 'fiat 124 tc',\n",
              " 'fiat 124b',\n",
              " 'fiat 128',\n",
              " 'fiat 131',\n",
              " 'fiat strada custom',\n",
              " 'fiat x1.9',\n",
              " 'ford country',\n",
              " 'ford country squire (sw)',\n",
              " 'ford escort 2h',\n",
              " 'ford escort 4w',\n",
              " 'ford f108',\n",
              " 'ford f250',\n",
              " 'ford fairmont',\n",
              " 'ford fairmont (auto)',\n",
              " 'ford fairmont (man)',\n",
              " 'ford fairmont 4',\n",
              " 'ford fairmont futura',\n",
              " 'ford fiesta',\n",
              " 'ford futura',\n",
              " 'ford galaxie 500',\n",
              " 'ford gran torino',\n",
              " 'ford gran torino (sw)',\n",
              " 'ford granada',\n",
              " 'ford granada ghia',\n",
              " 'ford granada gl',\n",
              " 'ford granada l',\n",
              " 'ford ltd',\n",
              " 'ford ltd landau',\n",
              " 'ford maverick',\n",
              " 'ford mustang',\n",
              " 'ford mustang cobra',\n",
              " 'ford mustang gl',\n",
              " 'ford mustang ii',\n",
              " 'ford mustang ii 2+2',\n",
              " 'ford pinto',\n",
              " 'ford pinto (sw)',\n",
              " 'ford pinto runabout',\n",
              " 'ford ranger',\n",
              " 'ford thunderbird',\n",
              " 'ford torino',\n",
              " 'ford torino 500',\n",
              " 'hi 1200d',\n",
              " 'honda accord',\n",
              " 'honda accord cvcc',\n",
              " 'honda accord lx',\n",
              " 'honda civic',\n",
              " 'honda civic (auto)',\n",
              " 'honda civic 1300',\n",
              " 'honda civic 1500 gl',\n",
              " 'honda civic cvcc',\n",
              " 'honda prelude',\n",
              " 'maxda glc deluxe',\n",
              " 'maxda rx3',\n",
              " 'mazda 626',\n",
              " 'mazda glc',\n",
              " 'mazda glc 4',\n",
              " 'mazda glc custom',\n",
              " 'mazda glc custom l',\n",
              " 'mazda glc deluxe',\n",
              " 'mazda rx-4',\n",
              " 'mazda rx-7 gs',\n",
              " 'mazda rx2 coupe',\n",
              " 'mercedes benz 300d',\n",
              " 'mercedes-benz 240d',\n",
              " 'mercedes-benz 280s',\n",
              " 'mercury capri 2000',\n",
              " 'mercury capri v6',\n",
              " 'mercury cougar brougham',\n",
              " 'mercury grand marquis',\n",
              " 'mercury lynx l',\n",
              " 'mercury marquis',\n",
              " 'mercury marquis brougham',\n",
              " 'mercury monarch',\n",
              " 'mercury monarch ghia',\n",
              " 'mercury zephyr',\n",
              " 'mercury zephyr 6',\n",
              " 'nissan stanza xe',\n",
              " 'oldsmobile cutlass ciera (diesel)',\n",
              " 'oldsmobile cutlass ls',\n",
              " 'oldsmobile cutlass salon brougham',\n",
              " 'oldsmobile cutlass supreme',\n",
              " 'oldsmobile delta 88 royale',\n",
              " 'oldsmobile omega',\n",
              " 'oldsmobile omega brougham',\n",
              " 'oldsmobile starfire sx',\n",
              " 'oldsmobile vista cruiser',\n",
              " 'opel 1900',\n",
              " 'opel manta',\n",
              " 'peugeot 304',\n",
              " 'peugeot 504',\n",
              " 'peugeot 504 (sw)',\n",
              " 'peugeot 505s turbo diesel',\n",
              " 'peugeot 604sl',\n",
              " \"plymouth 'cuda 340\",\n",
              " 'plymouth arrow gs',\n",
              " 'plymouth champ',\n",
              " 'plymouth cricket',\n",
              " 'plymouth custom suburb',\n",
              " 'plymouth duster',\n",
              " 'plymouth fury',\n",
              " 'plymouth fury gran sedan',\n",
              " 'plymouth fury iii',\n",
              " 'plymouth grand fury',\n",
              " 'plymouth horizon',\n",
              " 'plymouth horizon 4',\n",
              " 'plymouth horizon miser',\n",
              " 'plymouth horizon tc3',\n",
              " 'plymouth reliant',\n",
              " 'plymouth sapporo',\n",
              " 'plymouth satellite',\n",
              " 'plymouth satellite custom',\n",
              " 'plymouth satellite custom (sw)',\n",
              " 'plymouth satellite sebring',\n",
              " 'plymouth valiant',\n",
              " 'plymouth valiant custom',\n",
              " 'plymouth volare',\n",
              " 'plymouth volare custom',\n",
              " 'plymouth volare premier v8',\n",
              " 'pontiac astro',\n",
              " 'pontiac catalina',\n",
              " 'pontiac catalina brougham',\n",
              " 'pontiac firebird',\n",
              " 'pontiac grand prix',\n",
              " 'pontiac grand prix lj',\n",
              " 'pontiac j2000 se hatchback',\n",
              " 'pontiac lemans v6',\n",
              " 'pontiac phoenix',\n",
              " 'pontiac phoenix lj',\n",
              " 'pontiac safari (sw)',\n",
              " 'pontiac sunbird coupe',\n",
              " 'pontiac ventura sj',\n",
              " 'renault 12 (sw)',\n",
              " 'renault 12tl',\n",
              " 'renault 18i',\n",
              " 'renault 5 gtl',\n",
              " 'renault lecar deluxe',\n",
              " 'saab 99e',\n",
              " 'saab 99gle',\n",
              " 'saab 99le',\n",
              " 'subaru',\n",
              " 'subaru dl',\n",
              " 'toyota carina',\n",
              " 'toyota celica gt',\n",
              " 'toyota celica gt liftback',\n",
              " 'toyota corolla',\n",
              " 'toyota corolla 1200',\n",
              " 'toyota corolla 1600 (sw)',\n",
              " 'toyota corolla liftback',\n",
              " 'toyota corolla tercel',\n",
              " 'toyota corona',\n",
              " 'toyota corona hardtop',\n",
              " 'toyota corona liftback',\n",
              " 'toyota corona mark ii',\n",
              " 'toyota cressida',\n",
              " 'toyota mark ii',\n",
              " 'toyota starlet',\n",
              " 'toyota tercel',\n",
              " 'toyouta corona mark ii (sw)',\n",
              " 'triumph tr7 coupe',\n",
              " 'vokswagen rabbit',\n",
              " 'volkswagen 1131 deluxe sedan',\n",
              " 'volkswagen 411 (sw)',\n",
              " 'volkswagen dasher',\n",
              " 'volkswagen jetta',\n",
              " 'volkswagen model 111',\n",
              " 'volkswagen rabbit',\n",
              " 'volkswagen rabbit custom',\n",
              " 'volkswagen rabbit custom diesel',\n",
              " 'volkswagen rabbit l',\n",
              " 'volkswagen scirocco',\n",
              " 'volkswagen super beetle',\n",
              " 'volkswagen type 3',\n",
              " 'volvo 144ea',\n",
              " 'volvo 145e (sw)',\n",
              " 'volvo 244dl',\n",
              " 'volvo 245',\n",
              " 'volvo 264gl',\n",
              " 'volvo diesel',\n",
              " 'vw dasher (diesel)',\n",
              " 'vw pickup',\n",
              " 'vw rabbit',\n",
              " 'vw rabbit c (diesel)',\n",
              " 'vw rabbit custom'}"
            ]
          },
          "metadata": {
            "tags": []
          },
          "execution_count": 24
        }
      ]
    },
    {
      "cell_type": "code",
      "metadata": {
        "id": "q_JAfvNc6CXo"
      },
      "source": [
        "import datetime as dt\n",
        "import time as t"
      ],
      "execution_count": null,
      "outputs": []
    },
    {
      "cell_type": "code",
      "metadata": {
        "colab": {
          "base_uri": "https://localhost:8080/"
        },
        "id": "CVpXxfSA9Qpv",
        "outputId": "6a20e685-4b18-4802-c200-4ccfa58a304d"
      },
      "source": [
        "print(t.time())"
      ],
      "execution_count": null,
      "outputs": [
        {
          "output_type": "stream",
          "text": [
            "1606753267.2124684\n"
          ],
          "name": "stdout"
        }
      ]
    },
    {
      "cell_type": "code",
      "metadata": {
        "colab": {
          "base_uri": "https://localhost:8080/"
        },
        "id": "500W89Rn9Tn0",
        "outputId": "602d4e60-ea4d-4b9a-dc34-fea236c4215b"
      },
      "source": [
        "dtnow = dt.datetime.fromtimestamp(t.time())\n",
        "dtnow"
      ],
      "execution_count": null,
      "outputs": [
        {
          "output_type": "execute_result",
          "data": {
            "text/plain": [
              "datetime.datetime(2020, 11, 30, 16, 22, 38, 545832)"
            ]
          },
          "metadata": {
            "tags": []
          },
          "execution_count": 33
        }
      ]
    },
    {
      "cell_type": "code",
      "metadata": {
        "colab": {
          "base_uri": "https://localhost:8080/"
        },
        "id": "MMe5xOLr9rlX",
        "outputId": "2dd0f96d-e9a3-45dc-fadc-72fd06c18aa5"
      },
      "source": [
        "dtnow.year, dtnow.month, dtnow.day, dtnow.hour,dtnow.minute,dtnow.second"
      ],
      "execution_count": null,
      "outputs": [
        {
          "output_type": "execute_result",
          "data": {
            "text/plain": [
              "(2020, 11, 30, 16, 22, 38)"
            ]
          },
          "metadata": {
            "tags": []
          },
          "execution_count": 35
        }
      ]
    },
    {
      "cell_type": "code",
      "metadata": {
        "colab": {
          "base_uri": "https://localhost:8080/"
        },
        "id": "fQAmD3rh-EHi",
        "outputId": "c03aed1c-c8e9-4997-f881-685f636cd374"
      },
      "source": [
        "delta = dt.timedelta(days=100)\n",
        "delta"
      ],
      "execution_count": null,
      "outputs": [
        {
          "output_type": "execute_result",
          "data": {
            "text/plain": [
              "datetime.timedelta(100)"
            ]
          },
          "metadata": {
            "tags": []
          },
          "execution_count": 36
        }
      ]
    },
    {
      "cell_type": "code",
      "metadata": {
        "id": "8sqYZpFQ-bE1"
      },
      "source": [
        "today = dt.date.today()"
      ],
      "execution_count": null,
      "outputs": []
    },
    {
      "cell_type": "code",
      "metadata": {
        "colab": {
          "base_uri": "https://localhost:8080/"
        },
        "id": "rCBn08nx-ppv",
        "outputId": "09c547d1-e6ca-41f6-f59e-ce730fce2854"
      },
      "source": [
        "today-delta"
      ],
      "execution_count": null,
      "outputs": [
        {
          "output_type": "execute_result",
          "data": {
            "text/plain": [
              "datetime.date(2020, 8, 22)"
            ]
          },
          "metadata": {
            "tags": []
          },
          "execution_count": 40
        }
      ]
    },
    {
      "cell_type": "code",
      "metadata": {
        "colab": {
          "base_uri": "https://localhost:8080/"
        },
        "id": "miqrRvs6-9mp",
        "outputId": "fc9f56e6-5458-48a2-f951-355352443629"
      },
      "source": [
        "today>today-delta"
      ],
      "execution_count": null,
      "outputs": [
        {
          "output_type": "execute_result",
          "data": {
            "text/plain": [
              "True"
            ]
          },
          "metadata": {
            "tags": []
          },
          "execution_count": 41
        }
      ]
    },
    {
      "cell_type": "code",
      "metadata": {
        "colab": {
          "base_uri": "https://localhost:8080/"
        },
        "id": "fh7xi7V7B7GV",
        "outputId": "f77103e0-ae78-42f9-9120-d862b720261d"
      },
      "source": [
        "people = ['Dr. Christopher Brooks', 'Dr. Kevyn Collins-Thompson', 'Dr. VG Vinod Vydiswaran', 'Dr. Daniel Romero']\n",
        "\n",
        "def split_title_and_name(person):\n",
        "    return person.split()[0] + ' ' + person.split()[-1]\n",
        "\n",
        "#option 1\n",
        "for person in people:\n",
        "    print(split_title_and_name(person) == (lambda person: person.split()[0] + ' ' + person.split()[-1])(person))\n",
        "\n",
        "#option 2\n",
        "#list(map(split_title_and_name, people)) == list(map(???))\n"
      ],
      "execution_count": null,
      "outputs": [
        {
          "output_type": "stream",
          "text": [
            "True\n",
            "True\n",
            "True\n",
            "True\n"
          ],
          "name": "stdout"
        }
      ]
    },
    {
      "cell_type": "code",
      "metadata": {
        "colab": {
          "base_uri": "https://localhost:8080/"
        },
        "id": "OEOeoQ93SMYN",
        "outputId": "fee7889c-43b5-474d-f085-da9822f76a04"
      },
      "source": [
        "import numpy as np\n",
        "\n",
        "a = [1,2,3]\n",
        "b = np.array(a)\n",
        "print(b)\n",
        "print(b.ndim)"
      ],
      "execution_count": null,
      "outputs": [
        {
          "output_type": "stream",
          "text": [
            "[1 2 3]\n",
            "1\n"
          ],
          "name": "stdout"
        }
      ]
    },
    {
      "cell_type": "code",
      "metadata": {
        "colab": {
          "base_uri": "https://localhost:8080/"
        },
        "id": "bEkn1sjsShBz",
        "outputId": "813d61c7-85a6-426d-ffcc-3608e05bd1f1"
      },
      "source": [
        "c = np.arange(0,30,2)\n",
        "c"
      ],
      "execution_count": null,
      "outputs": [
        {
          "output_type": "execute_result",
          "data": {
            "text/plain": [
              "array([ 0,  2,  4,  6,  8, 10, 12, 14, 16, 18, 20, 22, 24, 26, 28])"
            ]
          },
          "metadata": {
            "tags": []
          },
          "execution_count": 5
        }
      ]
    },
    {
      "cell_type": "code",
      "metadata": {
        "colab": {
          "base_uri": "https://localhost:8080/"
        },
        "id": "0o6z39D6SpdT",
        "outputId": "0b19f0a9-da26-4b66-8bad-19f9276470f4"
      },
      "source": [
        "d = np.array([[1,2,3],[4,5,6]])\n",
        "d.shape"
      ],
      "execution_count": null,
      "outputs": [
        {
          "output_type": "execute_result",
          "data": {
            "text/plain": [
              "(2, 3)"
            ]
          },
          "metadata": {
            "tags": []
          },
          "execution_count": 9
        }
      ]
    },
    {
      "cell_type": "code",
      "metadata": {
        "colab": {
          "base_uri": "https://localhost:8080/"
        },
        "id": "2uusw0zGTH9M",
        "outputId": "5b28b015-26e3-4af6-ac24-605412426151"
      },
      "source": [
        "c.reshape(3,5)"
      ],
      "execution_count": null,
      "outputs": [
        {
          "output_type": "execute_result",
          "data": {
            "text/plain": [
              "array([[ 0,  2,  4,  6,  8],\n",
              "       [10, 12, 14, 16, 18],\n",
              "       [20, 22, 24, 26, 28]])"
            ]
          },
          "metadata": {
            "tags": []
          },
          "execution_count": 11
        }
      ]
    },
    {
      "cell_type": "code",
      "metadata": {
        "colab": {
          "base_uri": "https://localhost:8080/"
        },
        "id": "_Db9QumTTvHD",
        "outputId": "a3f59681-b3be-4a18-b453-4c7f358444ae"
      },
      "source": [
        "e = np.linspace(0,4,9)\n",
        "e"
      ],
      "execution_count": null,
      "outputs": [
        {
          "output_type": "execute_result",
          "data": {
            "text/plain": [
              "array([0. , 0.5, 1. , 1.5, 2. , 2.5, 3. , 3.5, 4. ])"
            ]
          },
          "metadata": {
            "tags": []
          },
          "execution_count": 12
        }
      ]
    },
    {
      "cell_type": "code",
      "metadata": {
        "colab": {
          "base_uri": "https://localhost:8080/"
        },
        "id": "g9lWxqWxT25G",
        "outputId": "f1bdd094-48ed-4cc6-870e-53f5c8a8a263"
      },
      "source": [
        "e.resize(3,3)\n",
        "e"
      ],
      "execution_count": null,
      "outputs": [
        {
          "output_type": "execute_result",
          "data": {
            "text/plain": [
              "array([[0. , 0.5, 1. ],\n",
              "       [1.5, 2. , 2.5],\n",
              "       [3. , 3.5, 4. ]])"
            ]
          },
          "metadata": {
            "tags": []
          },
          "execution_count": 14
        }
      ]
    },
    {
      "cell_type": "code",
      "metadata": {
        "colab": {
          "base_uri": "https://localhost:8080/"
        },
        "id": "sWXit2vdUN-8",
        "outputId": "7d93b8ec-dc2c-4e32-d1da-218f7debde21"
      },
      "source": [
        "np.ones((2,3))"
      ],
      "execution_count": null,
      "outputs": [
        {
          "output_type": "execute_result",
          "data": {
            "text/plain": [
              "array([[1., 1., 1.],\n",
              "       [1., 1., 1.]])"
            ]
          },
          "metadata": {
            "tags": []
          },
          "execution_count": 17
        }
      ]
    },
    {
      "cell_type": "code",
      "metadata": {
        "colab": {
          "base_uri": "https://localhost:8080/"
        },
        "id": "VFAIrBtaUbzt",
        "outputId": "1cec39e5-92e8-45ac-ab88-4c7f63ba9aa5"
      },
      "source": [
        "np.zeros((2,3))"
      ],
      "execution_count": null,
      "outputs": [
        {
          "output_type": "execute_result",
          "data": {
            "text/plain": [
              "array([[0., 0., 0.],\n",
              "       [0., 0., 0.]])"
            ]
          },
          "metadata": {
            "tags": []
          },
          "execution_count": 18
        }
      ]
    },
    {
      "cell_type": "code",
      "metadata": {
        "colab": {
          "base_uri": "https://localhost:8080/"
        },
        "id": "-KYriPnfUggN",
        "outputId": "22ceea4b-5a1d-487c-99c7-c277e56a6b63"
      },
      "source": [
        "np.eye(3)"
      ],
      "execution_count": null,
      "outputs": [
        {
          "output_type": "execute_result",
          "data": {
            "text/plain": [
              "array([[1., 0., 0.],\n",
              "       [0., 1., 0.],\n",
              "       [0., 0., 1.]])"
            ]
          },
          "metadata": {
            "tags": []
          },
          "execution_count": 23
        }
      ]
    },
    {
      "cell_type": "code",
      "metadata": {
        "colab": {
          "base_uri": "https://localhost:8080/"
        },
        "id": "6GBEPG_9Uu3k",
        "outputId": "6a663557-1267-4ba9-a5cd-c9c8a86f68ab"
      },
      "source": [
        "np.diag(a)"
      ],
      "execution_count": null,
      "outputs": [
        {
          "output_type": "execute_result",
          "data": {
            "text/plain": [
              "array([[1, 0, 0],\n",
              "       [0, 2, 0],\n",
              "       [0, 0, 3]])"
            ]
          },
          "metadata": {
            "tags": []
          },
          "execution_count": 24
        }
      ]
    },
    {
      "cell_type": "code",
      "metadata": {
        "colab": {
          "base_uri": "https://localhost:8080/"
        },
        "id": "qc_Cr4QeV3Xe",
        "outputId": "cfb1e08f-e1a5-4963-e13f-0623451f7743"
      },
      "source": [
        "np.array([1,2,3]*3)"
      ],
      "execution_count": null,
      "outputs": [
        {
          "output_type": "execute_result",
          "data": {
            "text/plain": [
              "array([1, 2, 3, 1, 2, 3, 1, 2, 3])"
            ]
          },
          "metadata": {
            "tags": []
          },
          "execution_count": 25
        }
      ]
    },
    {
      "cell_type": "code",
      "metadata": {
        "colab": {
          "base_uri": "https://localhost:8080/"
        },
        "id": "gSYUsXEeWBSW",
        "outputId": "9cfe8853-84cd-4a6c-d9d8-422e6cfc2a0f"
      },
      "source": [
        "np.repeat([1,2,3],3)"
      ],
      "execution_count": null,
      "outputs": [
        {
          "output_type": "execute_result",
          "data": {
            "text/plain": [
              "array([1, 1, 1, 2, 2, 2, 3, 3, 3])"
            ]
          },
          "metadata": {
            "tags": []
          },
          "execution_count": 26
        }
      ]
    },
    {
      "cell_type": "code",
      "metadata": {
        "colab": {
          "base_uri": "https://localhost:8080/"
        },
        "id": "6yBPpO2wWHGf",
        "outputId": "bba26043-30ff-4260-dd25-9ae34bb4f905"
      },
      "source": [
        "p = np.ones((2,3),int)\n",
        "p"
      ],
      "execution_count": null,
      "outputs": [
        {
          "output_type": "execute_result",
          "data": {
            "text/plain": [
              "array([[1, 1, 1],\n",
              "       [1, 1, 1]])"
            ]
          },
          "metadata": {
            "tags": []
          },
          "execution_count": 31
        }
      ]
    },
    {
      "cell_type": "code",
      "metadata": {
        "colab": {
          "base_uri": "https://localhost:8080/"
        },
        "id": "IhzOlbB8WWTu",
        "outputId": "50f6cde0-973c-4dd3-c66d-626fed2aef33"
      },
      "source": [
        "np.vstack((p,2*p))"
      ],
      "execution_count": null,
      "outputs": [
        {
          "output_type": "execute_result",
          "data": {
            "text/plain": [
              "array([[1, 1, 1],\n",
              "       [1, 1, 1],\n",
              "       [2, 2, 2],\n",
              "       [2, 2, 2]])"
            ]
          },
          "metadata": {
            "tags": []
          },
          "execution_count": 33
        }
      ]
    },
    {
      "cell_type": "code",
      "metadata": {
        "colab": {
          "base_uri": "https://localhost:8080/"
        },
        "id": "QUbg6Ux4Wm83",
        "outputId": "6d3cb0e9-d007-4eb9-8d4d-851532f7212a"
      },
      "source": [
        "np.hstack((p,2*p))"
      ],
      "execution_count": null,
      "outputs": [
        {
          "output_type": "execute_result",
          "data": {
            "text/plain": [
              "array([[1, 1, 1, 2, 2, 2],\n",
              "       [1, 1, 1, 2, 2, 2]])"
            ]
          },
          "metadata": {
            "tags": []
          },
          "execution_count": 34
        }
      ]
    },
    {
      "cell_type": "code",
      "metadata": {
        "colab": {
          "base_uri": "https://localhost:8080/"
        },
        "id": "f2f51fYQW7Pn",
        "outputId": "a67d64b3-388a-4e45-92e8-bc18f6c436a3"
      },
      "source": [
        "h = np.array([4,5,6])\n",
        "i = np.array([1,2,3])\n",
        "h+i"
      ],
      "execution_count": null,
      "outputs": [
        {
          "output_type": "execute_result",
          "data": {
            "text/plain": [
              "array([5, 7, 9])"
            ]
          },
          "metadata": {
            "tags": []
          },
          "execution_count": 44
        }
      ]
    },
    {
      "cell_type": "code",
      "metadata": {
        "colab": {
          "base_uri": "https://localhost:8080/"
        },
        "id": "NBdWfuuZW9NI",
        "outputId": "0bc41b85-3862-4654-bce8-5a44c387de4a"
      },
      "source": [
        "h*i"
      ],
      "execution_count": null,
      "outputs": [
        {
          "output_type": "execute_result",
          "data": {
            "text/plain": [
              "array([ 4, 10, 18])"
            ]
          },
          "metadata": {
            "tags": []
          },
          "execution_count": 45
        }
      ]
    },
    {
      "cell_type": "code",
      "metadata": {
        "colab": {
          "base_uri": "https://localhost:8080/"
        },
        "id": "Ko93EGEOXhnQ",
        "outputId": "af4b5044-0933-4064-f079-48effe745494"
      },
      "source": [
        "h**2"
      ],
      "execution_count": null,
      "outputs": [
        {
          "output_type": "execute_result",
          "data": {
            "text/plain": [
              "array([16, 25, 36])"
            ]
          },
          "metadata": {
            "tags": []
          },
          "execution_count": 46
        }
      ]
    },
    {
      "cell_type": "code",
      "metadata": {
        "colab": {
          "base_uri": "https://localhost:8080/"
        },
        "id": "sR_qvbidYTX3",
        "outputId": "34d48e94-5d92-4af6-cb0f-71ad7bf32d81"
      },
      "source": [
        "h.dot(i)"
      ],
      "execution_count": null,
      "outputs": [
        {
          "output_type": "execute_result",
          "data": {
            "text/plain": [
              "32"
            ]
          },
          "metadata": {
            "tags": []
          },
          "execution_count": 47
        }
      ]
    },
    {
      "cell_type": "code",
      "metadata": {
        "colab": {
          "base_uri": "https://localhost:8080/"
        },
        "id": "vEFHykShYYiq",
        "outputId": "6a41530b-753f-4624-a4d9-b6a3ea6add6b"
      },
      "source": [
        "z = np.array([h,h*2])\n",
        "z"
      ],
      "execution_count": null,
      "outputs": [
        {
          "output_type": "execute_result",
          "data": {
            "text/plain": [
              "array([[ 4,  5,  6],\n",
              "       [ 8, 10, 12]])"
            ]
          },
          "metadata": {
            "tags": []
          },
          "execution_count": 49
        }
      ]
    },
    {
      "cell_type": "code",
      "metadata": {
        "colab": {
          "base_uri": "https://localhost:8080/"
        },
        "id": "iGwRa4BtYwEW",
        "outputId": "51269ad6-ad7f-49e2-802a-d1a6b70537d9"
      },
      "source": [
        "z.shape"
      ],
      "execution_count": null,
      "outputs": [
        {
          "output_type": "execute_result",
          "data": {
            "text/plain": [
              "(2, 3)"
            ]
          },
          "metadata": {
            "tags": []
          },
          "execution_count": 51
        }
      ]
    },
    {
      "cell_type": "code",
      "metadata": {
        "colab": {
          "base_uri": "https://localhost:8080/"
        },
        "id": "H33R-_uTY0eP",
        "outputId": "9b5c84b6-4e8c-498d-845c-bc21b6e90eb0"
      },
      "source": [
        "z.T"
      ],
      "execution_count": null,
      "outputs": [
        {
          "output_type": "execute_result",
          "data": {
            "text/plain": [
              "array([[ 4,  8],\n",
              "       [ 5, 10],\n",
              "       [ 6, 12]])"
            ]
          },
          "metadata": {
            "tags": []
          },
          "execution_count": 52
        }
      ]
    },
    {
      "cell_type": "code",
      "metadata": {
        "colab": {
          "base_uri": "https://localhost:8080/"
        },
        "id": "edBo1qQJY2rY",
        "outputId": "ba0e2452-e09b-4655-9822-1a22ecbaadce"
      },
      "source": [
        "z.T.shape"
      ],
      "execution_count": null,
      "outputs": [
        {
          "output_type": "execute_result",
          "data": {
            "text/plain": [
              "(3, 2)"
            ]
          },
          "metadata": {
            "tags": []
          },
          "execution_count": 53
        }
      ]
    },
    {
      "cell_type": "code",
      "metadata": {
        "colab": {
          "base_uri": "https://localhost:8080/"
        },
        "id": "RvTBQoWfY63Q",
        "outputId": "fb995817-5080-48ad-b322-4bdc6d311f7c"
      },
      "source": [
        "z.dtype"
      ],
      "execution_count": null,
      "outputs": [
        {
          "output_type": "execute_result",
          "data": {
            "text/plain": [
              "dtype('int64')"
            ]
          },
          "metadata": {
            "tags": []
          },
          "execution_count": 54
        }
      ]
    },
    {
      "cell_type": "code",
      "metadata": {
        "colab": {
          "base_uri": "https://localhost:8080/"
        },
        "id": "mEfEhmblZLgX",
        "outputId": "155dfcdb-0b88-481a-fce3-d9dd9ae5c197"
      },
      "source": [
        "z = z.astype('f')\n",
        "z.dtype"
      ],
      "execution_count": null,
      "outputs": [
        {
          "output_type": "execute_result",
          "data": {
            "text/plain": [
              "dtype('float32')"
            ]
          },
          "metadata": {
            "tags": []
          },
          "execution_count": 56
        }
      ]
    },
    {
      "cell_type": "code",
      "metadata": {
        "colab": {
          "base_uri": "https://localhost:8080/"
        },
        "id": "iFu1-NV4ZWxE",
        "outputId": "1efe5788-fe26-4fa3-c7da-5258eb31a2b3"
      },
      "source": [
        "z.max()"
      ],
      "execution_count": null,
      "outputs": [
        {
          "output_type": "execute_result",
          "data": {
            "text/plain": [
              "12.0"
            ]
          },
          "metadata": {
            "tags": []
          },
          "execution_count": 57
        }
      ]
    },
    {
      "cell_type": "code",
      "metadata": {
        "colab": {
          "base_uri": "https://localhost:8080/"
        },
        "id": "LbYP2B-8ZaRQ",
        "outputId": "fdd01481-9b6c-4bd7-d88e-518ed8130e72"
      },
      "source": [
        "z.min()"
      ],
      "execution_count": null,
      "outputs": [
        {
          "output_type": "execute_result",
          "data": {
            "text/plain": [
              "4.0"
            ]
          },
          "metadata": {
            "tags": []
          },
          "execution_count": 58
        }
      ]
    },
    {
      "cell_type": "code",
      "metadata": {
        "colab": {
          "base_uri": "https://localhost:8080/"
        },
        "id": "V2OwNa7AZcPi",
        "outputId": "04d90f8a-f7ef-4d79-84fa-65bbac3b0645"
      },
      "source": [
        "z.sum()"
      ],
      "execution_count": null,
      "outputs": [
        {
          "output_type": "execute_result",
          "data": {
            "text/plain": [
              "45.0"
            ]
          },
          "metadata": {
            "tags": []
          },
          "execution_count": 59
        }
      ]
    },
    {
      "cell_type": "code",
      "metadata": {
        "colab": {
          "base_uri": "https://localhost:8080/"
        },
        "id": "WCQjJLc5Zi2E",
        "outputId": "3243c7e4-098c-4e3f-f644-aae6a081bc17"
      },
      "source": [
        "z.mean()"
      ],
      "execution_count": null,
      "outputs": [
        {
          "output_type": "execute_result",
          "data": {
            "text/plain": [
              "7.5"
            ]
          },
          "metadata": {
            "tags": []
          },
          "execution_count": 60
        }
      ]
    },
    {
      "cell_type": "code",
      "metadata": {
        "colab": {
          "base_uri": "https://localhost:8080/"
        },
        "id": "27279HcjZk2J",
        "outputId": "39eff6a4-c559-492b-c84c-d7de84cbdc21"
      },
      "source": [
        "z.std()"
      ],
      "execution_count": null,
      "outputs": [
        {
          "output_type": "execute_result",
          "data": {
            "text/plain": [
              "2.813657"
            ]
          },
          "metadata": {
            "tags": []
          },
          "execution_count": 62
        }
      ]
    },
    {
      "cell_type": "code",
      "metadata": {
        "colab": {
          "base_uri": "https://localhost:8080/"
        },
        "id": "SaL0gDoFaBkD",
        "outputId": "3d43b060-dfa7-4056-98a0-69825069a281"
      },
      "source": [
        "z.argmax()"
      ],
      "execution_count": null,
      "outputs": [
        {
          "output_type": "execute_result",
          "data": {
            "text/plain": [
              "5"
            ]
          },
          "metadata": {
            "tags": []
          },
          "execution_count": 63
        }
      ]
    },
    {
      "cell_type": "code",
      "metadata": {
        "colab": {
          "base_uri": "https://localhost:8080/"
        },
        "id": "1ArW7WmRaEqd",
        "outputId": "b7dd5b66-82bb-42e2-bfc0-4ac2610cbf9c"
      },
      "source": [
        "z.argmin()"
      ],
      "execution_count": null,
      "outputs": [
        {
          "output_type": "execute_result",
          "data": {
            "text/plain": [
              "0"
            ]
          },
          "metadata": {
            "tags": []
          },
          "execution_count": 64
        }
      ]
    },
    {
      "cell_type": "code",
      "metadata": {
        "colab": {
          "base_uri": "https://localhost:8080/"
        },
        "id": "FkmlmGZbaGw9",
        "outputId": "c9e9a567-30c0-41ec-9ecc-95ca557b8898"
      },
      "source": [
        "s = np.arange(13)**2\n",
        "s"
      ],
      "execution_count": null,
      "outputs": [
        {
          "output_type": "execute_result",
          "data": {
            "text/plain": [
              "array([  0,   1,   4,   9,  16,  25,  36,  49,  64,  81, 100, 121, 144])"
            ]
          },
          "metadata": {
            "tags": []
          },
          "execution_count": 66
        }
      ]
    },
    {
      "cell_type": "code",
      "metadata": {
        "colab": {
          "base_uri": "https://localhost:8080/"
        },
        "id": "OVSlCoaWaLq9",
        "outputId": "3f6a5ae0-6bee-482a-e2c0-cc57fd6c660d"
      },
      "source": [
        "s[-4:]"
      ],
      "execution_count": null,
      "outputs": [
        {
          "output_type": "execute_result",
          "data": {
            "text/plain": [
              "array([ 81, 100, 121, 144])"
            ]
          },
          "metadata": {
            "tags": []
          },
          "execution_count": 67
        }
      ]
    },
    {
      "cell_type": "code",
      "metadata": {
        "colab": {
          "base_uri": "https://localhost:8080/"
        },
        "id": "kvoMeeP5aYWe",
        "outputId": "1c9e9929-ceb9-40da-fccd-03d8cae9c33a"
      },
      "source": [
        "s[-5::-1]"
      ],
      "execution_count": null,
      "outputs": [
        {
          "output_type": "execute_result",
          "data": {
            "text/plain": [
              "array([64, 49, 36, 25, 16,  9,  4,  1,  0])"
            ]
          },
          "metadata": {
            "tags": []
          },
          "execution_count": 71
        }
      ]
    },
    {
      "cell_type": "code",
      "metadata": {
        "colab": {
          "base_uri": "https://localhost:8080/"
        },
        "id": "xdVRsLnJbVsx",
        "outputId": "bfdb6386-4068-4b66-cb95-6e00a28c122d"
      },
      "source": [
        "r = np.arange(36)\n",
        "r.resize(6,6)\n",
        "r"
      ],
      "execution_count": null,
      "outputs": [
        {
          "output_type": "execute_result",
          "data": {
            "text/plain": [
              "array([[ 0,  1,  2,  3,  4,  5],\n",
              "       [ 6,  7,  8,  9, 10, 11],\n",
              "       [12, 13, 14, 15, 16, 17],\n",
              "       [18, 19, 20, 21, 22, 23],\n",
              "       [24, 25, 26, 27, 28, 29],\n",
              "       [30, 31, 32, 33, 34, 35]])"
            ]
          },
          "metadata": {
            "tags": []
          },
          "execution_count": 72
        }
      ]
    },
    {
      "cell_type": "code",
      "metadata": {
        "colab": {
          "base_uri": "https://localhost:8080/"
        },
        "id": "NkNHEiMybgWK",
        "outputId": "1a3fa4c1-4be6-40ff-9954-681abc4ff9c0"
      },
      "source": [
        "r[2,2]"
      ],
      "execution_count": null,
      "outputs": [
        {
          "output_type": "execute_result",
          "data": {
            "text/plain": [
              "14"
            ]
          },
          "metadata": {
            "tags": []
          },
          "execution_count": 73
        }
      ]
    },
    {
      "cell_type": "code",
      "metadata": {
        "colab": {
          "base_uri": "https://localhost:8080/"
        },
        "id": "n6xnaaq0bi0S",
        "outputId": "69bdfd64-01e5-4f12-d025-a7679f8a5482"
      },
      "source": [
        "r[-1,::2]"
      ],
      "execution_count": null,
      "outputs": [
        {
          "output_type": "execute_result",
          "data": {
            "text/plain": [
              "array([30, 32, 34])"
            ]
          },
          "metadata": {
            "tags": []
          },
          "execution_count": 74
        }
      ]
    },
    {
      "cell_type": "code",
      "metadata": {
        "colab": {
          "base_uri": "https://localhost:8080/"
        },
        "id": "eo_2rWYObs0b",
        "outputId": "e61f5cf7-11a5-4bcd-ac66-a2ecfa0e4fde"
      },
      "source": [
        "r[r>30]"
      ],
      "execution_count": null,
      "outputs": [
        {
          "output_type": "execute_result",
          "data": {
            "text/plain": [
              "array([31, 32, 33, 34, 35])"
            ]
          },
          "metadata": {
            "tags": []
          },
          "execution_count": 75
        }
      ]
    },
    {
      "cell_type": "code",
      "metadata": {
        "colab": {
          "base_uri": "https://localhost:8080/"
        },
        "id": "19ovN5u1bzWs",
        "outputId": "805470d1-d9b6-4650-be03-13383361c290"
      },
      "source": [
        "r[r>30] = 30\n",
        "r"
      ],
      "execution_count": null,
      "outputs": [
        {
          "output_type": "execute_result",
          "data": {
            "text/plain": [
              "array([[ 0,  1,  2,  3,  4,  5],\n",
              "       [ 6,  7,  8,  9, 10, 11],\n",
              "       [12, 13, 14, 15, 16, 17],\n",
              "       [18, 19, 20, 21, 22, 23],\n",
              "       [24, 25, 26, 27, 28, 29],\n",
              "       [30, 30, 30, 30, 30, 30]])"
            ]
          },
          "metadata": {
            "tags": []
          },
          "execution_count": 76
        }
      ]
    },
    {
      "cell_type": "code",
      "metadata": {
        "colab": {
          "base_uri": "https://localhost:8080/"
        },
        "id": "6o-maC0ycG7D",
        "outputId": "be1cee2a-a4a9-4ae2-90c3-4cce68536256"
      },
      "source": [
        "r2=r[:3,:3]\n",
        "r2"
      ],
      "execution_count": null,
      "outputs": [
        {
          "output_type": "execute_result",
          "data": {
            "text/plain": [
              "array([[ 0,  1,  2],\n",
              "       [ 6,  7,  8],\n",
              "       [12, 13, 14]])"
            ]
          },
          "metadata": {
            "tags": []
          },
          "execution_count": 77
        }
      ]
    },
    {
      "cell_type": "code",
      "metadata": {
        "colab": {
          "base_uri": "https://localhost:8080/"
        },
        "id": "_NikOm0ncLaB",
        "outputId": "aa2c7903-a1a2-4fd7-9e79-4cc6cba1f1fb"
      },
      "source": [
        "r2[:] = 0\n",
        "r"
      ],
      "execution_count": null,
      "outputs": [
        {
          "output_type": "execute_result",
          "data": {
            "text/plain": [
              "array([[ 0,  0,  0,  3,  4,  5],\n",
              "       [ 0,  0,  0,  9, 10, 11],\n",
              "       [ 0,  0,  0, 15, 16, 17],\n",
              "       [18, 19, 20, 21, 22, 23],\n",
              "       [24, 25, 26, 27, 28, 29],\n",
              "       [30, 30, 30, 30, 30, 30]])"
            ]
          },
          "metadata": {
            "tags": []
          },
          "execution_count": 78
        }
      ]
    },
    {
      "cell_type": "code",
      "metadata": {
        "colab": {
          "base_uri": "https://localhost:8080/"
        },
        "id": "WpcZOSyhcYWL",
        "outputId": "a4d4ecc6-7d71-435e-b077-0c0dcd2ebdfc"
      },
      "source": [
        "r_copy = r.copy()\n",
        "r_copy[:] = 10\n",
        "\n",
        "print(r_copy)\n",
        "print(r)"
      ],
      "execution_count": null,
      "outputs": [
        {
          "output_type": "stream",
          "text": [
            "[[10 10 10 10 10 10]\n",
            " [10 10 10 10 10 10]\n",
            " [10 10 10 10 10 10]\n",
            " [10 10 10 10 10 10]\n",
            " [10 10 10 10 10 10]\n",
            " [10 10 10 10 10 10]]\n",
            "[[ 0  0  0  3  4  5]\n",
            " [ 0  0  0  9 10 11]\n",
            " [ 0  0  0 15 16 17]\n",
            " [18 19 20 21 22 23]\n",
            " [24 25 26 27 28 29]\n",
            " [30 30 30 30 30 30]]\n"
          ],
          "name": "stdout"
        }
      ]
    },
    {
      "cell_type": "code",
      "metadata": {
        "colab": {
          "base_uri": "https://localhost:8080/"
        },
        "id": "WAyeVkS0c2ew",
        "outputId": "d7445e2b-e95a-4d6b-c228-856b2cbb8373"
      },
      "source": [
        "ran = np.random.randint(0,10,(5,3))\n",
        "ran"
      ],
      "execution_count": null,
      "outputs": [
        {
          "output_type": "execute_result",
          "data": {
            "text/plain": [
              "array([[4, 9, 6],\n",
              "       [8, 5, 4],\n",
              "       [8, 9, 3],\n",
              "       [3, 0, 7],\n",
              "       [5, 8, 9]])"
            ]
          },
          "metadata": {
            "tags": []
          },
          "execution_count": 81
        }
      ]
    },
    {
      "cell_type": "code",
      "metadata": {
        "colab": {
          "base_uri": "https://localhost:8080/"
        },
        "id": "h-7-HS1UdCtg",
        "outputId": "dd77400d-c263-4c0a-d676-8c9557ba5f3b"
      },
      "source": [
        "for row in ran:\n",
        "  print(row)"
      ],
      "execution_count": null,
      "outputs": [
        {
          "output_type": "stream",
          "text": [
            "[4 9 6]\n",
            "[8 5 4]\n",
            "[8 9 3]\n",
            "[3 0 7]\n",
            "[5 8 9]\n"
          ],
          "name": "stdout"
        }
      ]
    },
    {
      "cell_type": "code",
      "metadata": {
        "colab": {
          "base_uri": "https://localhost:8080/"
        },
        "id": "VvTnZetDdImw",
        "outputId": "3add5890-28a9-4535-d1f0-ce1fd0ed16cc"
      },
      "source": [
        "for i,row in enumerate(ran):\n",
        "  print(\"row\",i,\"is\",row)"
      ],
      "execution_count": null,
      "outputs": [
        {
          "output_type": "stream",
          "text": [
            "row 0 is [4 9 6]\n",
            "row 1 is [8 5 4]\n",
            "row 2 is [8 9 3]\n",
            "row 3 is [3 0 7]\n",
            "row 4 is [5 8 9]\n"
          ],
          "name": "stdout"
        }
      ]
    },
    {
      "cell_type": "code",
      "metadata": {
        "colab": {
          "base_uri": "https://localhost:8080/"
        },
        "id": "cBL9N9e8dsIO",
        "outputId": "f2ac52f0-005d-4099-a49a-653ad0a25eb4"
      },
      "source": [
        "ran2 = ran**2\n",
        "ran2"
      ],
      "execution_count": null,
      "outputs": [
        {
          "output_type": "execute_result",
          "data": {
            "text/plain": [
              "array([[16, 81, 36],\n",
              "       [64, 25, 16],\n",
              "       [64, 81,  9],\n",
              "       [ 9,  0, 49],\n",
              "       [25, 64, 81]])"
            ]
          },
          "metadata": {
            "tags": []
          },
          "execution_count": 86
        }
      ]
    },
    {
      "cell_type": "code",
      "metadata": {
        "colab": {
          "base_uri": "https://localhost:8080/"
        },
        "id": "AjDVDAIgd06t",
        "outputId": "765a9469-aac8-43c4-c964-72e624c2b1de"
      },
      "source": [
        "for i,j in zip(ran,ran2):\n",
        "  print(i,\"+\",j,\"=\",i+j)"
      ],
      "execution_count": null,
      "outputs": [
        {
          "output_type": "stream",
          "text": [
            "[4 9 6] + [16 81 36] = [20 90 42]\n",
            "[8 5 4] + [64 25 16] = [72 30 20]\n",
            "[8 9 3] + [64 81  9] = [72 90 12]\n",
            "[3 0 7] + [ 9  0 49] = [12  0 56]\n",
            "[5 8 9] + [25 64 81] = [30 72 90]\n"
          ],
          "name": "stdout"
        }
      ]
    },
    {
      "cell_type": "code",
      "metadata": {
        "id": "E3UZ6uGYJUkt",
        "colab": {
          "base_uri": "https://localhost:8080/"
        },
        "outputId": "d7717673-b6ae-4948-bd02-ad152b24171f"
      },
      "source": [
        "graduate_admission = np.genfromtxt('Admission_Predict.csv', dtype = None,delimiter=',',skip_header=1,\n",
        "                                   names=('Serial No.','GRE Score','TOEFL Score','University Rating','SOP','LOR','CGPA','Research','Chance of Admit'))\n",
        "graduate_admission"
      ],
      "execution_count": null,
      "outputs": [
        {
          "output_type": "execute_result",
          "data": {
            "text/plain": [
              "array([(  1, 337, 118, 4, 4.5, 4.5, 9.65, 1, 0.92),\n",
              "       (  2, 324, 107, 4, 4. , 4.5, 8.87, 1, 0.76),\n",
              "       (  3, 316, 104, 3, 3. , 3.5, 8.  , 1, 0.72),\n",
              "       (  4, 322, 110, 3, 3.5, 2.5, 8.67, 1, 0.8 ),\n",
              "       (  5, 314, 103, 2, 2. , 3. , 8.21, 0, 0.65),\n",
              "       (  6, 330, 115, 5, 4.5, 3. , 9.34, 1, 0.9 ),\n",
              "       (  7, 321, 109, 3, 3. , 4. , 8.2 , 1, 0.75),\n",
              "       (  8, 308, 101, 2, 3. , 4. , 7.9 , 0, 0.68),\n",
              "       (  9, 302, 102, 1, 2. , 1.5, 8.  , 0, 0.5 ),\n",
              "       ( 10, 323, 108, 3, 3.5, 3. , 8.6 , 0, 0.45),\n",
              "       ( 11, 325, 106, 3, 3.5, 4. , 8.4 , 1, 0.52),\n",
              "       ( 12, 327, 111, 4, 4. , 4.5, 9.  , 1, 0.84),\n",
              "       ( 13, 328, 112, 4, 4. , 4.5, 9.1 , 1, 0.78),\n",
              "       ( 14, 307, 109, 3, 4. , 3. , 8.  , 1, 0.62),\n",
              "       ( 15, 311, 104, 3, 3.5, 2. , 8.2 , 1, 0.61),\n",
              "       ( 16, 314, 105, 3, 3.5, 2.5, 8.3 , 0, 0.54),\n",
              "       ( 17, 317, 107, 3, 4. , 3. , 8.7 , 0, 0.66),\n",
              "       ( 18, 319, 106, 3, 4. , 3. , 8.  , 1, 0.65),\n",
              "       ( 19, 318, 110, 3, 4. , 3. , 8.8 , 0, 0.63),\n",
              "       ( 20, 303, 102, 3, 3.5, 3. , 8.5 , 0, 0.62),\n",
              "       ( 21, 312, 107, 3, 3. , 2. , 7.9 , 1, 0.64),\n",
              "       ( 22, 325, 114, 4, 3. , 2. , 8.4 , 0, 0.7 ),\n",
              "       ( 23, 328, 116, 5, 5. , 5. , 9.5 , 1, 0.94),\n",
              "       ( 24, 334, 119, 5, 5. , 4.5, 9.7 , 1, 0.95),\n",
              "       ( 25, 336, 119, 5, 4. , 3.5, 9.8 , 1, 0.97),\n",
              "       ( 26, 340, 120, 5, 4.5, 4.5, 9.6 , 1, 0.94),\n",
              "       ( 27, 322, 109, 5, 4.5, 3.5, 8.8 , 0, 0.76),\n",
              "       ( 28, 298,  98, 2, 1.5, 2.5, 7.5 , 1, 0.44),\n",
              "       ( 29, 295,  93, 1, 2. , 2. , 7.2 , 0, 0.46),\n",
              "       ( 30, 310,  99, 2, 1.5, 2. , 7.3 , 0, 0.54),\n",
              "       ( 31, 300,  97, 2, 3. , 3. , 8.1 , 1, 0.65),\n",
              "       ( 32, 327, 103, 3, 4. , 4. , 8.3 , 1, 0.74),\n",
              "       ( 33, 338, 118, 4, 3. , 4.5, 9.4 , 1, 0.91),\n",
              "       ( 34, 340, 114, 5, 4. , 4. , 9.6 , 1, 0.9 ),\n",
              "       ( 35, 331, 112, 5, 4. , 5. , 9.8 , 1, 0.94),\n",
              "       ( 36, 320, 110, 5, 5. , 5. , 9.2 , 1, 0.88),\n",
              "       ( 37, 299, 106, 2, 4. , 4. , 8.4 , 0, 0.64),\n",
              "       ( 38, 300, 105, 1, 1. , 2. , 7.8 , 0, 0.58),\n",
              "       ( 39, 304, 105, 1, 3. , 1.5, 7.5 , 0, 0.52),\n",
              "       ( 40, 307, 108, 2, 4. , 3.5, 7.7 , 0, 0.48),\n",
              "       ( 41, 308, 110, 3, 3.5, 3. , 8.  , 1, 0.46),\n",
              "       ( 42, 316, 105, 2, 2.5, 2.5, 8.2 , 1, 0.49),\n",
              "       ( 43, 313, 107, 2, 2.5, 2. , 8.5 , 1, 0.53),\n",
              "       ( 44, 332, 117, 4, 4.5, 4. , 9.1 , 0, 0.87),\n",
              "       ( 45, 326, 113, 5, 4.5, 4. , 9.4 , 1, 0.91),\n",
              "       ( 46, 322, 110, 5, 5. , 4. , 9.1 , 1, 0.88),\n",
              "       ( 47, 329, 114, 5, 4. , 5. , 9.3 , 1, 0.86),\n",
              "       ( 48, 339, 119, 5, 4.5, 4. , 9.7 , 0, 0.89),\n",
              "       ( 49, 321, 110, 3, 3.5, 5. , 8.85, 1, 0.82),\n",
              "       ( 50, 327, 111, 4, 3. , 4. , 8.4 , 1, 0.78),\n",
              "       ( 51, 313,  98, 3, 2.5, 4.5, 8.3 , 1, 0.76),\n",
              "       ( 52, 312, 100, 2, 1.5, 3.5, 7.9 , 1, 0.56),\n",
              "       ( 53, 334, 116, 4, 4. , 3. , 8.  , 1, 0.78),\n",
              "       ( 54, 324, 112, 4, 4. , 2.5, 8.1 , 1, 0.72),\n",
              "       ( 55, 322, 110, 3, 3. , 3.5, 8.  , 0, 0.7 ),\n",
              "       ( 56, 320, 103, 3, 3. , 3. , 7.7 , 0, 0.64),\n",
              "       ( 57, 316, 102, 3, 2. , 3. , 7.4 , 0, 0.64),\n",
              "       ( 58, 298,  99, 2, 4. , 2. , 7.6 , 0, 0.46),\n",
              "       ( 59, 300,  99, 1, 3. , 2. , 6.8 , 1, 0.36),\n",
              "       ( 60, 311, 104, 2, 2. , 2. , 8.3 , 0, 0.42),\n",
              "       ( 61, 309, 100, 2, 3. , 3. , 8.1 , 0, 0.48),\n",
              "       ( 62, 307, 101, 3, 4. , 3. , 8.2 , 0, 0.47),\n",
              "       ( 63, 304, 105, 2, 3. , 3. , 8.2 , 1, 0.54),\n",
              "       ( 64, 315, 107, 2, 4. , 3. , 8.5 , 1, 0.56),\n",
              "       ( 65, 325, 111, 3, 3. , 3.5, 8.7 , 0, 0.52),\n",
              "       ( 66, 325, 112, 4, 3.5, 3.5, 8.92, 0, 0.55),\n",
              "       ( 67, 327, 114, 3, 3. , 3. , 9.02, 0, 0.61),\n",
              "       ( 68, 316, 107, 2, 3.5, 3.5, 8.64, 1, 0.57),\n",
              "       ( 69, 318, 109, 3, 3.5, 4. , 9.22, 1, 0.68),\n",
              "       ( 70, 328, 115, 4, 4.5, 4. , 9.16, 1, 0.78),\n",
              "       ( 71, 332, 118, 5, 5. , 5. , 9.64, 1, 0.94),\n",
              "       ( 72, 336, 112, 5, 5. , 5. , 9.76, 1, 0.96),\n",
              "       ( 73, 321, 111, 5, 5. , 5. , 9.45, 1, 0.93),\n",
              "       ( 74, 314, 108, 4, 4.5, 4. , 9.04, 1, 0.84),\n",
              "       ( 75, 314, 106, 3, 3. , 5. , 8.9 , 0, 0.74),\n",
              "       ( 76, 329, 114, 2, 2. , 4. , 8.56, 1, 0.72),\n",
              "       ( 77, 327, 112, 3, 3. , 3. , 8.72, 1, 0.74),\n",
              "       ( 78, 301,  99, 2, 3. , 2. , 8.22, 0, 0.64),\n",
              "       ( 79, 296,  95, 2, 3. , 2. , 7.54, 1, 0.44),\n",
              "       ( 80, 294,  93, 1, 1.5, 2. , 7.36, 0, 0.46),\n",
              "       ( 81, 312, 105, 3, 2. , 3. , 8.02, 1, 0.5 ),\n",
              "       ( 82, 340, 120, 4, 5. , 5. , 9.5 , 1, 0.96),\n",
              "       ( 83, 320, 110, 5, 5. , 4.5, 9.22, 1, 0.92),\n",
              "       ( 84, 322, 115, 5, 4. , 4.5, 9.36, 1, 0.92),\n",
              "       ( 85, 340, 115, 5, 4.5, 4.5, 9.45, 1, 0.94),\n",
              "       ( 86, 319, 103, 4, 4.5, 3.5, 8.66, 0, 0.76),\n",
              "       ( 87, 315, 106, 3, 4.5, 3.5, 8.42, 0, 0.72),\n",
              "       ( 88, 317, 107, 2, 3.5, 3. , 8.28, 0, 0.66),\n",
              "       ( 89, 314, 108, 3, 4.5, 3.5, 8.14, 0, 0.64),\n",
              "       ( 90, 316, 109, 4, 4.5, 3.5, 8.76, 1, 0.74),\n",
              "       ( 91, 318, 106, 2, 4. , 4. , 7.92, 1, 0.64),\n",
              "       ( 92, 299,  97, 3, 5. , 3.5, 7.66, 0, 0.38),\n",
              "       ( 93, 298,  98, 2, 4. , 3. , 8.03, 0, 0.34),\n",
              "       ( 94, 301,  97, 2, 3. , 3. , 7.88, 1, 0.44),\n",
              "       ( 95, 303,  99, 3, 2. , 2.5, 7.66, 0, 0.36),\n",
              "       ( 96, 304, 100, 4, 1.5, 2.5, 7.84, 0, 0.42),\n",
              "       ( 97, 306, 100, 2, 3. , 3. , 8.  , 0, 0.48),\n",
              "       ( 98, 331, 120, 3, 4. , 4. , 8.96, 1, 0.86),\n",
              "       ( 99, 332, 119, 4, 5. , 4.5, 9.24, 1, 0.9 ),\n",
              "       (100, 323, 113, 3, 4. , 4. , 8.88, 1, 0.79),\n",
              "       (101, 322, 107, 3, 3.5, 3.5, 8.46, 1, 0.71),\n",
              "       (102, 312, 105, 2, 2.5, 3. , 8.12, 0, 0.64),\n",
              "       (103, 314, 106, 2, 4. , 3.5, 8.25, 0, 0.62),\n",
              "       (104, 317, 104, 2, 4.5, 4. , 8.47, 0, 0.57),\n",
              "       (105, 326, 112, 3, 3.5, 3. , 9.05, 1, 0.74),\n",
              "       (106, 316, 110, 3, 4. , 4.5, 8.78, 1, 0.69),\n",
              "       (107, 329, 111, 4, 4.5, 4.5, 9.18, 1, 0.87),\n",
              "       (108, 338, 117, 4, 3.5, 4.5, 9.46, 1, 0.91),\n",
              "       (109, 331, 116, 5, 5. , 5. , 9.38, 1, 0.93),\n",
              "       (110, 304, 103, 5, 5. , 4. , 8.64, 0, 0.68),\n",
              "       (111, 305, 108, 5, 3. , 3. , 8.48, 0, 0.61),\n",
              "       (112, 321, 109, 4, 4. , 4. , 8.68, 1, 0.69),\n",
              "       (113, 301, 107, 3, 3.5, 3.5, 8.34, 1, 0.62),\n",
              "       (114, 320, 110, 2, 4. , 3.5, 8.56, 0, 0.72),\n",
              "       (115, 311, 105, 3, 3.5, 3. , 8.45, 1, 0.59),\n",
              "       (116, 310, 106, 4, 4.5, 4.5, 9.04, 1, 0.66),\n",
              "       (117, 299, 102, 3, 4. , 3.5, 8.62, 0, 0.56),\n",
              "       (118, 290, 104, 4, 2. , 2.5, 7.46, 0, 0.45),\n",
              "       (119, 296,  99, 2, 3. , 3.5, 7.28, 0, 0.47),\n",
              "       (120, 327, 104, 5, 3. , 3.5, 8.84, 1, 0.71),\n",
              "       (121, 335, 117, 5, 5. , 5. , 9.56, 1, 0.94),\n",
              "       (122, 334, 119, 5, 4.5, 4.5, 9.48, 1, 0.94),\n",
              "       (123, 310, 106, 4, 1.5, 2.5, 8.36, 0, 0.57),\n",
              "       (124, 308, 108, 3, 3.5, 3.5, 8.22, 0, 0.61),\n",
              "       (125, 301, 106, 4, 2.5, 3. , 8.47, 0, 0.57),\n",
              "       (126, 300, 100, 3, 2. , 3. , 8.66, 1, 0.64),\n",
              "       (127, 323, 113, 3, 4. , 3. , 9.32, 1, 0.85),\n",
              "       (128, 319, 112, 3, 2.5, 2. , 8.71, 1, 0.78),\n",
              "       (129, 326, 112, 3, 3.5, 3. , 9.1 , 1, 0.84),\n",
              "       (130, 333, 118, 5, 5. , 5. , 9.35, 1, 0.92),\n",
              "       (131, 339, 114, 5, 4. , 4.5, 9.76, 1, 0.96),\n",
              "       (132, 303, 105, 5, 5. , 4.5, 8.65, 0, 0.77),\n",
              "       (133, 309, 105, 5, 3.5, 3.5, 8.56, 0, 0.71),\n",
              "       (134, 323, 112, 5, 4. , 4.5, 8.78, 0, 0.79),\n",
              "       (135, 333, 113, 5, 4. , 4. , 9.28, 1, 0.89),\n",
              "       (136, 314, 109, 4, 3.5, 4. , 8.77, 1, 0.82),\n",
              "       (137, 312, 103, 3, 5. , 4. , 8.45, 0, 0.76),\n",
              "       (138, 316, 100, 2, 1.5, 3. , 8.16, 1, 0.71),\n",
              "       (139, 326, 116, 2, 4.5, 3. , 9.08, 1, 0.8 ),\n",
              "       (140, 318, 109, 1, 3.5, 3.5, 9.12, 0, 0.78),\n",
              "       (141, 329, 110, 2, 4. , 3. , 9.15, 1, 0.84),\n",
              "       (142, 332, 118, 2, 4.5, 3.5, 9.36, 1, 0.9 ),\n",
              "       (143, 331, 115, 5, 4. , 3.5, 9.44, 1, 0.92),\n",
              "       (144, 340, 120, 4, 4.5, 4. , 9.92, 1, 0.97),\n",
              "       (145, 325, 112, 2, 3. , 3.5, 8.96, 1, 0.8 ),\n",
              "       (146, 320, 113, 2, 2. , 2.5, 8.64, 1, 0.81),\n",
              "       (147, 315, 105, 3, 2. , 2.5, 8.48, 0, 0.75),\n",
              "       (148, 326, 114, 3, 3. , 3. , 9.11, 1, 0.83),\n",
              "       (149, 339, 116, 4, 4. , 3.5, 9.8 , 1, 0.96),\n",
              "       (150, 311, 106, 2, 3.5, 3. , 8.26, 1, 0.79),\n",
              "       (151, 334, 114, 4, 4. , 4. , 9.43, 1, 0.93),\n",
              "       (152, 332, 116, 5, 5. , 5. , 9.28, 1, 0.94),\n",
              "       (153, 321, 112, 5, 5. , 5. , 9.06, 1, 0.86),\n",
              "       (154, 324, 105, 3, 3. , 4. , 8.75, 0, 0.79),\n",
              "       (155, 326, 108, 3, 3. , 3.5, 8.89, 0, 0.8 ),\n",
              "       (156, 312, 109, 3, 3. , 3. , 8.69, 0, 0.77),\n",
              "       (157, 315, 105, 3, 2. , 2.5, 8.34, 0, 0.7 ),\n",
              "       (158, 309, 104, 2, 2. , 2.5, 8.26, 0, 0.65),\n",
              "       (159, 306, 106, 2, 2. , 2.5, 8.14, 0, 0.61),\n",
              "       (160, 297, 100, 1, 1.5, 2. , 7.9 , 0, 0.52),\n",
              "       (161, 315, 103, 1, 1.5, 2. , 7.86, 0, 0.57),\n",
              "       (162, 298,  99, 1, 1.5, 3. , 7.46, 0, 0.53),\n",
              "       (163, 318, 109, 3, 3. , 3. , 8.5 , 0, 0.67),\n",
              "       (164, 317, 105, 3, 3.5, 3. , 8.56, 0, 0.68),\n",
              "       (165, 329, 111, 4, 4.5, 4. , 9.01, 1, 0.81),\n",
              "       (166, 322, 110, 5, 4.5, 4. , 8.97, 0, 0.78),\n",
              "       (167, 302, 102, 3, 3.5, 5. , 8.33, 0, 0.65),\n",
              "       (168, 313, 102, 3, 2. , 3. , 8.27, 0, 0.64),\n",
              "       (169, 293,  97, 2, 2. , 4. , 7.8 , 1, 0.64),\n",
              "       (170, 311,  99, 2, 2.5, 3. , 7.98, 0, 0.65),\n",
              "       (171, 312, 101, 2, 2.5, 3.5, 8.04, 1, 0.68),\n",
              "       (172, 334, 117, 5, 4. , 4.5, 9.07, 1, 0.89),\n",
              "       (173, 322, 110, 4, 4. , 5. , 9.13, 1, 0.86),\n",
              "       (174, 323, 113, 4, 4. , 4.5, 9.23, 1, 0.89),\n",
              "       (175, 321, 111, 4, 4. , 4. , 8.97, 1, 0.87),\n",
              "       (176, 320, 111, 4, 4.5, 3.5, 8.87, 1, 0.85),\n",
              "       (177, 329, 119, 4, 4.5, 4.5, 9.16, 1, 0.9 ),\n",
              "       (178, 319, 110, 3, 3.5, 3.5, 9.04, 0, 0.82),\n",
              "       (179, 309, 108, 3, 2.5, 3. , 8.12, 0, 0.72),\n",
              "       (180, 307, 102, 3, 3. , 3. , 8.27, 0, 0.73),\n",
              "       (181, 300, 104, 3, 3.5, 3. , 8.16, 0, 0.71),\n",
              "       (182, 305, 107, 2, 2.5, 2.5, 8.42, 0, 0.71),\n",
              "       (183, 299, 100, 2, 3. , 3.5, 7.88, 0, 0.68),\n",
              "       (184, 314, 110, 3, 4. , 4. , 8.8 , 0, 0.75),\n",
              "       (185, 316, 106, 2, 2.5, 4. , 8.32, 0, 0.72),\n",
              "       (186, 327, 113, 4, 4.5, 4.5, 9.11, 1, 0.89),\n",
              "       (187, 317, 107, 3, 3.5, 3. , 8.68, 1, 0.84),\n",
              "       (188, 335, 118, 5, 4.5, 3.5, 9.44, 1, 0.93),\n",
              "       (189, 331, 115, 5, 4.5, 3.5, 9.36, 1, 0.93),\n",
              "       (190, 324, 112, 5, 5. , 5. , 9.08, 1, 0.88),\n",
              "       (191, 324, 111, 5, 4.5, 4. , 9.16, 1, 0.9 ),\n",
              "       (192, 323, 110, 5, 4. , 5. , 8.98, 1, 0.87),\n",
              "       (193, 322, 114, 5, 4.5, 4. , 8.94, 1, 0.86),\n",
              "       (194, 336, 118, 5, 4.5, 5. , 9.53, 1, 0.94),\n",
              "       (195, 316, 109, 3, 3.5, 3. , 8.76, 0, 0.77),\n",
              "       (196, 307, 107, 2, 3. , 3.5, 8.52, 1, 0.78),\n",
              "       (197, 306, 105, 2, 3. , 2.5, 8.26, 0, 0.73),\n",
              "       (198, 310, 106, 2, 3.5, 2.5, 8.33, 0, 0.73),\n",
              "       (199, 311, 104, 3, 4.5, 4.5, 8.43, 0, 0.7 ),\n",
              "       (200, 313, 107, 3, 4. , 4.5, 8.69, 0, 0.72),\n",
              "       (201, 317, 103, 3, 2.5, 3. , 8.54, 1, 0.73),\n",
              "       (202, 315, 110, 2, 3.5, 3. , 8.46, 1, 0.72),\n",
              "       (203, 340, 120, 5, 4.5, 4.5, 9.91, 1, 0.97),\n",
              "       (204, 334, 120, 5, 4. , 5. , 9.87, 1, 0.97),\n",
              "       (205, 298, 105, 3, 3.5, 4. , 8.54, 0, 0.69),\n",
              "       (206, 295,  99, 2, 2.5, 3. , 7.65, 0, 0.57),\n",
              "       (207, 315,  99, 2, 3.5, 3. , 7.89, 0, 0.63),\n",
              "       (208, 310, 102, 3, 3.5, 4. , 8.02, 1, 0.66),\n",
              "       (209, 305, 106, 2, 3. , 3. , 8.16, 0, 0.64),\n",
              "       (210, 301, 104, 3, 3.5, 4. , 8.12, 1, 0.68),\n",
              "       (211, 325, 108, 4, 4.5, 4. , 9.06, 1, 0.79),\n",
              "       (212, 328, 110, 4, 5. , 4. , 9.14, 1, 0.82),\n",
              "       (213, 338, 120, 4, 5. , 5. , 9.66, 1, 0.95),\n",
              "       (214, 333, 119, 5, 5. , 4.5, 9.78, 1, 0.96),\n",
              "       (215, 331, 117, 4, 4.5, 5. , 9.42, 1, 0.94),\n",
              "       (216, 330, 116, 5, 5. , 4.5, 9.36, 1, 0.93),\n",
              "       (217, 322, 112, 4, 4.5, 4.5, 9.26, 1, 0.91),\n",
              "       (218, 321, 109, 4, 4. , 4. , 9.13, 1, 0.85),\n",
              "       (219, 324, 110, 4, 3. , 3.5, 8.97, 1, 0.84),\n",
              "       (220, 312, 104, 3, 3.5, 3.5, 8.42, 0, 0.74),\n",
              "       (221, 313, 103, 3, 4. , 4. , 8.75, 0, 0.76),\n",
              "       (222, 316, 110, 3, 3.5, 4. , 8.56, 0, 0.75),\n",
              "       (223, 324, 113, 4, 4.5, 4. , 8.79, 0, 0.76),\n",
              "       (224, 308, 109, 2, 3. , 4. , 8.45, 0, 0.71),\n",
              "       (225, 305, 105, 2, 3. , 2. , 8.23, 0, 0.67),\n",
              "       (226, 296,  99, 2, 2.5, 2.5, 8.03, 0, 0.61),\n",
              "       (227, 306, 110, 2, 3.5, 4. , 8.45, 0, 0.63),\n",
              "       (228, 312, 110, 2, 3.5, 3. , 8.53, 0, 0.64),\n",
              "       (229, 318, 112, 3, 4. , 3.5, 8.67, 0, 0.71),\n",
              "       (230, 324, 111, 4, 3. , 3. , 9.01, 1, 0.82),\n",
              "       (231, 313, 104, 3, 4. , 4.5, 8.65, 0, 0.73),\n",
              "       (232, 319, 106, 3, 3.5, 2.5, 8.33, 1, 0.74),\n",
              "       (233, 312, 107, 2, 2.5, 3.5, 8.27, 0, 0.69),\n",
              "       (234, 304, 100, 2, 2.5, 3.5, 8.07, 0, 0.64),\n",
              "       (235, 330, 113, 5, 5. , 4. , 9.31, 1, 0.91),\n",
              "       (236, 326, 111, 5, 4.5, 4. , 9.23, 1, 0.88),\n",
              "       (237, 325, 112, 4, 4. , 4.5, 9.17, 1, 0.85),\n",
              "       (238, 329, 114, 5, 4.5, 5. , 9.19, 1, 0.86),\n",
              "       (239, 310, 104, 3, 2. , 3.5, 8.37, 0, 0.7 ),\n",
              "       (240, 299, 100, 1, 1.5, 2. , 7.89, 0, 0.59),\n",
              "       (241, 296, 101, 1, 2.5, 3. , 7.68, 0, 0.6 ),\n",
              "       (242, 317, 103, 2, 2.5, 2. , 8.15, 0, 0.65),\n",
              "       (243, 324, 115, 3, 3.5, 3. , 8.76, 1, 0.7 ),\n",
              "       (244, 325, 114, 3, 3.5, 3. , 9.04, 1, 0.76),\n",
              "       (245, 314, 107, 2, 2.5, 4. , 8.56, 0, 0.63),\n",
              "       (246, 328, 110, 4, 4. , 2.5, 9.02, 1, 0.81),\n",
              "       (247, 316, 105, 3, 3. , 3.5, 8.73, 0, 0.72),\n",
              "       (248, 311, 104, 2, 2.5, 3.5, 8.48, 0, 0.71),\n",
              "       (249, 324, 110, 3, 3.5, 4. , 8.87, 1, 0.8 ),\n",
              "       (250, 321, 111, 3, 3.5, 4. , 8.83, 1, 0.77),\n",
              "       (251, 320, 104, 3, 3. , 2.5, 8.57, 1, 0.74),\n",
              "       (252, 316,  99, 2, 2.5, 3. , 9.  , 0, 0.7 ),\n",
              "       (253, 318, 100, 2, 2.5, 3.5, 8.54, 1, 0.71),\n",
              "       (254, 335, 115, 4, 4.5, 4.5, 9.68, 1, 0.93),\n",
              "       (255, 321, 114, 4, 4. , 5. , 9.12, 0, 0.85),\n",
              "       (256, 307, 110, 4, 4. , 4.5, 8.37, 0, 0.79),\n",
              "       (257, 309,  99, 3, 4. , 4. , 8.56, 0, 0.76),\n",
              "       (258, 324, 100, 3, 4. , 5. , 8.64, 1, 0.78),\n",
              "       (259, 326, 102, 4, 5. , 5. , 8.76, 1, 0.77),\n",
              "       (260, 331, 119, 4, 5. , 4.5, 9.34, 1, 0.9 ),\n",
              "       (261, 327, 108, 5, 5. , 3.5, 9.13, 1, 0.87),\n",
              "       (262, 312, 104, 3, 3.5, 4. , 8.09, 0, 0.71),\n",
              "       (263, 308, 103, 2, 2.5, 4. , 8.36, 1, 0.7 ),\n",
              "       (264, 324, 111, 3, 2.5, 1.5, 8.79, 1, 0.7 ),\n",
              "       (265, 325, 110, 2, 3. , 2.5, 8.76, 1, 0.75),\n",
              "       (266, 313, 102, 3, 2.5, 2.5, 8.68, 0, 0.71),\n",
              "       (267, 312, 105, 2, 2. , 2.5, 8.45, 0, 0.72),\n",
              "       (268, 314, 107, 3, 3. , 3.5, 8.17, 1, 0.73),\n",
              "       (269, 327, 113, 4, 4.5, 5. , 9.14, 0, 0.83),\n",
              "       (270, 308, 108, 4, 4.5, 5. , 8.34, 0, 0.77),\n",
              "       (271, 306, 105, 2, 2.5, 3. , 8.22, 1, 0.72),\n",
              "       (272, 299,  96, 2, 1.5, 2. , 7.86, 0, 0.54),\n",
              "       (273, 294,  95, 1, 1.5, 1.5, 7.64, 0, 0.49),\n",
              "       (274, 312,  99, 1, 1. , 1.5, 8.01, 1, 0.52),\n",
              "       (275, 315, 100, 1, 2. , 2.5, 7.95, 0, 0.58),\n",
              "       (276, 322, 110, 3, 3.5, 3. , 8.96, 1, 0.78),\n",
              "       (277, 329, 113, 5, 5. , 4.5, 9.45, 1, 0.89),\n",
              "       (278, 320, 101, 2, 2.5, 3. , 8.62, 0, 0.7 ),\n",
              "       (279, 308, 103, 2, 3. , 3.5, 8.49, 0, 0.66),\n",
              "       (280, 304, 102, 2, 3. , 4. , 8.73, 0, 0.67),\n",
              "       (281, 311, 102, 3, 4.5, 4. , 8.64, 1, 0.68),\n",
              "       (282, 317, 110, 3, 4. , 4.5, 9.11, 1, 0.8 ),\n",
              "       (283, 312, 106, 3, 4. , 3.5, 8.79, 1, 0.81),\n",
              "       (284, 321, 111, 3, 2.5, 3. , 8.9 , 1, 0.8 ),\n",
              "       (285, 340, 112, 4, 5. , 4.5, 9.66, 1, 0.94),\n",
              "       (286, 331, 116, 5, 4. , 4. , 9.26, 1, 0.93),\n",
              "       (287, 336, 118, 5, 4.5, 4. , 9.19, 1, 0.92),\n",
              "       (288, 324, 114, 5, 5. , 4.5, 9.08, 1, 0.89),\n",
              "       (289, 314, 104, 4, 5. , 5. , 9.02, 0, 0.82),\n",
              "       (290, 313, 109, 3, 4. , 3.5, 9.  , 0, 0.79),\n",
              "       (291, 307, 105, 2, 2.5, 3. , 7.65, 0, 0.58),\n",
              "       (292, 300, 102, 2, 1.5, 2. , 7.87, 0, 0.56),\n",
              "       (293, 302,  99, 2, 1. , 2. , 7.97, 0, 0.56),\n",
              "       (294, 312,  98, 1, 3.5, 3. , 8.18, 1, 0.64),\n",
              "       (295, 316, 101, 2, 2.5, 2. , 8.32, 1, 0.61),\n",
              "       (296, 317, 100, 2, 3. , 2.5, 8.57, 0, 0.68),\n",
              "       (297, 310, 107, 3, 3.5, 3.5, 8.67, 0, 0.76),\n",
              "       (298, 320, 120, 3, 4. , 4.5, 9.11, 0, 0.86),\n",
              "       (299, 330, 114, 3, 4.5, 4.5, 9.24, 1, 0.9 ),\n",
              "       (300, 305, 112, 3, 3. , 3.5, 8.65, 0, 0.71),\n",
              "       (301, 309, 106, 2, 2.5, 2.5, 8.  , 0, 0.62),\n",
              "       (302, 319, 108, 2, 2.5, 3. , 8.76, 0, 0.66),\n",
              "       (303, 322, 105, 2, 3. , 3. , 8.45, 1, 0.65),\n",
              "       (304, 323, 107, 3, 3.5, 3.5, 8.55, 1, 0.73),\n",
              "       (305, 313, 106, 2, 2.5, 2. , 8.43, 0, 0.62),\n",
              "       (306, 321, 109, 3, 3.5, 3.5, 8.8 , 1, 0.74),\n",
              "       (307, 323, 110, 3, 4. , 3.5, 9.1 , 1, 0.79),\n",
              "       (308, 325, 112, 4, 4. , 4. , 9.  , 1, 0.8 ),\n",
              "       (309, 312, 108, 3, 3.5, 3. , 8.53, 0, 0.69),\n",
              "       (310, 308, 110, 4, 3.5, 3. , 8.6 , 0, 0.7 ),\n",
              "       (311, 320, 104, 3, 3. , 3.5, 8.74, 1, 0.76),\n",
              "       (312, 328, 108, 4, 4.5, 4. , 9.18, 1, 0.84),\n",
              "       (313, 311, 107, 4, 4.5, 4.5, 9.  , 1, 0.78),\n",
              "       (314, 301, 100, 3, 3.5, 3. , 8.04, 0, 0.67),\n",
              "       (315, 305, 105, 2, 3. , 4. , 8.13, 0, 0.66),\n",
              "       (316, 308, 104, 2, 2.5, 3. , 8.07, 0, 0.65),\n",
              "       (317, 298, 101, 2, 1.5, 2. , 7.86, 0, 0.54),\n",
              "       (318, 300,  99, 1, 1. , 2.5, 8.01, 0, 0.58),\n",
              "       (319, 324, 111, 3, 2.5, 2. , 8.8 , 1, 0.79),\n",
              "       (320, 327, 113, 4, 3.5, 3. , 8.69, 1, 0.8 ),\n",
              "       (321, 317, 106, 3, 4. , 3.5, 8.5 , 1, 0.75),\n",
              "       (322, 323, 104, 3, 4. , 4. , 8.44, 1, 0.73),\n",
              "       (323, 314, 107, 2, 2.5, 4. , 8.27, 0, 0.72),\n",
              "       (324, 305, 102, 2, 2. , 2.5, 8.18, 0, 0.62),\n",
              "       (325, 315, 104, 3, 3. , 2.5, 8.33, 0, 0.67),\n",
              "       (326, 326, 116, 3, 3.5, 4. , 9.14, 1, 0.81),\n",
              "       (327, 299, 100, 3, 2. , 2. , 8.02, 0, 0.63),\n",
              "       (328, 295, 101, 2, 2.5, 2. , 7.86, 0, 0.69),\n",
              "       (329, 324, 112, 4, 4. , 3.5, 8.77, 1, 0.8 ),\n",
              "       (330, 297,  96, 2, 2.5, 1.5, 7.89, 0, 0.43),\n",
              "       (331, 327, 113, 3, 3.5, 3. , 8.66, 1, 0.8 ),\n",
              "       (332, 311, 105, 2, 3. , 2. , 8.12, 1, 0.73),\n",
              "       (333, 308, 106, 3, 3.5, 2.5, 8.21, 1, 0.75),\n",
              "       (334, 319, 108, 3, 3. , 3.5, 8.54, 1, 0.71),\n",
              "       (335, 312, 107, 4, 4.5, 4. , 8.65, 1, 0.73),\n",
              "       (336, 325, 111, 4, 4. , 4.5, 9.11, 1, 0.83),\n",
              "       (337, 319, 110, 3, 3. , 2.5, 8.79, 0, 0.72),\n",
              "       (338, 332, 118, 5, 5. , 5. , 9.47, 1, 0.94),\n",
              "       (339, 323, 108, 5, 4. , 4. , 8.74, 1, 0.81),\n",
              "       (340, 324, 107, 5, 3.5, 4. , 8.66, 1, 0.81),\n",
              "       (341, 312, 107, 3, 3. , 3. , 8.46, 1, 0.75),\n",
              "       (342, 326, 110, 3, 3.5, 3.5, 8.76, 1, 0.79),\n",
              "       (343, 308, 106, 3, 3. , 3. , 8.24, 0, 0.58),\n",
              "       (344, 305, 103, 2, 2.5, 3.5, 8.13, 0, 0.59),\n",
              "       (345, 295,  96, 2, 1.5, 2. , 7.34, 0, 0.47),\n",
              "       (346, 316,  98, 1, 1.5, 2. , 7.43, 0, 0.49),\n",
              "       (347, 304,  97, 2, 1.5, 2. , 7.64, 0, 0.47),\n",
              "       (348, 299,  94, 1, 1. , 1. , 7.34, 0, 0.42),\n",
              "       (349, 302,  99, 1, 2. , 2. , 7.25, 0, 0.57),\n",
              "       (350, 313, 101, 3, 2.5, 3. , 8.04, 0, 0.62),\n",
              "       (351, 318, 107, 3, 3. , 3.5, 8.27, 1, 0.74),\n",
              "       (352, 325, 110, 4, 3.5, 4. , 8.67, 1, 0.73),\n",
              "       (353, 303, 100, 2, 3. , 3.5, 8.06, 1, 0.64),\n",
              "       (354, 300, 102, 3, 3.5, 2.5, 8.17, 0, 0.63),\n",
              "       (355, 297,  98, 2, 2.5, 3. , 7.67, 0, 0.59),\n",
              "       (356, 317, 106, 2, 2. , 3.5, 8.12, 0, 0.73),\n",
              "       (357, 327, 109, 3, 3.5, 4. , 8.77, 1, 0.79),\n",
              "       (358, 301, 104, 2, 3.5, 3.5, 7.89, 1, 0.68),\n",
              "       (359, 314, 105, 2, 2.5, 2. , 7.64, 0, 0.7 ),\n",
              "       (360, 321, 107, 2, 2. , 1.5, 8.44, 0, 0.81),\n",
              "       (361, 322, 110, 3, 4. , 5. , 8.64, 1, 0.85),\n",
              "       (362, 334, 116, 4, 4. , 3.5, 9.54, 1, 0.93),\n",
              "       (363, 338, 115, 5, 4.5, 5. , 9.23, 1, 0.91),\n",
              "       (364, 306, 103, 2, 2.5, 3. , 8.36, 0, 0.69),\n",
              "       (365, 313, 102, 3, 3.5, 4. , 8.9 , 1, 0.77),\n",
              "       (366, 330, 114, 4, 4.5, 3. , 9.17, 1, 0.86),\n",
              "       (367, 320, 104, 3, 3.5, 4.5, 8.34, 1, 0.74),\n",
              "       (368, 311,  98, 1, 1. , 2.5, 7.46, 0, 0.57),\n",
              "       (369, 298,  92, 1, 2. , 2. , 7.88, 0, 0.51),\n",
              "       (370, 301,  98, 1, 2. , 3. , 8.03, 1, 0.67),\n",
              "       (371, 310, 103, 2, 2.5, 2.5, 8.24, 0, 0.72),\n",
              "       (372, 324, 110, 3, 3.5, 3. , 9.22, 1, 0.89),\n",
              "       (373, 336, 119, 4, 4.5, 4. , 9.62, 1, 0.95),\n",
              "       (374, 321, 109, 3, 3. , 3. , 8.54, 1, 0.79),\n",
              "       (375, 315, 105, 2, 2. , 2.5, 7.65, 0, 0.39),\n",
              "       (376, 304, 101, 2, 2. , 2.5, 7.66, 0, 0.38),\n",
              "       (377, 297,  96, 2, 2.5, 2. , 7.43, 0, 0.34),\n",
              "       (378, 290, 100, 1, 1.5, 2. , 7.56, 0, 0.47),\n",
              "       (379, 303,  98, 1, 2. , 2.5, 7.65, 0, 0.56),\n",
              "       (380, 311,  99, 1, 2.5, 3. , 8.43, 1, 0.71),\n",
              "       (381, 322, 104, 3, 3.5, 4. , 8.84, 1, 0.78),\n",
              "       (382, 319, 105, 3, 3. , 3.5, 8.67, 1, 0.73),\n",
              "       (383, 324, 110, 4, 4.5, 4. , 9.15, 1, 0.82),\n",
              "       (384, 300, 100, 3, 3. , 3.5, 8.26, 0, 0.62),\n",
              "       (385, 340, 113, 4, 5. , 5. , 9.74, 1, 0.96),\n",
              "       (386, 335, 117, 5, 5. , 5. , 9.82, 1, 0.96),\n",
              "       (387, 302, 101, 2, 2.5, 3.5, 7.96, 0, 0.46),\n",
              "       (388, 307, 105, 2, 2. , 3.5, 8.1 , 0, 0.53),\n",
              "       (389, 296,  97, 2, 1.5, 2. , 7.8 , 0, 0.49),\n",
              "       (390, 320, 108, 3, 3.5, 4. , 8.44, 1, 0.76),\n",
              "       (391, 314, 102, 2, 2. , 2.5, 8.24, 0, 0.64),\n",
              "       (392, 318, 106, 3, 2. , 3. , 8.65, 0, 0.71),\n",
              "       (393, 326, 112, 4, 4. , 3.5, 9.12, 1, 0.84),\n",
              "       (394, 317, 104, 2, 3. , 3. , 8.76, 0, 0.77),\n",
              "       (395, 329, 111, 4, 4.5, 4. , 9.23, 1, 0.89),\n",
              "       (396, 324, 110, 3, 3.5, 3.5, 9.04, 1, 0.82),\n",
              "       (397, 325, 107, 3, 3. , 3.5, 9.11, 1, 0.84),\n",
              "       (398, 330, 116, 4, 5. , 4.5, 9.45, 1, 0.91),\n",
              "       (399, 312, 103, 3, 3.5, 4. , 8.78, 0, 0.67),\n",
              "       (400, 333, 117, 4, 5. , 4. , 9.66, 1, 0.95)],\n",
              "      dtype=[('Serial_No', '<i8'), ('GRE_Score', '<i8'), ('TOEFL_Score', '<i8'), ('University_Rating', '<i8'), ('SOP', '<f8'), ('LOR', '<f8'), ('CGPA', '<f8'), ('Research', '<i8'), ('Chance_of_Admit', '<f8')])"
            ]
          },
          "metadata": {
            "tags": []
          },
          "execution_count": 5
        }
      ]
    },
    {
      "cell_type": "code",
      "metadata": {
        "id": "PXMZvKmZK3ZE",
        "colab": {
          "base_uri": "https://localhost:8080/"
        },
        "outputId": "2a1e12d3-d59e-4247-e1a0-b43517913125"
      },
      "source": [
        "graduate_admission.shape"
      ],
      "execution_count": null,
      "outputs": [
        {
          "output_type": "execute_result",
          "data": {
            "text/plain": [
              "(400,)"
            ]
          },
          "metadata": {
            "tags": []
          },
          "execution_count": 6
        }
      ]
    },
    {
      "cell_type": "code",
      "metadata": {
        "id": "mzInas_CK8SN",
        "colab": {
          "base_uri": "https://localhost:8080/"
        },
        "outputId": "79c34ac4-26a9-4ce7-d253-c0f0a214c251"
      },
      "source": [
        "graduate_admission['CGPA'][0:5]"
      ],
      "execution_count": null,
      "outputs": [
        {
          "output_type": "execute_result",
          "data": {
            "text/plain": [
              "array([9.65, 8.87, 8.  , 8.67, 8.21])"
            ]
          },
          "metadata": {
            "tags": []
          },
          "execution_count": 7
        }
      ]
    },
    {
      "cell_type": "code",
      "metadata": {
        "id": "97t6xwgnLFed"
      },
      "source": [
        "graduate_admission['CGPA'] = graduate_admission['CGPA']/10*4"
      ],
      "execution_count": null,
      "outputs": []
    },
    {
      "cell_type": "code",
      "metadata": {
        "id": "uXBzG5jOLUJ8",
        "colab": {
          "base_uri": "https://localhost:8080/"
        },
        "outputId": "94b5350c-4f96-4366-de7b-4c46abf8c5a8"
      },
      "source": [
        "graduate_admission['CGPA'][0:20]"
      ],
      "execution_count": null,
      "outputs": [
        {
          "output_type": "execute_result",
          "data": {
            "text/plain": [
              "array([3.86 , 3.548, 3.2  , 3.468, 3.284, 3.736, 3.28 , 3.16 , 3.2  ,\n",
              "       3.44 , 3.36 , 3.6  , 3.64 , 3.2  , 3.28 , 3.32 , 3.48 , 3.2  ,\n",
              "       3.52 , 3.4  ])"
            ]
          },
          "metadata": {
            "tags": []
          },
          "execution_count": 10
        }
      ]
    },
    {
      "cell_type": "code",
      "metadata": {
        "id": "z1CSgVbSLgWA",
        "colab": {
          "base_uri": "https://localhost:8080/"
        },
        "outputId": "bc5286dd-0341-4e0d-a256-a6006c84a7c6"
      },
      "source": [
        "len(graduate_admission[graduate_admission['Research']==1])"
      ],
      "execution_count": null,
      "outputs": [
        {
          "output_type": "execute_result",
          "data": {
            "text/plain": [
              "219"
            ]
          },
          "metadata": {
            "tags": []
          },
          "execution_count": 12
        }
      ]
    },
    {
      "cell_type": "code",
      "metadata": {
        "id": "oWYj09kCLtSQ",
        "colab": {
          "base_uri": "https://localhost:8080/"
        },
        "outputId": "5c80b9cf-905c-4681-ca37-5069cf38d581"
      },
      "source": [
        "print(graduate_admission[graduate_admission['Chance_of_Admit']>0.8]['GRE_Score'].mean())"
      ],
      "execution_count": null,
      "outputs": [
        {
          "output_type": "stream",
          "text": [
            "328.7350427350427\n"
          ],
          "name": "stdout"
        }
      ]
    },
    {
      "cell_type": "code",
      "metadata": {
        "id": "FLN1aoe1MPJL",
        "colab": {
          "base_uri": "https://localhost:8080/"
        },
        "outputId": "b502bba9-b6e9-4816-d66b-9e226c8bcdac"
      },
      "source": [
        "print(graduate_admission[graduate_admission['Chance_of_Admit']<0.4]['GRE_Score'].mean())"
      ],
      "execution_count": null,
      "outputs": [
        {
          "output_type": "stream",
          "text": [
            "302.2857142857143\n"
          ],
          "name": "stdout"
        }
      ]
    },
    {
      "cell_type": "code",
      "metadata": {
        "id": "fYhf12N6Mbs8",
        "colab": {
          "base_uri": "https://localhost:8080/"
        },
        "outputId": "95b3d491-7c08-4634-e9ae-affd7fe96240"
      },
      "source": [
        "print(graduate_admission[graduate_admission['Chance_of_Admit']>0.8]['CGPA'].mean())\n",
        "print(graduate_admission[graduate_admission['Chance_of_Admit']<0.4]['CGPA'].mean())"
      ],
      "execution_count": null,
      "outputs": [
        {
          "output_type": "stream",
          "text": [
            "3.7106666666666666\n",
            "3.0222857142857142\n"
          ],
          "name": "stdout"
        }
      ]
    },
    {
      "cell_type": "code",
      "metadata": {
        "id": "UH5oW3d2tGPR",
        "colab": {
          "base_uri": "https://localhost:8080/"
        },
        "outputId": "742dab2f-c767-4994-a09c-809fc97d1e94"
      },
      "source": [
        "import re\n",
        "\n",
        "text = \"My name is Mayank\"\n",
        "if re.search(\"Mayank\",text):\n",
        "  print(\"Correct ans\")\n",
        "else:\n",
        "  print(\"Wrong ans\")"
      ],
      "execution_count": null,
      "outputs": [
        {
          "output_type": "stream",
          "text": [
            "Correct ans\n"
          ],
          "name": "stdout"
        }
      ]
    },
    {
      "cell_type": "code",
      "metadata": {
        "id": "FuJz2OGwtoTm",
        "colab": {
          "base_uri": "https://localhost:8080/"
        },
        "outputId": "f680a845-c7e2-40d3-87da-d14a07248d2f"
      },
      "source": [
        "text = \"Mayank is great. Competative coding is Mayank passion. Mayank learns fast\"\n",
        "re.split(\"Mayank\",text)"
      ],
      "execution_count": null,
      "outputs": [
        {
          "output_type": "execute_result",
          "data": {
            "text/plain": [
              "['', ' is great. Competative coding is ', ' passion. ', ' learns fast']"
            ]
          },
          "metadata": {
            "tags": []
          },
          "execution_count": 3
        }
      ]
    },
    {
      "cell_type": "code",
      "metadata": {
        "id": "a3JEku9ExEj2",
        "colab": {
          "base_uri": "https://localhost:8080/"
        },
        "outputId": "30c62a4e-a820-4d84-cc49-3bb332eb714e"
      },
      "source": [
        "re.findall(\"Mayank\",text)"
      ],
      "execution_count": null,
      "outputs": [
        {
          "output_type": "execute_result",
          "data": {
            "text/plain": [
              "['Mayank', 'Mayank', 'Mayank']"
            ]
          },
          "metadata": {
            "tags": []
          },
          "execution_count": 4
        }
      ]
    },
    {
      "cell_type": "code",
      "metadata": {
        "id": "VO7k18fHxjAA",
        "colab": {
          "base_uri": "https://localhost:8080/"
        },
        "outputId": "0013667a-3f18-47eb-fe81-d5a94313ac01"
      },
      "source": [
        "re.search(\"^Mayank\",text)"
      ],
      "execution_count": null,
      "outputs": [
        {
          "output_type": "execute_result",
          "data": {
            "text/plain": [
              "<_sre.SRE_Match object; span=(0, 6), match='Mayank'>"
            ]
          },
          "metadata": {
            "tags": []
          },
          "execution_count": 5
        }
      ]
    },
    {
      "cell_type": "code",
      "metadata": {
        "id": "GByW9vfjyAqh",
        "colab": {
          "base_uri": "https://localhost:8080/"
        },
        "outputId": "b3624509-0322-4bd0-cda3-8e3a058855f4"
      },
      "source": [
        "text1 = \"AABABCABC\"\n",
        "re.findall(\"B\",text1)"
      ],
      "execution_count": null,
      "outputs": [
        {
          "output_type": "execute_result",
          "data": {
            "text/plain": [
              "['B', 'B', 'B']"
            ]
          },
          "metadata": {
            "tags": []
          },
          "execution_count": 6
        }
      ]
    },
    {
      "cell_type": "code",
      "metadata": {
        "id": "ltUqi65myI2i",
        "colab": {
          "base_uri": "https://localhost:8080/"
        },
        "outputId": "3faa69a5-53cf-4c7b-95df-1f260a023804"
      },
      "source": [
        "re.findall(\"[AB]\",text1)"
      ],
      "execution_count": null,
      "outputs": [
        {
          "output_type": "execute_result",
          "data": {
            "text/plain": [
              "['A', 'A', 'B', 'A', 'B', 'A', 'B']"
            ]
          },
          "metadata": {
            "tags": []
          },
          "execution_count": 8
        }
      ]
    },
    {
      "cell_type": "code",
      "metadata": {
        "id": "fvd5_9jvyZ7x",
        "colab": {
          "base_uri": "https://localhost:8080/"
        },
        "outputId": "8462bc30-80de-40b8-948d-d6133de0ed15"
      },
      "source": [
        "re.findall(\"[A][B-C]\",text1)"
      ],
      "execution_count": null,
      "outputs": [
        {
          "output_type": "execute_result",
          "data": {
            "text/plain": [
              "['AB', 'AB', 'AB']"
            ]
          },
          "metadata": {
            "tags": []
          },
          "execution_count": 9
        }
      ]
    },
    {
      "cell_type": "code",
      "metadata": {
        "id": "d71F4fXOysSH",
        "colab": {
          "base_uri": "https://localhost:8080/"
        },
        "outputId": "02b80a82-50bf-4b48-a177-43f62e6a4428"
      },
      "source": [
        "re.findall(\"[^A]\",text1)"
      ],
      "execution_count": null,
      "outputs": [
        {
          "output_type": "execute_result",
          "data": {
            "text/plain": [
              "['B', 'B', 'C', 'B', 'C']"
            ]
          },
          "metadata": {
            "tags": []
          },
          "execution_count": 10
        }
      ]
    },
    {
      "cell_type": "code",
      "metadata": {
        "id": "Fj0SN-7hzxr5",
        "colab": {
          "base_uri": "https://localhost:8080/"
        },
        "outputId": "91f5bafa-ec00-4178-de72-4a419cd6d6cd"
      },
      "source": [
        "re.findall(\"A{1,2}\",text1) #no extra space in between"
      ],
      "execution_count": null,
      "outputs": [
        {
          "output_type": "execute_result",
          "data": {
            "text/plain": [
              "['AA', 'A', 'A']"
            ]
          },
          "metadata": {
            "tags": []
          },
          "execution_count": 16
        }
      ]
    },
    {
      "cell_type": "code",
      "metadata": {
        "id": "vJYch13T0yaL",
        "colab": {
          "base_uri": "https://localhost:8080/"
        },
        "outputId": "6db8fb77-0c47-4cb1-dc4a-4c70a2a4e07b"
      },
      "source": [
        "# with open(\"https://dl.packetstormsecurity.net/papers/legal/ferpa.txt\",\"r\") as file:\n",
        "#   wiki = file.read()\n",
        "import urllib\n",
        "import requests\n",
        "url = \"https://dl.packetstormsecurity.net/papers/legal/ferpa.txt\"\n",
        "file = urllib.request.urlopen(url)\n",
        "\n",
        "for i in file:\n",
        "  decoded_line = i.decode(\"utf-8\")\n",
        "  print(decoded_line)"
      ],
      "execution_count": null,
      "outputs": [
        {
          "output_type": "stream",
          "text": [
            "   ****************************************************************\n",
            "\n",
            "   *   Document from the CPSR Privacy/Information Archive         *\n",
            "\n",
            "   *  FTP/Gopher/WAIS: cpsr.org  email: listserv@cpsr.org \"help\"  *\n",
            "\n",
            "   *                                                              *\n",
            "\n",
            "   *    For more information contact: cpsr@csli.stanford.edu      *\n",
            "\n",
            "   *                        415-322-3778                          *\n",
            "\n",
            "   ****************************************************************\n",
            "\n",
            "\n",
            "\n",
            "\n",
            "\n",
            "\n",
            "\n",
            "Family Educational Right to Privacy Act.  (Buckley Ammendment)\n",
            "\n",
            "\n",
            "\n",
            "(as of 4/93)\n",
            "\n",
            "\n",
            "\n",
            "20 USC  S. 1232g\n",
            "\n",
            "\n",
            "\n",
            "\n",
            "\n",
            "S.  1232g.  Family educational and privacy rights\n",
            "\n",
            "\n",
            "\n",
            "   (a) Conditions for availability of funds to educational agencies or\n",
            "\n",
            "institutions; inspection and review of education records; specific\n",
            "\n",
            "information to be made available; procedure for access to education\n",
            "\n",
            "records; reasonableness of time for such access; hearings; written\n",
            "\n",
            "explanations by parents; definitions.\n",
            "\n",
            "\n",
            "\n",
            "   (1) (A) No funds shall be made available under any applicable program\n",
            "\n",
            "to any educational agency or institution which has a policy of denying,\n",
            "\n",
            "or which effectively prevents, the parents of students who are or have\n",
            "\n",
            "been in attendance at a school of such agency or at such institution, as\n",
            "\n",
            "the case may be, the right to inspect and review the education records of\n",
            "\n",
            "their children. If any material or document in the education record of a\n",
            "\n",
            "student includes information on more than one student, the parents of one\n",
            "\n",
            "of such students shall have the right to inspect and review only such\n",
            "\n",
            "part of such material or document as relates to such student or to be\n",
            "\n",
            "informed of the specific information contained in such part of such\n",
            "\n",
            "material. Each educational agency or institution shall establish\n",
            "\n",
            "appropriate procedures for the granting of a request by parents for\n",
            "\n",
            "access to the education records of their children within a reasonable\n",
            "\n",
            "period of time, but in no case more than forty-five days after the\n",
            "\n",
            "request has been made.\n",
            "\n",
            "\n",
            "\n",
            "   (B) The first sentence of subparagraph (A) shall not operate to make\n",
            "\n",
            "available to students in institutions of postsecondary education the\n",
            "\n",
            "following materials:\n",
            "\n",
            "\n",
            "\n",
            "   (i) financial records of the parents of the student or any information\n",
            "\n",
            "contained therein;\n",
            "\n",
            "\n",
            "\n",
            "   (ii) confidential letters and statements of recommendation, which were\n",
            "\n",
            "placed in the education records prior to January 1, 1975, if such letters\n",
            "\n",
            "or statements are not used for purposes other than those for which they\n",
            "\n",
            "were specifically intended;\n",
            "\n",
            "\n",
            "\n",
            "   (iii) if the student has signed a waiver of the student's right of\n",
            "\n",
            "access under this subsection in accordance with subparagraph (C),\n",
            "\n",
            "confidential recommendations--\n",
            "\n",
            "\n",
            "\n",
            "   (I) respecting admission to any educational agency or institution,\n",
            "\n",
            "\n",
            "\n",
            "   (II) respecting an application for employment, and\n",
            "\n",
            "\n",
            "\n",
            "   (III) respecting the receipt of an honor or honorary recognition.\n",
            "\n",
            "\n",
            "\n",
            "   (C) A student or a person applying for admission may waive his right\n",
            "\n",
            "of access to confidential statements described in clause (iii) of\n",
            "\n",
            "subparagraph (B), except that such waiver shall apply to recommendations\n",
            "\n",
            "only if (i) the student is, upon request, notified of the names of all\n",
            "\n",
            "persons making confidential recommendations and (ii) such recommendations\n",
            "\n",
            "are used solely for the purpose for which they were specifically\n",
            "\n",
            "intended. Such waivers may not be required as a condition for admission\n",
            "\n",
            "to, receipt of financial aid from, or receipt of any other services or\n",
            "\n",
            "benefits from such agency or institution.\n",
            "\n",
            "\n",
            "\n",
            "   (2) No funds shall be made available under any applicable program to\n",
            "\n",
            "any educational agency or institution unless the parents of students who\n",
            "\n",
            "are or have been in attendance at a school of such agency or at such\n",
            "\n",
            "institution are provided an opportunity for a hearing by such agency or\n",
            "\n",
            "institution, in accordance with regulations of the Secretary, to\n",
            "\n",
            "challenge the content of such student's education records, in order to\n",
            "\n",
            "insure that the records are not inaccurate, misleading, or otherwise in\n",
            "\n",
            "violation of the privacy or other rights of students, and to provide an\n",
            "\n",
            "opportunity for the correction or deletion of any such inaccurate,\n",
            "\n",
            "misleading, or otherwise inappropriate data contained therein and to\n",
            "\n",
            "insert into such records a written explanation of the parents respecting\n",
            "\n",
            "the content of such records.\n",
            "\n",
            "\n",
            "\n",
            "   (3) For the purposes of this section the term \"educational agency or\n",
            "\n",
            "institution\" means any public or private agency or institution which is\n",
            "\n",
            "the recipient of funds under any applicable program.\n",
            "\n",
            "\n",
            "\n",
            "   (4) (A) For the purposes of this section, the term \"education records\"\n",
            "\n",
            "means, except as may be provided otherwise in subparagraph (B), those\n",
            "\n",
            "records, files, documents, and other materials which--\n",
            "\n",
            "\n",
            "\n",
            "   (i) contain information directly related to a student; and\n",
            "\n",
            "\n",
            "\n",
            "   (ii) are maintained by an educational agency or institution or by a\n",
            "\n",
            "person acting for such agency or institution.\n",
            "\n",
            "\n",
            "\n",
            "   (B) The term \"education records\" does not include--\n",
            "\n",
            "\n",
            "\n",
            "   (i) records of instructional, supervisory, and administrative\n",
            "\n",
            "personnel and educational personnel ancillary thereto which are in the\n",
            "\n",
            "sole possession of the maker thereof and which are not accessible or\n",
            "\n",
            "revealed to any other person except a substitute;\n",
            "\n",
            "\n",
            "\n",
            "   (ii) records maintained by a law enforcement unit of the educational\n",
            "\n",
            "agency or institution that were created by that law enforcement unit for\n",
            "\n",
            "the purpose of law enforcement.\n",
            "\n",
            "\n",
            "\n",
            "   (iii) in the case of persons who are employed by an educational agency\n",
            "\n",
            "or institution but who are not in attendance at such agency or\n",
            "\n",
            "institution, records made and maintained in the normal course of business\n",
            "\n",
            "which relate exclusively to such person in that person's capacity as an\n",
            "\n",
            "employee and are not available for use for any other purpose; or\n",
            "\n",
            "\n",
            "\n",
            "   (iv) records on a student who is eighteen years of age or older, or is\n",
            "\n",
            "attending an institution of postsecondary education, which are made or\n",
            "\n",
            "maintained by a physician, psychiatrist, psychologist, or other\n",
            "\n",
            "recognized professional or paraprofessional acting in his professional or\n",
            "\n",
            "paraprofessional capacity, or assisting in that capacity, and which are\n",
            "\n",
            "made, maintained, or used only in connection with the provision of\n",
            "\n",
            "treatment to the student, and are not available to anyone other than\n",
            "\n",
            "persons providing such treatment, except that such records can be\n",
            "\n",
            "personally reviewed by a physician or other appropriate professional of\n",
            "\n",
            "the student's choice.\n",
            "\n",
            "\n",
            "\n",
            "   (5) (A) For the purposes of this section the term \"directory\n",
            "\n",
            "information\" relating to a student includes the following: the student's\n",
            "\n",
            "name, address, telephone listing, date and place of birth, major field of\n",
            "\n",
            "study, participation in officially recognized activities and sports,\n",
            "\n",
            "weight and height of members of athletic teams, dates of attendance,\n",
            "\n",
            "degrees and awards received, and the most recent previous educational\n",
            "\n",
            "agency or institution attended by the student.\n",
            "\n",
            "\n",
            "\n",
            "   (B) Any educational agency or institution making public directory\n",
            "\n",
            "information shall give public notice of the categories of information\n",
            "\n",
            "which it has designated as such information with respect to each student\n",
            "\n",
            "attending the institution or agency and shall allow a reasonable period\n",
            "\n",
            "of time after such notice has been given for a parent to inform the\n",
            "\n",
            "institution or agency that any or all of the information designated\n",
            "\n",
            "should not be released without the parent's prior consent.\n",
            "\n",
            "\n",
            "\n",
            "   (6) For the purposes of this section, the term \"student\" includes any\n",
            "\n",
            "person with respect to whom an educational agency or institution\n",
            "\n",
            "maintains education records or personally identifiable information, but\n",
            "\n",
            "does not include a person who has not been in attendance at such agency\n",
            "\n",
            "or institution.\n",
            "\n",
            "\n",
            "\n",
            "   (b) Release of education records; parental consent requirement;\n",
            "\n",
            "exceptions; compliance with judicial orders and subpoenas; audit and\n",
            "\n",
            "evaluation of Federally-supported education programs; recordkeeping.\n",
            "\n",
            "\n",
            "\n",
            "   (1) No funds shall be made available under any applicable program to\n",
            "\n",
            "any educational agency or institution which has a policy or practice of\n",
            "\n",
            "permitting the release of educational records (or personally identifiable\n",
            "\n",
            "information contained therein other than directory information, as\n",
            "\n",
            "defined in paragraph (5) of subsection (a)) of students without the\n",
            "\n",
            "written consent of their parents to any individual, agency, or\n",
            "\n",
            "organization, other than to the following--\n",
            "\n",
            "\n",
            "\n",
            "   (A) other school officials, including teachers within the educational\n",
            "\n",
            "institution or local educational agency, who have been determined by such\n",
            "\n",
            "agency or institution to have legitimate educational interests;\n",
            "\n",
            "\n",
            "\n",
            "   (B) officials of other schools or school systems in which the student\n",
            "\n",
            "seeks or intends to enroll, upon condition that the student's parents be\n",
            "\n",
            "notified of the transfer, receive a copy of the record if desired, and\n",
            "\n",
            "have an opportunity for a hearing to challenge the content of the record;\n",
            "\n",
            "\n",
            "\n",
            "   (C) authorized representatives of (i) the Comptroller General of the\n",
            "\n",
            "United States, (ii) the Secretary, (iii) an administrative head of an\n",
            "\n",
            "educational agency (as defined in section 408(c) , or (iv) State\n",
            "\n",
            "educational authorities, under the conditions set forth in paragraph (3)\n",
            "\n",
            "of this subsection;\n",
            "\n",
            "\n",
            "\n",
            "   (D) in connection with a student's application for, or receipt of,\n",
            "\n",
            "financial aid;\n",
            "\n",
            "\n",
            "\n",
            "   (E) State and local officials or authorities to whom such information\n",
            "\n",
            "is specifically required to be reported or disclosed pursuant to State\n",
            "\n",
            "statute adopted prior to November 19, 1974;\n",
            "\n",
            "\n",
            "\n",
            "   (F) organizations conducting studies for, or on behalf of, educational\n",
            "\n",
            "agencies or institutions for the purpose of developing, validating, or\n",
            "\n",
            "administering predictive tests, administering student aid programs, and\n",
            "\n",
            "improving instruction, if such studies are conducted in such a manner as\n",
            "\n",
            "will not permit the personal identification of students and their parents\n",
            "\n",
            "by persons other than representatives of such organizations and such\n",
            "\n",
            "information will be destroyed when no longer needed for the purpose for\n",
            "\n",
            "which it is conducted;\n",
            "\n",
            "\n",
            "\n",
            "   (G) accrediting organizations in order to carry out their accrediting\n",
            "\n",
            "functions;\n",
            "\n",
            "\n",
            "\n",
            "   (H) parents of a dependent student of such parents, as defined in\n",
            "\n",
            "section 152 of the Internal Revenue Code of 1954;  and\n",
            "\n",
            "\n",
            "\n",
            "   (I) subject to regulations of the Secretary, in connection with an\n",
            "\n",
            "emergency, appropriate persons if the knowledge of such information is\n",
            "\n",
            "necessary to protect\n",
            "\n",
            "\n",
            "\n",
            "the health or safety of the student or other persons.\n",
            "\n",
            "\n",
            "\n",
            "   Nothing in clause (E) of this paragraph shall prevent a State from\n",
            "\n",
            "further limiting the number or type of State or local officials who will\n",
            "\n",
            "continue to have access thereunder.\n",
            "\n",
            "\n",
            "\n",
            "   (2) No funds shall be made available under any applicable program to\n",
            "\n",
            "any educational agency or institution which has a policy or practice of\n",
            "\n",
            "releasing, or providing access to, any personally identifiable\n",
            "\n",
            "information in education records other than directory information, or as\n",
            "\n",
            "is permitted under paragraph (1) of this subsection unless--\n",
            "\n",
            "\n",
            "\n",
            "   (A) there is written consent from the student's parents specifying\n",
            "\n",
            "records to be released, the reasons for such release, and to whom, and\n",
            "\n",
            "with a copy of the records to be released to the student's parents and\n",
            "\n",
            "the student if desired by the parents, or\n",
            "\n",
            "\n",
            "\n",
            "   (B) such information is furnished in compliance with judicial order,\n",
            "\n",
            "or pursuant to any lawfully issued subpoena, upon condition that parents\n",
            "\n",
            "and the students are notified of all such orders or subpoenas in advance\n",
            "\n",
            "of the compliance therewith by the educational institution or agency.\n",
            "\n",
            "\n",
            "\n",
            "   (3) Nothing contained in this section shall preclude authorized\n",
            "\n",
            "representatives of (A) the Comptroller General of the United States, (B)\n",
            "\n",
            "the Secretary, (C) an administrative head of an education agency or (D)\n",
            "\n",
            "State educational authorities from having access to student or other\n",
            "\n",
            "records which may be necessary in connection with the audit and\n",
            "\n",
            "evaluation of Federally-supported education program, or in connection\n",
            "\n",
            "with the enforcement of the Federal legal requirements which relate to\n",
            "\n",
            "such programs: Provided, That except when collection of personally\n",
            "\n",
            "identifiable information is specifically authorized by Federal law, any\n",
            "\n",
            "data collected by such officials shall be protected in a manner which\n",
            "\n",
            "will not permit the personal identification of students and their parents\n",
            "\n",
            "by other than those officials, and such personally identifiable data\n",
            "\n",
            "shall be destroyed when no longer needed for such audit, evaluation, and\n",
            "\n",
            "enforcement of Federal legal requirements.\n",
            "\n",
            "\n",
            "\n",
            "   (4) (A) Each educational agency or institution shall maintain a\n",
            "\n",
            "record, kept with the education records of each student, which will\n",
            "\n",
            "indicate all individuals (other than those specified in paragraph (1)(A)\n",
            "\n",
            "of this subsection), agencies, or organizations which have requested or\n",
            "\n",
            "obtained access to a student's education records maintained by such\n",
            "\n",
            "educational agency or institution, and which will indicate specifically\n",
            "\n",
            "the legitimate interest that each such person, agency, or organization\n",
            "\n",
            "has in obtaining this information.  Such record of access shall be\n",
            "\n",
            "available only to parents, to the school official and his assistants who\n",
            "\n",
            "are responsible for the custody of such records, and to persons or\n",
            "\n",
            "organizations authorized in, and under the conditions of, clauses (A) and\n",
            "\n",
            "(C) of paragraph (1) as a means of auditing the operation of the system.\n",
            "\n",
            "\n",
            "\n",
            "   (B) With respect to this subsection, personal information shall only\n",
            "\n",
            "be transferred to a third party on the condition that such party will not\n",
            "\n",
            "permit any other party to have access to such information without the\n",
            "\n",
            "written consent of the parents of the student.\n",
            "\n",
            "\n",
            "\n",
            "   (5) Nothing in this section shall be construed to prohibit State and\n",
            "\n",
            "local educational officials from having access to student or other\n",
            "\n",
            "records which may be necessary in connection with the audit and\n",
            "\n",
            "evaluation of any federally or State supported education program or in\n",
            "\n",
            "connection with the enforcement of the Federal legal requirements which\n",
            "\n",
            "relate to any such program, subject to the conditions specified in the\n",
            "\n",
            "proviso in paragraph (3).\n",
            "\n",
            "\n",
            "\n",
            "   (6) Nothing in this section shall be construed to prohibit an\n",
            "\n",
            "institution of postsecondary education from disclosing, to an alleged\n",
            "\n",
            "victim of any crime of violence (as that term is defined in section 16 of\n",
            "\n",
            "title 18, United States Code), the results of any disciplinary proceeding\n",
            "\n",
            "conducted by such institution against the alleged perpetrator of such\n",
            "\n",
            "crime with respect to such crime.\n",
            "\n",
            "\n",
            "\n",
            "   (c) Surveys or data-gathering activities; regulations.  The Secretary\n",
            "\n",
            "shall adopt appropriate regulations to protect the rights of privacy of\n",
            "\n",
            "students and their families in connection with any surveys or\n",
            "\n",
            "data-gathering activities conducted, assisted, or authorized by the\n",
            "\n",
            "Secretary or an administrative head of an education agency. Regulations\n",
            "\n",
            "established under this subsection shall include provisions controlling\n",
            "\n",
            "the use, dissemination, and protection of such data. No survey or\n",
            "\n",
            "data-gathering activities shall be conducted by the Secretary, or an\n",
            "\n",
            "administrative head of an education agency under an applicable program,\n",
            "\n",
            "unless such activities are authorized by law.\n",
            "\n",
            "\n",
            "\n",
            "   (d) Students' rather than parents' permission or consent.  For the\n",
            "\n",
            "purposes of this section, whenever a student has attained eighteen years\n",
            "\n",
            "of age, or is attending an institution of postsecondary education the\n",
            "\n",
            "permission or consent required of and the rights accorded to the parents\n",
            "\n",
            "of the student shall thereafter only be required of and accorded to the\n",
            "\n",
            "student.\n",
            "\n",
            "\n",
            "\n",
            "   (e) Informing parents or students of rights under this section.  No\n",
            "\n",
            "funds shall be made available under any applicable program to any\n",
            "\n",
            "educational agency or institution unless such agency or institution\n",
            "\n",
            "informs the parents of students, or the students, if they are eighteen\n",
            "\n",
            "years of age or older, or are attending an institution of postsecondary\n",
            "\n",
            "education, of the rights accorded them by this section.\n",
            "\n",
            "\n",
            "\n",
            "   (f) Enforcement; termination of assistance.  The Secretary, or an\n",
            "\n",
            "administrative head of an education agency, shall take appropriate\n",
            "\n",
            "actions to enforce provisions of this section and to deal with violations\n",
            "\n",
            "of this section, according to the provisions of this Act, except that\n",
            "\n",
            "action to terminate assistance may be taken only if the Secretary finds\n",
            "\n",
            "there has been a failure to comply with the provisions of this section,\n",
            "\n",
            "and he has determined that compliance cannot be secured by voluntary\n",
            "\n",
            "means.\n",
            "\n",
            "\n",
            "\n",
            "   (g) Office and review board; creation; functions.  The Secretary shall\n",
            "\n",
            "establish or designate an office and review board within the Department\n",
            "\n",
            "of Health, Education, and Welfare for the purpose of investigating,\n",
            "\n",
            "processing, reviewing, and adjudicating violations of the provisions of\n",
            "\n",
            "this section and complaints which may be filed concerning alleged\n",
            "\n",
            "violations of this section. Except for the conduct of hearings, none of\n",
            "\n",
            "the functions of the Secretary under this section shall be carried out in\n",
            "\n",
            "any of the regional offices of such Department.\n",
            "\n",
            "\n",
            "\n"
          ],
          "name": "stdout"
        }
      ]
    },
    {
      "cell_type": "code",
      "metadata": {
        "id": "_-dX-r_L9VR6",
        "colab": {
          "base_uri": "https://localhost:8080/"
        },
        "outputId": "f92bc59c-0d41-43b3-8679-dd082c6a53d2"
      },
      "source": [
        "import pandas as pd\n",
        "\n",
        "name = [\"Mayank\",\"Harsh\",\"Shashank\"]\n",
        "pd.Series(name)"
      ],
      "execution_count": null,
      "outputs": [
        {
          "output_type": "execute_result",
          "data": {
            "text/plain": [
              "0      Mayank\n",
              "1       Harsh\n",
              "2    Shashank\n",
              "dtype: object"
            ]
          },
          "metadata": {
            "tags": []
          },
          "execution_count": 27
        }
      ]
    },
    {
      "cell_type": "code",
      "metadata": {
        "id": "Cv9S1pGL9mi-",
        "colab": {
          "base_uri": "https://localhost:8080/"
        },
        "outputId": "af24d34e-d341-4f05-e788-4de7b000f7b8"
      },
      "source": [
        "numbers = [1,2,3,4,5]\n",
        "pd.Series(numbers)"
      ],
      "execution_count": null,
      "outputs": [
        {
          "output_type": "execute_result",
          "data": {
            "text/plain": [
              "0    1\n",
              "1    2\n",
              "2    3\n",
              "3    4\n",
              "4    5\n",
              "dtype: int64"
            ]
          },
          "metadata": {
            "tags": []
          },
          "execution_count": 28
        }
      ]
    },
    {
      "cell_type": "code",
      "metadata": {
        "id": "vfuSEeZ5-cTa",
        "colab": {
          "base_uri": "https://localhost:8080/"
        },
        "outputId": "13adb807-7464-48ea-f04a-b33faa216744"
      },
      "source": [
        "numbers = [1,2,None]\n",
        "pd.Series(numbers)"
      ],
      "execution_count": null,
      "outputs": [
        {
          "output_type": "execute_result",
          "data": {
            "text/plain": [
              "0    1.0\n",
              "1    2.0\n",
              "2    NaN\n",
              "dtype: float64"
            ]
          },
          "metadata": {
            "tags": []
          },
          "execution_count": 29
        }
      ]
    },
    {
      "cell_type": "code",
      "metadata": {
        "id": "e5CgAVdZ-fnR",
        "colab": {
          "base_uri": "https://localhost:8080/"
        },
        "outputId": "2d1cff6d-7c89-46c8-8d01-b9386f09d3a5"
      },
      "source": [
        "import numpy as np\n",
        "np.nan == None"
      ],
      "execution_count": null,
      "outputs": [
        {
          "output_type": "execute_result",
          "data": {
            "text/plain": [
              "False"
            ]
          },
          "metadata": {
            "tags": []
          },
          "execution_count": 32
        }
      ]
    },
    {
      "cell_type": "code",
      "metadata": {
        "id": "RIx2ThLg-uSU",
        "colab": {
          "base_uri": "https://localhost:8080/"
        },
        "outputId": "f186cba6-fdb1-434f-801c-da2126be57e7"
      },
      "source": [
        "np.nan == np.nan"
      ],
      "execution_count": null,
      "outputs": [
        {
          "output_type": "execute_result",
          "data": {
            "text/plain": [
              "False"
            ]
          },
          "metadata": {
            "tags": []
          },
          "execution_count": 34
        }
      ]
    },
    {
      "cell_type": "code",
      "metadata": {
        "id": "FuGIrRD2-ulG",
        "colab": {
          "base_uri": "https://localhost:8080/"
        },
        "outputId": "d8ad4a90-3abe-4569-e9dd-1204e5c62ee9"
      },
      "source": [
        "np.isnan(np.nan)"
      ],
      "execution_count": null,
      "outputs": [
        {
          "output_type": "execute_result",
          "data": {
            "text/plain": [
              "True"
            ]
          },
          "metadata": {
            "tags": []
          },
          "execution_count": 35
        }
      ]
    },
    {
      "cell_type": "code",
      "metadata": {
        "colab": {
          "base_uri": "https://localhost:8080/"
        },
        "id": "-FNr1Jr9nN4n",
        "outputId": "00058a90-323c-4295-f5f6-2ecbd640b07b"
      },
      "source": [
        "import pandas as pd\n",
        "\n",
        "scores = {\"Mayank\":\"Maths\",\n",
        "          \"Harsh\":\"Chemistry\",\n",
        "          \"Shashank\":\"Physics\"}\n",
        "\n",
        "new = pd.Series(scores)\n",
        "print(new)"
      ],
      "execution_count": 1,
      "outputs": [
        {
          "output_type": "stream",
          "text": [
            "Mayank          Maths\n",
            "Harsh       Chemistry\n",
            "Shashank      Physics\n",
            "dtype: object\n"
          ],
          "name": "stdout"
        }
      ]
    },
    {
      "cell_type": "code",
      "metadata": {
        "colab": {
          "base_uri": "https://localhost:8080/"
        },
        "id": "6iaYOK4ppY7b",
        "outputId": "9517b479-9693-484a-f0f5-47bd991f7bc6"
      },
      "source": [
        "new.index"
      ],
      "execution_count": 2,
      "outputs": [
        {
          "output_type": "execute_result",
          "data": {
            "text/plain": [
              "Index(['Mayank', 'Harsh', 'Shashank'], dtype='object')"
            ]
          },
          "metadata": {
            "tags": []
          },
          "execution_count": 2
        }
      ]
    },
    {
      "cell_type": "code",
      "metadata": {
        "colab": {
          "base_uri": "https://localhost:8080/"
        },
        "id": "sDR83IMjpoBV",
        "outputId": "156f7236-ea0d-48fb-8cf7-6966d065bede"
      },
      "source": [
        "scores = [(\"Mayank\",\"Parashar\"),(\"Harsh\",\"Neel\")]\n",
        "\n",
        "pd.Series(scores)\n",
        "scores"
      ],
      "execution_count": 3,
      "outputs": [
        {
          "output_type": "execute_result",
          "data": {
            "text/plain": [
              "[('Mayank', 'Parashar'), ('Harsh', 'Neel')]"
            ]
          },
          "metadata": {
            "tags": []
          },
          "execution_count": 3
        }
      ]
    },
    {
      "cell_type": "code",
      "metadata": {
        "colab": {
          "base_uri": "https://localhost:8080/"
        },
        "id": "OjAvTJM9p134",
        "outputId": "12803a97-e869-4def-d3aa-232d36756e65"
      },
      "source": [
        "new = pd.Series([\"mayank\",\"harsh\",\"shanki\"],index=[\"math\",\"phy\",\"chem\"])\n",
        "new"
      ],
      "execution_count": 4,
      "outputs": [
        {
          "output_type": "execute_result",
          "data": {
            "text/plain": [
              "math    mayank\n",
              "phy      harsh\n",
              "chem    shanki\n",
              "dtype: object"
            ]
          },
          "metadata": {
            "tags": []
          },
          "execution_count": 4
        }
      ]
    },
    {
      "cell_type": "code",
      "metadata": {
        "colab": {
          "base_uri": "https://localhost:8080/"
        },
        "id": "-8vUuf-Uq07e",
        "outputId": "dc5a529c-96aa-4e6b-c07a-088f0be308c3"
      },
      "source": [
        "import pandas as pd\n",
        "\n",
        "scores = {\"Mayank\":\"Maths\",\n",
        "          \"Harsh\":\"Chemistry\",\n",
        "          \"Shashank\":\"Physics\"}\n",
        "\n",
        "new = pd.Series(scores)\n",
        "print(new.iloc[2])\n",
        "print(new.loc['Harsh'])"
      ],
      "execution_count": 6,
      "outputs": [
        {
          "output_type": "stream",
          "text": [
            "Physics\n",
            "Chemistry\n"
          ],
          "name": "stdout"
        }
      ]
    },
    {
      "cell_type": "code",
      "metadata": {
        "colab": {
          "base_uri": "https://localhost:8080/"
        },
        "id": "OXh78JmSq56l",
        "outputId": "737dc3ab-3f86-49bf-b36a-b4cca1f5eb4d"
      },
      "source": [
        "import numpy as np\n",
        "import pandas as pd\n",
        "new = pd.Series(np.random.randint(0,1000,10000))\n",
        "new.head()"
      ],
      "execution_count": 8,
      "outputs": [
        {
          "output_type": "execute_result",
          "data": {
            "text/plain": [
              "0    637\n",
              "1    375\n",
              "2    261\n",
              "3    965\n",
              "4    907\n",
              "dtype: int64"
            ]
          },
          "metadata": {
            "tags": []
          },
          "execution_count": 8
        }
      ]
    },
    {
      "cell_type": "code",
      "metadata": {
        "colab": {
          "base_uri": "https://localhost:8080/"
        },
        "id": "j-c-O6AZtRKh",
        "outputId": "9a593a9d-6d99-4fe6-e003-42b962726b0e"
      },
      "source": [
        "len(new)"
      ],
      "execution_count": 9,
      "outputs": [
        {
          "output_type": "execute_result",
          "data": {
            "text/plain": [
              "10000"
            ]
          },
          "metadata": {
            "tags": []
          },
          "execution_count": 9
        }
      ]
    },
    {
      "cell_type": "code",
      "metadata": {
        "colab": {
          "base_uri": "https://localhost:8080/"
        },
        "id": "HkhIHq5vttfR",
        "outputId": "87f3befe-d413-4222-82cd-ddf6a5c9eb95"
      },
      "source": [
        "%%timeit -n 100\n",
        "total = 0\n",
        "for number in new:\n",
        "  total += number\n",
        "\n",
        "total/len(new)"
      ],
      "execution_count": 10,
      "outputs": [
        {
          "output_type": "stream",
          "text": [
            "100 loops, best of 3: 1.32 ms per loop\n"
          ],
          "name": "stdout"
        }
      ]
    },
    {
      "cell_type": "code",
      "metadata": {
        "colab": {
          "base_uri": "https://localhost:8080/"
        },
        "id": "5-Nn7cD2uvL4",
        "outputId": "4ae5e8aa-2e9e-48a0-ea3d-2031cd3eea2b"
      },
      "source": [
        "%%timeit -n 100\n",
        "total = np.sum(new)\n",
        "total/len(new)"
      ],
      "execution_count": 15,
      "outputs": [
        {
          "output_type": "stream",
          "text": [
            "100 loops, best of 3: 86.2 µs per loop\n"
          ],
          "name": "stdout"
        }
      ]
    },
    {
      "cell_type": "code",
      "metadata": {
        "colab": {
          "base_uri": "https://localhost:8080/"
        },
        "id": "9BE1lS0evH3w",
        "outputId": "70cbf4ee-553a-4723-b459-233386cdfd67"
      },
      "source": [
        "new.head()"
      ],
      "execution_count": 16,
      "outputs": [
        {
          "output_type": "execute_result",
          "data": {
            "text/plain": [
              "0    637\n",
              "1    375\n",
              "2    261\n",
              "3    965\n",
              "4    907\n",
              "dtype: int64"
            ]
          },
          "metadata": {
            "tags": []
          },
          "execution_count": 16
        }
      ]
    },
    {
      "cell_type": "code",
      "metadata": {
        "colab": {
          "base_uri": "https://localhost:8080/"
        },
        "id": "JG4v4UsTvKJc",
        "outputId": "7122f9eb-3aac-41f9-8cef-0d729b431ea1"
      },
      "source": [
        "new+=2\n",
        "new.head()"
      ],
      "execution_count": 17,
      "outputs": [
        {
          "output_type": "execute_result",
          "data": {
            "text/plain": [
              "0    639\n",
              "1    377\n",
              "2    263\n",
              "3    967\n",
              "4    909\n",
              "dtype: int64"
            ]
          },
          "metadata": {
            "tags": []
          },
          "execution_count": 17
        }
      ]
    },
    {
      "cell_type": "code",
      "metadata": {
        "colab": {
          "base_uri": "https://localhost:8080/"
        },
        "id": "FUhLYbTGwS1E",
        "outputId": "881f91cd-168b-41c8-de52-ce6fe6e146d4"
      },
      "source": [
        "%%timeit -n 10\n",
        "s = pd.Series(np.random.randint(0,1000,10000))\n",
        "for label,value in s.iteritems():\n",
        "  s.loc[label]=value+2"
      ],
      "execution_count": 24,
      "outputs": [
        {
          "output_type": "stream",
          "text": [
            "10 loops, best of 3: 624 ms per loop\n"
          ],
          "name": "stdout"
        }
      ]
    },
    {
      "cell_type": "code",
      "metadata": {
        "colab": {
          "base_uri": "https://localhost:8080/"
        },
        "id": "Voqsarg9xIHu",
        "outputId": "509ec47a-64f4-4764-ad56-4a1c80a0124b"
      },
      "source": [
        "%%timeit -n 10\n",
        "s = pd.Series(np.random.randint(0,1000,10000))\n",
        "s+=2"
      ],
      "execution_count": 25,
      "outputs": [
        {
          "output_type": "stream",
          "text": [
            "10 loops, best of 3: 445 µs per loop\n"
          ],
          "name": "stdout"
        }
      ]
    },
    {
      "cell_type": "code",
      "metadata": {
        "colab": {
          "base_uri": "https://localhost:8080/"
        },
        "id": "lIpS4sPqxbjc",
        "outputId": "22e852ac-4e3f-4cf5-992d-80f6e9f698c4"
      },
      "source": [
        "s = pd.Series([1,2,3])\n",
        "s.loc[\"mayank\"] = 100\n",
        "s"
      ],
      "execution_count": 26,
      "outputs": [
        {
          "output_type": "execute_result",
          "data": {
            "text/plain": [
              "0           1\n",
              "1           2\n",
              "2           3\n",
              "mayank    100\n",
              "dtype: int64"
            ]
          },
          "metadata": {
            "tags": []
          },
          "execution_count": 26
        }
      ]
    },
    {
      "cell_type": "code",
      "metadata": {
        "colab": {
          "base_uri": "https://localhost:8080/",
          "height": 138
        },
        "id": "Yj2B68uayr4e",
        "outputId": "24cc3c87-ee31-4638-b9ba-6a543312f390"
      },
      "source": [
        "import pandas as pd\n",
        "record1 = pd.Series({\"Name\":\"Mayank\",\n",
        "                     \"Class\":\"Maths\",\n",
        "                     \"Grade\":80})\n",
        "record2 = pd.Series({\"Name\":\"Harsh\",\n",
        "                     \"Class\":\"Physics\",\n",
        "                     \"Grade\":85})\n",
        "record3 = pd.Series({\"Name\":\"Shanki\",\n",
        "                     \"Class\":\"Chem\",\n",
        "                     \"Grade\":90})\n",
        "df = pd.DataFrame([record1,record2,record3],index=[1,2,3])\n",
        "df"
      ],
      "execution_count": 28,
      "outputs": [
        {
          "output_type": "execute_result",
          "data": {
            "text/html": [
              "<div>\n",
              "<style scoped>\n",
              "    .dataframe tbody tr th:only-of-type {\n",
              "        vertical-align: middle;\n",
              "    }\n",
              "\n",
              "    .dataframe tbody tr th {\n",
              "        vertical-align: top;\n",
              "    }\n",
              "\n",
              "    .dataframe thead th {\n",
              "        text-align: right;\n",
              "    }\n",
              "</style>\n",
              "<table border=\"1\" class=\"dataframe\">\n",
              "  <thead>\n",
              "    <tr style=\"text-align: right;\">\n",
              "      <th></th>\n",
              "      <th>Name</th>\n",
              "      <th>Class</th>\n",
              "      <th>Grade</th>\n",
              "    </tr>\n",
              "  </thead>\n",
              "  <tbody>\n",
              "    <tr>\n",
              "      <th>1</th>\n",
              "      <td>Mayank</td>\n",
              "      <td>Maths</td>\n",
              "      <td>80</td>\n",
              "    </tr>\n",
              "    <tr>\n",
              "      <th>2</th>\n",
              "      <td>Harsh</td>\n",
              "      <td>Physics</td>\n",
              "      <td>85</td>\n",
              "    </tr>\n",
              "    <tr>\n",
              "      <th>3</th>\n",
              "      <td>Shanki</td>\n",
              "      <td>Chem</td>\n",
              "      <td>90</td>\n",
              "    </tr>\n",
              "  </tbody>\n",
              "</table>\n",
              "</div>"
            ],
            "text/plain": [
              "     Name    Class  Grade\n",
              "1  Mayank    Maths     80\n",
              "2   Harsh  Physics     85\n",
              "3  Shanki     Chem     90"
            ]
          },
          "metadata": {
            "tags": []
          },
          "execution_count": 28
        }
      ]
    },
    {
      "cell_type": "code",
      "metadata": {
        "colab": {
          "base_uri": "https://localhost:8080/",
          "height": 138
        },
        "id": "9JM5lppuzzpE",
        "outputId": "2d9b2836-3be3-4713-db94-e272080db5a6"
      },
      "source": [
        "students = [{\"Name\":\"Mayank\",\"Class\":\"Maths\",\"Grade\":80},{\"Name\":\"Shanki\",\"Class\":\"Chem\",\"Grade\":85},{\"Name\":\"Pranav\",\"Class\":\"Phy\",\"Grade\":95}]\n",
        "df = pd.DataFrame(students,index=[\"School_1\",\"School_2\",\"School_3\"])\n",
        "df"
      ],
      "execution_count": 30,
      "outputs": [
        {
          "output_type": "execute_result",
          "data": {
            "text/html": [
              "<div>\n",
              "<style scoped>\n",
              "    .dataframe tbody tr th:only-of-type {\n",
              "        vertical-align: middle;\n",
              "    }\n",
              "\n",
              "    .dataframe tbody tr th {\n",
              "        vertical-align: top;\n",
              "    }\n",
              "\n",
              "    .dataframe thead th {\n",
              "        text-align: right;\n",
              "    }\n",
              "</style>\n",
              "<table border=\"1\" class=\"dataframe\">\n",
              "  <thead>\n",
              "    <tr style=\"text-align: right;\">\n",
              "      <th></th>\n",
              "      <th>Name</th>\n",
              "      <th>Class</th>\n",
              "      <th>Grade</th>\n",
              "    </tr>\n",
              "  </thead>\n",
              "  <tbody>\n",
              "    <tr>\n",
              "      <th>School_1</th>\n",
              "      <td>Mayank</td>\n",
              "      <td>Maths</td>\n",
              "      <td>80</td>\n",
              "    </tr>\n",
              "    <tr>\n",
              "      <th>School_2</th>\n",
              "      <td>Shanki</td>\n",
              "      <td>Chem</td>\n",
              "      <td>85</td>\n",
              "    </tr>\n",
              "    <tr>\n",
              "      <th>School_3</th>\n",
              "      <td>Pranav</td>\n",
              "      <td>Phy</td>\n",
              "      <td>95</td>\n",
              "    </tr>\n",
              "  </tbody>\n",
              "</table>\n",
              "</div>"
            ],
            "text/plain": [
              "            Name  Class  Grade\n",
              "School_1  Mayank  Maths     80\n",
              "School_2  Shanki   Chem     85\n",
              "School_3  Pranav    Phy     95"
            ]
          },
          "metadata": {
            "tags": []
          },
          "execution_count": 30
        }
      ]
    },
    {
      "cell_type": "code",
      "metadata": {
        "colab": {
          "base_uri": "https://localhost:8080/"
        },
        "id": "ZyDrvSHB0qzS",
        "outputId": "31bddc38-2b56-40db-9ae2-22b4c57943c8"
      },
      "source": [
        "df.loc['School_1']"
      ],
      "execution_count": 31,
      "outputs": [
        {
          "output_type": "execute_result",
          "data": {
            "text/plain": [
              "Name     Mayank\n",
              "Class     Maths\n",
              "Grade        80\n",
              "Name: School_1, dtype: object"
            ]
          },
          "metadata": {
            "tags": []
          },
          "execution_count": 31
        }
      ]
    },
    {
      "cell_type": "code",
      "metadata": {
        "colab": {
          "base_uri": "https://localhost:8080/"
        },
        "id": "rp-LZklr01vg",
        "outputId": "9fa83c97-ebaa-4f0f-93ae-e45431a4d649"
      },
      "source": [
        "type(df.loc[\"School_1\"])"
      ],
      "execution_count": 33,
      "outputs": [
        {
          "output_type": "execute_result",
          "data": {
            "text/plain": [
              "pandas.core.series.Series"
            ]
          },
          "metadata": {
            "tags": []
          },
          "execution_count": 33
        }
      ]
    },
    {
      "cell_type": "code",
      "metadata": {
        "colab": {
          "base_uri": "https://localhost:8080/",
          "height": 35
        },
        "id": "Siyuuou-08pk",
        "outputId": "857b7e7d-3718-4101-f1ee-511203c0c8c9"
      },
      "source": [
        "df.loc['School_1','Name']"
      ],
      "execution_count": 34,
      "outputs": [
        {
          "output_type": "execute_result",
          "data": {
            "application/vnd.google.colaboratory.intrinsic+json": {
              "type": "string"
            },
            "text/plain": [
              "'Mayank'"
            ]
          },
          "metadata": {
            "tags": []
          },
          "execution_count": 34
        }
      ]
    },
    {
      "cell_type": "code",
      "metadata": {
        "colab": {
          "base_uri": "https://localhost:8080/",
          "height": 138
        },
        "id": "Reds5chN257_",
        "outputId": "3f37f9a8-fca2-479e-ea96-de493d17a426"
      },
      "source": [
        "df.T"
      ],
      "execution_count": 35,
      "outputs": [
        {
          "output_type": "execute_result",
          "data": {
            "text/html": [
              "<div>\n",
              "<style scoped>\n",
              "    .dataframe tbody tr th:only-of-type {\n",
              "        vertical-align: middle;\n",
              "    }\n",
              "\n",
              "    .dataframe tbody tr th {\n",
              "        vertical-align: top;\n",
              "    }\n",
              "\n",
              "    .dataframe thead th {\n",
              "        text-align: right;\n",
              "    }\n",
              "</style>\n",
              "<table border=\"1\" class=\"dataframe\">\n",
              "  <thead>\n",
              "    <tr style=\"text-align: right;\">\n",
              "      <th></th>\n",
              "      <th>School_1</th>\n",
              "      <th>School_2</th>\n",
              "      <th>School_3</th>\n",
              "    </tr>\n",
              "  </thead>\n",
              "  <tbody>\n",
              "    <tr>\n",
              "      <th>Name</th>\n",
              "      <td>Mayank</td>\n",
              "      <td>Shanki</td>\n",
              "      <td>Pranav</td>\n",
              "    </tr>\n",
              "    <tr>\n",
              "      <th>Class</th>\n",
              "      <td>Maths</td>\n",
              "      <td>Chem</td>\n",
              "      <td>Phy</td>\n",
              "    </tr>\n",
              "    <tr>\n",
              "      <th>Grade</th>\n",
              "      <td>80</td>\n",
              "      <td>85</td>\n",
              "      <td>95</td>\n",
              "    </tr>\n",
              "  </tbody>\n",
              "</table>\n",
              "</div>"
            ],
            "text/plain": [
              "      School_1 School_2 School_3\n",
              "Name    Mayank   Shanki   Pranav\n",
              "Class    Maths     Chem      Phy\n",
              "Grade       80       85       95"
            ]
          },
          "metadata": {
            "tags": []
          },
          "execution_count": 35
        }
      ]
    },
    {
      "cell_type": "code",
      "metadata": {
        "colab": {
          "base_uri": "https://localhost:8080/"
        },
        "id": "fZOG8gM228bR",
        "outputId": "b16438a3-24b9-47f9-853b-e505517833ca"
      },
      "source": [
        "df.T.loc['Name']"
      ],
      "execution_count": 37,
      "outputs": [
        {
          "output_type": "execute_result",
          "data": {
            "text/plain": [
              "School_1    Mayank\n",
              "School_2    Shanki\n",
              "School_3    Pranav\n",
              "Name: Name, dtype: object"
            ]
          },
          "metadata": {
            "tags": []
          },
          "execution_count": 37
        }
      ]
    },
    {
      "cell_type": "code",
      "metadata": {
        "colab": {
          "base_uri": "https://localhost:8080/"
        },
        "id": "Kh1HY3ya3FJz",
        "outputId": "fea5efec-6fd3-4ce8-a17e-616c34c9cd2f"
      },
      "source": [
        "df['Class']"
      ],
      "execution_count": 39,
      "outputs": [
        {
          "output_type": "execute_result",
          "data": {
            "text/plain": [
              "School_1    Maths\n",
              "School_2     Chem\n",
              "School_3      Phy\n",
              "Name: Class, dtype: object"
            ]
          },
          "metadata": {
            "tags": []
          },
          "execution_count": 39
        }
      ]
    },
    {
      "cell_type": "code",
      "metadata": {
        "colab": {
          "base_uri": "https://localhost:8080/",
          "height": 35
        },
        "id": "LRMVRf-J3Tyi",
        "outputId": "d9a8d926-3ec1-44ff-86df-7be757fba2f9"
      },
      "source": [
        "df.loc['School_1']['Name']"
      ],
      "execution_count": 41,
      "outputs": [
        {
          "output_type": "execute_result",
          "data": {
            "application/vnd.google.colaboratory.intrinsic+json": {
              "type": "string"
            },
            "text/plain": [
              "'Mayank'"
            ]
          },
          "metadata": {
            "tags": []
          },
          "execution_count": 41
        }
      ]
    },
    {
      "cell_type": "code",
      "metadata": {
        "colab": {
          "base_uri": "https://localhost:8080/",
          "height": 138
        },
        "id": "cSutk8fw3y6X",
        "outputId": "4c96ad1c-f48e-4568-f6a9-fa30097cac96"
      },
      "source": [
        "df.loc[:,['Name','Grade']]"
      ],
      "execution_count": 43,
      "outputs": [
        {
          "output_type": "execute_result",
          "data": {
            "text/html": [
              "<div>\n",
              "<style scoped>\n",
              "    .dataframe tbody tr th:only-of-type {\n",
              "        vertical-align: middle;\n",
              "    }\n",
              "\n",
              "    .dataframe tbody tr th {\n",
              "        vertical-align: top;\n",
              "    }\n",
              "\n",
              "    .dataframe thead th {\n",
              "        text-align: right;\n",
              "    }\n",
              "</style>\n",
              "<table border=\"1\" class=\"dataframe\">\n",
              "  <thead>\n",
              "    <tr style=\"text-align: right;\">\n",
              "      <th></th>\n",
              "      <th>Name</th>\n",
              "      <th>Grade</th>\n",
              "    </tr>\n",
              "  </thead>\n",
              "  <tbody>\n",
              "    <tr>\n",
              "      <th>School_1</th>\n",
              "      <td>Mayank</td>\n",
              "      <td>80</td>\n",
              "    </tr>\n",
              "    <tr>\n",
              "      <th>School_2</th>\n",
              "      <td>Shanki</td>\n",
              "      <td>85</td>\n",
              "    </tr>\n",
              "    <tr>\n",
              "      <th>School_3</th>\n",
              "      <td>Pranav</td>\n",
              "      <td>95</td>\n",
              "    </tr>\n",
              "  </tbody>\n",
              "</table>\n",
              "</div>"
            ],
            "text/plain": [
              "            Name  Grade\n",
              "School_1  Mayank     80\n",
              "School_2  Shanki     85\n",
              "School_3  Pranav     95"
            ]
          },
          "metadata": {
            "tags": []
          },
          "execution_count": 43
        }
      ]
    },
    {
      "cell_type": "code",
      "metadata": {
        "colab": {
          "base_uri": "https://localhost:8080/",
          "height": 108
        },
        "id": "Ugx5tb-e4SEj",
        "outputId": "813255ca-5e0d-4cc2-f35e-c712df72da82"
      },
      "source": [
        "df.drop('School_1') #remove row and display copy of df"
      ],
      "execution_count": 45,
      "outputs": [
        {
          "output_type": "execute_result",
          "data": {
            "text/html": [
              "<div>\n",
              "<style scoped>\n",
              "    .dataframe tbody tr th:only-of-type {\n",
              "        vertical-align: middle;\n",
              "    }\n",
              "\n",
              "    .dataframe tbody tr th {\n",
              "        vertical-align: top;\n",
              "    }\n",
              "\n",
              "    .dataframe thead th {\n",
              "        text-align: right;\n",
              "    }\n",
              "</style>\n",
              "<table border=\"1\" class=\"dataframe\">\n",
              "  <thead>\n",
              "    <tr style=\"text-align: right;\">\n",
              "      <th></th>\n",
              "      <th>Name</th>\n",
              "      <th>Class</th>\n",
              "      <th>Grade</th>\n",
              "    </tr>\n",
              "  </thead>\n",
              "  <tbody>\n",
              "    <tr>\n",
              "      <th>School_2</th>\n",
              "      <td>Shanki</td>\n",
              "      <td>Chem</td>\n",
              "      <td>85</td>\n",
              "    </tr>\n",
              "    <tr>\n",
              "      <th>School_3</th>\n",
              "      <td>Pranav</td>\n",
              "      <td>Phy</td>\n",
              "      <td>95</td>\n",
              "    </tr>\n",
              "  </tbody>\n",
              "</table>\n",
              "</div>"
            ],
            "text/plain": [
              "            Name Class  Grade\n",
              "School_2  Shanki  Chem     85\n",
              "School_3  Pranav   Phy     95"
            ]
          },
          "metadata": {
            "tags": []
          },
          "execution_count": 45
        }
      ]
    },
    {
      "cell_type": "code",
      "metadata": {
        "colab": {
          "base_uri": "https://localhost:8080/",
          "height": 138
        },
        "id": "5jJVe96Q4i2M",
        "outputId": "13bde50c-7ce5-4aaa-c28a-bbfe6f659593"
      },
      "source": [
        "df"
      ],
      "execution_count": 46,
      "outputs": [
        {
          "output_type": "execute_result",
          "data": {
            "text/html": [
              "<div>\n",
              "<style scoped>\n",
              "    .dataframe tbody tr th:only-of-type {\n",
              "        vertical-align: middle;\n",
              "    }\n",
              "\n",
              "    .dataframe tbody tr th {\n",
              "        vertical-align: top;\n",
              "    }\n",
              "\n",
              "    .dataframe thead th {\n",
              "        text-align: right;\n",
              "    }\n",
              "</style>\n",
              "<table border=\"1\" class=\"dataframe\">\n",
              "  <thead>\n",
              "    <tr style=\"text-align: right;\">\n",
              "      <th></th>\n",
              "      <th>Name</th>\n",
              "      <th>Class</th>\n",
              "      <th>Grade</th>\n",
              "    </tr>\n",
              "  </thead>\n",
              "  <tbody>\n",
              "    <tr>\n",
              "      <th>School_1</th>\n",
              "      <td>Mayank</td>\n",
              "      <td>Maths</td>\n",
              "      <td>80</td>\n",
              "    </tr>\n",
              "    <tr>\n",
              "      <th>School_2</th>\n",
              "      <td>Shanki</td>\n",
              "      <td>Chem</td>\n",
              "      <td>85</td>\n",
              "    </tr>\n",
              "    <tr>\n",
              "      <th>School_3</th>\n",
              "      <td>Pranav</td>\n",
              "      <td>Phy</td>\n",
              "      <td>95</td>\n",
              "    </tr>\n",
              "  </tbody>\n",
              "</table>\n",
              "</div>"
            ],
            "text/plain": [
              "            Name  Class  Grade\n",
              "School_1  Mayank  Maths     80\n",
              "School_2  Shanki   Chem     85\n",
              "School_3  Pranav    Phy     95"
            ]
          },
          "metadata": {
            "tags": []
          },
          "execution_count": 46
        }
      ]
    },
    {
      "cell_type": "code",
      "metadata": {
        "colab": {
          "base_uri": "https://localhost:8080/",
          "height": 138
        },
        "id": "y_wfY2Mn4sTa",
        "outputId": "59cc8462-dbd4-4f09-fcd2-cabd307d113f"
      },
      "source": [
        "copy_df = df.copy()\n",
        "copy_df.drop(\"Name\",inplace=True,axis=1)\n",
        "copy_df"
      ],
      "execution_count": 47,
      "outputs": [
        {
          "output_type": "execute_result",
          "data": {
            "text/html": [
              "<div>\n",
              "<style scoped>\n",
              "    .dataframe tbody tr th:only-of-type {\n",
              "        vertical-align: middle;\n",
              "    }\n",
              "\n",
              "    .dataframe tbody tr th {\n",
              "        vertical-align: top;\n",
              "    }\n",
              "\n",
              "    .dataframe thead th {\n",
              "        text-align: right;\n",
              "    }\n",
              "</style>\n",
              "<table border=\"1\" class=\"dataframe\">\n",
              "  <thead>\n",
              "    <tr style=\"text-align: right;\">\n",
              "      <th></th>\n",
              "      <th>Class</th>\n",
              "      <th>Grade</th>\n",
              "    </tr>\n",
              "  </thead>\n",
              "  <tbody>\n",
              "    <tr>\n",
              "      <th>School_1</th>\n",
              "      <td>Maths</td>\n",
              "      <td>80</td>\n",
              "    </tr>\n",
              "    <tr>\n",
              "      <th>School_2</th>\n",
              "      <td>Chem</td>\n",
              "      <td>85</td>\n",
              "    </tr>\n",
              "    <tr>\n",
              "      <th>School_3</th>\n",
              "      <td>Phy</td>\n",
              "      <td>95</td>\n",
              "    </tr>\n",
              "  </tbody>\n",
              "</table>\n",
              "</div>"
            ],
            "text/plain": [
              "          Class  Grade\n",
              "School_1  Maths     80\n",
              "School_2   Chem     85\n",
              "School_3    Phy     95"
            ]
          },
          "metadata": {
            "tags": []
          },
          "execution_count": 47
        }
      ]
    },
    {
      "cell_type": "code",
      "metadata": {
        "colab": {
          "base_uri": "https://localhost:8080/",
          "height": 138
        },
        "id": "UORahTt65U0R",
        "outputId": "e821e50f-9231-40fc-90a2-2044160619d7"
      },
      "source": [
        "del copy_df['Class']\n",
        "copy_df"
      ],
      "execution_count": 48,
      "outputs": [
        {
          "output_type": "execute_result",
          "data": {
            "text/html": [
              "<div>\n",
              "<style scoped>\n",
              "    .dataframe tbody tr th:only-of-type {\n",
              "        vertical-align: middle;\n",
              "    }\n",
              "\n",
              "    .dataframe tbody tr th {\n",
              "        vertical-align: top;\n",
              "    }\n",
              "\n",
              "    .dataframe thead th {\n",
              "        text-align: right;\n",
              "    }\n",
              "</style>\n",
              "<table border=\"1\" class=\"dataframe\">\n",
              "  <thead>\n",
              "    <tr style=\"text-align: right;\">\n",
              "      <th></th>\n",
              "      <th>Grade</th>\n",
              "    </tr>\n",
              "  </thead>\n",
              "  <tbody>\n",
              "    <tr>\n",
              "      <th>School_1</th>\n",
              "      <td>80</td>\n",
              "    </tr>\n",
              "    <tr>\n",
              "      <th>School_2</th>\n",
              "      <td>85</td>\n",
              "    </tr>\n",
              "    <tr>\n",
              "      <th>School_3</th>\n",
              "      <td>95</td>\n",
              "    </tr>\n",
              "  </tbody>\n",
              "</table>\n",
              "</div>"
            ],
            "text/plain": [
              "          Grade\n",
              "School_1     80\n",
              "School_2     85\n",
              "School_3     95"
            ]
          },
          "metadata": {
            "tags": []
          },
          "execution_count": 48
        }
      ]
    },
    {
      "cell_type": "code",
      "metadata": {
        "colab": {
          "base_uri": "https://localhost:8080/",
          "height": 138
        },
        "id": "uRXqck0u5dbC",
        "outputId": "1d62a2ce-fbc6-425b-e5f2-e07ef0db2a35"
      },
      "source": [
        "df[\"Ranking\"] = None\n",
        "df"
      ],
      "execution_count": 49,
      "outputs": [
        {
          "output_type": "execute_result",
          "data": {
            "text/html": [
              "<div>\n",
              "<style scoped>\n",
              "    .dataframe tbody tr th:only-of-type {\n",
              "        vertical-align: middle;\n",
              "    }\n",
              "\n",
              "    .dataframe tbody tr th {\n",
              "        vertical-align: top;\n",
              "    }\n",
              "\n",
              "    .dataframe thead th {\n",
              "        text-align: right;\n",
              "    }\n",
              "</style>\n",
              "<table border=\"1\" class=\"dataframe\">\n",
              "  <thead>\n",
              "    <tr style=\"text-align: right;\">\n",
              "      <th></th>\n",
              "      <th>Name</th>\n",
              "      <th>Class</th>\n",
              "      <th>Grade</th>\n",
              "      <th>Ranking</th>\n",
              "    </tr>\n",
              "  </thead>\n",
              "  <tbody>\n",
              "    <tr>\n",
              "      <th>School_1</th>\n",
              "      <td>Mayank</td>\n",
              "      <td>Maths</td>\n",
              "      <td>80</td>\n",
              "      <td>None</td>\n",
              "    </tr>\n",
              "    <tr>\n",
              "      <th>School_2</th>\n",
              "      <td>Shanki</td>\n",
              "      <td>Chem</td>\n",
              "      <td>85</td>\n",
              "      <td>None</td>\n",
              "    </tr>\n",
              "    <tr>\n",
              "      <th>School_3</th>\n",
              "      <td>Pranav</td>\n",
              "      <td>Phy</td>\n",
              "      <td>95</td>\n",
              "      <td>None</td>\n",
              "    </tr>\n",
              "  </tbody>\n",
              "</table>\n",
              "</div>"
            ],
            "text/plain": [
              "            Name  Class  Grade Ranking\n",
              "School_1  Mayank  Maths     80    None\n",
              "School_2  Shanki   Chem     85    None\n",
              "School_3  Pranav    Phy     95    None"
            ]
          },
          "metadata": {
            "tags": []
          },
          "execution_count": 49
        }
      ]
    },
    {
      "cell_type": "code",
      "metadata": {
        "id": "4gsdke5IvbSD",
        "outputId": "a96c670b-56cf-45cd-ac4d-c717e8db6a04",
        "colab": {
          "base_uri": "https://localhost:8080/"
        }
      },
      "source": [
        "!cat /Admission_Predict.csv"
      ],
      "execution_count": 3,
      "outputs": [
        {
          "output_type": "stream",
          "text": [
            "Serial No.,GRE Score,TOEFL Score,University Rating,SOP,LOR ,CGPA,Research,Chance of Admit \r\n",
            "1,337,118,4,4.5,4.5,9.65,1,0.92\r\n",
            "2,324,107,4,4,4.5,8.87,1,0.76\r\n",
            "3,316,104,3,3,3.5,8,1,0.72\r\n",
            "4,322,110,3,3.5,2.5,8.67,1,0.8\r\n",
            "5,314,103,2,2,3,8.21,0,0.65\r\n",
            "6,330,115,5,4.5,3,9.34,1,0.9\r\n",
            "7,321,109,3,3,4,8.2,1,0.75\r\n",
            "8,308,101,2,3,4,7.9,0,0.68\r\n",
            "9,302,102,1,2,1.5,8,0,0.5\r\n",
            "10,323,108,3,3.5,3,8.6,0,0.45\r\n",
            "11,325,106,3,3.5,4,8.4,1,0.52\r\n",
            "12,327,111,4,4,4.5,9,1,0.84\r\n",
            "13,328,112,4,4,4.5,9.1,1,0.78\r\n",
            "14,307,109,3,4,3,8,1,0.62\r\n",
            "15,311,104,3,3.5,2,8.2,1,0.61\r\n",
            "16,314,105,3,3.5,2.5,8.3,0,0.54\r\n",
            "17,317,107,3,4,3,8.7,0,0.66\r\n",
            "18,319,106,3,4,3,8,1,0.65\r\n",
            "19,318,110,3,4,3,8.8,0,0.63\r\n",
            "20,303,102,3,3.5,3,8.5,0,0.62\r\n",
            "21,312,107,3,3,2,7.9,1,0.64\r\n",
            "22,325,114,4,3,2,8.4,0,0.7\r\n",
            "23,328,116,5,5,5,9.5,1,0.94\r\n",
            "24,334,119,5,5,4.5,9.7,1,0.95\r\n",
            "25,336,119,5,4,3.5,9.8,1,0.97\r\n",
            "26,340,120,5,4.5,4.5,9.6,1,0.94\r\n",
            "27,322,109,5,4.5,3.5,8.8,0,0.76\r\n",
            "28,298,98,2,1.5,2.5,7.5,1,0.44\r\n",
            "29,295,93,1,2,2,7.2,0,0.46\r\n",
            "30,310,99,2,1.5,2,7.3,0,0.54\r\n",
            "31,300,97,2,3,3,8.1,1,0.65\r\n",
            "32,327,103,3,4,4,8.3,1,0.74\r\n",
            "33,338,118,4,3,4.5,9.4,1,0.91\r\n",
            "34,340,114,5,4,4,9.6,1,0.9\r\n",
            "35,331,112,5,4,5,9.8,1,0.94\r\n",
            "36,320,110,5,5,5,9.2,1,0.88\r\n",
            "37,299,106,2,4,4,8.4,0,0.64\r\n",
            "38,300,105,1,1,2,7.8,0,0.58\r\n",
            "39,304,105,1,3,1.5,7.5,0,0.52\r\n",
            "40,307,108,2,4,3.5,7.7,0,0.48\r\n",
            "41,308,110,3,3.5,3,8,1,0.46\r\n",
            "42,316,105,2,2.5,2.5,8.2,1,0.49\r\n",
            "43,313,107,2,2.5,2,8.5,1,0.53\r\n",
            "44,332,117,4,4.5,4,9.1,0,0.87\r\n",
            "45,326,113,5,4.5,4,9.4,1,0.91\r\n",
            "46,322,110,5,5,4,9.1,1,0.88\r\n",
            "47,329,114,5,4,5,9.3,1,0.86\r\n",
            "48,339,119,5,4.5,4,9.7,0,0.89\r\n",
            "49,321,110,3,3.5,5,8.85,1,0.82\r\n",
            "50,327,111,4,3,4,8.4,1,0.78\r\n",
            "51,313,98,3,2.5,4.5,8.3,1,0.76\r\n",
            "52,312,100,2,1.5,3.5,7.9,1,0.56\r\n",
            "53,334,116,4,4,3,8,1,0.78\r\n",
            "54,324,112,4,4,2.5,8.1,1,0.72\r\n",
            "55,322,110,3,3,3.5,8,0,0.7\r\n",
            "56,320,103,3,3,3,7.7,0,0.64\r\n",
            "57,316,102,3,2,3,7.4,0,0.64\r\n",
            "58,298,99,2,4,2,7.6,0,0.46\r\n",
            "59,300,99,1,3,2,6.8,1,0.36\r\n",
            "60,311,104,2,2,2,8.3,0,0.42\r\n",
            "61,309,100,2,3,3,8.1,0,0.48\r\n",
            "62,307,101,3,4,3,8.2,0,0.47\r\n",
            "63,304,105,2,3,3,8.2,1,0.54\r\n",
            "64,315,107,2,4,3,8.5,1,0.56\r\n",
            "65,325,111,3,3,3.5,8.7,0,0.52\r\n",
            "66,325,112,4,3.5,3.5,8.92,0,0.55\r\n",
            "67,327,114,3,3,3,9.02,0,0.61\r\n",
            "68,316,107,2,3.5,3.5,8.64,1,0.57\r\n",
            "69,318,109,3,3.5,4,9.22,1,0.68\r\n",
            "70,328,115,4,4.5,4,9.16,1,0.78\r\n",
            "71,332,118,5,5,5,9.64,1,0.94\r\n",
            "72,336,112,5,5,5,9.76,1,0.96\r\n",
            "73,321,111,5,5,5,9.45,1,0.93\r\n",
            "74,314,108,4,4.5,4,9.04,1,0.84\r\n",
            "75,314,106,3,3,5,8.9,0,0.74\r\n",
            "76,329,114,2,2,4,8.56,1,0.72\r\n",
            "77,327,112,3,3,3,8.72,1,0.74\r\n",
            "78,301,99,2,3,2,8.22,0,0.64\r\n",
            "79,296,95,2,3,2,7.54,1,0.44\r\n",
            "80,294,93,1,1.5,2,7.36,0,0.46\r\n",
            "81,312,105,3,2,3,8.02,1,0.5\r\n",
            "82,340,120,4,5,5,9.5,1,0.96\r\n",
            "83,320,110,5,5,4.5,9.22,1,0.92\r\n",
            "84,322,115,5,4,4.5,9.36,1,0.92\r\n",
            "85,340,115,5,4.5,4.5,9.45,1,0.94\r\n",
            "86,319,103,4,4.5,3.5,8.66,0,0.76\r\n",
            "87,315,106,3,4.5,3.5,8.42,0,0.72\r\n",
            "88,317,107,2,3.5,3,8.28,0,0.66\r\n",
            "89,314,108,3,4.5,3.5,8.14,0,0.64\r\n",
            "90,316,109,4,4.5,3.5,8.76,1,0.74\r\n",
            "91,318,106,2,4,4,7.92,1,0.64\r\n",
            "92,299,97,3,5,3.5,7.66,0,0.38\r\n",
            "93,298,98,2,4,3,8.03,0,0.34\r\n",
            "94,301,97,2,3,3,7.88,1,0.44\r\n",
            "95,303,99,3,2,2.5,7.66,0,0.36\r\n",
            "96,304,100,4,1.5,2.5,7.84,0,0.42\r\n",
            "97,306,100,2,3,3,8,0,0.48\r\n",
            "98,331,120,3,4,4,8.96,1,0.86\r\n",
            "99,332,119,4,5,4.5,9.24,1,0.9\r\n",
            "100,323,113,3,4,4,8.88,1,0.79\r\n",
            "101,322,107,3,3.5,3.5,8.46,1,0.71\r\n",
            "102,312,105,2,2.5,3,8.12,0,0.64\r\n",
            "103,314,106,2,4,3.5,8.25,0,0.62\r\n",
            "104,317,104,2,4.5,4,8.47,0,0.57\r\n",
            "105,326,112,3,3.5,3,9.05,1,0.74\r\n",
            "106,316,110,3,4,4.5,8.78,1,0.69\r\n",
            "107,329,111,4,4.5,4.5,9.18,1,0.87\r\n",
            "108,338,117,4,3.5,4.5,9.46,1,0.91\r\n",
            "109,331,116,5,5,5,9.38,1,0.93\r\n",
            "110,304,103,5,5,4,8.64,0,0.68\r\n",
            "111,305,108,5,3,3,8.48,0,0.61\r\n",
            "112,321,109,4,4,4,8.68,1,0.69\r\n",
            "113,301,107,3,3.5,3.5,8.34,1,0.62\r\n",
            "114,320,110,2,4,3.5,8.56,0,0.72\r\n",
            "115,311,105,3,3.5,3,8.45,1,0.59\r\n",
            "116,310,106,4,4.5,4.5,9.04,1,0.66\r\n",
            "117,299,102,3,4,3.5,8.62,0,0.56\r\n",
            "118,290,104,4,2,2.5,7.46,0,0.45\r\n",
            "119,296,99,2,3,3.5,7.28,0,0.47\r\n",
            "120,327,104,5,3,3.5,8.84,1,0.71\r\n",
            "121,335,117,5,5,5,9.56,1,0.94\r\n",
            "122,334,119,5,4.5,4.5,9.48,1,0.94\r\n",
            "123,310,106,4,1.5,2.5,8.36,0,0.57\r\n",
            "124,308,108,3,3.5,3.5,8.22,0,0.61\r\n",
            "125,301,106,4,2.5,3,8.47,0,0.57\r\n",
            "126,300,100,3,2,3,8.66,1,0.64\r\n",
            "127,323,113,3,4,3,9.32,1,0.85\r\n",
            "128,319,112,3,2.5,2,8.71,1,0.78\r\n",
            "129,326,112,3,3.5,3,9.1,1,0.84\r\n",
            "130,333,118,5,5,5,9.35,1,0.92\r\n",
            "131,339,114,5,4,4.5,9.76,1,0.96\r\n",
            "132,303,105,5,5,4.5,8.65,0,0.77\r\n",
            "133,309,105,5,3.5,3.5,8.56,0,0.71\r\n",
            "134,323,112,5,4,4.5,8.78,0,0.79\r\n",
            "135,333,113,5,4,4,9.28,1,0.89\r\n",
            "136,314,109,4,3.5,4,8.77,1,0.82\r\n",
            "137,312,103,3,5,4,8.45,0,0.76\r\n",
            "138,316,100,2,1.5,3,8.16,1,0.71\r\n",
            "139,326,116,2,4.5,3,9.08,1,0.8\r\n",
            "140,318,109,1,3.5,3.5,9.12,0,0.78\r\n",
            "141,329,110,2,4,3,9.15,1,0.84\r\n",
            "142,332,118,2,4.5,3.5,9.36,1,0.9\r\n",
            "143,331,115,5,4,3.5,9.44,1,0.92\r\n",
            "144,340,120,4,4.5,4,9.92,1,0.97\r\n",
            "145,325,112,2,3,3.5,8.96,1,0.8\r\n",
            "146,320,113,2,2,2.5,8.64,1,0.81\r\n",
            "147,315,105,3,2,2.5,8.48,0,0.75\r\n",
            "148,326,114,3,3,3,9.11,1,0.83\r\n",
            "149,339,116,4,4,3.5,9.8,1,0.96\r\n",
            "150,311,106,2,3.5,3,8.26,1,0.79\r\n",
            "151,334,114,4,4,4,9.43,1,0.93\r\n",
            "152,332,116,5,5,5,9.28,1,0.94\r\n",
            "153,321,112,5,5,5,9.06,1,0.86\r\n",
            "154,324,105,3,3,4,8.75,0,0.79\r\n",
            "155,326,108,3,3,3.5,8.89,0,0.8\r\n",
            "156,312,109,3,3,3,8.69,0,0.77\r\n",
            "157,315,105,3,2,2.5,8.34,0,0.7\r\n",
            "158,309,104,2,2,2.5,8.26,0,0.65\r\n",
            "159,306,106,2,2,2.5,8.14,0,0.61\r\n",
            "160,297,100,1,1.5,2,7.9,0,0.52\r\n",
            "161,315,103,1,1.5,2,7.86,0,0.57\r\n",
            "162,298,99,1,1.5,3,7.46,0,0.53\r\n",
            "163,318,109,3,3,3,8.5,0,0.67\r\n",
            "164,317,105,3,3.5,3,8.56,0,0.68\r\n",
            "165,329,111,4,4.5,4,9.01,1,0.81\r\n",
            "166,322,110,5,4.5,4,8.97,0,0.78\r\n",
            "167,302,102,3,3.5,5,8.33,0,0.65\r\n",
            "168,313,102,3,2,3,8.27,0,0.64\r\n",
            "169,293,97,2,2,4,7.8,1,0.64\r\n",
            "170,311,99,2,2.5,3,7.98,0,0.65\r\n",
            "171,312,101,2,2.5,3.5,8.04,1,0.68\r\n",
            "172,334,117,5,4,4.5,9.07,1,0.89\r\n",
            "173,322,110,4,4,5,9.13,1,0.86\r\n",
            "174,323,113,4,4,4.5,9.23,1,0.89\r\n",
            "175,321,111,4,4,4,8.97,1,0.87\r\n",
            "176,320,111,4,4.5,3.5,8.87,1,0.85\r\n",
            "177,329,119,4,4.5,4.5,9.16,1,0.9\r\n",
            "178,319,110,3,3.5,3.5,9.04,0,0.82\r\n",
            "179,309,108,3,2.5,3,8.12,0,0.72\r\n",
            "180,307,102,3,3,3,8.27,0,0.73\r\n",
            "181,300,104,3,3.5,3,8.16,0,0.71\r\n",
            "182,305,107,2,2.5,2.5,8.42,0,0.71\r\n",
            "183,299,100,2,3,3.5,7.88,0,0.68\r\n",
            "184,314,110,3,4,4,8.8,0,0.75\r\n",
            "185,316,106,2,2.5,4,8.32,0,0.72\r\n",
            "186,327,113,4,4.5,4.5,9.11,1,0.89\r\n",
            "187,317,107,3,3.5,3,8.68,1,0.84\r\n",
            "188,335,118,5,4.5,3.5,9.44,1,0.93\r\n",
            "189,331,115,5,4.5,3.5,9.36,1,0.93\r\n",
            "190,324,112,5,5,5,9.08,1,0.88\r\n",
            "191,324,111,5,4.5,4,9.16,1,0.9\r\n",
            "192,323,110,5,4,5,8.98,1,0.87\r\n",
            "193,322,114,5,4.5,4,8.94,1,0.86\r\n",
            "194,336,118,5,4.5,5,9.53,1,0.94\r\n",
            "195,316,109,3,3.5,3,8.76,0,0.77\r\n",
            "196,307,107,2,3,3.5,8.52,1,0.78\r\n",
            "197,306,105,2,3,2.5,8.26,0,0.73\r\n",
            "198,310,106,2,3.5,2.5,8.33,0,0.73\r\n",
            "199,311,104,3,4.5,4.5,8.43,0,0.7\r\n",
            "200,313,107,3,4,4.5,8.69,0,0.72\r\n",
            "201,317,103,3,2.5,3,8.54,1,0.73\r\n",
            "202,315,110,2,3.5,3,8.46,1,0.72\r\n",
            "203,340,120,5,4.5,4.5,9.91,1,0.97\r\n",
            "204,334,120,5,4,5,9.87,1,0.97\r\n",
            "205,298,105,3,3.5,4,8.54,0,0.69\r\n",
            "206,295,99,2,2.5,3,7.65,0,0.57\r\n",
            "207,315,99,2,3.5,3,7.89,0,0.63\r\n",
            "208,310,102,3,3.5,4,8.02,1,0.66\r\n",
            "209,305,106,2,3,3,8.16,0,0.64\r\n",
            "210,301,104,3,3.5,4,8.12,1,0.68\r\n",
            "211,325,108,4,4.5,4,9.06,1,0.79\r\n",
            "212,328,110,4,5,4,9.14,1,0.82\r\n",
            "213,338,120,4,5,5,9.66,1,0.95\r\n",
            "214,333,119,5,5,4.5,9.78,1,0.96\r\n",
            "215,331,117,4,4.5,5,9.42,1,0.94\r\n",
            "216,330,116,5,5,4.5,9.36,1,0.93\r\n",
            "217,322,112,4,4.5,4.5,9.26,1,0.91\r\n",
            "218,321,109,4,4,4,9.13,1,0.85\r\n",
            "219,324,110,4,3,3.5,8.97,1,0.84\r\n",
            "220,312,104,3,3.5,3.5,8.42,0,0.74\r\n",
            "221,313,103,3,4,4,8.75,0,0.76\r\n",
            "222,316,110,3,3.5,4,8.56,0,0.75\r\n",
            "223,324,113,4,4.5,4,8.79,0,0.76\r\n",
            "224,308,109,2,3,4,8.45,0,0.71\r\n",
            "225,305,105,2,3,2,8.23,0,0.67\r\n",
            "226,296,99,2,2.5,2.5,8.03,0,0.61\r\n",
            "227,306,110,2,3.5,4,8.45,0,0.63\r\n",
            "228,312,110,2,3.5,3,8.53,0,0.64\r\n",
            "229,318,112,3,4,3.5,8.67,0,0.71\r\n",
            "230,324,111,4,3,3,9.01,1,0.82\r\n",
            "231,313,104,3,4,4.5,8.65,0,0.73\r\n",
            "232,319,106,3,3.5,2.5,8.33,1,0.74\r\n",
            "233,312,107,2,2.5,3.5,8.27,0,0.69\r\n",
            "234,304,100,2,2.5,3.5,8.07,0,0.64\r\n",
            "235,330,113,5,5,4,9.31,1,0.91\r\n",
            "236,326,111,5,4.5,4,9.23,1,0.88\r\n",
            "237,325,112,4,4,4.5,9.17,1,0.85\r\n",
            "238,329,114,5,4.5,5,9.19,1,0.86\r\n",
            "239,310,104,3,2,3.5,8.37,0,0.7\r\n",
            "240,299,100,1,1.5,2,7.89,0,0.59\r\n",
            "241,296,101,1,2.5,3,7.68,0,0.6\r\n",
            "242,317,103,2,2.5,2,8.15,0,0.65\r\n",
            "243,324,115,3,3.5,3,8.76,1,0.7\r\n",
            "244,325,114,3,3.5,3,9.04,1,0.76\r\n",
            "245,314,107,2,2.5,4,8.56,0,0.63\r\n",
            "246,328,110,4,4,2.5,9.02,1,0.81\r\n",
            "247,316,105,3,3,3.5,8.73,0,0.72\r\n",
            "248,311,104,2,2.5,3.5,8.48,0,0.71\r\n",
            "249,324,110,3,3.5,4,8.87,1,0.8\r\n",
            "250,321,111,3,3.5,4,8.83,1,0.77\r\n",
            "251,320,104,3,3,2.5,8.57,1,0.74\r\n",
            "252,316,99,2,2.5,3,9,0,0.7\r\n",
            "253,318,100,2,2.5,3.5,8.54,1,0.71\r\n",
            "254,335,115,4,4.5,4.5,9.68,1,0.93\r\n",
            "255,321,114,4,4,5,9.12,0,0.85\r\n",
            "256,307,110,4,4,4.5,8.37,0,0.79\r\n",
            "257,309,99,3,4,4,8.56,0,0.76\r\n",
            "258,324,100,3,4,5,8.64,1,0.78\r\n",
            "259,326,102,4,5,5,8.76,1,0.77\r\n",
            "260,331,119,4,5,4.5,9.34,1,0.9\r\n",
            "261,327,108,5,5,3.5,9.13,1,0.87\r\n",
            "262,312,104,3,3.5,4,8.09,0,0.71\r\n",
            "263,308,103,2,2.5,4,8.36,1,0.7\r\n",
            "264,324,111,3,2.5,1.5,8.79,1,0.7\r\n",
            "265,325,110,2,3,2.5,8.76,1,0.75\r\n",
            "266,313,102,3,2.5,2.5,8.68,0,0.71\r\n",
            "267,312,105,2,2,2.5,8.45,0,0.72\r\n",
            "268,314,107,3,3,3.5,8.17,1,0.73\r\n",
            "269,327,113,4,4.5,5,9.14,0,0.83\r\n",
            "270,308,108,4,4.5,5,8.34,0,0.77\r\n",
            "271,306,105,2,2.5,3,8.22,1,0.72\r\n",
            "272,299,96,2,1.5,2,7.86,0,0.54\r\n",
            "273,294,95,1,1.5,1.5,7.64,0,0.49\r\n",
            "274,312,99,1,1,1.5,8.01,1,0.52\r\n",
            "275,315,100,1,2,2.5,7.95,0,0.58\r\n",
            "276,322,110,3,3.5,3,8.96,1,0.78\r\n",
            "277,329,113,5,5,4.5,9.45,1,0.89\r\n",
            "278,320,101,2,2.5,3,8.62,0,0.7\r\n",
            "279,308,103,2,3,3.5,8.49,0,0.66\r\n",
            "280,304,102,2,3,4,8.73,0,0.67\r\n",
            "281,311,102,3,4.5,4,8.64,1,0.68\r\n",
            "282,317,110,3,4,4.5,9.11,1,0.8\r\n",
            "283,312,106,3,4,3.5,8.79,1,0.81\r\n",
            "284,321,111,3,2.5,3,8.9,1,0.8\r\n",
            "285,340,112,4,5,4.5,9.66,1,0.94\r\n",
            "286,331,116,5,4,4,9.26,1,0.93\r\n",
            "287,336,118,5,4.5,4,9.19,1,0.92\r\n",
            "288,324,114,5,5,4.5,9.08,1,0.89\r\n",
            "289,314,104,4,5,5,9.02,0,0.82\r\n",
            "290,313,109,3,4,3.5,9,0,0.79\r\n",
            "291,307,105,2,2.5,3,7.65,0,0.58\r\n",
            "292,300,102,2,1.5,2,7.87,0,0.56\r\n",
            "293,302,99,2,1,2,7.97,0,0.56\r\n",
            "294,312,98,1,3.5,3,8.18,1,0.64\r\n",
            "295,316,101,2,2.5,2,8.32,1,0.61\r\n",
            "296,317,100,2,3,2.5,8.57,0,0.68\r\n",
            "297,310,107,3,3.5,3.5,8.67,0,0.76\r\n",
            "298,320,120,3,4,4.5,9.11,0,0.86\r\n",
            "299,330,114,3,4.5,4.5,9.24,1,0.9\r\n",
            "300,305,112,3,3,3.5,8.65,0,0.71\r\n",
            "301,309,106,2,2.5,2.5,8,0,0.62\r\n",
            "302,319,108,2,2.5,3,8.76,0,0.66\r\n",
            "303,322,105,2,3,3,8.45,1,0.65\r\n",
            "304,323,107,3,3.5,3.5,8.55,1,0.73\r\n",
            "305,313,106,2,2.5,2,8.43,0,0.62\r\n",
            "306,321,109,3,3.5,3.5,8.8,1,0.74\r\n",
            "307,323,110,3,4,3.5,9.1,1,0.79\r\n",
            "308,325,112,4,4,4,9,1,0.8\r\n",
            "309,312,108,3,3.5,3,8.53,0,0.69\r\n",
            "310,308,110,4,3.5,3,8.6,0,0.7\r\n",
            "311,320,104,3,3,3.5,8.74,1,0.76\r\n",
            "312,328,108,4,4.5,4,9.18,1,0.84\r\n",
            "313,311,107,4,4.5,4.5,9,1,0.78\r\n",
            "314,301,100,3,3.5,3,8.04,0,0.67\r\n",
            "315,305,105,2,3,4,8.13,0,0.66\r\n",
            "316,308,104,2,2.5,3,8.07,0,0.65\r\n",
            "317,298,101,2,1.5,2,7.86,0,0.54\r\n",
            "318,300,99,1,1,2.5,8.01,0,0.58\r\n",
            "319,324,111,3,2.5,2,8.8,1,0.79\r\n",
            "320,327,113,4,3.5,3,8.69,1,0.8\r\n",
            "321,317,106,3,4,3.5,8.5,1,0.75\r\n",
            "322,323,104,3,4,4,8.44,1,0.73\r\n",
            "323,314,107,2,2.5,4,8.27,0,0.72\r\n",
            "324,305,102,2,2,2.5,8.18,0,0.62\r\n",
            "325,315,104,3,3,2.5,8.33,0,0.67\r\n",
            "326,326,116,3,3.5,4,9.14,1,0.81\r\n",
            "327,299,100,3,2,2,8.02,0,0.63\r\n",
            "328,295,101,2,2.5,2,7.86,0,0.69\r\n",
            "329,324,112,4,4,3.5,8.77,1,0.8\r\n",
            "330,297,96,2,2.5,1.5,7.89,0,0.43\r\n",
            "331,327,113,3,3.5,3,8.66,1,0.8\r\n",
            "332,311,105,2,3,2,8.12,1,0.73\r\n",
            "333,308,106,3,3.5,2.5,8.21,1,0.75\r\n",
            "334,319,108,3,3,3.5,8.54,1,0.71\r\n",
            "335,312,107,4,4.5,4,8.65,1,0.73\r\n",
            "336,325,111,4,4,4.5,9.11,1,0.83\r\n",
            "337,319,110,3,3,2.5,8.79,0,0.72\r\n",
            "338,332,118,5,5,5,9.47,1,0.94\r\n",
            "339,323,108,5,4,4,8.74,1,0.81\r\n",
            "340,324,107,5,3.5,4,8.66,1,0.81\r\n",
            "341,312,107,3,3,3,8.46,1,0.75\r\n",
            "342,326,110,3,3.5,3.5,8.76,1,0.79\r\n",
            "343,308,106,3,3,3,8.24,0,0.58\r\n",
            "344,305,103,2,2.5,3.5,8.13,0,0.59\r\n",
            "345,295,96,2,1.5,2,7.34,0,0.47\r\n",
            "346,316,98,1,1.5,2,7.43,0,0.49\r\n",
            "347,304,97,2,1.5,2,7.64,0,0.47\r\n",
            "348,299,94,1,1,1,7.34,0,0.42\r\n",
            "349,302,99,1,2,2,7.25,0,0.57\r\n",
            "350,313,101,3,2.5,3,8.04,0,0.62\r\n",
            "351,318,107,3,3,3.5,8.27,1,0.74\r\n",
            "352,325,110,4,3.5,4,8.67,1,0.73\r\n",
            "353,303,100,2,3,3.5,8.06,1,0.64\r\n",
            "354,300,102,3,3.5,2.5,8.17,0,0.63\r\n",
            "355,297,98,2,2.5,3,7.67,0,0.59\r\n",
            "356,317,106,2,2,3.5,8.12,0,0.73\r\n",
            "357,327,109,3,3.5,4,8.77,1,0.79\r\n",
            "358,301,104,2,3.5,3.5,7.89,1,0.68\r\n",
            "359,314,105,2,2.5,2,7.64,0,0.7\r\n",
            "360,321,107,2,2,1.5,8.44,0,0.81\r\n",
            "361,322,110,3,4,5,8.64,1,0.85\r\n",
            "362,334,116,4,4,3.5,9.54,1,0.93\r\n",
            "363,338,115,5,4.5,5,9.23,1,0.91\r\n",
            "364,306,103,2,2.5,3,8.36,0,0.69\r\n",
            "365,313,102,3,3.5,4,8.9,1,0.77\r\n",
            "366,330,114,4,4.5,3,9.17,1,0.86\r\n",
            "367,320,104,3,3.5,4.5,8.34,1,0.74\r\n",
            "368,311,98,1,1,2.5,7.46,0,0.57\r\n",
            "369,298,92,1,2,2,7.88,0,0.51\r\n",
            "370,301,98,1,2,3,8.03,1,0.67\r\n",
            "371,310,103,2,2.5,2.5,8.24,0,0.72\r\n",
            "372,324,110,3,3.5,3,9.22,1,0.89\r\n",
            "373,336,119,4,4.5,4,9.62,1,0.95\r\n",
            "374,321,109,3,3,3,8.54,1,0.79\r\n",
            "375,315,105,2,2,2.5,7.65,0,0.39\r\n",
            "376,304,101,2,2,2.5,7.66,0,0.38\r\n",
            "377,297,96,2,2.5,2,7.43,0,0.34\r\n",
            "378,290,100,1,1.5,2,7.56,0,0.47\r\n",
            "379,303,98,1,2,2.5,7.65,0,0.56\r\n",
            "380,311,99,1,2.5,3,8.43,1,0.71\r\n",
            "381,322,104,3,3.5,4,8.84,1,0.78\r\n",
            "382,319,105,3,3,3.5,8.67,1,0.73\r\n",
            "383,324,110,4,4.5,4,9.15,1,0.82\r\n",
            "384,300,100,3,3,3.5,8.26,0,0.62\r\n",
            "385,340,113,4,5,5,9.74,1,0.96\r\n",
            "386,335,117,5,5,5,9.82,1,0.96\r\n",
            "387,302,101,2,2.5,3.5,7.96,0,0.46\r\n",
            "388,307,105,2,2,3.5,8.1,0,0.53\r\n",
            "389,296,97,2,1.5,2,7.8,0,0.49\r\n",
            "390,320,108,3,3.5,4,8.44,1,0.76\r\n",
            "391,314,102,2,2,2.5,8.24,0,0.64\r\n",
            "392,318,106,3,2,3,8.65,0,0.71\r\n",
            "393,326,112,4,4,3.5,9.12,1,0.84\r\n",
            "394,317,104,2,3,3,8.76,0,0.77\r\n",
            "395,329,111,4,4.5,4,9.23,1,0.89\r\n",
            "396,324,110,3,3.5,3.5,9.04,1,0.82\r\n",
            "397,325,107,3,3,3.5,9.11,1,0.84\r\n",
            "398,330,116,4,5,4.5,9.45,1,0.91\r\n",
            "399,312,103,3,3.5,4,8.78,0,0.67\r\n",
            "400,333,117,4,5,4,9.66,1,0.95"
          ],
          "name": "stdout"
        }
      ]
    },
    {
      "cell_type": "code",
      "metadata": {
        "id": "bAKv6woiyqVc",
        "outputId": "75cef705-22e1-4e88-90c0-dcadd0f750af",
        "colab": {
          "base_uri": "https://localhost:8080/",
          "height": 198
        }
      },
      "source": [
        "import pandas as pd\n",
        "df = pd.read_csv('/Admission_Predict.csv')\n",
        "df.head()"
      ],
      "execution_count": 4,
      "outputs": [
        {
          "output_type": "execute_result",
          "data": {
            "text/html": [
              "<div>\n",
              "<style scoped>\n",
              "    .dataframe tbody tr th:only-of-type {\n",
              "        vertical-align: middle;\n",
              "    }\n",
              "\n",
              "    .dataframe tbody tr th {\n",
              "        vertical-align: top;\n",
              "    }\n",
              "\n",
              "    .dataframe thead th {\n",
              "        text-align: right;\n",
              "    }\n",
              "</style>\n",
              "<table border=\"1\" class=\"dataframe\">\n",
              "  <thead>\n",
              "    <tr style=\"text-align: right;\">\n",
              "      <th></th>\n",
              "      <th>Serial No.</th>\n",
              "      <th>GRE Score</th>\n",
              "      <th>TOEFL Score</th>\n",
              "      <th>University Rating</th>\n",
              "      <th>SOP</th>\n",
              "      <th>LOR</th>\n",
              "      <th>CGPA</th>\n",
              "      <th>Research</th>\n",
              "      <th>Chance of Admit</th>\n",
              "    </tr>\n",
              "  </thead>\n",
              "  <tbody>\n",
              "    <tr>\n",
              "      <th>0</th>\n",
              "      <td>1</td>\n",
              "      <td>337</td>\n",
              "      <td>118</td>\n",
              "      <td>4</td>\n",
              "      <td>4.5</td>\n",
              "      <td>4.5</td>\n",
              "      <td>9.65</td>\n",
              "      <td>1</td>\n",
              "      <td>0.92</td>\n",
              "    </tr>\n",
              "    <tr>\n",
              "      <th>1</th>\n",
              "      <td>2</td>\n",
              "      <td>324</td>\n",
              "      <td>107</td>\n",
              "      <td>4</td>\n",
              "      <td>4.0</td>\n",
              "      <td>4.5</td>\n",
              "      <td>8.87</td>\n",
              "      <td>1</td>\n",
              "      <td>0.76</td>\n",
              "    </tr>\n",
              "    <tr>\n",
              "      <th>2</th>\n",
              "      <td>3</td>\n",
              "      <td>316</td>\n",
              "      <td>104</td>\n",
              "      <td>3</td>\n",
              "      <td>3.0</td>\n",
              "      <td>3.5</td>\n",
              "      <td>8.00</td>\n",
              "      <td>1</td>\n",
              "      <td>0.72</td>\n",
              "    </tr>\n",
              "    <tr>\n",
              "      <th>3</th>\n",
              "      <td>4</td>\n",
              "      <td>322</td>\n",
              "      <td>110</td>\n",
              "      <td>3</td>\n",
              "      <td>3.5</td>\n",
              "      <td>2.5</td>\n",
              "      <td>8.67</td>\n",
              "      <td>1</td>\n",
              "      <td>0.80</td>\n",
              "    </tr>\n",
              "    <tr>\n",
              "      <th>4</th>\n",
              "      <td>5</td>\n",
              "      <td>314</td>\n",
              "      <td>103</td>\n",
              "      <td>2</td>\n",
              "      <td>2.0</td>\n",
              "      <td>3.0</td>\n",
              "      <td>8.21</td>\n",
              "      <td>0</td>\n",
              "      <td>0.65</td>\n",
              "    </tr>\n",
              "  </tbody>\n",
              "</table>\n",
              "</div>"
            ],
            "text/plain": [
              "   Serial No.  GRE Score  TOEFL Score  ...  CGPA  Research  Chance of Admit \n",
              "0           1        337          118  ...  9.65         1              0.92\n",
              "1           2        324          107  ...  8.87         1              0.76\n",
              "2           3        316          104  ...  8.00         1              0.72\n",
              "3           4        322          110  ...  8.67         1              0.80\n",
              "4           5        314          103  ...  8.21         0              0.65\n",
              "\n",
              "[5 rows x 9 columns]"
            ]
          },
          "metadata": {
            "tags": []
          },
          "execution_count": 4
        }
      ]
    },
    {
      "cell_type": "code",
      "metadata": {
        "id": "_j3PTXrny1NU",
        "outputId": "23e05ab9-33cf-4581-be17-27bc634e42fb",
        "colab": {
          "base_uri": "https://localhost:8080/",
          "height": 228
        }
      },
      "source": [
        "import pandas as pd\n",
        "df = pd.read_csv('/Admission_Predict.csv',index_col=0)\n",
        "df.head()"
      ],
      "execution_count": 5,
      "outputs": [
        {
          "output_type": "execute_result",
          "data": {
            "text/html": [
              "<div>\n",
              "<style scoped>\n",
              "    .dataframe tbody tr th:only-of-type {\n",
              "        vertical-align: middle;\n",
              "    }\n",
              "\n",
              "    .dataframe tbody tr th {\n",
              "        vertical-align: top;\n",
              "    }\n",
              "\n",
              "    .dataframe thead th {\n",
              "        text-align: right;\n",
              "    }\n",
              "</style>\n",
              "<table border=\"1\" class=\"dataframe\">\n",
              "  <thead>\n",
              "    <tr style=\"text-align: right;\">\n",
              "      <th></th>\n",
              "      <th>GRE Score</th>\n",
              "      <th>TOEFL Score</th>\n",
              "      <th>University Rating</th>\n",
              "      <th>SOP</th>\n",
              "      <th>LOR</th>\n",
              "      <th>CGPA</th>\n",
              "      <th>Research</th>\n",
              "      <th>Chance of Admit</th>\n",
              "    </tr>\n",
              "    <tr>\n",
              "      <th>Serial No.</th>\n",
              "      <th></th>\n",
              "      <th></th>\n",
              "      <th></th>\n",
              "      <th></th>\n",
              "      <th></th>\n",
              "      <th></th>\n",
              "      <th></th>\n",
              "      <th></th>\n",
              "    </tr>\n",
              "  </thead>\n",
              "  <tbody>\n",
              "    <tr>\n",
              "      <th>1</th>\n",
              "      <td>337</td>\n",
              "      <td>118</td>\n",
              "      <td>4</td>\n",
              "      <td>4.5</td>\n",
              "      <td>4.5</td>\n",
              "      <td>9.65</td>\n",
              "      <td>1</td>\n",
              "      <td>0.92</td>\n",
              "    </tr>\n",
              "    <tr>\n",
              "      <th>2</th>\n",
              "      <td>324</td>\n",
              "      <td>107</td>\n",
              "      <td>4</td>\n",
              "      <td>4.0</td>\n",
              "      <td>4.5</td>\n",
              "      <td>8.87</td>\n",
              "      <td>1</td>\n",
              "      <td>0.76</td>\n",
              "    </tr>\n",
              "    <tr>\n",
              "      <th>3</th>\n",
              "      <td>316</td>\n",
              "      <td>104</td>\n",
              "      <td>3</td>\n",
              "      <td>3.0</td>\n",
              "      <td>3.5</td>\n",
              "      <td>8.00</td>\n",
              "      <td>1</td>\n",
              "      <td>0.72</td>\n",
              "    </tr>\n",
              "    <tr>\n",
              "      <th>4</th>\n",
              "      <td>322</td>\n",
              "      <td>110</td>\n",
              "      <td>3</td>\n",
              "      <td>3.5</td>\n",
              "      <td>2.5</td>\n",
              "      <td>8.67</td>\n",
              "      <td>1</td>\n",
              "      <td>0.80</td>\n",
              "    </tr>\n",
              "    <tr>\n",
              "      <th>5</th>\n",
              "      <td>314</td>\n",
              "      <td>103</td>\n",
              "      <td>2</td>\n",
              "      <td>2.0</td>\n",
              "      <td>3.0</td>\n",
              "      <td>8.21</td>\n",
              "      <td>0</td>\n",
              "      <td>0.65</td>\n",
              "    </tr>\n",
              "  </tbody>\n",
              "</table>\n",
              "</div>"
            ],
            "text/plain": [
              "            GRE Score  TOEFL Score  ...  Research  Chance of Admit \n",
              "Serial No.                          ...                            \n",
              "1                 337          118  ...         1              0.92\n",
              "2                 324          107  ...         1              0.76\n",
              "3                 316          104  ...         1              0.72\n",
              "4                 322          110  ...         1              0.80\n",
              "5                 314          103  ...         0              0.65\n",
              "\n",
              "[5 rows x 8 columns]"
            ]
          },
          "metadata": {
            "tags": []
          },
          "execution_count": 5
        }
      ]
    },
    {
      "cell_type": "code",
      "metadata": {
        "id": "UsXHaYPVzE4Y",
        "outputId": "8afd9c1a-a065-46f9-f538-bb52701b1acc",
        "colab": {
          "base_uri": "https://localhost:8080/",
          "height": 228
        }
      },
      "source": [
        "import pandas as pd\n",
        "df = pd.read_csv('/Admission_Predict.csv',index_col=0)\n",
        "new_df = df.rename(columns={'SOP':'Statement of Purpose'})\n",
        "new_df.head()"
      ],
      "execution_count": 25,
      "outputs": [
        {
          "output_type": "execute_result",
          "data": {
            "text/html": [
              "<div>\n",
              "<style scoped>\n",
              "    .dataframe tbody tr th:only-of-type {\n",
              "        vertical-align: middle;\n",
              "    }\n",
              "\n",
              "    .dataframe tbody tr th {\n",
              "        vertical-align: top;\n",
              "    }\n",
              "\n",
              "    .dataframe thead th {\n",
              "        text-align: right;\n",
              "    }\n",
              "</style>\n",
              "<table border=\"1\" class=\"dataframe\">\n",
              "  <thead>\n",
              "    <tr style=\"text-align: right;\">\n",
              "      <th></th>\n",
              "      <th>GRE Score</th>\n",
              "      <th>TOEFL Score</th>\n",
              "      <th>University Rating</th>\n",
              "      <th>Statement of Purpose</th>\n",
              "      <th>LOR</th>\n",
              "      <th>CGPA</th>\n",
              "      <th>Research</th>\n",
              "      <th>Chance of Admit</th>\n",
              "    </tr>\n",
              "    <tr>\n",
              "      <th>Serial No.</th>\n",
              "      <th></th>\n",
              "      <th></th>\n",
              "      <th></th>\n",
              "      <th></th>\n",
              "      <th></th>\n",
              "      <th></th>\n",
              "      <th></th>\n",
              "      <th></th>\n",
              "    </tr>\n",
              "  </thead>\n",
              "  <tbody>\n",
              "    <tr>\n",
              "      <th>1</th>\n",
              "      <td>337</td>\n",
              "      <td>118</td>\n",
              "      <td>4</td>\n",
              "      <td>4.5</td>\n",
              "      <td>4.5</td>\n",
              "      <td>9.65</td>\n",
              "      <td>1</td>\n",
              "      <td>0.92</td>\n",
              "    </tr>\n",
              "    <tr>\n",
              "      <th>2</th>\n",
              "      <td>324</td>\n",
              "      <td>107</td>\n",
              "      <td>4</td>\n",
              "      <td>4.0</td>\n",
              "      <td>4.5</td>\n",
              "      <td>8.87</td>\n",
              "      <td>1</td>\n",
              "      <td>0.76</td>\n",
              "    </tr>\n",
              "    <tr>\n",
              "      <th>3</th>\n",
              "      <td>316</td>\n",
              "      <td>104</td>\n",
              "      <td>3</td>\n",
              "      <td>3.0</td>\n",
              "      <td>3.5</td>\n",
              "      <td>8.00</td>\n",
              "      <td>1</td>\n",
              "      <td>0.72</td>\n",
              "    </tr>\n",
              "    <tr>\n",
              "      <th>4</th>\n",
              "      <td>322</td>\n",
              "      <td>110</td>\n",
              "      <td>3</td>\n",
              "      <td>3.5</td>\n",
              "      <td>2.5</td>\n",
              "      <td>8.67</td>\n",
              "      <td>1</td>\n",
              "      <td>0.80</td>\n",
              "    </tr>\n",
              "    <tr>\n",
              "      <th>5</th>\n",
              "      <td>314</td>\n",
              "      <td>103</td>\n",
              "      <td>2</td>\n",
              "      <td>2.0</td>\n",
              "      <td>3.0</td>\n",
              "      <td>8.21</td>\n",
              "      <td>0</td>\n",
              "      <td>0.65</td>\n",
              "    </tr>\n",
              "  </tbody>\n",
              "</table>\n",
              "</div>"
            ],
            "text/plain": [
              "            GRE Score  TOEFL Score  ...  Research  Chance of Admit \n",
              "Serial No.                          ...                            \n",
              "1                 337          118  ...         1              0.92\n",
              "2                 324          107  ...         1              0.76\n",
              "3                 316          104  ...         1              0.72\n",
              "4                 322          110  ...         1              0.80\n",
              "5                 314          103  ...         0              0.65\n",
              "\n",
              "[5 rows x 8 columns]"
            ]
          },
          "metadata": {
            "tags": []
          },
          "execution_count": 25
        }
      ]
    },
    {
      "cell_type": "code",
      "metadata": {
        "id": "21y0aUHPzs3F",
        "outputId": "c80b3844-5cad-4432-b916-78f5e6329d99",
        "colab": {
          "base_uri": "https://localhost:8080/"
        }
      },
      "source": [
        "df.columns"
      ],
      "execution_count": 26,
      "outputs": [
        {
          "output_type": "execute_result",
          "data": {
            "text/plain": [
              "Index(['GRE Score', 'TOEFL Score', 'University Rating', 'SOP', 'LOR ', 'CGPA',\n",
              "       'Research', 'Chance of Admit '],\n",
              "      dtype='object')"
            ]
          },
          "metadata": {
            "tags": []
          },
          "execution_count": 26
        }
      ]
    },
    {
      "cell_type": "code",
      "metadata": {
        "id": "Q7YH5ocmz_gQ",
        "outputId": "b621490b-da67-48fb-a284-714947ea8b0e",
        "colab": {
          "base_uri": "https://localhost:8080/"
        }
      },
      "source": [
        "new_df = new_df.rename(mapper=str.strip,axis='columns')\n",
        "new_df.columns"
      ],
      "execution_count": 28,
      "outputs": [
        {
          "output_type": "execute_result",
          "data": {
            "text/plain": [
              "Index(['GRE Score', 'TOEFL Score', 'University Rating', 'Statement of Purpose',\n",
              "       'LOR', 'CGPA', 'Research', 'Chance of Admit'],\n",
              "      dtype='object')"
            ]
          },
          "metadata": {
            "tags": []
          },
          "execution_count": 28
        }
      ]
    },
    {
      "cell_type": "code",
      "metadata": {
        "id": "9ULJl0A-0TCV",
        "outputId": "23ff66fc-9bf7-4b48-acfe-c94a7176f858",
        "colab": {
          "base_uri": "https://localhost:8080/",
          "height": 228
        }
      },
      "source": [
        "new_df = new_df.rename(columns={'LOR':'Letter of Recommendation'})\n",
        "new_df.head()"
      ],
      "execution_count": 29,
      "outputs": [
        {
          "output_type": "execute_result",
          "data": {
            "text/html": [
              "<div>\n",
              "<style scoped>\n",
              "    .dataframe tbody tr th:only-of-type {\n",
              "        vertical-align: middle;\n",
              "    }\n",
              "\n",
              "    .dataframe tbody tr th {\n",
              "        vertical-align: top;\n",
              "    }\n",
              "\n",
              "    .dataframe thead th {\n",
              "        text-align: right;\n",
              "    }\n",
              "</style>\n",
              "<table border=\"1\" class=\"dataframe\">\n",
              "  <thead>\n",
              "    <tr style=\"text-align: right;\">\n",
              "      <th></th>\n",
              "      <th>GRE Score</th>\n",
              "      <th>TOEFL Score</th>\n",
              "      <th>University Rating</th>\n",
              "      <th>Statement of Purpose</th>\n",
              "      <th>Letter of Recommendation</th>\n",
              "      <th>CGPA</th>\n",
              "      <th>Research</th>\n",
              "      <th>Chance of Admit</th>\n",
              "    </tr>\n",
              "    <tr>\n",
              "      <th>Serial No.</th>\n",
              "      <th></th>\n",
              "      <th></th>\n",
              "      <th></th>\n",
              "      <th></th>\n",
              "      <th></th>\n",
              "      <th></th>\n",
              "      <th></th>\n",
              "      <th></th>\n",
              "    </tr>\n",
              "  </thead>\n",
              "  <tbody>\n",
              "    <tr>\n",
              "      <th>1</th>\n",
              "      <td>337</td>\n",
              "      <td>118</td>\n",
              "      <td>4</td>\n",
              "      <td>4.5</td>\n",
              "      <td>4.5</td>\n",
              "      <td>9.65</td>\n",
              "      <td>1</td>\n",
              "      <td>0.92</td>\n",
              "    </tr>\n",
              "    <tr>\n",
              "      <th>2</th>\n",
              "      <td>324</td>\n",
              "      <td>107</td>\n",
              "      <td>4</td>\n",
              "      <td>4.0</td>\n",
              "      <td>4.5</td>\n",
              "      <td>8.87</td>\n",
              "      <td>1</td>\n",
              "      <td>0.76</td>\n",
              "    </tr>\n",
              "    <tr>\n",
              "      <th>3</th>\n",
              "      <td>316</td>\n",
              "      <td>104</td>\n",
              "      <td>3</td>\n",
              "      <td>3.0</td>\n",
              "      <td>3.5</td>\n",
              "      <td>8.00</td>\n",
              "      <td>1</td>\n",
              "      <td>0.72</td>\n",
              "    </tr>\n",
              "    <tr>\n",
              "      <th>4</th>\n",
              "      <td>322</td>\n",
              "      <td>110</td>\n",
              "      <td>3</td>\n",
              "      <td>3.5</td>\n",
              "      <td>2.5</td>\n",
              "      <td>8.67</td>\n",
              "      <td>1</td>\n",
              "      <td>0.80</td>\n",
              "    </tr>\n",
              "    <tr>\n",
              "      <th>5</th>\n",
              "      <td>314</td>\n",
              "      <td>103</td>\n",
              "      <td>2</td>\n",
              "      <td>2.0</td>\n",
              "      <td>3.0</td>\n",
              "      <td>8.21</td>\n",
              "      <td>0</td>\n",
              "      <td>0.65</td>\n",
              "    </tr>\n",
              "  </tbody>\n",
              "</table>\n",
              "</div>"
            ],
            "text/plain": [
              "            GRE Score  TOEFL Score  ...  Research  Chance of Admit\n",
              "Serial No.                          ...                           \n",
              "1                 337          118  ...         1             0.92\n",
              "2                 324          107  ...         1             0.76\n",
              "3                 316          104  ...         1             0.72\n",
              "4                 322          110  ...         1             0.80\n",
              "5                 314          103  ...         0             0.65\n",
              "\n",
              "[5 rows x 8 columns]"
            ]
          },
          "metadata": {
            "tags": []
          },
          "execution_count": 29
        }
      ]
    },
    {
      "cell_type": "code",
      "metadata": {
        "id": "uRTWQKCw2ka7",
        "outputId": "e19d9ca2-390c-41b7-cfab-771629b2afaf",
        "colab": {
          "base_uri": "https://localhost:8080/"
        }
      },
      "source": [
        "cols = list(new_df.columns)\n",
        "cols = [i.lower() for i in cols]\n",
        "cols"
      ],
      "execution_count": 30,
      "outputs": [
        {
          "output_type": "execute_result",
          "data": {
            "text/plain": [
              "['gre score',\n",
              " 'toefl score',\n",
              " 'university rating',\n",
              " 'statement of purpose',\n",
              " 'letter of recommendation',\n",
              " 'cgpa',\n",
              " 'research',\n",
              " 'chance of admit']"
            ]
          },
          "metadata": {
            "tags": []
          },
          "execution_count": 30
        }
      ]
    },
    {
      "cell_type": "code",
      "metadata": {
        "id": "SOQP31MO27Tz",
        "outputId": "5f869c86-e391-49e5-bba5-c6835c2d2ecd",
        "colab": {
          "base_uri": "https://localhost:8080/",
          "height": 228
        }
      },
      "source": [
        "new_df.columns = cols\n",
        "new_df.head()"
      ],
      "execution_count": 31,
      "outputs": [
        {
          "output_type": "execute_result",
          "data": {
            "text/html": [
              "<div>\n",
              "<style scoped>\n",
              "    .dataframe tbody tr th:only-of-type {\n",
              "        vertical-align: middle;\n",
              "    }\n",
              "\n",
              "    .dataframe tbody tr th {\n",
              "        vertical-align: top;\n",
              "    }\n",
              "\n",
              "    .dataframe thead th {\n",
              "        text-align: right;\n",
              "    }\n",
              "</style>\n",
              "<table border=\"1\" class=\"dataframe\">\n",
              "  <thead>\n",
              "    <tr style=\"text-align: right;\">\n",
              "      <th></th>\n",
              "      <th>gre score</th>\n",
              "      <th>toefl score</th>\n",
              "      <th>university rating</th>\n",
              "      <th>statement of purpose</th>\n",
              "      <th>letter of recommendation</th>\n",
              "      <th>cgpa</th>\n",
              "      <th>research</th>\n",
              "      <th>chance of admit</th>\n",
              "    </tr>\n",
              "    <tr>\n",
              "      <th>Serial No.</th>\n",
              "      <th></th>\n",
              "      <th></th>\n",
              "      <th></th>\n",
              "      <th></th>\n",
              "      <th></th>\n",
              "      <th></th>\n",
              "      <th></th>\n",
              "      <th></th>\n",
              "    </tr>\n",
              "  </thead>\n",
              "  <tbody>\n",
              "    <tr>\n",
              "      <th>1</th>\n",
              "      <td>337</td>\n",
              "      <td>118</td>\n",
              "      <td>4</td>\n",
              "      <td>4.5</td>\n",
              "      <td>4.5</td>\n",
              "      <td>9.65</td>\n",
              "      <td>1</td>\n",
              "      <td>0.92</td>\n",
              "    </tr>\n",
              "    <tr>\n",
              "      <th>2</th>\n",
              "      <td>324</td>\n",
              "      <td>107</td>\n",
              "      <td>4</td>\n",
              "      <td>4.0</td>\n",
              "      <td>4.5</td>\n",
              "      <td>8.87</td>\n",
              "      <td>1</td>\n",
              "      <td>0.76</td>\n",
              "    </tr>\n",
              "    <tr>\n",
              "      <th>3</th>\n",
              "      <td>316</td>\n",
              "      <td>104</td>\n",
              "      <td>3</td>\n",
              "      <td>3.0</td>\n",
              "      <td>3.5</td>\n",
              "      <td>8.00</td>\n",
              "      <td>1</td>\n",
              "      <td>0.72</td>\n",
              "    </tr>\n",
              "    <tr>\n",
              "      <th>4</th>\n",
              "      <td>322</td>\n",
              "      <td>110</td>\n",
              "      <td>3</td>\n",
              "      <td>3.5</td>\n",
              "      <td>2.5</td>\n",
              "      <td>8.67</td>\n",
              "      <td>1</td>\n",
              "      <td>0.80</td>\n",
              "    </tr>\n",
              "    <tr>\n",
              "      <th>5</th>\n",
              "      <td>314</td>\n",
              "      <td>103</td>\n",
              "      <td>2</td>\n",
              "      <td>2.0</td>\n",
              "      <td>3.0</td>\n",
              "      <td>8.21</td>\n",
              "      <td>0</td>\n",
              "      <td>0.65</td>\n",
              "    </tr>\n",
              "  </tbody>\n",
              "</table>\n",
              "</div>"
            ],
            "text/plain": [
              "            gre score  toefl score  ...  research  chance of admit\n",
              "Serial No.                          ...                           \n",
              "1                 337          118  ...         1             0.92\n",
              "2                 324          107  ...         1             0.76\n",
              "3                 316          104  ...         1             0.72\n",
              "4                 322          110  ...         1             0.80\n",
              "5                 314          103  ...         0             0.65\n",
              "\n",
              "[5 rows x 8 columns]"
            ]
          },
          "metadata": {
            "tags": []
          },
          "execution_count": 31
        }
      ]
    },
    {
      "cell_type": "code",
      "metadata": {
        "id": "ga57TJA--RVj",
        "outputId": "ef431b67-726c-42e0-aed0-c6c2006b082b",
        "colab": {
          "base_uri": "https://localhost:8080/",
          "height": 228
        }
      },
      "source": [
        "import pandas as pd\n",
        "df = pd.read_csv(\"/Admission_Predict.csv\",index_col=0)\n",
        "df.columns = [i.lower().strip() for i in df.columns]\n",
        "df.head()"
      ],
      "execution_count": 35,
      "outputs": [
        {
          "output_type": "execute_result",
          "data": {
            "text/html": [
              "<div>\n",
              "<style scoped>\n",
              "    .dataframe tbody tr th:only-of-type {\n",
              "        vertical-align: middle;\n",
              "    }\n",
              "\n",
              "    .dataframe tbody tr th {\n",
              "        vertical-align: top;\n",
              "    }\n",
              "\n",
              "    .dataframe thead th {\n",
              "        text-align: right;\n",
              "    }\n",
              "</style>\n",
              "<table border=\"1\" class=\"dataframe\">\n",
              "  <thead>\n",
              "    <tr style=\"text-align: right;\">\n",
              "      <th></th>\n",
              "      <th>gre score</th>\n",
              "      <th>toefl score</th>\n",
              "      <th>university rating</th>\n",
              "      <th>sop</th>\n",
              "      <th>lor</th>\n",
              "      <th>cgpa</th>\n",
              "      <th>research</th>\n",
              "      <th>chance of admit</th>\n",
              "    </tr>\n",
              "    <tr>\n",
              "      <th>Serial No.</th>\n",
              "      <th></th>\n",
              "      <th></th>\n",
              "      <th></th>\n",
              "      <th></th>\n",
              "      <th></th>\n",
              "      <th></th>\n",
              "      <th></th>\n",
              "      <th></th>\n",
              "    </tr>\n",
              "  </thead>\n",
              "  <tbody>\n",
              "    <tr>\n",
              "      <th>1</th>\n",
              "      <td>337</td>\n",
              "      <td>118</td>\n",
              "      <td>4</td>\n",
              "      <td>4.5</td>\n",
              "      <td>4.5</td>\n",
              "      <td>9.65</td>\n",
              "      <td>1</td>\n",
              "      <td>0.92</td>\n",
              "    </tr>\n",
              "    <tr>\n",
              "      <th>2</th>\n",
              "      <td>324</td>\n",
              "      <td>107</td>\n",
              "      <td>4</td>\n",
              "      <td>4.0</td>\n",
              "      <td>4.5</td>\n",
              "      <td>8.87</td>\n",
              "      <td>1</td>\n",
              "      <td>0.76</td>\n",
              "    </tr>\n",
              "    <tr>\n",
              "      <th>3</th>\n",
              "      <td>316</td>\n",
              "      <td>104</td>\n",
              "      <td>3</td>\n",
              "      <td>3.0</td>\n",
              "      <td>3.5</td>\n",
              "      <td>8.00</td>\n",
              "      <td>1</td>\n",
              "      <td>0.72</td>\n",
              "    </tr>\n",
              "    <tr>\n",
              "      <th>4</th>\n",
              "      <td>322</td>\n",
              "      <td>110</td>\n",
              "      <td>3</td>\n",
              "      <td>3.5</td>\n",
              "      <td>2.5</td>\n",
              "      <td>8.67</td>\n",
              "      <td>1</td>\n",
              "      <td>0.80</td>\n",
              "    </tr>\n",
              "    <tr>\n",
              "      <th>5</th>\n",
              "      <td>314</td>\n",
              "      <td>103</td>\n",
              "      <td>2</td>\n",
              "      <td>2.0</td>\n",
              "      <td>3.0</td>\n",
              "      <td>8.21</td>\n",
              "      <td>0</td>\n",
              "      <td>0.65</td>\n",
              "    </tr>\n",
              "  </tbody>\n",
              "</table>\n",
              "</div>"
            ],
            "text/plain": [
              "            gre score  toefl score  ...  research  chance of admit\n",
              "Serial No.                          ...                           \n",
              "1                 337          118  ...         1             0.92\n",
              "2                 324          107  ...         1             0.76\n",
              "3                 316          104  ...         1             0.72\n",
              "4                 322          110  ...         1             0.80\n",
              "5                 314          103  ...         0             0.65\n",
              "\n",
              "[5 rows x 8 columns]"
            ]
          },
          "metadata": {
            "tags": []
          },
          "execution_count": 35
        }
      ]
    },
    {
      "cell_type": "code",
      "metadata": {
        "id": "0nh51pjk_En4",
        "outputId": "99dd9d49-df63-404c-c992-de059fe25b09",
        "colab": {
          "base_uri": "https://localhost:8080/"
        }
      },
      "source": [
        "mask = df['chance of admit']>0.7\n",
        "mask"
      ],
      "execution_count": 36,
      "outputs": [
        {
          "output_type": "execute_result",
          "data": {
            "text/plain": [
              "Serial No.\n",
              "1       True\n",
              "2       True\n",
              "3       True\n",
              "4       True\n",
              "5      False\n",
              "       ...  \n",
              "396     True\n",
              "397     True\n",
              "398     True\n",
              "399    False\n",
              "400     True\n",
              "Name: chance of admit, Length: 400, dtype: bool"
            ]
          },
          "metadata": {
            "tags": []
          },
          "execution_count": 36
        }
      ]
    },
    {
      "cell_type": "code",
      "metadata": {
        "id": "g-XBg_Vm_Ss9",
        "outputId": "0ae85457-5f2a-4866-eca0-40e8551e095f",
        "colab": {
          "base_uri": "https://localhost:8080/",
          "height": 228
        }
      },
      "source": [
        "df.where(mask).head()"
      ],
      "execution_count": 37,
      "outputs": [
        {
          "output_type": "execute_result",
          "data": {
            "text/html": [
              "<div>\n",
              "<style scoped>\n",
              "    .dataframe tbody tr th:only-of-type {\n",
              "        vertical-align: middle;\n",
              "    }\n",
              "\n",
              "    .dataframe tbody tr th {\n",
              "        vertical-align: top;\n",
              "    }\n",
              "\n",
              "    .dataframe thead th {\n",
              "        text-align: right;\n",
              "    }\n",
              "</style>\n",
              "<table border=\"1\" class=\"dataframe\">\n",
              "  <thead>\n",
              "    <tr style=\"text-align: right;\">\n",
              "      <th></th>\n",
              "      <th>gre score</th>\n",
              "      <th>toefl score</th>\n",
              "      <th>university rating</th>\n",
              "      <th>sop</th>\n",
              "      <th>lor</th>\n",
              "      <th>cgpa</th>\n",
              "      <th>research</th>\n",
              "      <th>chance of admit</th>\n",
              "    </tr>\n",
              "    <tr>\n",
              "      <th>Serial No.</th>\n",
              "      <th></th>\n",
              "      <th></th>\n",
              "      <th></th>\n",
              "      <th></th>\n",
              "      <th></th>\n",
              "      <th></th>\n",
              "      <th></th>\n",
              "      <th></th>\n",
              "    </tr>\n",
              "  </thead>\n",
              "  <tbody>\n",
              "    <tr>\n",
              "      <th>1</th>\n",
              "      <td>337.0</td>\n",
              "      <td>118.0</td>\n",
              "      <td>4.0</td>\n",
              "      <td>4.5</td>\n",
              "      <td>4.5</td>\n",
              "      <td>9.65</td>\n",
              "      <td>1.0</td>\n",
              "      <td>0.92</td>\n",
              "    </tr>\n",
              "    <tr>\n",
              "      <th>2</th>\n",
              "      <td>324.0</td>\n",
              "      <td>107.0</td>\n",
              "      <td>4.0</td>\n",
              "      <td>4.0</td>\n",
              "      <td>4.5</td>\n",
              "      <td>8.87</td>\n",
              "      <td>1.0</td>\n",
              "      <td>0.76</td>\n",
              "    </tr>\n",
              "    <tr>\n",
              "      <th>3</th>\n",
              "      <td>316.0</td>\n",
              "      <td>104.0</td>\n",
              "      <td>3.0</td>\n",
              "      <td>3.0</td>\n",
              "      <td>3.5</td>\n",
              "      <td>8.00</td>\n",
              "      <td>1.0</td>\n",
              "      <td>0.72</td>\n",
              "    </tr>\n",
              "    <tr>\n",
              "      <th>4</th>\n",
              "      <td>322.0</td>\n",
              "      <td>110.0</td>\n",
              "      <td>3.0</td>\n",
              "      <td>3.5</td>\n",
              "      <td>2.5</td>\n",
              "      <td>8.67</td>\n",
              "      <td>1.0</td>\n",
              "      <td>0.80</td>\n",
              "    </tr>\n",
              "    <tr>\n",
              "      <th>5</th>\n",
              "      <td>NaN</td>\n",
              "      <td>NaN</td>\n",
              "      <td>NaN</td>\n",
              "      <td>NaN</td>\n",
              "      <td>NaN</td>\n",
              "      <td>NaN</td>\n",
              "      <td>NaN</td>\n",
              "      <td>NaN</td>\n",
              "    </tr>\n",
              "  </tbody>\n",
              "</table>\n",
              "</div>"
            ],
            "text/plain": [
              "            gre score  toefl score  ...  research  chance of admit\n",
              "Serial No.                          ...                           \n",
              "1               337.0        118.0  ...       1.0             0.92\n",
              "2               324.0        107.0  ...       1.0             0.76\n",
              "3               316.0        104.0  ...       1.0             0.72\n",
              "4               322.0        110.0  ...       1.0             0.80\n",
              "5                 NaN          NaN  ...       NaN              NaN\n",
              "\n",
              "[5 rows x 8 columns]"
            ]
          },
          "metadata": {
            "tags": []
          },
          "execution_count": 37
        }
      ]
    },
    {
      "cell_type": "code",
      "metadata": {
        "id": "3sRxrbse_n_U",
        "outputId": "022d7421-c02e-4222-b1e9-8fe0a29220a8",
        "colab": {
          "base_uri": "https://localhost:8080/",
          "height": 228
        }
      },
      "source": [
        "df.where(mask).dropna().head()"
      ],
      "execution_count": 39,
      "outputs": [
        {
          "output_type": "execute_result",
          "data": {
            "text/html": [
              "<div>\n",
              "<style scoped>\n",
              "    .dataframe tbody tr th:only-of-type {\n",
              "        vertical-align: middle;\n",
              "    }\n",
              "\n",
              "    .dataframe tbody tr th {\n",
              "        vertical-align: top;\n",
              "    }\n",
              "\n",
              "    .dataframe thead th {\n",
              "        text-align: right;\n",
              "    }\n",
              "</style>\n",
              "<table border=\"1\" class=\"dataframe\">\n",
              "  <thead>\n",
              "    <tr style=\"text-align: right;\">\n",
              "      <th></th>\n",
              "      <th>gre score</th>\n",
              "      <th>toefl score</th>\n",
              "      <th>university rating</th>\n",
              "      <th>sop</th>\n",
              "      <th>lor</th>\n",
              "      <th>cgpa</th>\n",
              "      <th>research</th>\n",
              "      <th>chance of admit</th>\n",
              "    </tr>\n",
              "    <tr>\n",
              "      <th>Serial No.</th>\n",
              "      <th></th>\n",
              "      <th></th>\n",
              "      <th></th>\n",
              "      <th></th>\n",
              "      <th></th>\n",
              "      <th></th>\n",
              "      <th></th>\n",
              "      <th></th>\n",
              "    </tr>\n",
              "  </thead>\n",
              "  <tbody>\n",
              "    <tr>\n",
              "      <th>1</th>\n",
              "      <td>337.0</td>\n",
              "      <td>118.0</td>\n",
              "      <td>4.0</td>\n",
              "      <td>4.5</td>\n",
              "      <td>4.5</td>\n",
              "      <td>9.65</td>\n",
              "      <td>1.0</td>\n",
              "      <td>0.92</td>\n",
              "    </tr>\n",
              "    <tr>\n",
              "      <th>2</th>\n",
              "      <td>324.0</td>\n",
              "      <td>107.0</td>\n",
              "      <td>4.0</td>\n",
              "      <td>4.0</td>\n",
              "      <td>4.5</td>\n",
              "      <td>8.87</td>\n",
              "      <td>1.0</td>\n",
              "      <td>0.76</td>\n",
              "    </tr>\n",
              "    <tr>\n",
              "      <th>3</th>\n",
              "      <td>316.0</td>\n",
              "      <td>104.0</td>\n",
              "      <td>3.0</td>\n",
              "      <td>3.0</td>\n",
              "      <td>3.5</td>\n",
              "      <td>8.00</td>\n",
              "      <td>1.0</td>\n",
              "      <td>0.72</td>\n",
              "    </tr>\n",
              "    <tr>\n",
              "      <th>4</th>\n",
              "      <td>322.0</td>\n",
              "      <td>110.0</td>\n",
              "      <td>3.0</td>\n",
              "      <td>3.5</td>\n",
              "      <td>2.5</td>\n",
              "      <td>8.67</td>\n",
              "      <td>1.0</td>\n",
              "      <td>0.80</td>\n",
              "    </tr>\n",
              "    <tr>\n",
              "      <th>6</th>\n",
              "      <td>330.0</td>\n",
              "      <td>115.0</td>\n",
              "      <td>5.0</td>\n",
              "      <td>4.5</td>\n",
              "      <td>3.0</td>\n",
              "      <td>9.34</td>\n",
              "      <td>1.0</td>\n",
              "      <td>0.90</td>\n",
              "    </tr>\n",
              "  </tbody>\n",
              "</table>\n",
              "</div>"
            ],
            "text/plain": [
              "            gre score  toefl score  ...  research  chance of admit\n",
              "Serial No.                          ...                           \n",
              "1               337.0        118.0  ...       1.0             0.92\n",
              "2               324.0        107.0  ...       1.0             0.76\n",
              "3               316.0        104.0  ...       1.0             0.72\n",
              "4               322.0        110.0  ...       1.0             0.80\n",
              "6               330.0        115.0  ...       1.0             0.90\n",
              "\n",
              "[5 rows x 8 columns]"
            ]
          },
          "metadata": {
            "tags": []
          },
          "execution_count": 39
        }
      ]
    },
    {
      "cell_type": "code",
      "metadata": {
        "id": "cTLnQ6D1_sOq",
        "outputId": "3f090c42-d2b2-4711-a7d8-387a08f838cf",
        "colab": {
          "base_uri": "https://localhost:8080/",
          "height": 228
        }
      },
      "source": [
        "df[df['chance of admit']>0.7].head() #dropna and masking combined in single command"
      ],
      "execution_count": 40,
      "outputs": [
        {
          "output_type": "execute_result",
          "data": {
            "text/html": [
              "<div>\n",
              "<style scoped>\n",
              "    .dataframe tbody tr th:only-of-type {\n",
              "        vertical-align: middle;\n",
              "    }\n",
              "\n",
              "    .dataframe tbody tr th {\n",
              "        vertical-align: top;\n",
              "    }\n",
              "\n",
              "    .dataframe thead th {\n",
              "        text-align: right;\n",
              "    }\n",
              "</style>\n",
              "<table border=\"1\" class=\"dataframe\">\n",
              "  <thead>\n",
              "    <tr style=\"text-align: right;\">\n",
              "      <th></th>\n",
              "      <th>gre score</th>\n",
              "      <th>toefl score</th>\n",
              "      <th>university rating</th>\n",
              "      <th>sop</th>\n",
              "      <th>lor</th>\n",
              "      <th>cgpa</th>\n",
              "      <th>research</th>\n",
              "      <th>chance of admit</th>\n",
              "    </tr>\n",
              "    <tr>\n",
              "      <th>Serial No.</th>\n",
              "      <th></th>\n",
              "      <th></th>\n",
              "      <th></th>\n",
              "      <th></th>\n",
              "      <th></th>\n",
              "      <th></th>\n",
              "      <th></th>\n",
              "      <th></th>\n",
              "    </tr>\n",
              "  </thead>\n",
              "  <tbody>\n",
              "    <tr>\n",
              "      <th>1</th>\n",
              "      <td>337</td>\n",
              "      <td>118</td>\n",
              "      <td>4</td>\n",
              "      <td>4.5</td>\n",
              "      <td>4.5</td>\n",
              "      <td>9.65</td>\n",
              "      <td>1</td>\n",
              "      <td>0.92</td>\n",
              "    </tr>\n",
              "    <tr>\n",
              "      <th>2</th>\n",
              "      <td>324</td>\n",
              "      <td>107</td>\n",
              "      <td>4</td>\n",
              "      <td>4.0</td>\n",
              "      <td>4.5</td>\n",
              "      <td>8.87</td>\n",
              "      <td>1</td>\n",
              "      <td>0.76</td>\n",
              "    </tr>\n",
              "    <tr>\n",
              "      <th>3</th>\n",
              "      <td>316</td>\n",
              "      <td>104</td>\n",
              "      <td>3</td>\n",
              "      <td>3.0</td>\n",
              "      <td>3.5</td>\n",
              "      <td>8.00</td>\n",
              "      <td>1</td>\n",
              "      <td>0.72</td>\n",
              "    </tr>\n",
              "    <tr>\n",
              "      <th>4</th>\n",
              "      <td>322</td>\n",
              "      <td>110</td>\n",
              "      <td>3</td>\n",
              "      <td>3.5</td>\n",
              "      <td>2.5</td>\n",
              "      <td>8.67</td>\n",
              "      <td>1</td>\n",
              "      <td>0.80</td>\n",
              "    </tr>\n",
              "    <tr>\n",
              "      <th>6</th>\n",
              "      <td>330</td>\n",
              "      <td>115</td>\n",
              "      <td>5</td>\n",
              "      <td>4.5</td>\n",
              "      <td>3.0</td>\n",
              "      <td>9.34</td>\n",
              "      <td>1</td>\n",
              "      <td>0.90</td>\n",
              "    </tr>\n",
              "  </tbody>\n",
              "</table>\n",
              "</div>"
            ],
            "text/plain": [
              "            gre score  toefl score  ...  research  chance of admit\n",
              "Serial No.                          ...                           \n",
              "1                 337          118  ...         1             0.92\n",
              "2                 324          107  ...         1             0.76\n",
              "3                 316          104  ...         1             0.72\n",
              "4                 322          110  ...         1             0.80\n",
              "6                 330          115  ...         1             0.90\n",
              "\n",
              "[5 rows x 8 columns]"
            ]
          },
          "metadata": {
            "tags": []
          },
          "execution_count": 40
        }
      ]
    },
    {
      "cell_type": "code",
      "metadata": {
        "id": "h7RIMQCQ_8ZE",
        "outputId": "8748f4b6-9c54-40d1-8b12-77814f8377d2",
        "colab": {
          "base_uri": "https://localhost:8080/",
          "height": 228
        }
      },
      "source": [
        "df[['cgpa','toefl score']].head()"
      ],
      "execution_count": 43,
      "outputs": [
        {
          "output_type": "execute_result",
          "data": {
            "text/html": [
              "<div>\n",
              "<style scoped>\n",
              "    .dataframe tbody tr th:only-of-type {\n",
              "        vertical-align: middle;\n",
              "    }\n",
              "\n",
              "    .dataframe tbody tr th {\n",
              "        vertical-align: top;\n",
              "    }\n",
              "\n",
              "    .dataframe thead th {\n",
              "        text-align: right;\n",
              "    }\n",
              "</style>\n",
              "<table border=\"1\" class=\"dataframe\">\n",
              "  <thead>\n",
              "    <tr style=\"text-align: right;\">\n",
              "      <th></th>\n",
              "      <th>cgpa</th>\n",
              "      <th>toefl score</th>\n",
              "    </tr>\n",
              "    <tr>\n",
              "      <th>Serial No.</th>\n",
              "      <th></th>\n",
              "      <th></th>\n",
              "    </tr>\n",
              "  </thead>\n",
              "  <tbody>\n",
              "    <tr>\n",
              "      <th>1</th>\n",
              "      <td>9.65</td>\n",
              "      <td>118</td>\n",
              "    </tr>\n",
              "    <tr>\n",
              "      <th>2</th>\n",
              "      <td>8.87</td>\n",
              "      <td>107</td>\n",
              "    </tr>\n",
              "    <tr>\n",
              "      <th>3</th>\n",
              "      <td>8.00</td>\n",
              "      <td>104</td>\n",
              "    </tr>\n",
              "    <tr>\n",
              "      <th>4</th>\n",
              "      <td>8.67</td>\n",
              "      <td>110</td>\n",
              "    </tr>\n",
              "    <tr>\n",
              "      <th>5</th>\n",
              "      <td>8.21</td>\n",
              "      <td>103</td>\n",
              "    </tr>\n",
              "  </tbody>\n",
              "</table>\n",
              "</div>"
            ],
            "text/plain": [
              "            cgpa  toefl score\n",
              "Serial No.                   \n",
              "1           9.65          118\n",
              "2           8.87          107\n",
              "3           8.00          104\n",
              "4           8.67          110\n",
              "5           8.21          103"
            ]
          },
          "metadata": {
            "tags": []
          },
          "execution_count": 43
        }
      ]
    },
    {
      "cell_type": "code",
      "metadata": {
        "id": "3bJP1C3vBqHp",
        "outputId": "6eb2fea4-bff5-44c7-9515-b46b2b750b22",
        "colab": {
          "base_uri": "https://localhost:8080/"
        }
      },
      "source": [
        "(df['chance of admit']>0.7) & (df['chance of admit']<0.9)"
      ],
      "execution_count": 44,
      "outputs": [
        {
          "output_type": "execute_result",
          "data": {
            "text/plain": [
              "Serial No.\n",
              "1      False\n",
              "2       True\n",
              "3       True\n",
              "4       True\n",
              "5      False\n",
              "       ...  \n",
              "396     True\n",
              "397     True\n",
              "398    False\n",
              "399    False\n",
              "400    False\n",
              "Name: chance of admit, Length: 400, dtype: bool"
            ]
          },
          "metadata": {
            "tags": []
          },
          "execution_count": 44
        }
      ]
    },
    {
      "cell_type": "code",
      "metadata": {
        "id": "nNk1uPpMCTwQ",
        "outputId": "3cb8165d-0775-413f-825f-b585d7ad26d0",
        "colab": {
          "base_uri": "https://localhost:8080/"
        }
      },
      "source": [
        "df['chance of admit'].gt(0.7) & df['chance of admit'].lt(0.9)"
      ],
      "execution_count": 45,
      "outputs": [
        {
          "output_type": "execute_result",
          "data": {
            "text/plain": [
              "Serial No.\n",
              "1      False\n",
              "2       True\n",
              "3       True\n",
              "4       True\n",
              "5      False\n",
              "       ...  \n",
              "396     True\n",
              "397     True\n",
              "398    False\n",
              "399    False\n",
              "400    False\n",
              "Name: chance of admit, Length: 400, dtype: bool"
            ]
          },
          "metadata": {
            "tags": []
          },
          "execution_count": 45
        }
      ]
    },
    {
      "cell_type": "code",
      "metadata": {
        "id": "GgcAUGkyCgCZ",
        "outputId": "143993a7-bcd5-45c9-c06a-dfb5cb91e596",
        "colab": {
          "base_uri": "https://localhost:8080/"
        }
      },
      "source": [
        "df['chance of admit'].gt(0.7).lt(0.9)"
      ],
      "execution_count": 46,
      "outputs": [
        {
          "output_type": "execute_result",
          "data": {
            "text/plain": [
              "Serial No.\n",
              "1      False\n",
              "2      False\n",
              "3      False\n",
              "4      False\n",
              "5       True\n",
              "       ...  \n",
              "396    False\n",
              "397    False\n",
              "398    False\n",
              "399     True\n",
              "400    False\n",
              "Name: chance of admit, Length: 400, dtype: bool"
            ]
          },
          "metadata": {
            "tags": []
          },
          "execution_count": 46
        }
      ]
    },
    {
      "cell_type": "code",
      "metadata": {
        "id": "YzS1CmnqCvpy",
        "outputId": "2d1f7288-ced9-4a23-e33d-4f7d88973140",
        "colab": {
          "base_uri": "https://localhost:8080/"
        }
      },
      "source": [
        "import csv\n",
        "with open('/Admission_Predict.csv') as new1:\n",
        "  a = list(csv.DictReader(new1))\n",
        "a"
      ],
      "execution_count": 48,
      "outputs": [
        {
          "output_type": "execute_result",
          "data": {
            "text/plain": [
              "[OrderedDict([('Serial No.', '1'),\n",
              "              ('GRE Score', '337'),\n",
              "              ('TOEFL Score', '118'),\n",
              "              ('University Rating', '4'),\n",
              "              ('SOP', '4.5'),\n",
              "              ('LOR ', '4.5'),\n",
              "              ('CGPA', '9.65'),\n",
              "              ('Research', '1'),\n",
              "              ('Chance of Admit ', '0.92')]),\n",
              " OrderedDict([('Serial No.', '2'),\n",
              "              ('GRE Score', '324'),\n",
              "              ('TOEFL Score', '107'),\n",
              "              ('University Rating', '4'),\n",
              "              ('SOP', '4'),\n",
              "              ('LOR ', '4.5'),\n",
              "              ('CGPA', '8.87'),\n",
              "              ('Research', '1'),\n",
              "              ('Chance of Admit ', '0.76')]),\n",
              " OrderedDict([('Serial No.', '3'),\n",
              "              ('GRE Score', '316'),\n",
              "              ('TOEFL Score', '104'),\n",
              "              ('University Rating', '3'),\n",
              "              ('SOP', '3'),\n",
              "              ('LOR ', '3.5'),\n",
              "              ('CGPA', '8'),\n",
              "              ('Research', '1'),\n",
              "              ('Chance of Admit ', '0.72')]),\n",
              " OrderedDict([('Serial No.', '4'),\n",
              "              ('GRE Score', '322'),\n",
              "              ('TOEFL Score', '110'),\n",
              "              ('University Rating', '3'),\n",
              "              ('SOP', '3.5'),\n",
              "              ('LOR ', '2.5'),\n",
              "              ('CGPA', '8.67'),\n",
              "              ('Research', '1'),\n",
              "              ('Chance of Admit ', '0.8')]),\n",
              " OrderedDict([('Serial No.', '5'),\n",
              "              ('GRE Score', '314'),\n",
              "              ('TOEFL Score', '103'),\n",
              "              ('University Rating', '2'),\n",
              "              ('SOP', '2'),\n",
              "              ('LOR ', '3'),\n",
              "              ('CGPA', '8.21'),\n",
              "              ('Research', '0'),\n",
              "              ('Chance of Admit ', '0.65')]),\n",
              " OrderedDict([('Serial No.', '6'),\n",
              "              ('GRE Score', '330'),\n",
              "              ('TOEFL Score', '115'),\n",
              "              ('University Rating', '5'),\n",
              "              ('SOP', '4.5'),\n",
              "              ('LOR ', '3'),\n",
              "              ('CGPA', '9.34'),\n",
              "              ('Research', '1'),\n",
              "              ('Chance of Admit ', '0.9')]),\n",
              " OrderedDict([('Serial No.', '7'),\n",
              "              ('GRE Score', '321'),\n",
              "              ('TOEFL Score', '109'),\n",
              "              ('University Rating', '3'),\n",
              "              ('SOP', '3'),\n",
              "              ('LOR ', '4'),\n",
              "              ('CGPA', '8.2'),\n",
              "              ('Research', '1'),\n",
              "              ('Chance of Admit ', '0.75')]),\n",
              " OrderedDict([('Serial No.', '8'),\n",
              "              ('GRE Score', '308'),\n",
              "              ('TOEFL Score', '101'),\n",
              "              ('University Rating', '2'),\n",
              "              ('SOP', '3'),\n",
              "              ('LOR ', '4'),\n",
              "              ('CGPA', '7.9'),\n",
              "              ('Research', '0'),\n",
              "              ('Chance of Admit ', '0.68')]),\n",
              " OrderedDict([('Serial No.', '9'),\n",
              "              ('GRE Score', '302'),\n",
              "              ('TOEFL Score', '102'),\n",
              "              ('University Rating', '1'),\n",
              "              ('SOP', '2'),\n",
              "              ('LOR ', '1.5'),\n",
              "              ('CGPA', '8'),\n",
              "              ('Research', '0'),\n",
              "              ('Chance of Admit ', '0.5')]),\n",
              " OrderedDict([('Serial No.', '10'),\n",
              "              ('GRE Score', '323'),\n",
              "              ('TOEFL Score', '108'),\n",
              "              ('University Rating', '3'),\n",
              "              ('SOP', '3.5'),\n",
              "              ('LOR ', '3'),\n",
              "              ('CGPA', '8.6'),\n",
              "              ('Research', '0'),\n",
              "              ('Chance of Admit ', '0.45')]),\n",
              " OrderedDict([('Serial No.', '11'),\n",
              "              ('GRE Score', '325'),\n",
              "              ('TOEFL Score', '106'),\n",
              "              ('University Rating', '3'),\n",
              "              ('SOP', '3.5'),\n",
              "              ('LOR ', '4'),\n",
              "              ('CGPA', '8.4'),\n",
              "              ('Research', '1'),\n",
              "              ('Chance of Admit ', '0.52')]),\n",
              " OrderedDict([('Serial No.', '12'),\n",
              "              ('GRE Score', '327'),\n",
              "              ('TOEFL Score', '111'),\n",
              "              ('University Rating', '4'),\n",
              "              ('SOP', '4'),\n",
              "              ('LOR ', '4.5'),\n",
              "              ('CGPA', '9'),\n",
              "              ('Research', '1'),\n",
              "              ('Chance of Admit ', '0.84')]),\n",
              " OrderedDict([('Serial No.', '13'),\n",
              "              ('GRE Score', '328'),\n",
              "              ('TOEFL Score', '112'),\n",
              "              ('University Rating', '4'),\n",
              "              ('SOP', '4'),\n",
              "              ('LOR ', '4.5'),\n",
              "              ('CGPA', '9.1'),\n",
              "              ('Research', '1'),\n",
              "              ('Chance of Admit ', '0.78')]),\n",
              " OrderedDict([('Serial No.', '14'),\n",
              "              ('GRE Score', '307'),\n",
              "              ('TOEFL Score', '109'),\n",
              "              ('University Rating', '3'),\n",
              "              ('SOP', '4'),\n",
              "              ('LOR ', '3'),\n",
              "              ('CGPA', '8'),\n",
              "              ('Research', '1'),\n",
              "              ('Chance of Admit ', '0.62')]),\n",
              " OrderedDict([('Serial No.', '15'),\n",
              "              ('GRE Score', '311'),\n",
              "              ('TOEFL Score', '104'),\n",
              "              ('University Rating', '3'),\n",
              "              ('SOP', '3.5'),\n",
              "              ('LOR ', '2'),\n",
              "              ('CGPA', '8.2'),\n",
              "              ('Research', '1'),\n",
              "              ('Chance of Admit ', '0.61')]),\n",
              " OrderedDict([('Serial No.', '16'),\n",
              "              ('GRE Score', '314'),\n",
              "              ('TOEFL Score', '105'),\n",
              "              ('University Rating', '3'),\n",
              "              ('SOP', '3.5'),\n",
              "              ('LOR ', '2.5'),\n",
              "              ('CGPA', '8.3'),\n",
              "              ('Research', '0'),\n",
              "              ('Chance of Admit ', '0.54')]),\n",
              " OrderedDict([('Serial No.', '17'),\n",
              "              ('GRE Score', '317'),\n",
              "              ('TOEFL Score', '107'),\n",
              "              ('University Rating', '3'),\n",
              "              ('SOP', '4'),\n",
              "              ('LOR ', '3'),\n",
              "              ('CGPA', '8.7'),\n",
              "              ('Research', '0'),\n",
              "              ('Chance of Admit ', '0.66')]),\n",
              " OrderedDict([('Serial No.', '18'),\n",
              "              ('GRE Score', '319'),\n",
              "              ('TOEFL Score', '106'),\n",
              "              ('University Rating', '3'),\n",
              "              ('SOP', '4'),\n",
              "              ('LOR ', '3'),\n",
              "              ('CGPA', '8'),\n",
              "              ('Research', '1'),\n",
              "              ('Chance of Admit ', '0.65')]),\n",
              " OrderedDict([('Serial No.', '19'),\n",
              "              ('GRE Score', '318'),\n",
              "              ('TOEFL Score', '110'),\n",
              "              ('University Rating', '3'),\n",
              "              ('SOP', '4'),\n",
              "              ('LOR ', '3'),\n",
              "              ('CGPA', '8.8'),\n",
              "              ('Research', '0'),\n",
              "              ('Chance of Admit ', '0.63')]),\n",
              " OrderedDict([('Serial No.', '20'),\n",
              "              ('GRE Score', '303'),\n",
              "              ('TOEFL Score', '102'),\n",
              "              ('University Rating', '3'),\n",
              "              ('SOP', '3.5'),\n",
              "              ('LOR ', '3'),\n",
              "              ('CGPA', '8.5'),\n",
              "              ('Research', '0'),\n",
              "              ('Chance of Admit ', '0.62')]),\n",
              " OrderedDict([('Serial No.', '21'),\n",
              "              ('GRE Score', '312'),\n",
              "              ('TOEFL Score', '107'),\n",
              "              ('University Rating', '3'),\n",
              "              ('SOP', '3'),\n",
              "              ('LOR ', '2'),\n",
              "              ('CGPA', '7.9'),\n",
              "              ('Research', '1'),\n",
              "              ('Chance of Admit ', '0.64')]),\n",
              " OrderedDict([('Serial No.', '22'),\n",
              "              ('GRE Score', '325'),\n",
              "              ('TOEFL Score', '114'),\n",
              "              ('University Rating', '4'),\n",
              "              ('SOP', '3'),\n",
              "              ('LOR ', '2'),\n",
              "              ('CGPA', '8.4'),\n",
              "              ('Research', '0'),\n",
              "              ('Chance of Admit ', '0.7')]),\n",
              " OrderedDict([('Serial No.', '23'),\n",
              "              ('GRE Score', '328'),\n",
              "              ('TOEFL Score', '116'),\n",
              "              ('University Rating', '5'),\n",
              "              ('SOP', '5'),\n",
              "              ('LOR ', '5'),\n",
              "              ('CGPA', '9.5'),\n",
              "              ('Research', '1'),\n",
              "              ('Chance of Admit ', '0.94')]),\n",
              " OrderedDict([('Serial No.', '24'),\n",
              "              ('GRE Score', '334'),\n",
              "              ('TOEFL Score', '119'),\n",
              "              ('University Rating', '5'),\n",
              "              ('SOP', '5'),\n",
              "              ('LOR ', '4.5'),\n",
              "              ('CGPA', '9.7'),\n",
              "              ('Research', '1'),\n",
              "              ('Chance of Admit ', '0.95')]),\n",
              " OrderedDict([('Serial No.', '25'),\n",
              "              ('GRE Score', '336'),\n",
              "              ('TOEFL Score', '119'),\n",
              "              ('University Rating', '5'),\n",
              "              ('SOP', '4'),\n",
              "              ('LOR ', '3.5'),\n",
              "              ('CGPA', '9.8'),\n",
              "              ('Research', '1'),\n",
              "              ('Chance of Admit ', '0.97')]),\n",
              " OrderedDict([('Serial No.', '26'),\n",
              "              ('GRE Score', '340'),\n",
              "              ('TOEFL Score', '120'),\n",
              "              ('University Rating', '5'),\n",
              "              ('SOP', '4.5'),\n",
              "              ('LOR ', '4.5'),\n",
              "              ('CGPA', '9.6'),\n",
              "              ('Research', '1'),\n",
              "              ('Chance of Admit ', '0.94')]),\n",
              " OrderedDict([('Serial No.', '27'),\n",
              "              ('GRE Score', '322'),\n",
              "              ('TOEFL Score', '109'),\n",
              "              ('University Rating', '5'),\n",
              "              ('SOP', '4.5'),\n",
              "              ('LOR ', '3.5'),\n",
              "              ('CGPA', '8.8'),\n",
              "              ('Research', '0'),\n",
              "              ('Chance of Admit ', '0.76')]),\n",
              " OrderedDict([('Serial No.', '28'),\n",
              "              ('GRE Score', '298'),\n",
              "              ('TOEFL Score', '98'),\n",
              "              ('University Rating', '2'),\n",
              "              ('SOP', '1.5'),\n",
              "              ('LOR ', '2.5'),\n",
              "              ('CGPA', '7.5'),\n",
              "              ('Research', '1'),\n",
              "              ('Chance of Admit ', '0.44')]),\n",
              " OrderedDict([('Serial No.', '29'),\n",
              "              ('GRE Score', '295'),\n",
              "              ('TOEFL Score', '93'),\n",
              "              ('University Rating', '1'),\n",
              "              ('SOP', '2'),\n",
              "              ('LOR ', '2'),\n",
              "              ('CGPA', '7.2'),\n",
              "              ('Research', '0'),\n",
              "              ('Chance of Admit ', '0.46')]),\n",
              " OrderedDict([('Serial No.', '30'),\n",
              "              ('GRE Score', '310'),\n",
              "              ('TOEFL Score', '99'),\n",
              "              ('University Rating', '2'),\n",
              "              ('SOP', '1.5'),\n",
              "              ('LOR ', '2'),\n",
              "              ('CGPA', '7.3'),\n",
              "              ('Research', '0'),\n",
              "              ('Chance of Admit ', '0.54')]),\n",
              " OrderedDict([('Serial No.', '31'),\n",
              "              ('GRE Score', '300'),\n",
              "              ('TOEFL Score', '97'),\n",
              "              ('University Rating', '2'),\n",
              "              ('SOP', '3'),\n",
              "              ('LOR ', '3'),\n",
              "              ('CGPA', '8.1'),\n",
              "              ('Research', '1'),\n",
              "              ('Chance of Admit ', '0.65')]),\n",
              " OrderedDict([('Serial No.', '32'),\n",
              "              ('GRE Score', '327'),\n",
              "              ('TOEFL Score', '103'),\n",
              "              ('University Rating', '3'),\n",
              "              ('SOP', '4'),\n",
              "              ('LOR ', '4'),\n",
              "              ('CGPA', '8.3'),\n",
              "              ('Research', '1'),\n",
              "              ('Chance of Admit ', '0.74')]),\n",
              " OrderedDict([('Serial No.', '33'),\n",
              "              ('GRE Score', '338'),\n",
              "              ('TOEFL Score', '118'),\n",
              "              ('University Rating', '4'),\n",
              "              ('SOP', '3'),\n",
              "              ('LOR ', '4.5'),\n",
              "              ('CGPA', '9.4'),\n",
              "              ('Research', '1'),\n",
              "              ('Chance of Admit ', '0.91')]),\n",
              " OrderedDict([('Serial No.', '34'),\n",
              "              ('GRE Score', '340'),\n",
              "              ('TOEFL Score', '114'),\n",
              "              ('University Rating', '5'),\n",
              "              ('SOP', '4'),\n",
              "              ('LOR ', '4'),\n",
              "              ('CGPA', '9.6'),\n",
              "              ('Research', '1'),\n",
              "              ('Chance of Admit ', '0.9')]),\n",
              " OrderedDict([('Serial No.', '35'),\n",
              "              ('GRE Score', '331'),\n",
              "              ('TOEFL Score', '112'),\n",
              "              ('University Rating', '5'),\n",
              "              ('SOP', '4'),\n",
              "              ('LOR ', '5'),\n",
              "              ('CGPA', '9.8'),\n",
              "              ('Research', '1'),\n",
              "              ('Chance of Admit ', '0.94')]),\n",
              " OrderedDict([('Serial No.', '36'),\n",
              "              ('GRE Score', '320'),\n",
              "              ('TOEFL Score', '110'),\n",
              "              ('University Rating', '5'),\n",
              "              ('SOP', '5'),\n",
              "              ('LOR ', '5'),\n",
              "              ('CGPA', '9.2'),\n",
              "              ('Research', '1'),\n",
              "              ('Chance of Admit ', '0.88')]),\n",
              " OrderedDict([('Serial No.', '37'),\n",
              "              ('GRE Score', '299'),\n",
              "              ('TOEFL Score', '106'),\n",
              "              ('University Rating', '2'),\n",
              "              ('SOP', '4'),\n",
              "              ('LOR ', '4'),\n",
              "              ('CGPA', '8.4'),\n",
              "              ('Research', '0'),\n",
              "              ('Chance of Admit ', '0.64')]),\n",
              " OrderedDict([('Serial No.', '38'),\n",
              "              ('GRE Score', '300'),\n",
              "              ('TOEFL Score', '105'),\n",
              "              ('University Rating', '1'),\n",
              "              ('SOP', '1'),\n",
              "              ('LOR ', '2'),\n",
              "              ('CGPA', '7.8'),\n",
              "              ('Research', '0'),\n",
              "              ('Chance of Admit ', '0.58')]),\n",
              " OrderedDict([('Serial No.', '39'),\n",
              "              ('GRE Score', '304'),\n",
              "              ('TOEFL Score', '105'),\n",
              "              ('University Rating', '1'),\n",
              "              ('SOP', '3'),\n",
              "              ('LOR ', '1.5'),\n",
              "              ('CGPA', '7.5'),\n",
              "              ('Research', '0'),\n",
              "              ('Chance of Admit ', '0.52')]),\n",
              " OrderedDict([('Serial No.', '40'),\n",
              "              ('GRE Score', '307'),\n",
              "              ('TOEFL Score', '108'),\n",
              "              ('University Rating', '2'),\n",
              "              ('SOP', '4'),\n",
              "              ('LOR ', '3.5'),\n",
              "              ('CGPA', '7.7'),\n",
              "              ('Research', '0'),\n",
              "              ('Chance of Admit ', '0.48')]),\n",
              " OrderedDict([('Serial No.', '41'),\n",
              "              ('GRE Score', '308'),\n",
              "              ('TOEFL Score', '110'),\n",
              "              ('University Rating', '3'),\n",
              "              ('SOP', '3.5'),\n",
              "              ('LOR ', '3'),\n",
              "              ('CGPA', '8'),\n",
              "              ('Research', '1'),\n",
              "              ('Chance of Admit ', '0.46')]),\n",
              " OrderedDict([('Serial No.', '42'),\n",
              "              ('GRE Score', '316'),\n",
              "              ('TOEFL Score', '105'),\n",
              "              ('University Rating', '2'),\n",
              "              ('SOP', '2.5'),\n",
              "              ('LOR ', '2.5'),\n",
              "              ('CGPA', '8.2'),\n",
              "              ('Research', '1'),\n",
              "              ('Chance of Admit ', '0.49')]),\n",
              " OrderedDict([('Serial No.', '43'),\n",
              "              ('GRE Score', '313'),\n",
              "              ('TOEFL Score', '107'),\n",
              "              ('University Rating', '2'),\n",
              "              ('SOP', '2.5'),\n",
              "              ('LOR ', '2'),\n",
              "              ('CGPA', '8.5'),\n",
              "              ('Research', '1'),\n",
              "              ('Chance of Admit ', '0.53')]),\n",
              " OrderedDict([('Serial No.', '44'),\n",
              "              ('GRE Score', '332'),\n",
              "              ('TOEFL Score', '117'),\n",
              "              ('University Rating', '4'),\n",
              "              ('SOP', '4.5'),\n",
              "              ('LOR ', '4'),\n",
              "              ('CGPA', '9.1'),\n",
              "              ('Research', '0'),\n",
              "              ('Chance of Admit ', '0.87')]),\n",
              " OrderedDict([('Serial No.', '45'),\n",
              "              ('GRE Score', '326'),\n",
              "              ('TOEFL Score', '113'),\n",
              "              ('University Rating', '5'),\n",
              "              ('SOP', '4.5'),\n",
              "              ('LOR ', '4'),\n",
              "              ('CGPA', '9.4'),\n",
              "              ('Research', '1'),\n",
              "              ('Chance of Admit ', '0.91')]),\n",
              " OrderedDict([('Serial No.', '46'),\n",
              "              ('GRE Score', '322'),\n",
              "              ('TOEFL Score', '110'),\n",
              "              ('University Rating', '5'),\n",
              "              ('SOP', '5'),\n",
              "              ('LOR ', '4'),\n",
              "              ('CGPA', '9.1'),\n",
              "              ('Research', '1'),\n",
              "              ('Chance of Admit ', '0.88')]),\n",
              " OrderedDict([('Serial No.', '47'),\n",
              "              ('GRE Score', '329'),\n",
              "              ('TOEFL Score', '114'),\n",
              "              ('University Rating', '5'),\n",
              "              ('SOP', '4'),\n",
              "              ('LOR ', '5'),\n",
              "              ('CGPA', '9.3'),\n",
              "              ('Research', '1'),\n",
              "              ('Chance of Admit ', '0.86')]),\n",
              " OrderedDict([('Serial No.', '48'),\n",
              "              ('GRE Score', '339'),\n",
              "              ('TOEFL Score', '119'),\n",
              "              ('University Rating', '5'),\n",
              "              ('SOP', '4.5'),\n",
              "              ('LOR ', '4'),\n",
              "              ('CGPA', '9.7'),\n",
              "              ('Research', '0'),\n",
              "              ('Chance of Admit ', '0.89')]),\n",
              " OrderedDict([('Serial No.', '49'),\n",
              "              ('GRE Score', '321'),\n",
              "              ('TOEFL Score', '110'),\n",
              "              ('University Rating', '3'),\n",
              "              ('SOP', '3.5'),\n",
              "              ('LOR ', '5'),\n",
              "              ('CGPA', '8.85'),\n",
              "              ('Research', '1'),\n",
              "              ('Chance of Admit ', '0.82')]),\n",
              " OrderedDict([('Serial No.', '50'),\n",
              "              ('GRE Score', '327'),\n",
              "              ('TOEFL Score', '111'),\n",
              "              ('University Rating', '4'),\n",
              "              ('SOP', '3'),\n",
              "              ('LOR ', '4'),\n",
              "              ('CGPA', '8.4'),\n",
              "              ('Research', '1'),\n",
              "              ('Chance of Admit ', '0.78')]),\n",
              " OrderedDict([('Serial No.', '51'),\n",
              "              ('GRE Score', '313'),\n",
              "              ('TOEFL Score', '98'),\n",
              "              ('University Rating', '3'),\n",
              "              ('SOP', '2.5'),\n",
              "              ('LOR ', '4.5'),\n",
              "              ('CGPA', '8.3'),\n",
              "              ('Research', '1'),\n",
              "              ('Chance of Admit ', '0.76')]),\n",
              " OrderedDict([('Serial No.', '52'),\n",
              "              ('GRE Score', '312'),\n",
              "              ('TOEFL Score', '100'),\n",
              "              ('University Rating', '2'),\n",
              "              ('SOP', '1.5'),\n",
              "              ('LOR ', '3.5'),\n",
              "              ('CGPA', '7.9'),\n",
              "              ('Research', '1'),\n",
              "              ('Chance of Admit ', '0.56')]),\n",
              " OrderedDict([('Serial No.', '53'),\n",
              "              ('GRE Score', '334'),\n",
              "              ('TOEFL Score', '116'),\n",
              "              ('University Rating', '4'),\n",
              "              ('SOP', '4'),\n",
              "              ('LOR ', '3'),\n",
              "              ('CGPA', '8'),\n",
              "              ('Research', '1'),\n",
              "              ('Chance of Admit ', '0.78')]),\n",
              " OrderedDict([('Serial No.', '54'),\n",
              "              ('GRE Score', '324'),\n",
              "              ('TOEFL Score', '112'),\n",
              "              ('University Rating', '4'),\n",
              "              ('SOP', '4'),\n",
              "              ('LOR ', '2.5'),\n",
              "              ('CGPA', '8.1'),\n",
              "              ('Research', '1'),\n",
              "              ('Chance of Admit ', '0.72')]),\n",
              " OrderedDict([('Serial No.', '55'),\n",
              "              ('GRE Score', '322'),\n",
              "              ('TOEFL Score', '110'),\n",
              "              ('University Rating', '3'),\n",
              "              ('SOP', '3'),\n",
              "              ('LOR ', '3.5'),\n",
              "              ('CGPA', '8'),\n",
              "              ('Research', '0'),\n",
              "              ('Chance of Admit ', '0.7')]),\n",
              " OrderedDict([('Serial No.', '56'),\n",
              "              ('GRE Score', '320'),\n",
              "              ('TOEFL Score', '103'),\n",
              "              ('University Rating', '3'),\n",
              "              ('SOP', '3'),\n",
              "              ('LOR ', '3'),\n",
              "              ('CGPA', '7.7'),\n",
              "              ('Research', '0'),\n",
              "              ('Chance of Admit ', '0.64')]),\n",
              " OrderedDict([('Serial No.', '57'),\n",
              "              ('GRE Score', '316'),\n",
              "              ('TOEFL Score', '102'),\n",
              "              ('University Rating', '3'),\n",
              "              ('SOP', '2'),\n",
              "              ('LOR ', '3'),\n",
              "              ('CGPA', '7.4'),\n",
              "              ('Research', '0'),\n",
              "              ('Chance of Admit ', '0.64')]),\n",
              " OrderedDict([('Serial No.', '58'),\n",
              "              ('GRE Score', '298'),\n",
              "              ('TOEFL Score', '99'),\n",
              "              ('University Rating', '2'),\n",
              "              ('SOP', '4'),\n",
              "              ('LOR ', '2'),\n",
              "              ('CGPA', '7.6'),\n",
              "              ('Research', '0'),\n",
              "              ('Chance of Admit ', '0.46')]),\n",
              " OrderedDict([('Serial No.', '59'),\n",
              "              ('GRE Score', '300'),\n",
              "              ('TOEFL Score', '99'),\n",
              "              ('University Rating', '1'),\n",
              "              ('SOP', '3'),\n",
              "              ('LOR ', '2'),\n",
              "              ('CGPA', '6.8'),\n",
              "              ('Research', '1'),\n",
              "              ('Chance of Admit ', '0.36')]),\n",
              " OrderedDict([('Serial No.', '60'),\n",
              "              ('GRE Score', '311'),\n",
              "              ('TOEFL Score', '104'),\n",
              "              ('University Rating', '2'),\n",
              "              ('SOP', '2'),\n",
              "              ('LOR ', '2'),\n",
              "              ('CGPA', '8.3'),\n",
              "              ('Research', '0'),\n",
              "              ('Chance of Admit ', '0.42')]),\n",
              " OrderedDict([('Serial No.', '61'),\n",
              "              ('GRE Score', '309'),\n",
              "              ('TOEFL Score', '100'),\n",
              "              ('University Rating', '2'),\n",
              "              ('SOP', '3'),\n",
              "              ('LOR ', '3'),\n",
              "              ('CGPA', '8.1'),\n",
              "              ('Research', '0'),\n",
              "              ('Chance of Admit ', '0.48')]),\n",
              " OrderedDict([('Serial No.', '62'),\n",
              "              ('GRE Score', '307'),\n",
              "              ('TOEFL Score', '101'),\n",
              "              ('University Rating', '3'),\n",
              "              ('SOP', '4'),\n",
              "              ('LOR ', '3'),\n",
              "              ('CGPA', '8.2'),\n",
              "              ('Research', '0'),\n",
              "              ('Chance of Admit ', '0.47')]),\n",
              " OrderedDict([('Serial No.', '63'),\n",
              "              ('GRE Score', '304'),\n",
              "              ('TOEFL Score', '105'),\n",
              "              ('University Rating', '2'),\n",
              "              ('SOP', '3'),\n",
              "              ('LOR ', '3'),\n",
              "              ('CGPA', '8.2'),\n",
              "              ('Research', '1'),\n",
              "              ('Chance of Admit ', '0.54')]),\n",
              " OrderedDict([('Serial No.', '64'),\n",
              "              ('GRE Score', '315'),\n",
              "              ('TOEFL Score', '107'),\n",
              "              ('University Rating', '2'),\n",
              "              ('SOP', '4'),\n",
              "              ('LOR ', '3'),\n",
              "              ('CGPA', '8.5'),\n",
              "              ('Research', '1'),\n",
              "              ('Chance of Admit ', '0.56')]),\n",
              " OrderedDict([('Serial No.', '65'),\n",
              "              ('GRE Score', '325'),\n",
              "              ('TOEFL Score', '111'),\n",
              "              ('University Rating', '3'),\n",
              "              ('SOP', '3'),\n",
              "              ('LOR ', '3.5'),\n",
              "              ('CGPA', '8.7'),\n",
              "              ('Research', '0'),\n",
              "              ('Chance of Admit ', '0.52')]),\n",
              " OrderedDict([('Serial No.', '66'),\n",
              "              ('GRE Score', '325'),\n",
              "              ('TOEFL Score', '112'),\n",
              "              ('University Rating', '4'),\n",
              "              ('SOP', '3.5'),\n",
              "              ('LOR ', '3.5'),\n",
              "              ('CGPA', '8.92'),\n",
              "              ('Research', '0'),\n",
              "              ('Chance of Admit ', '0.55')]),\n",
              " OrderedDict([('Serial No.', '67'),\n",
              "              ('GRE Score', '327'),\n",
              "              ('TOEFL Score', '114'),\n",
              "              ('University Rating', '3'),\n",
              "              ('SOP', '3'),\n",
              "              ('LOR ', '3'),\n",
              "              ('CGPA', '9.02'),\n",
              "              ('Research', '0'),\n",
              "              ('Chance of Admit ', '0.61')]),\n",
              " OrderedDict([('Serial No.', '68'),\n",
              "              ('GRE Score', '316'),\n",
              "              ('TOEFL Score', '107'),\n",
              "              ('University Rating', '2'),\n",
              "              ('SOP', '3.5'),\n",
              "              ('LOR ', '3.5'),\n",
              "              ('CGPA', '8.64'),\n",
              "              ('Research', '1'),\n",
              "              ('Chance of Admit ', '0.57')]),\n",
              " OrderedDict([('Serial No.', '69'),\n",
              "              ('GRE Score', '318'),\n",
              "              ('TOEFL Score', '109'),\n",
              "              ('University Rating', '3'),\n",
              "              ('SOP', '3.5'),\n",
              "              ('LOR ', '4'),\n",
              "              ('CGPA', '9.22'),\n",
              "              ('Research', '1'),\n",
              "              ('Chance of Admit ', '0.68')]),\n",
              " OrderedDict([('Serial No.', '70'),\n",
              "              ('GRE Score', '328'),\n",
              "              ('TOEFL Score', '115'),\n",
              "              ('University Rating', '4'),\n",
              "              ('SOP', '4.5'),\n",
              "              ('LOR ', '4'),\n",
              "              ('CGPA', '9.16'),\n",
              "              ('Research', '1'),\n",
              "              ('Chance of Admit ', '0.78')]),\n",
              " OrderedDict([('Serial No.', '71'),\n",
              "              ('GRE Score', '332'),\n",
              "              ('TOEFL Score', '118'),\n",
              "              ('University Rating', '5'),\n",
              "              ('SOP', '5'),\n",
              "              ('LOR ', '5'),\n",
              "              ('CGPA', '9.64'),\n",
              "              ('Research', '1'),\n",
              "              ('Chance of Admit ', '0.94')]),\n",
              " OrderedDict([('Serial No.', '72'),\n",
              "              ('GRE Score', '336'),\n",
              "              ('TOEFL Score', '112'),\n",
              "              ('University Rating', '5'),\n",
              "              ('SOP', '5'),\n",
              "              ('LOR ', '5'),\n",
              "              ('CGPA', '9.76'),\n",
              "              ('Research', '1'),\n",
              "              ('Chance of Admit ', '0.96')]),\n",
              " OrderedDict([('Serial No.', '73'),\n",
              "              ('GRE Score', '321'),\n",
              "              ('TOEFL Score', '111'),\n",
              "              ('University Rating', '5'),\n",
              "              ('SOP', '5'),\n",
              "              ('LOR ', '5'),\n",
              "              ('CGPA', '9.45'),\n",
              "              ('Research', '1'),\n",
              "              ('Chance of Admit ', '0.93')]),\n",
              " OrderedDict([('Serial No.', '74'),\n",
              "              ('GRE Score', '314'),\n",
              "              ('TOEFL Score', '108'),\n",
              "              ('University Rating', '4'),\n",
              "              ('SOP', '4.5'),\n",
              "              ('LOR ', '4'),\n",
              "              ('CGPA', '9.04'),\n",
              "              ('Research', '1'),\n",
              "              ('Chance of Admit ', '0.84')]),\n",
              " OrderedDict([('Serial No.', '75'),\n",
              "              ('GRE Score', '314'),\n",
              "              ('TOEFL Score', '106'),\n",
              "              ('University Rating', '3'),\n",
              "              ('SOP', '3'),\n",
              "              ('LOR ', '5'),\n",
              "              ('CGPA', '8.9'),\n",
              "              ('Research', '0'),\n",
              "              ('Chance of Admit ', '0.74')]),\n",
              " OrderedDict([('Serial No.', '76'),\n",
              "              ('GRE Score', '329'),\n",
              "              ('TOEFL Score', '114'),\n",
              "              ('University Rating', '2'),\n",
              "              ('SOP', '2'),\n",
              "              ('LOR ', '4'),\n",
              "              ('CGPA', '8.56'),\n",
              "              ('Research', '1'),\n",
              "              ('Chance of Admit ', '0.72')]),\n",
              " OrderedDict([('Serial No.', '77'),\n",
              "              ('GRE Score', '327'),\n",
              "              ('TOEFL Score', '112'),\n",
              "              ('University Rating', '3'),\n",
              "              ('SOP', '3'),\n",
              "              ('LOR ', '3'),\n",
              "              ('CGPA', '8.72'),\n",
              "              ('Research', '1'),\n",
              "              ('Chance of Admit ', '0.74')]),\n",
              " OrderedDict([('Serial No.', '78'),\n",
              "              ('GRE Score', '301'),\n",
              "              ('TOEFL Score', '99'),\n",
              "              ('University Rating', '2'),\n",
              "              ('SOP', '3'),\n",
              "              ('LOR ', '2'),\n",
              "              ('CGPA', '8.22'),\n",
              "              ('Research', '0'),\n",
              "              ('Chance of Admit ', '0.64')]),\n",
              " OrderedDict([('Serial No.', '79'),\n",
              "              ('GRE Score', '296'),\n",
              "              ('TOEFL Score', '95'),\n",
              "              ('University Rating', '2'),\n",
              "              ('SOP', '3'),\n",
              "              ('LOR ', '2'),\n",
              "              ('CGPA', '7.54'),\n",
              "              ('Research', '1'),\n",
              "              ('Chance of Admit ', '0.44')]),\n",
              " OrderedDict([('Serial No.', '80'),\n",
              "              ('GRE Score', '294'),\n",
              "              ('TOEFL Score', '93'),\n",
              "              ('University Rating', '1'),\n",
              "              ('SOP', '1.5'),\n",
              "              ('LOR ', '2'),\n",
              "              ('CGPA', '7.36'),\n",
              "              ('Research', '0'),\n",
              "              ('Chance of Admit ', '0.46')]),\n",
              " OrderedDict([('Serial No.', '81'),\n",
              "              ('GRE Score', '312'),\n",
              "              ('TOEFL Score', '105'),\n",
              "              ('University Rating', '3'),\n",
              "              ('SOP', '2'),\n",
              "              ('LOR ', '3'),\n",
              "              ('CGPA', '8.02'),\n",
              "              ('Research', '1'),\n",
              "              ('Chance of Admit ', '0.5')]),\n",
              " OrderedDict([('Serial No.', '82'),\n",
              "              ('GRE Score', '340'),\n",
              "              ('TOEFL Score', '120'),\n",
              "              ('University Rating', '4'),\n",
              "              ('SOP', '5'),\n",
              "              ('LOR ', '5'),\n",
              "              ('CGPA', '9.5'),\n",
              "              ('Research', '1'),\n",
              "              ('Chance of Admit ', '0.96')]),\n",
              " OrderedDict([('Serial No.', '83'),\n",
              "              ('GRE Score', '320'),\n",
              "              ('TOEFL Score', '110'),\n",
              "              ('University Rating', '5'),\n",
              "              ('SOP', '5'),\n",
              "              ('LOR ', '4.5'),\n",
              "              ('CGPA', '9.22'),\n",
              "              ('Research', '1'),\n",
              "              ('Chance of Admit ', '0.92')]),\n",
              " OrderedDict([('Serial No.', '84'),\n",
              "              ('GRE Score', '322'),\n",
              "              ('TOEFL Score', '115'),\n",
              "              ('University Rating', '5'),\n",
              "              ('SOP', '4'),\n",
              "              ('LOR ', '4.5'),\n",
              "              ('CGPA', '9.36'),\n",
              "              ('Research', '1'),\n",
              "              ('Chance of Admit ', '0.92')]),\n",
              " OrderedDict([('Serial No.', '85'),\n",
              "              ('GRE Score', '340'),\n",
              "              ('TOEFL Score', '115'),\n",
              "              ('University Rating', '5'),\n",
              "              ('SOP', '4.5'),\n",
              "              ('LOR ', '4.5'),\n",
              "              ('CGPA', '9.45'),\n",
              "              ('Research', '1'),\n",
              "              ('Chance of Admit ', '0.94')]),\n",
              " OrderedDict([('Serial No.', '86'),\n",
              "              ('GRE Score', '319'),\n",
              "              ('TOEFL Score', '103'),\n",
              "              ('University Rating', '4'),\n",
              "              ('SOP', '4.5'),\n",
              "              ('LOR ', '3.5'),\n",
              "              ('CGPA', '8.66'),\n",
              "              ('Research', '0'),\n",
              "              ('Chance of Admit ', '0.76')]),\n",
              " OrderedDict([('Serial No.', '87'),\n",
              "              ('GRE Score', '315'),\n",
              "              ('TOEFL Score', '106'),\n",
              "              ('University Rating', '3'),\n",
              "              ('SOP', '4.5'),\n",
              "              ('LOR ', '3.5'),\n",
              "              ('CGPA', '8.42'),\n",
              "              ('Research', '0'),\n",
              "              ('Chance of Admit ', '0.72')]),\n",
              " OrderedDict([('Serial No.', '88'),\n",
              "              ('GRE Score', '317'),\n",
              "              ('TOEFL Score', '107'),\n",
              "              ('University Rating', '2'),\n",
              "              ('SOP', '3.5'),\n",
              "              ('LOR ', '3'),\n",
              "              ('CGPA', '8.28'),\n",
              "              ('Research', '0'),\n",
              "              ('Chance of Admit ', '0.66')]),\n",
              " OrderedDict([('Serial No.', '89'),\n",
              "              ('GRE Score', '314'),\n",
              "              ('TOEFL Score', '108'),\n",
              "              ('University Rating', '3'),\n",
              "              ('SOP', '4.5'),\n",
              "              ('LOR ', '3.5'),\n",
              "              ('CGPA', '8.14'),\n",
              "              ('Research', '0'),\n",
              "              ('Chance of Admit ', '0.64')]),\n",
              " OrderedDict([('Serial No.', '90'),\n",
              "              ('GRE Score', '316'),\n",
              "              ('TOEFL Score', '109'),\n",
              "              ('University Rating', '4'),\n",
              "              ('SOP', '4.5'),\n",
              "              ('LOR ', '3.5'),\n",
              "              ('CGPA', '8.76'),\n",
              "              ('Research', '1'),\n",
              "              ('Chance of Admit ', '0.74')]),\n",
              " OrderedDict([('Serial No.', '91'),\n",
              "              ('GRE Score', '318'),\n",
              "              ('TOEFL Score', '106'),\n",
              "              ('University Rating', '2'),\n",
              "              ('SOP', '4'),\n",
              "              ('LOR ', '4'),\n",
              "              ('CGPA', '7.92'),\n",
              "              ('Research', '1'),\n",
              "              ('Chance of Admit ', '0.64')]),\n",
              " OrderedDict([('Serial No.', '92'),\n",
              "              ('GRE Score', '299'),\n",
              "              ('TOEFL Score', '97'),\n",
              "              ('University Rating', '3'),\n",
              "              ('SOP', '5'),\n",
              "              ('LOR ', '3.5'),\n",
              "              ('CGPA', '7.66'),\n",
              "              ('Research', '0'),\n",
              "              ('Chance of Admit ', '0.38')]),\n",
              " OrderedDict([('Serial No.', '93'),\n",
              "              ('GRE Score', '298'),\n",
              "              ('TOEFL Score', '98'),\n",
              "              ('University Rating', '2'),\n",
              "              ('SOP', '4'),\n",
              "              ('LOR ', '3'),\n",
              "              ('CGPA', '8.03'),\n",
              "              ('Research', '0'),\n",
              "              ('Chance of Admit ', '0.34')]),\n",
              " OrderedDict([('Serial No.', '94'),\n",
              "              ('GRE Score', '301'),\n",
              "              ('TOEFL Score', '97'),\n",
              "              ('University Rating', '2'),\n",
              "              ('SOP', '3'),\n",
              "              ('LOR ', '3'),\n",
              "              ('CGPA', '7.88'),\n",
              "              ('Research', '1'),\n",
              "              ('Chance of Admit ', '0.44')]),\n",
              " OrderedDict([('Serial No.', '95'),\n",
              "              ('GRE Score', '303'),\n",
              "              ('TOEFL Score', '99'),\n",
              "              ('University Rating', '3'),\n",
              "              ('SOP', '2'),\n",
              "              ('LOR ', '2.5'),\n",
              "              ('CGPA', '7.66'),\n",
              "              ('Research', '0'),\n",
              "              ('Chance of Admit ', '0.36')]),\n",
              " OrderedDict([('Serial No.', '96'),\n",
              "              ('GRE Score', '304'),\n",
              "              ('TOEFL Score', '100'),\n",
              "              ('University Rating', '4'),\n",
              "              ('SOP', '1.5'),\n",
              "              ('LOR ', '2.5'),\n",
              "              ('CGPA', '7.84'),\n",
              "              ('Research', '0'),\n",
              "              ('Chance of Admit ', '0.42')]),\n",
              " OrderedDict([('Serial No.', '97'),\n",
              "              ('GRE Score', '306'),\n",
              "              ('TOEFL Score', '100'),\n",
              "              ('University Rating', '2'),\n",
              "              ('SOP', '3'),\n",
              "              ('LOR ', '3'),\n",
              "              ('CGPA', '8'),\n",
              "              ('Research', '0'),\n",
              "              ('Chance of Admit ', '0.48')]),\n",
              " OrderedDict([('Serial No.', '98'),\n",
              "              ('GRE Score', '331'),\n",
              "              ('TOEFL Score', '120'),\n",
              "              ('University Rating', '3'),\n",
              "              ('SOP', '4'),\n",
              "              ('LOR ', '4'),\n",
              "              ('CGPA', '8.96'),\n",
              "              ('Research', '1'),\n",
              "              ('Chance of Admit ', '0.86')]),\n",
              " OrderedDict([('Serial No.', '99'),\n",
              "              ('GRE Score', '332'),\n",
              "              ('TOEFL Score', '119'),\n",
              "              ('University Rating', '4'),\n",
              "              ('SOP', '5'),\n",
              "              ('LOR ', '4.5'),\n",
              "              ('CGPA', '9.24'),\n",
              "              ('Research', '1'),\n",
              "              ('Chance of Admit ', '0.9')]),\n",
              " OrderedDict([('Serial No.', '100'),\n",
              "              ('GRE Score', '323'),\n",
              "              ('TOEFL Score', '113'),\n",
              "              ('University Rating', '3'),\n",
              "              ('SOP', '4'),\n",
              "              ('LOR ', '4'),\n",
              "              ('CGPA', '8.88'),\n",
              "              ('Research', '1'),\n",
              "              ('Chance of Admit ', '0.79')]),\n",
              " OrderedDict([('Serial No.', '101'),\n",
              "              ('GRE Score', '322'),\n",
              "              ('TOEFL Score', '107'),\n",
              "              ('University Rating', '3'),\n",
              "              ('SOP', '3.5'),\n",
              "              ('LOR ', '3.5'),\n",
              "              ('CGPA', '8.46'),\n",
              "              ('Research', '1'),\n",
              "              ('Chance of Admit ', '0.71')]),\n",
              " OrderedDict([('Serial No.', '102'),\n",
              "              ('GRE Score', '312'),\n",
              "              ('TOEFL Score', '105'),\n",
              "              ('University Rating', '2'),\n",
              "              ('SOP', '2.5'),\n",
              "              ('LOR ', '3'),\n",
              "              ('CGPA', '8.12'),\n",
              "              ('Research', '0'),\n",
              "              ('Chance of Admit ', '0.64')]),\n",
              " OrderedDict([('Serial No.', '103'),\n",
              "              ('GRE Score', '314'),\n",
              "              ('TOEFL Score', '106'),\n",
              "              ('University Rating', '2'),\n",
              "              ('SOP', '4'),\n",
              "              ('LOR ', '3.5'),\n",
              "              ('CGPA', '8.25'),\n",
              "              ('Research', '0'),\n",
              "              ('Chance of Admit ', '0.62')]),\n",
              " OrderedDict([('Serial No.', '104'),\n",
              "              ('GRE Score', '317'),\n",
              "              ('TOEFL Score', '104'),\n",
              "              ('University Rating', '2'),\n",
              "              ('SOP', '4.5'),\n",
              "              ('LOR ', '4'),\n",
              "              ('CGPA', '8.47'),\n",
              "              ('Research', '0'),\n",
              "              ('Chance of Admit ', '0.57')]),\n",
              " OrderedDict([('Serial No.', '105'),\n",
              "              ('GRE Score', '326'),\n",
              "              ('TOEFL Score', '112'),\n",
              "              ('University Rating', '3'),\n",
              "              ('SOP', '3.5'),\n",
              "              ('LOR ', '3'),\n",
              "              ('CGPA', '9.05'),\n",
              "              ('Research', '1'),\n",
              "              ('Chance of Admit ', '0.74')]),\n",
              " OrderedDict([('Serial No.', '106'),\n",
              "              ('GRE Score', '316'),\n",
              "              ('TOEFL Score', '110'),\n",
              "              ('University Rating', '3'),\n",
              "              ('SOP', '4'),\n",
              "              ('LOR ', '4.5'),\n",
              "              ('CGPA', '8.78'),\n",
              "              ('Research', '1'),\n",
              "              ('Chance of Admit ', '0.69')]),\n",
              " OrderedDict([('Serial No.', '107'),\n",
              "              ('GRE Score', '329'),\n",
              "              ('TOEFL Score', '111'),\n",
              "              ('University Rating', '4'),\n",
              "              ('SOP', '4.5'),\n",
              "              ('LOR ', '4.5'),\n",
              "              ('CGPA', '9.18'),\n",
              "              ('Research', '1'),\n",
              "              ('Chance of Admit ', '0.87')]),\n",
              " OrderedDict([('Serial No.', '108'),\n",
              "              ('GRE Score', '338'),\n",
              "              ('TOEFL Score', '117'),\n",
              "              ('University Rating', '4'),\n",
              "              ('SOP', '3.5'),\n",
              "              ('LOR ', '4.5'),\n",
              "              ('CGPA', '9.46'),\n",
              "              ('Research', '1'),\n",
              "              ('Chance of Admit ', '0.91')]),\n",
              " OrderedDict([('Serial No.', '109'),\n",
              "              ('GRE Score', '331'),\n",
              "              ('TOEFL Score', '116'),\n",
              "              ('University Rating', '5'),\n",
              "              ('SOP', '5'),\n",
              "              ('LOR ', '5'),\n",
              "              ('CGPA', '9.38'),\n",
              "              ('Research', '1'),\n",
              "              ('Chance of Admit ', '0.93')]),\n",
              " OrderedDict([('Serial No.', '110'),\n",
              "              ('GRE Score', '304'),\n",
              "              ('TOEFL Score', '103'),\n",
              "              ('University Rating', '5'),\n",
              "              ('SOP', '5'),\n",
              "              ('LOR ', '4'),\n",
              "              ('CGPA', '8.64'),\n",
              "              ('Research', '0'),\n",
              "              ('Chance of Admit ', '0.68')]),\n",
              " OrderedDict([('Serial No.', '111'),\n",
              "              ('GRE Score', '305'),\n",
              "              ('TOEFL Score', '108'),\n",
              "              ('University Rating', '5'),\n",
              "              ('SOP', '3'),\n",
              "              ('LOR ', '3'),\n",
              "              ('CGPA', '8.48'),\n",
              "              ('Research', '0'),\n",
              "              ('Chance of Admit ', '0.61')]),\n",
              " OrderedDict([('Serial No.', '112'),\n",
              "              ('GRE Score', '321'),\n",
              "              ('TOEFL Score', '109'),\n",
              "              ('University Rating', '4'),\n",
              "              ('SOP', '4'),\n",
              "              ('LOR ', '4'),\n",
              "              ('CGPA', '8.68'),\n",
              "              ('Research', '1'),\n",
              "              ('Chance of Admit ', '0.69')]),\n",
              " OrderedDict([('Serial No.', '113'),\n",
              "              ('GRE Score', '301'),\n",
              "              ('TOEFL Score', '107'),\n",
              "              ('University Rating', '3'),\n",
              "              ('SOP', '3.5'),\n",
              "              ('LOR ', '3.5'),\n",
              "              ('CGPA', '8.34'),\n",
              "              ('Research', '1'),\n",
              "              ('Chance of Admit ', '0.62')]),\n",
              " OrderedDict([('Serial No.', '114'),\n",
              "              ('GRE Score', '320'),\n",
              "              ('TOEFL Score', '110'),\n",
              "              ('University Rating', '2'),\n",
              "              ('SOP', '4'),\n",
              "              ('LOR ', '3.5'),\n",
              "              ('CGPA', '8.56'),\n",
              "              ('Research', '0'),\n",
              "              ('Chance of Admit ', '0.72')]),\n",
              " OrderedDict([('Serial No.', '115'),\n",
              "              ('GRE Score', '311'),\n",
              "              ('TOEFL Score', '105'),\n",
              "              ('University Rating', '3'),\n",
              "              ('SOP', '3.5'),\n",
              "              ('LOR ', '3'),\n",
              "              ('CGPA', '8.45'),\n",
              "              ('Research', '1'),\n",
              "              ('Chance of Admit ', '0.59')]),\n",
              " OrderedDict([('Serial No.', '116'),\n",
              "              ('GRE Score', '310'),\n",
              "              ('TOEFL Score', '106'),\n",
              "              ('University Rating', '4'),\n",
              "              ('SOP', '4.5'),\n",
              "              ('LOR ', '4.5'),\n",
              "              ('CGPA', '9.04'),\n",
              "              ('Research', '1'),\n",
              "              ('Chance of Admit ', '0.66')]),\n",
              " OrderedDict([('Serial No.', '117'),\n",
              "              ('GRE Score', '299'),\n",
              "              ('TOEFL Score', '102'),\n",
              "              ('University Rating', '3'),\n",
              "              ('SOP', '4'),\n",
              "              ('LOR ', '3.5'),\n",
              "              ('CGPA', '8.62'),\n",
              "              ('Research', '0'),\n",
              "              ('Chance of Admit ', '0.56')]),\n",
              " OrderedDict([('Serial No.', '118'),\n",
              "              ('GRE Score', '290'),\n",
              "              ('TOEFL Score', '104'),\n",
              "              ('University Rating', '4'),\n",
              "              ('SOP', '2'),\n",
              "              ('LOR ', '2.5'),\n",
              "              ('CGPA', '7.46'),\n",
              "              ('Research', '0'),\n",
              "              ('Chance of Admit ', '0.45')]),\n",
              " OrderedDict([('Serial No.', '119'),\n",
              "              ('GRE Score', '296'),\n",
              "              ('TOEFL Score', '99'),\n",
              "              ('University Rating', '2'),\n",
              "              ('SOP', '3'),\n",
              "              ('LOR ', '3.5'),\n",
              "              ('CGPA', '7.28'),\n",
              "              ('Research', '0'),\n",
              "              ('Chance of Admit ', '0.47')]),\n",
              " OrderedDict([('Serial No.', '120'),\n",
              "              ('GRE Score', '327'),\n",
              "              ('TOEFL Score', '104'),\n",
              "              ('University Rating', '5'),\n",
              "              ('SOP', '3'),\n",
              "              ('LOR ', '3.5'),\n",
              "              ('CGPA', '8.84'),\n",
              "              ('Research', '1'),\n",
              "              ('Chance of Admit ', '0.71')]),\n",
              " OrderedDict([('Serial No.', '121'),\n",
              "              ('GRE Score', '335'),\n",
              "              ('TOEFL Score', '117'),\n",
              "              ('University Rating', '5'),\n",
              "              ('SOP', '5'),\n",
              "              ('LOR ', '5'),\n",
              "              ('CGPA', '9.56'),\n",
              "              ('Research', '1'),\n",
              "              ('Chance of Admit ', '0.94')]),\n",
              " OrderedDict([('Serial No.', '122'),\n",
              "              ('GRE Score', '334'),\n",
              "              ('TOEFL Score', '119'),\n",
              "              ('University Rating', '5'),\n",
              "              ('SOP', '4.5'),\n",
              "              ('LOR ', '4.5'),\n",
              "              ('CGPA', '9.48'),\n",
              "              ('Research', '1'),\n",
              "              ('Chance of Admit ', '0.94')]),\n",
              " OrderedDict([('Serial No.', '123'),\n",
              "              ('GRE Score', '310'),\n",
              "              ('TOEFL Score', '106'),\n",
              "              ('University Rating', '4'),\n",
              "              ('SOP', '1.5'),\n",
              "              ('LOR ', '2.5'),\n",
              "              ('CGPA', '8.36'),\n",
              "              ('Research', '0'),\n",
              "              ('Chance of Admit ', '0.57')]),\n",
              " OrderedDict([('Serial No.', '124'),\n",
              "              ('GRE Score', '308'),\n",
              "              ('TOEFL Score', '108'),\n",
              "              ('University Rating', '3'),\n",
              "              ('SOP', '3.5'),\n",
              "              ('LOR ', '3.5'),\n",
              "              ('CGPA', '8.22'),\n",
              "              ('Research', '0'),\n",
              "              ('Chance of Admit ', '0.61')]),\n",
              " OrderedDict([('Serial No.', '125'),\n",
              "              ('GRE Score', '301'),\n",
              "              ('TOEFL Score', '106'),\n",
              "              ('University Rating', '4'),\n",
              "              ('SOP', '2.5'),\n",
              "              ('LOR ', '3'),\n",
              "              ('CGPA', '8.47'),\n",
              "              ('Research', '0'),\n",
              "              ('Chance of Admit ', '0.57')]),\n",
              " OrderedDict([('Serial No.', '126'),\n",
              "              ('GRE Score', '300'),\n",
              "              ('TOEFL Score', '100'),\n",
              "              ('University Rating', '3'),\n",
              "              ('SOP', '2'),\n",
              "              ('LOR ', '3'),\n",
              "              ('CGPA', '8.66'),\n",
              "              ('Research', '1'),\n",
              "              ('Chance of Admit ', '0.64')]),\n",
              " OrderedDict([('Serial No.', '127'),\n",
              "              ('GRE Score', '323'),\n",
              "              ('TOEFL Score', '113'),\n",
              "              ('University Rating', '3'),\n",
              "              ('SOP', '4'),\n",
              "              ('LOR ', '3'),\n",
              "              ('CGPA', '9.32'),\n",
              "              ('Research', '1'),\n",
              "              ('Chance of Admit ', '0.85')]),\n",
              " OrderedDict([('Serial No.', '128'),\n",
              "              ('GRE Score', '319'),\n",
              "              ('TOEFL Score', '112'),\n",
              "              ('University Rating', '3'),\n",
              "              ('SOP', '2.5'),\n",
              "              ('LOR ', '2'),\n",
              "              ('CGPA', '8.71'),\n",
              "              ('Research', '1'),\n",
              "              ('Chance of Admit ', '0.78')]),\n",
              " OrderedDict([('Serial No.', '129'),\n",
              "              ('GRE Score', '326'),\n",
              "              ('TOEFL Score', '112'),\n",
              "              ('University Rating', '3'),\n",
              "              ('SOP', '3.5'),\n",
              "              ('LOR ', '3'),\n",
              "              ('CGPA', '9.1'),\n",
              "              ('Research', '1'),\n",
              "              ('Chance of Admit ', '0.84')]),\n",
              " OrderedDict([('Serial No.', '130'),\n",
              "              ('GRE Score', '333'),\n",
              "              ('TOEFL Score', '118'),\n",
              "              ('University Rating', '5'),\n",
              "              ('SOP', '5'),\n",
              "              ('LOR ', '5'),\n",
              "              ('CGPA', '9.35'),\n",
              "              ('Research', '1'),\n",
              "              ('Chance of Admit ', '0.92')]),\n",
              " OrderedDict([('Serial No.', '131'),\n",
              "              ('GRE Score', '339'),\n",
              "              ('TOEFL Score', '114'),\n",
              "              ('University Rating', '5'),\n",
              "              ('SOP', '4'),\n",
              "              ('LOR ', '4.5'),\n",
              "              ('CGPA', '9.76'),\n",
              "              ('Research', '1'),\n",
              "              ('Chance of Admit ', '0.96')]),\n",
              " OrderedDict([('Serial No.', '132'),\n",
              "              ('GRE Score', '303'),\n",
              "              ('TOEFL Score', '105'),\n",
              "              ('University Rating', '5'),\n",
              "              ('SOP', '5'),\n",
              "              ('LOR ', '4.5'),\n",
              "              ('CGPA', '8.65'),\n",
              "              ('Research', '0'),\n",
              "              ('Chance of Admit ', '0.77')]),\n",
              " OrderedDict([('Serial No.', '133'),\n",
              "              ('GRE Score', '309'),\n",
              "              ('TOEFL Score', '105'),\n",
              "              ('University Rating', '5'),\n",
              "              ('SOP', '3.5'),\n",
              "              ('LOR ', '3.5'),\n",
              "              ('CGPA', '8.56'),\n",
              "              ('Research', '0'),\n",
              "              ('Chance of Admit ', '0.71')]),\n",
              " OrderedDict([('Serial No.', '134'),\n",
              "              ('GRE Score', '323'),\n",
              "              ('TOEFL Score', '112'),\n",
              "              ('University Rating', '5'),\n",
              "              ('SOP', '4'),\n",
              "              ('LOR ', '4.5'),\n",
              "              ('CGPA', '8.78'),\n",
              "              ('Research', '0'),\n",
              "              ('Chance of Admit ', '0.79')]),\n",
              " OrderedDict([('Serial No.', '135'),\n",
              "              ('GRE Score', '333'),\n",
              "              ('TOEFL Score', '113'),\n",
              "              ('University Rating', '5'),\n",
              "              ('SOP', '4'),\n",
              "              ('LOR ', '4'),\n",
              "              ('CGPA', '9.28'),\n",
              "              ('Research', '1'),\n",
              "              ('Chance of Admit ', '0.89')]),\n",
              " OrderedDict([('Serial No.', '136'),\n",
              "              ('GRE Score', '314'),\n",
              "              ('TOEFL Score', '109'),\n",
              "              ('University Rating', '4'),\n",
              "              ('SOP', '3.5'),\n",
              "              ('LOR ', '4'),\n",
              "              ('CGPA', '8.77'),\n",
              "              ('Research', '1'),\n",
              "              ('Chance of Admit ', '0.82')]),\n",
              " OrderedDict([('Serial No.', '137'),\n",
              "              ('GRE Score', '312'),\n",
              "              ('TOEFL Score', '103'),\n",
              "              ('University Rating', '3'),\n",
              "              ('SOP', '5'),\n",
              "              ('LOR ', '4'),\n",
              "              ('CGPA', '8.45'),\n",
              "              ('Research', '0'),\n",
              "              ('Chance of Admit ', '0.76')]),\n",
              " OrderedDict([('Serial No.', '138'),\n",
              "              ('GRE Score', '316'),\n",
              "              ('TOEFL Score', '100'),\n",
              "              ('University Rating', '2'),\n",
              "              ('SOP', '1.5'),\n",
              "              ('LOR ', '3'),\n",
              "              ('CGPA', '8.16'),\n",
              "              ('Research', '1'),\n",
              "              ('Chance of Admit ', '0.71')]),\n",
              " OrderedDict([('Serial No.', '139'),\n",
              "              ('GRE Score', '326'),\n",
              "              ('TOEFL Score', '116'),\n",
              "              ('University Rating', '2'),\n",
              "              ('SOP', '4.5'),\n",
              "              ('LOR ', '3'),\n",
              "              ('CGPA', '9.08'),\n",
              "              ('Research', '1'),\n",
              "              ('Chance of Admit ', '0.8')]),\n",
              " OrderedDict([('Serial No.', '140'),\n",
              "              ('GRE Score', '318'),\n",
              "              ('TOEFL Score', '109'),\n",
              "              ('University Rating', '1'),\n",
              "              ('SOP', '3.5'),\n",
              "              ('LOR ', '3.5'),\n",
              "              ('CGPA', '9.12'),\n",
              "              ('Research', '0'),\n",
              "              ('Chance of Admit ', '0.78')]),\n",
              " OrderedDict([('Serial No.', '141'),\n",
              "              ('GRE Score', '329'),\n",
              "              ('TOEFL Score', '110'),\n",
              "              ('University Rating', '2'),\n",
              "              ('SOP', '4'),\n",
              "              ('LOR ', '3'),\n",
              "              ('CGPA', '9.15'),\n",
              "              ('Research', '1'),\n",
              "              ('Chance of Admit ', '0.84')]),\n",
              " OrderedDict([('Serial No.', '142'),\n",
              "              ('GRE Score', '332'),\n",
              "              ('TOEFL Score', '118'),\n",
              "              ('University Rating', '2'),\n",
              "              ('SOP', '4.5'),\n",
              "              ('LOR ', '3.5'),\n",
              "              ('CGPA', '9.36'),\n",
              "              ('Research', '1'),\n",
              "              ('Chance of Admit ', '0.9')]),\n",
              " OrderedDict([('Serial No.', '143'),\n",
              "              ('GRE Score', '331'),\n",
              "              ('TOEFL Score', '115'),\n",
              "              ('University Rating', '5'),\n",
              "              ('SOP', '4'),\n",
              "              ('LOR ', '3.5'),\n",
              "              ('CGPA', '9.44'),\n",
              "              ('Research', '1'),\n",
              "              ('Chance of Admit ', '0.92')]),\n",
              " OrderedDict([('Serial No.', '144'),\n",
              "              ('GRE Score', '340'),\n",
              "              ('TOEFL Score', '120'),\n",
              "              ('University Rating', '4'),\n",
              "              ('SOP', '4.5'),\n",
              "              ('LOR ', '4'),\n",
              "              ('CGPA', '9.92'),\n",
              "              ('Research', '1'),\n",
              "              ('Chance of Admit ', '0.97')]),\n",
              " OrderedDict([('Serial No.', '145'),\n",
              "              ('GRE Score', '325'),\n",
              "              ('TOEFL Score', '112'),\n",
              "              ('University Rating', '2'),\n",
              "              ('SOP', '3'),\n",
              "              ('LOR ', '3.5'),\n",
              "              ('CGPA', '8.96'),\n",
              "              ('Research', '1'),\n",
              "              ('Chance of Admit ', '0.8')]),\n",
              " OrderedDict([('Serial No.', '146'),\n",
              "              ('GRE Score', '320'),\n",
              "              ('TOEFL Score', '113'),\n",
              "              ('University Rating', '2'),\n",
              "              ('SOP', '2'),\n",
              "              ('LOR ', '2.5'),\n",
              "              ('CGPA', '8.64'),\n",
              "              ('Research', '1'),\n",
              "              ('Chance of Admit ', '0.81')]),\n",
              " OrderedDict([('Serial No.', '147'),\n",
              "              ('GRE Score', '315'),\n",
              "              ('TOEFL Score', '105'),\n",
              "              ('University Rating', '3'),\n",
              "              ('SOP', '2'),\n",
              "              ('LOR ', '2.5'),\n",
              "              ('CGPA', '8.48'),\n",
              "              ('Research', '0'),\n",
              "              ('Chance of Admit ', '0.75')]),\n",
              " OrderedDict([('Serial No.', '148'),\n",
              "              ('GRE Score', '326'),\n",
              "              ('TOEFL Score', '114'),\n",
              "              ('University Rating', '3'),\n",
              "              ('SOP', '3'),\n",
              "              ('LOR ', '3'),\n",
              "              ('CGPA', '9.11'),\n",
              "              ('Research', '1'),\n",
              "              ('Chance of Admit ', '0.83')]),\n",
              " OrderedDict([('Serial No.', '149'),\n",
              "              ('GRE Score', '339'),\n",
              "              ('TOEFL Score', '116'),\n",
              "              ('University Rating', '4'),\n",
              "              ('SOP', '4'),\n",
              "              ('LOR ', '3.5'),\n",
              "              ('CGPA', '9.8'),\n",
              "              ('Research', '1'),\n",
              "              ('Chance of Admit ', '0.96')]),\n",
              " OrderedDict([('Serial No.', '150'),\n",
              "              ('GRE Score', '311'),\n",
              "              ('TOEFL Score', '106'),\n",
              "              ('University Rating', '2'),\n",
              "              ('SOP', '3.5'),\n",
              "              ('LOR ', '3'),\n",
              "              ('CGPA', '8.26'),\n",
              "              ('Research', '1'),\n",
              "              ('Chance of Admit ', '0.79')]),\n",
              " OrderedDict([('Serial No.', '151'),\n",
              "              ('GRE Score', '334'),\n",
              "              ('TOEFL Score', '114'),\n",
              "              ('University Rating', '4'),\n",
              "              ('SOP', '4'),\n",
              "              ('LOR ', '4'),\n",
              "              ('CGPA', '9.43'),\n",
              "              ('Research', '1'),\n",
              "              ('Chance of Admit ', '0.93')]),\n",
              " OrderedDict([('Serial No.', '152'),\n",
              "              ('GRE Score', '332'),\n",
              "              ('TOEFL Score', '116'),\n",
              "              ('University Rating', '5'),\n",
              "              ('SOP', '5'),\n",
              "              ('LOR ', '5'),\n",
              "              ('CGPA', '9.28'),\n",
              "              ('Research', '1'),\n",
              "              ('Chance of Admit ', '0.94')]),\n",
              " OrderedDict([('Serial No.', '153'),\n",
              "              ('GRE Score', '321'),\n",
              "              ('TOEFL Score', '112'),\n",
              "              ('University Rating', '5'),\n",
              "              ('SOP', '5'),\n",
              "              ('LOR ', '5'),\n",
              "              ('CGPA', '9.06'),\n",
              "              ('Research', '1'),\n",
              "              ('Chance of Admit ', '0.86')]),\n",
              " OrderedDict([('Serial No.', '154'),\n",
              "              ('GRE Score', '324'),\n",
              "              ('TOEFL Score', '105'),\n",
              "              ('University Rating', '3'),\n",
              "              ('SOP', '3'),\n",
              "              ('LOR ', '4'),\n",
              "              ('CGPA', '8.75'),\n",
              "              ('Research', '0'),\n",
              "              ('Chance of Admit ', '0.79')]),\n",
              " OrderedDict([('Serial No.', '155'),\n",
              "              ('GRE Score', '326'),\n",
              "              ('TOEFL Score', '108'),\n",
              "              ('University Rating', '3'),\n",
              "              ('SOP', '3'),\n",
              "              ('LOR ', '3.5'),\n",
              "              ('CGPA', '8.89'),\n",
              "              ('Research', '0'),\n",
              "              ('Chance of Admit ', '0.8')]),\n",
              " OrderedDict([('Serial No.', '156'),\n",
              "              ('GRE Score', '312'),\n",
              "              ('TOEFL Score', '109'),\n",
              "              ('University Rating', '3'),\n",
              "              ('SOP', '3'),\n",
              "              ('LOR ', '3'),\n",
              "              ('CGPA', '8.69'),\n",
              "              ('Research', '0'),\n",
              "              ('Chance of Admit ', '0.77')]),\n",
              " OrderedDict([('Serial No.', '157'),\n",
              "              ('GRE Score', '315'),\n",
              "              ('TOEFL Score', '105'),\n",
              "              ('University Rating', '3'),\n",
              "              ('SOP', '2'),\n",
              "              ('LOR ', '2.5'),\n",
              "              ('CGPA', '8.34'),\n",
              "              ('Research', '0'),\n",
              "              ('Chance of Admit ', '0.7')]),\n",
              " OrderedDict([('Serial No.', '158'),\n",
              "              ('GRE Score', '309'),\n",
              "              ('TOEFL Score', '104'),\n",
              "              ('University Rating', '2'),\n",
              "              ('SOP', '2'),\n",
              "              ('LOR ', '2.5'),\n",
              "              ('CGPA', '8.26'),\n",
              "              ('Research', '0'),\n",
              "              ('Chance of Admit ', '0.65')]),\n",
              " OrderedDict([('Serial No.', '159'),\n",
              "              ('GRE Score', '306'),\n",
              "              ('TOEFL Score', '106'),\n",
              "              ('University Rating', '2'),\n",
              "              ('SOP', '2'),\n",
              "              ('LOR ', '2.5'),\n",
              "              ('CGPA', '8.14'),\n",
              "              ('Research', '0'),\n",
              "              ('Chance of Admit ', '0.61')]),\n",
              " OrderedDict([('Serial No.', '160'),\n",
              "              ('GRE Score', '297'),\n",
              "              ('TOEFL Score', '100'),\n",
              "              ('University Rating', '1'),\n",
              "              ('SOP', '1.5'),\n",
              "              ('LOR ', '2'),\n",
              "              ('CGPA', '7.9'),\n",
              "              ('Research', '0'),\n",
              "              ('Chance of Admit ', '0.52')]),\n",
              " OrderedDict([('Serial No.', '161'),\n",
              "              ('GRE Score', '315'),\n",
              "              ('TOEFL Score', '103'),\n",
              "              ('University Rating', '1'),\n",
              "              ('SOP', '1.5'),\n",
              "              ('LOR ', '2'),\n",
              "              ('CGPA', '7.86'),\n",
              "              ('Research', '0'),\n",
              "              ('Chance of Admit ', '0.57')]),\n",
              " OrderedDict([('Serial No.', '162'),\n",
              "              ('GRE Score', '298'),\n",
              "              ('TOEFL Score', '99'),\n",
              "              ('University Rating', '1'),\n",
              "              ('SOP', '1.5'),\n",
              "              ('LOR ', '3'),\n",
              "              ('CGPA', '7.46'),\n",
              "              ('Research', '0'),\n",
              "              ('Chance of Admit ', '0.53')]),\n",
              " OrderedDict([('Serial No.', '163'),\n",
              "              ('GRE Score', '318'),\n",
              "              ('TOEFL Score', '109'),\n",
              "              ('University Rating', '3'),\n",
              "              ('SOP', '3'),\n",
              "              ('LOR ', '3'),\n",
              "              ('CGPA', '8.5'),\n",
              "              ('Research', '0'),\n",
              "              ('Chance of Admit ', '0.67')]),\n",
              " OrderedDict([('Serial No.', '164'),\n",
              "              ('GRE Score', '317'),\n",
              "              ('TOEFL Score', '105'),\n",
              "              ('University Rating', '3'),\n",
              "              ('SOP', '3.5'),\n",
              "              ('LOR ', '3'),\n",
              "              ('CGPA', '8.56'),\n",
              "              ('Research', '0'),\n",
              "              ('Chance of Admit ', '0.68')]),\n",
              " OrderedDict([('Serial No.', '165'),\n",
              "              ('GRE Score', '329'),\n",
              "              ('TOEFL Score', '111'),\n",
              "              ('University Rating', '4'),\n",
              "              ('SOP', '4.5'),\n",
              "              ('LOR ', '4'),\n",
              "              ('CGPA', '9.01'),\n",
              "              ('Research', '1'),\n",
              "              ('Chance of Admit ', '0.81')]),\n",
              " OrderedDict([('Serial No.', '166'),\n",
              "              ('GRE Score', '322'),\n",
              "              ('TOEFL Score', '110'),\n",
              "              ('University Rating', '5'),\n",
              "              ('SOP', '4.5'),\n",
              "              ('LOR ', '4'),\n",
              "              ('CGPA', '8.97'),\n",
              "              ('Research', '0'),\n",
              "              ('Chance of Admit ', '0.78')]),\n",
              " OrderedDict([('Serial No.', '167'),\n",
              "              ('GRE Score', '302'),\n",
              "              ('TOEFL Score', '102'),\n",
              "              ('University Rating', '3'),\n",
              "              ('SOP', '3.5'),\n",
              "              ('LOR ', '5'),\n",
              "              ('CGPA', '8.33'),\n",
              "              ('Research', '0'),\n",
              "              ('Chance of Admit ', '0.65')]),\n",
              " OrderedDict([('Serial No.', '168'),\n",
              "              ('GRE Score', '313'),\n",
              "              ('TOEFL Score', '102'),\n",
              "              ('University Rating', '3'),\n",
              "              ('SOP', '2'),\n",
              "              ('LOR ', '3'),\n",
              "              ('CGPA', '8.27'),\n",
              "              ('Research', '0'),\n",
              "              ('Chance of Admit ', '0.64')]),\n",
              " OrderedDict([('Serial No.', '169'),\n",
              "              ('GRE Score', '293'),\n",
              "              ('TOEFL Score', '97'),\n",
              "              ('University Rating', '2'),\n",
              "              ('SOP', '2'),\n",
              "              ('LOR ', '4'),\n",
              "              ('CGPA', '7.8'),\n",
              "              ('Research', '1'),\n",
              "              ('Chance of Admit ', '0.64')]),\n",
              " OrderedDict([('Serial No.', '170'),\n",
              "              ('GRE Score', '311'),\n",
              "              ('TOEFL Score', '99'),\n",
              "              ('University Rating', '2'),\n",
              "              ('SOP', '2.5'),\n",
              "              ('LOR ', '3'),\n",
              "              ('CGPA', '7.98'),\n",
              "              ('Research', '0'),\n",
              "              ('Chance of Admit ', '0.65')]),\n",
              " OrderedDict([('Serial No.', '171'),\n",
              "              ('GRE Score', '312'),\n",
              "              ('TOEFL Score', '101'),\n",
              "              ('University Rating', '2'),\n",
              "              ('SOP', '2.5'),\n",
              "              ('LOR ', '3.5'),\n",
              "              ('CGPA', '8.04'),\n",
              "              ('Research', '1'),\n",
              "              ('Chance of Admit ', '0.68')]),\n",
              " OrderedDict([('Serial No.', '172'),\n",
              "              ('GRE Score', '334'),\n",
              "              ('TOEFL Score', '117'),\n",
              "              ('University Rating', '5'),\n",
              "              ('SOP', '4'),\n",
              "              ('LOR ', '4.5'),\n",
              "              ('CGPA', '9.07'),\n",
              "              ('Research', '1'),\n",
              "              ('Chance of Admit ', '0.89')]),\n",
              " OrderedDict([('Serial No.', '173'),\n",
              "              ('GRE Score', '322'),\n",
              "              ('TOEFL Score', '110'),\n",
              "              ('University Rating', '4'),\n",
              "              ('SOP', '4'),\n",
              "              ('LOR ', '5'),\n",
              "              ('CGPA', '9.13'),\n",
              "              ('Research', '1'),\n",
              "              ('Chance of Admit ', '0.86')]),\n",
              " OrderedDict([('Serial No.', '174'),\n",
              "              ('GRE Score', '323'),\n",
              "              ('TOEFL Score', '113'),\n",
              "              ('University Rating', '4'),\n",
              "              ('SOP', '4'),\n",
              "              ('LOR ', '4.5'),\n",
              "              ('CGPA', '9.23'),\n",
              "              ('Research', '1'),\n",
              "              ('Chance of Admit ', '0.89')]),\n",
              " OrderedDict([('Serial No.', '175'),\n",
              "              ('GRE Score', '321'),\n",
              "              ('TOEFL Score', '111'),\n",
              "              ('University Rating', '4'),\n",
              "              ('SOP', '4'),\n",
              "              ('LOR ', '4'),\n",
              "              ('CGPA', '8.97'),\n",
              "              ('Research', '1'),\n",
              "              ('Chance of Admit ', '0.87')]),\n",
              " OrderedDict([('Serial No.', '176'),\n",
              "              ('GRE Score', '320'),\n",
              "              ('TOEFL Score', '111'),\n",
              "              ('University Rating', '4'),\n",
              "              ('SOP', '4.5'),\n",
              "              ('LOR ', '3.5'),\n",
              "              ('CGPA', '8.87'),\n",
              "              ('Research', '1'),\n",
              "              ('Chance of Admit ', '0.85')]),\n",
              " OrderedDict([('Serial No.', '177'),\n",
              "              ('GRE Score', '329'),\n",
              "              ('TOEFL Score', '119'),\n",
              "              ('University Rating', '4'),\n",
              "              ('SOP', '4.5'),\n",
              "              ('LOR ', '4.5'),\n",
              "              ('CGPA', '9.16'),\n",
              "              ('Research', '1'),\n",
              "              ('Chance of Admit ', '0.9')]),\n",
              " OrderedDict([('Serial No.', '178'),\n",
              "              ('GRE Score', '319'),\n",
              "              ('TOEFL Score', '110'),\n",
              "              ('University Rating', '3'),\n",
              "              ('SOP', '3.5'),\n",
              "              ('LOR ', '3.5'),\n",
              "              ('CGPA', '9.04'),\n",
              "              ('Research', '0'),\n",
              "              ('Chance of Admit ', '0.82')]),\n",
              " OrderedDict([('Serial No.', '179'),\n",
              "              ('GRE Score', '309'),\n",
              "              ('TOEFL Score', '108'),\n",
              "              ('University Rating', '3'),\n",
              "              ('SOP', '2.5'),\n",
              "              ('LOR ', '3'),\n",
              "              ('CGPA', '8.12'),\n",
              "              ('Research', '0'),\n",
              "              ('Chance of Admit ', '0.72')]),\n",
              " OrderedDict([('Serial No.', '180'),\n",
              "              ('GRE Score', '307'),\n",
              "              ('TOEFL Score', '102'),\n",
              "              ('University Rating', '3'),\n",
              "              ('SOP', '3'),\n",
              "              ('LOR ', '3'),\n",
              "              ('CGPA', '8.27'),\n",
              "              ('Research', '0'),\n",
              "              ('Chance of Admit ', '0.73')]),\n",
              " OrderedDict([('Serial No.', '181'),\n",
              "              ('GRE Score', '300'),\n",
              "              ('TOEFL Score', '104'),\n",
              "              ('University Rating', '3'),\n",
              "              ('SOP', '3.5'),\n",
              "              ('LOR ', '3'),\n",
              "              ('CGPA', '8.16'),\n",
              "              ('Research', '0'),\n",
              "              ('Chance of Admit ', '0.71')]),\n",
              " OrderedDict([('Serial No.', '182'),\n",
              "              ('GRE Score', '305'),\n",
              "              ('TOEFL Score', '107'),\n",
              "              ('University Rating', '2'),\n",
              "              ('SOP', '2.5'),\n",
              "              ('LOR ', '2.5'),\n",
              "              ('CGPA', '8.42'),\n",
              "              ('Research', '0'),\n",
              "              ('Chance of Admit ', '0.71')]),\n",
              " OrderedDict([('Serial No.', '183'),\n",
              "              ('GRE Score', '299'),\n",
              "              ('TOEFL Score', '100'),\n",
              "              ('University Rating', '2'),\n",
              "              ('SOP', '3'),\n",
              "              ('LOR ', '3.5'),\n",
              "              ('CGPA', '7.88'),\n",
              "              ('Research', '0'),\n",
              "              ('Chance of Admit ', '0.68')]),\n",
              " OrderedDict([('Serial No.', '184'),\n",
              "              ('GRE Score', '314'),\n",
              "              ('TOEFL Score', '110'),\n",
              "              ('University Rating', '3'),\n",
              "              ('SOP', '4'),\n",
              "              ('LOR ', '4'),\n",
              "              ('CGPA', '8.8'),\n",
              "              ('Research', '0'),\n",
              "              ('Chance of Admit ', '0.75')]),\n",
              " OrderedDict([('Serial No.', '185'),\n",
              "              ('GRE Score', '316'),\n",
              "              ('TOEFL Score', '106'),\n",
              "              ('University Rating', '2'),\n",
              "              ('SOP', '2.5'),\n",
              "              ('LOR ', '4'),\n",
              "              ('CGPA', '8.32'),\n",
              "              ('Research', '0'),\n",
              "              ('Chance of Admit ', '0.72')]),\n",
              " OrderedDict([('Serial No.', '186'),\n",
              "              ('GRE Score', '327'),\n",
              "              ('TOEFL Score', '113'),\n",
              "              ('University Rating', '4'),\n",
              "              ('SOP', '4.5'),\n",
              "              ('LOR ', '4.5'),\n",
              "              ('CGPA', '9.11'),\n",
              "              ('Research', '1'),\n",
              "              ('Chance of Admit ', '0.89')]),\n",
              " OrderedDict([('Serial No.', '187'),\n",
              "              ('GRE Score', '317'),\n",
              "              ('TOEFL Score', '107'),\n",
              "              ('University Rating', '3'),\n",
              "              ('SOP', '3.5'),\n",
              "              ('LOR ', '3'),\n",
              "              ('CGPA', '8.68'),\n",
              "              ('Research', '1'),\n",
              "              ('Chance of Admit ', '0.84')]),\n",
              " OrderedDict([('Serial No.', '188'),\n",
              "              ('GRE Score', '335'),\n",
              "              ('TOEFL Score', '118'),\n",
              "              ('University Rating', '5'),\n",
              "              ('SOP', '4.5'),\n",
              "              ('LOR ', '3.5'),\n",
              "              ('CGPA', '9.44'),\n",
              "              ('Research', '1'),\n",
              "              ('Chance of Admit ', '0.93')]),\n",
              " OrderedDict([('Serial No.', '189'),\n",
              "              ('GRE Score', '331'),\n",
              "              ('TOEFL Score', '115'),\n",
              "              ('University Rating', '5'),\n",
              "              ('SOP', '4.5'),\n",
              "              ('LOR ', '3.5'),\n",
              "              ('CGPA', '9.36'),\n",
              "              ('Research', '1'),\n",
              "              ('Chance of Admit ', '0.93')]),\n",
              " OrderedDict([('Serial No.', '190'),\n",
              "              ('GRE Score', '324'),\n",
              "              ('TOEFL Score', '112'),\n",
              "              ('University Rating', '5'),\n",
              "              ('SOP', '5'),\n",
              "              ('LOR ', '5'),\n",
              "              ('CGPA', '9.08'),\n",
              "              ('Research', '1'),\n",
              "              ('Chance of Admit ', '0.88')]),\n",
              " OrderedDict([('Serial No.', '191'),\n",
              "              ('GRE Score', '324'),\n",
              "              ('TOEFL Score', '111'),\n",
              "              ('University Rating', '5'),\n",
              "              ('SOP', '4.5'),\n",
              "              ('LOR ', '4'),\n",
              "              ('CGPA', '9.16'),\n",
              "              ('Research', '1'),\n",
              "              ('Chance of Admit ', '0.9')]),\n",
              " OrderedDict([('Serial No.', '192'),\n",
              "              ('GRE Score', '323'),\n",
              "              ('TOEFL Score', '110'),\n",
              "              ('University Rating', '5'),\n",
              "              ('SOP', '4'),\n",
              "              ('LOR ', '5'),\n",
              "              ('CGPA', '8.98'),\n",
              "              ('Research', '1'),\n",
              "              ('Chance of Admit ', '0.87')]),\n",
              " OrderedDict([('Serial No.', '193'),\n",
              "              ('GRE Score', '322'),\n",
              "              ('TOEFL Score', '114'),\n",
              "              ('University Rating', '5'),\n",
              "              ('SOP', '4.5'),\n",
              "              ('LOR ', '4'),\n",
              "              ('CGPA', '8.94'),\n",
              "              ('Research', '1'),\n",
              "              ('Chance of Admit ', '0.86')]),\n",
              " OrderedDict([('Serial No.', '194'),\n",
              "              ('GRE Score', '336'),\n",
              "              ('TOEFL Score', '118'),\n",
              "              ('University Rating', '5'),\n",
              "              ('SOP', '4.5'),\n",
              "              ('LOR ', '5'),\n",
              "              ('CGPA', '9.53'),\n",
              "              ('Research', '1'),\n",
              "              ('Chance of Admit ', '0.94')]),\n",
              " OrderedDict([('Serial No.', '195'),\n",
              "              ('GRE Score', '316'),\n",
              "              ('TOEFL Score', '109'),\n",
              "              ('University Rating', '3'),\n",
              "              ('SOP', '3.5'),\n",
              "              ('LOR ', '3'),\n",
              "              ('CGPA', '8.76'),\n",
              "              ('Research', '0'),\n",
              "              ('Chance of Admit ', '0.77')]),\n",
              " OrderedDict([('Serial No.', '196'),\n",
              "              ('GRE Score', '307'),\n",
              "              ('TOEFL Score', '107'),\n",
              "              ('University Rating', '2'),\n",
              "              ('SOP', '3'),\n",
              "              ('LOR ', '3.5'),\n",
              "              ('CGPA', '8.52'),\n",
              "              ('Research', '1'),\n",
              "              ('Chance of Admit ', '0.78')]),\n",
              " OrderedDict([('Serial No.', '197'),\n",
              "              ('GRE Score', '306'),\n",
              "              ('TOEFL Score', '105'),\n",
              "              ('University Rating', '2'),\n",
              "              ('SOP', '3'),\n",
              "              ('LOR ', '2.5'),\n",
              "              ('CGPA', '8.26'),\n",
              "              ('Research', '0'),\n",
              "              ('Chance of Admit ', '0.73')]),\n",
              " OrderedDict([('Serial No.', '198'),\n",
              "              ('GRE Score', '310'),\n",
              "              ('TOEFL Score', '106'),\n",
              "              ('University Rating', '2'),\n",
              "              ('SOP', '3.5'),\n",
              "              ('LOR ', '2.5'),\n",
              "              ('CGPA', '8.33'),\n",
              "              ('Research', '0'),\n",
              "              ('Chance of Admit ', '0.73')]),\n",
              " OrderedDict([('Serial No.', '199'),\n",
              "              ('GRE Score', '311'),\n",
              "              ('TOEFL Score', '104'),\n",
              "              ('University Rating', '3'),\n",
              "              ('SOP', '4.5'),\n",
              "              ('LOR ', '4.5'),\n",
              "              ('CGPA', '8.43'),\n",
              "              ('Research', '0'),\n",
              "              ('Chance of Admit ', '0.7')]),\n",
              " OrderedDict([('Serial No.', '200'),\n",
              "              ('GRE Score', '313'),\n",
              "              ('TOEFL Score', '107'),\n",
              "              ('University Rating', '3'),\n",
              "              ('SOP', '4'),\n",
              "              ('LOR ', '4.5'),\n",
              "              ('CGPA', '8.69'),\n",
              "              ('Research', '0'),\n",
              "              ('Chance of Admit ', '0.72')]),\n",
              " OrderedDict([('Serial No.', '201'),\n",
              "              ('GRE Score', '317'),\n",
              "              ('TOEFL Score', '103'),\n",
              "              ('University Rating', '3'),\n",
              "              ('SOP', '2.5'),\n",
              "              ('LOR ', '3'),\n",
              "              ('CGPA', '8.54'),\n",
              "              ('Research', '1'),\n",
              "              ('Chance of Admit ', '0.73')]),\n",
              " OrderedDict([('Serial No.', '202'),\n",
              "              ('GRE Score', '315'),\n",
              "              ('TOEFL Score', '110'),\n",
              "              ('University Rating', '2'),\n",
              "              ('SOP', '3.5'),\n",
              "              ('LOR ', '3'),\n",
              "              ('CGPA', '8.46'),\n",
              "              ('Research', '1'),\n",
              "              ('Chance of Admit ', '0.72')]),\n",
              " OrderedDict([('Serial No.', '203'),\n",
              "              ('GRE Score', '340'),\n",
              "              ('TOEFL Score', '120'),\n",
              "              ('University Rating', '5'),\n",
              "              ('SOP', '4.5'),\n",
              "              ('LOR ', '4.5'),\n",
              "              ('CGPA', '9.91'),\n",
              "              ('Research', '1'),\n",
              "              ('Chance of Admit ', '0.97')]),\n",
              " OrderedDict([('Serial No.', '204'),\n",
              "              ('GRE Score', '334'),\n",
              "              ('TOEFL Score', '120'),\n",
              "              ('University Rating', '5'),\n",
              "              ('SOP', '4'),\n",
              "              ('LOR ', '5'),\n",
              "              ('CGPA', '9.87'),\n",
              "              ('Research', '1'),\n",
              "              ('Chance of Admit ', '0.97')]),\n",
              " OrderedDict([('Serial No.', '205'),\n",
              "              ('GRE Score', '298'),\n",
              "              ('TOEFL Score', '105'),\n",
              "              ('University Rating', '3'),\n",
              "              ('SOP', '3.5'),\n",
              "              ('LOR ', '4'),\n",
              "              ('CGPA', '8.54'),\n",
              "              ('Research', '0'),\n",
              "              ('Chance of Admit ', '0.69')]),\n",
              " OrderedDict([('Serial No.', '206'),\n",
              "              ('GRE Score', '295'),\n",
              "              ('TOEFL Score', '99'),\n",
              "              ('University Rating', '2'),\n",
              "              ('SOP', '2.5'),\n",
              "              ('LOR ', '3'),\n",
              "              ('CGPA', '7.65'),\n",
              "              ('Research', '0'),\n",
              "              ('Chance of Admit ', '0.57')]),\n",
              " OrderedDict([('Serial No.', '207'),\n",
              "              ('GRE Score', '315'),\n",
              "              ('TOEFL Score', '99'),\n",
              "              ('University Rating', '2'),\n",
              "              ('SOP', '3.5'),\n",
              "              ('LOR ', '3'),\n",
              "              ('CGPA', '7.89'),\n",
              "              ('Research', '0'),\n",
              "              ('Chance of Admit ', '0.63')]),\n",
              " OrderedDict([('Serial No.', '208'),\n",
              "              ('GRE Score', '310'),\n",
              "              ('TOEFL Score', '102'),\n",
              "              ('University Rating', '3'),\n",
              "              ('SOP', '3.5'),\n",
              "              ('LOR ', '4'),\n",
              "              ('CGPA', '8.02'),\n",
              "              ('Research', '1'),\n",
              "              ('Chance of Admit ', '0.66')]),\n",
              " OrderedDict([('Serial No.', '209'),\n",
              "              ('GRE Score', '305'),\n",
              "              ('TOEFL Score', '106'),\n",
              "              ('University Rating', '2'),\n",
              "              ('SOP', '3'),\n",
              "              ('LOR ', '3'),\n",
              "              ('CGPA', '8.16'),\n",
              "              ('Research', '0'),\n",
              "              ('Chance of Admit ', '0.64')]),\n",
              " OrderedDict([('Serial No.', '210'),\n",
              "              ('GRE Score', '301'),\n",
              "              ('TOEFL Score', '104'),\n",
              "              ('University Rating', '3'),\n",
              "              ('SOP', '3.5'),\n",
              "              ('LOR ', '4'),\n",
              "              ('CGPA', '8.12'),\n",
              "              ('Research', '1'),\n",
              "              ('Chance of Admit ', '0.68')]),\n",
              " OrderedDict([('Serial No.', '211'),\n",
              "              ('GRE Score', '325'),\n",
              "              ('TOEFL Score', '108'),\n",
              "              ('University Rating', '4'),\n",
              "              ('SOP', '4.5'),\n",
              "              ('LOR ', '4'),\n",
              "              ('CGPA', '9.06'),\n",
              "              ('Research', '1'),\n",
              "              ('Chance of Admit ', '0.79')]),\n",
              " OrderedDict([('Serial No.', '212'),\n",
              "              ('GRE Score', '328'),\n",
              "              ('TOEFL Score', '110'),\n",
              "              ('University Rating', '4'),\n",
              "              ('SOP', '5'),\n",
              "              ('LOR ', '4'),\n",
              "              ('CGPA', '9.14'),\n",
              "              ('Research', '1'),\n",
              "              ('Chance of Admit ', '0.82')]),\n",
              " OrderedDict([('Serial No.', '213'),\n",
              "              ('GRE Score', '338'),\n",
              "              ('TOEFL Score', '120'),\n",
              "              ('University Rating', '4'),\n",
              "              ('SOP', '5'),\n",
              "              ('LOR ', '5'),\n",
              "              ('CGPA', '9.66'),\n",
              "              ('Research', '1'),\n",
              "              ('Chance of Admit ', '0.95')]),\n",
              " OrderedDict([('Serial No.', '214'),\n",
              "              ('GRE Score', '333'),\n",
              "              ('TOEFL Score', '119'),\n",
              "              ('University Rating', '5'),\n",
              "              ('SOP', '5'),\n",
              "              ('LOR ', '4.5'),\n",
              "              ('CGPA', '9.78'),\n",
              "              ('Research', '1'),\n",
              "              ('Chance of Admit ', '0.96')]),\n",
              " OrderedDict([('Serial No.', '215'),\n",
              "              ('GRE Score', '331'),\n",
              "              ('TOEFL Score', '117'),\n",
              "              ('University Rating', '4'),\n",
              "              ('SOP', '4.5'),\n",
              "              ('LOR ', '5'),\n",
              "              ('CGPA', '9.42'),\n",
              "              ('Research', '1'),\n",
              "              ('Chance of Admit ', '0.94')]),\n",
              " OrderedDict([('Serial No.', '216'),\n",
              "              ('GRE Score', '330'),\n",
              "              ('TOEFL Score', '116'),\n",
              "              ('University Rating', '5'),\n",
              "              ('SOP', '5'),\n",
              "              ('LOR ', '4.5'),\n",
              "              ('CGPA', '9.36'),\n",
              "              ('Research', '1'),\n",
              "              ('Chance of Admit ', '0.93')]),\n",
              " OrderedDict([('Serial No.', '217'),\n",
              "              ('GRE Score', '322'),\n",
              "              ('TOEFL Score', '112'),\n",
              "              ('University Rating', '4'),\n",
              "              ('SOP', '4.5'),\n",
              "              ('LOR ', '4.5'),\n",
              "              ('CGPA', '9.26'),\n",
              "              ('Research', '1'),\n",
              "              ('Chance of Admit ', '0.91')]),\n",
              " OrderedDict([('Serial No.', '218'),\n",
              "              ('GRE Score', '321'),\n",
              "              ('TOEFL Score', '109'),\n",
              "              ('University Rating', '4'),\n",
              "              ('SOP', '4'),\n",
              "              ('LOR ', '4'),\n",
              "              ('CGPA', '9.13'),\n",
              "              ('Research', '1'),\n",
              "              ('Chance of Admit ', '0.85')]),\n",
              " OrderedDict([('Serial No.', '219'),\n",
              "              ('GRE Score', '324'),\n",
              "              ('TOEFL Score', '110'),\n",
              "              ('University Rating', '4'),\n",
              "              ('SOP', '3'),\n",
              "              ('LOR ', '3.5'),\n",
              "              ('CGPA', '8.97'),\n",
              "              ('Research', '1'),\n",
              "              ('Chance of Admit ', '0.84')]),\n",
              " OrderedDict([('Serial No.', '220'),\n",
              "              ('GRE Score', '312'),\n",
              "              ('TOEFL Score', '104'),\n",
              "              ('University Rating', '3'),\n",
              "              ('SOP', '3.5'),\n",
              "              ('LOR ', '3.5'),\n",
              "              ('CGPA', '8.42'),\n",
              "              ('Research', '0'),\n",
              "              ('Chance of Admit ', '0.74')]),\n",
              " OrderedDict([('Serial No.', '221'),\n",
              "              ('GRE Score', '313'),\n",
              "              ('TOEFL Score', '103'),\n",
              "              ('University Rating', '3'),\n",
              "              ('SOP', '4'),\n",
              "              ('LOR ', '4'),\n",
              "              ('CGPA', '8.75'),\n",
              "              ('Research', '0'),\n",
              "              ('Chance of Admit ', '0.76')]),\n",
              " OrderedDict([('Serial No.', '222'),\n",
              "              ('GRE Score', '316'),\n",
              "              ('TOEFL Score', '110'),\n",
              "              ('University Rating', '3'),\n",
              "              ('SOP', '3.5'),\n",
              "              ('LOR ', '4'),\n",
              "              ('CGPA', '8.56'),\n",
              "              ('Research', '0'),\n",
              "              ('Chance of Admit ', '0.75')]),\n",
              " OrderedDict([('Serial No.', '223'),\n",
              "              ('GRE Score', '324'),\n",
              "              ('TOEFL Score', '113'),\n",
              "              ('University Rating', '4'),\n",
              "              ('SOP', '4.5'),\n",
              "              ('LOR ', '4'),\n",
              "              ('CGPA', '8.79'),\n",
              "              ('Research', '0'),\n",
              "              ('Chance of Admit ', '0.76')]),\n",
              " OrderedDict([('Serial No.', '224'),\n",
              "              ('GRE Score', '308'),\n",
              "              ('TOEFL Score', '109'),\n",
              "              ('University Rating', '2'),\n",
              "              ('SOP', '3'),\n",
              "              ('LOR ', '4'),\n",
              "              ('CGPA', '8.45'),\n",
              "              ('Research', '0'),\n",
              "              ('Chance of Admit ', '0.71')]),\n",
              " OrderedDict([('Serial No.', '225'),\n",
              "              ('GRE Score', '305'),\n",
              "              ('TOEFL Score', '105'),\n",
              "              ('University Rating', '2'),\n",
              "              ('SOP', '3'),\n",
              "              ('LOR ', '2'),\n",
              "              ('CGPA', '8.23'),\n",
              "              ('Research', '0'),\n",
              "              ('Chance of Admit ', '0.67')]),\n",
              " OrderedDict([('Serial No.', '226'),\n",
              "              ('GRE Score', '296'),\n",
              "              ('TOEFL Score', '99'),\n",
              "              ('University Rating', '2'),\n",
              "              ('SOP', '2.5'),\n",
              "              ('LOR ', '2.5'),\n",
              "              ('CGPA', '8.03'),\n",
              "              ('Research', '0'),\n",
              "              ('Chance of Admit ', '0.61')]),\n",
              " OrderedDict([('Serial No.', '227'),\n",
              "              ('GRE Score', '306'),\n",
              "              ('TOEFL Score', '110'),\n",
              "              ('University Rating', '2'),\n",
              "              ('SOP', '3.5'),\n",
              "              ('LOR ', '4'),\n",
              "              ('CGPA', '8.45'),\n",
              "              ('Research', '0'),\n",
              "              ('Chance of Admit ', '0.63')]),\n",
              " OrderedDict([('Serial No.', '228'),\n",
              "              ('GRE Score', '312'),\n",
              "              ('TOEFL Score', '110'),\n",
              "              ('University Rating', '2'),\n",
              "              ('SOP', '3.5'),\n",
              "              ('LOR ', '3'),\n",
              "              ('CGPA', '8.53'),\n",
              "              ('Research', '0'),\n",
              "              ('Chance of Admit ', '0.64')]),\n",
              " OrderedDict([('Serial No.', '229'),\n",
              "              ('GRE Score', '318'),\n",
              "              ('TOEFL Score', '112'),\n",
              "              ('University Rating', '3'),\n",
              "              ('SOP', '4'),\n",
              "              ('LOR ', '3.5'),\n",
              "              ('CGPA', '8.67'),\n",
              "              ('Research', '0'),\n",
              "              ('Chance of Admit ', '0.71')]),\n",
              " OrderedDict([('Serial No.', '230'),\n",
              "              ('GRE Score', '324'),\n",
              "              ('TOEFL Score', '111'),\n",
              "              ('University Rating', '4'),\n",
              "              ('SOP', '3'),\n",
              "              ('LOR ', '3'),\n",
              "              ('CGPA', '9.01'),\n",
              "              ('Research', '1'),\n",
              "              ('Chance of Admit ', '0.82')]),\n",
              " OrderedDict([('Serial No.', '231'),\n",
              "              ('GRE Score', '313'),\n",
              "              ('TOEFL Score', '104'),\n",
              "              ('University Rating', '3'),\n",
              "              ('SOP', '4'),\n",
              "              ('LOR ', '4.5'),\n",
              "              ('CGPA', '8.65'),\n",
              "              ('Research', '0'),\n",
              "              ('Chance of Admit ', '0.73')]),\n",
              " OrderedDict([('Serial No.', '232'),\n",
              "              ('GRE Score', '319'),\n",
              "              ('TOEFL Score', '106'),\n",
              "              ('University Rating', '3'),\n",
              "              ('SOP', '3.5'),\n",
              "              ('LOR ', '2.5'),\n",
              "              ('CGPA', '8.33'),\n",
              "              ('Research', '1'),\n",
              "              ('Chance of Admit ', '0.74')]),\n",
              " OrderedDict([('Serial No.', '233'),\n",
              "              ('GRE Score', '312'),\n",
              "              ('TOEFL Score', '107'),\n",
              "              ('University Rating', '2'),\n",
              "              ('SOP', '2.5'),\n",
              "              ('LOR ', '3.5'),\n",
              "              ('CGPA', '8.27'),\n",
              "              ('Research', '0'),\n",
              "              ('Chance of Admit ', '0.69')]),\n",
              " OrderedDict([('Serial No.', '234'),\n",
              "              ('GRE Score', '304'),\n",
              "              ('TOEFL Score', '100'),\n",
              "              ('University Rating', '2'),\n",
              "              ('SOP', '2.5'),\n",
              "              ('LOR ', '3.5'),\n",
              "              ('CGPA', '8.07'),\n",
              "              ('Research', '0'),\n",
              "              ('Chance of Admit ', '0.64')]),\n",
              " OrderedDict([('Serial No.', '235'),\n",
              "              ('GRE Score', '330'),\n",
              "              ('TOEFL Score', '113'),\n",
              "              ('University Rating', '5'),\n",
              "              ('SOP', '5'),\n",
              "              ('LOR ', '4'),\n",
              "              ('CGPA', '9.31'),\n",
              "              ('Research', '1'),\n",
              "              ('Chance of Admit ', '0.91')]),\n",
              " OrderedDict([('Serial No.', '236'),\n",
              "              ('GRE Score', '326'),\n",
              "              ('TOEFL Score', '111'),\n",
              "              ('University Rating', '5'),\n",
              "              ('SOP', '4.5'),\n",
              "              ('LOR ', '4'),\n",
              "              ('CGPA', '9.23'),\n",
              "              ('Research', '1'),\n",
              "              ('Chance of Admit ', '0.88')]),\n",
              " OrderedDict([('Serial No.', '237'),\n",
              "              ('GRE Score', '325'),\n",
              "              ('TOEFL Score', '112'),\n",
              "              ('University Rating', '4'),\n",
              "              ('SOP', '4'),\n",
              "              ('LOR ', '4.5'),\n",
              "              ('CGPA', '9.17'),\n",
              "              ('Research', '1'),\n",
              "              ('Chance of Admit ', '0.85')]),\n",
              " OrderedDict([('Serial No.', '238'),\n",
              "              ('GRE Score', '329'),\n",
              "              ('TOEFL Score', '114'),\n",
              "              ('University Rating', '5'),\n",
              "              ('SOP', '4.5'),\n",
              "              ('LOR ', '5'),\n",
              "              ('CGPA', '9.19'),\n",
              "              ('Research', '1'),\n",
              "              ('Chance of Admit ', '0.86')]),\n",
              " OrderedDict([('Serial No.', '239'),\n",
              "              ('GRE Score', '310'),\n",
              "              ('TOEFL Score', '104'),\n",
              "              ('University Rating', '3'),\n",
              "              ('SOP', '2'),\n",
              "              ('LOR ', '3.5'),\n",
              "              ('CGPA', '8.37'),\n",
              "              ('Research', '0'),\n",
              "              ('Chance of Admit ', '0.7')]),\n",
              " OrderedDict([('Serial No.', '240'),\n",
              "              ('GRE Score', '299'),\n",
              "              ('TOEFL Score', '100'),\n",
              "              ('University Rating', '1'),\n",
              "              ('SOP', '1.5'),\n",
              "              ('LOR ', '2'),\n",
              "              ('CGPA', '7.89'),\n",
              "              ('Research', '0'),\n",
              "              ('Chance of Admit ', '0.59')]),\n",
              " OrderedDict([('Serial No.', '241'),\n",
              "              ('GRE Score', '296'),\n",
              "              ('TOEFL Score', '101'),\n",
              "              ('University Rating', '1'),\n",
              "              ('SOP', '2.5'),\n",
              "              ('LOR ', '3'),\n",
              "              ('CGPA', '7.68'),\n",
              "              ('Research', '0'),\n",
              "              ('Chance of Admit ', '0.6')]),\n",
              " OrderedDict([('Serial No.', '242'),\n",
              "              ('GRE Score', '317'),\n",
              "              ('TOEFL Score', '103'),\n",
              "              ('University Rating', '2'),\n",
              "              ('SOP', '2.5'),\n",
              "              ('LOR ', '2'),\n",
              "              ('CGPA', '8.15'),\n",
              "              ('Research', '0'),\n",
              "              ('Chance of Admit ', '0.65')]),\n",
              " OrderedDict([('Serial No.', '243'),\n",
              "              ('GRE Score', '324'),\n",
              "              ('TOEFL Score', '115'),\n",
              "              ('University Rating', '3'),\n",
              "              ('SOP', '3.5'),\n",
              "              ('LOR ', '3'),\n",
              "              ('CGPA', '8.76'),\n",
              "              ('Research', '1'),\n",
              "              ('Chance of Admit ', '0.7')]),\n",
              " OrderedDict([('Serial No.', '244'),\n",
              "              ('GRE Score', '325'),\n",
              "              ('TOEFL Score', '114'),\n",
              "              ('University Rating', '3'),\n",
              "              ('SOP', '3.5'),\n",
              "              ('LOR ', '3'),\n",
              "              ('CGPA', '9.04'),\n",
              "              ('Research', '1'),\n",
              "              ('Chance of Admit ', '0.76')]),\n",
              " OrderedDict([('Serial No.', '245'),\n",
              "              ('GRE Score', '314'),\n",
              "              ('TOEFL Score', '107'),\n",
              "              ('University Rating', '2'),\n",
              "              ('SOP', '2.5'),\n",
              "              ('LOR ', '4'),\n",
              "              ('CGPA', '8.56'),\n",
              "              ('Research', '0'),\n",
              "              ('Chance of Admit ', '0.63')]),\n",
              " OrderedDict([('Serial No.', '246'),\n",
              "              ('GRE Score', '328'),\n",
              "              ('TOEFL Score', '110'),\n",
              "              ('University Rating', '4'),\n",
              "              ('SOP', '4'),\n",
              "              ('LOR ', '2.5'),\n",
              "              ('CGPA', '9.02'),\n",
              "              ('Research', '1'),\n",
              "              ('Chance of Admit ', '0.81')]),\n",
              " OrderedDict([('Serial No.', '247'),\n",
              "              ('GRE Score', '316'),\n",
              "              ('TOEFL Score', '105'),\n",
              "              ('University Rating', '3'),\n",
              "              ('SOP', '3'),\n",
              "              ('LOR ', '3.5'),\n",
              "              ('CGPA', '8.73'),\n",
              "              ('Research', '0'),\n",
              "              ('Chance of Admit ', '0.72')]),\n",
              " OrderedDict([('Serial No.', '248'),\n",
              "              ('GRE Score', '311'),\n",
              "              ('TOEFL Score', '104'),\n",
              "              ('University Rating', '2'),\n",
              "              ('SOP', '2.5'),\n",
              "              ('LOR ', '3.5'),\n",
              "              ('CGPA', '8.48'),\n",
              "              ('Research', '0'),\n",
              "              ('Chance of Admit ', '0.71')]),\n",
              " OrderedDict([('Serial No.', '249'),\n",
              "              ('GRE Score', '324'),\n",
              "              ('TOEFL Score', '110'),\n",
              "              ('University Rating', '3'),\n",
              "              ('SOP', '3.5'),\n",
              "              ('LOR ', '4'),\n",
              "              ('CGPA', '8.87'),\n",
              "              ('Research', '1'),\n",
              "              ('Chance of Admit ', '0.8')]),\n",
              " OrderedDict([('Serial No.', '250'),\n",
              "              ('GRE Score', '321'),\n",
              "              ('TOEFL Score', '111'),\n",
              "              ('University Rating', '3'),\n",
              "              ('SOP', '3.5'),\n",
              "              ('LOR ', '4'),\n",
              "              ('CGPA', '8.83'),\n",
              "              ('Research', '1'),\n",
              "              ('Chance of Admit ', '0.77')]),\n",
              " OrderedDict([('Serial No.', '251'),\n",
              "              ('GRE Score', '320'),\n",
              "              ('TOEFL Score', '104'),\n",
              "              ('University Rating', '3'),\n",
              "              ('SOP', '3'),\n",
              "              ('LOR ', '2.5'),\n",
              "              ('CGPA', '8.57'),\n",
              "              ('Research', '1'),\n",
              "              ('Chance of Admit ', '0.74')]),\n",
              " OrderedDict([('Serial No.', '252'),\n",
              "              ('GRE Score', '316'),\n",
              "              ('TOEFL Score', '99'),\n",
              "              ('University Rating', '2'),\n",
              "              ('SOP', '2.5'),\n",
              "              ('LOR ', '3'),\n",
              "              ('CGPA', '9'),\n",
              "              ('Research', '0'),\n",
              "              ('Chance of Admit ', '0.7')]),\n",
              " OrderedDict([('Serial No.', '253'),\n",
              "              ('GRE Score', '318'),\n",
              "              ('TOEFL Score', '100'),\n",
              "              ('University Rating', '2'),\n",
              "              ('SOP', '2.5'),\n",
              "              ('LOR ', '3.5'),\n",
              "              ('CGPA', '8.54'),\n",
              "              ('Research', '1'),\n",
              "              ('Chance of Admit ', '0.71')]),\n",
              " OrderedDict([('Serial No.', '254'),\n",
              "              ('GRE Score', '335'),\n",
              "              ('TOEFL Score', '115'),\n",
              "              ('University Rating', '4'),\n",
              "              ('SOP', '4.5'),\n",
              "              ('LOR ', '4.5'),\n",
              "              ('CGPA', '9.68'),\n",
              "              ('Research', '1'),\n",
              "              ('Chance of Admit ', '0.93')]),\n",
              " OrderedDict([('Serial No.', '255'),\n",
              "              ('GRE Score', '321'),\n",
              "              ('TOEFL Score', '114'),\n",
              "              ('University Rating', '4'),\n",
              "              ('SOP', '4'),\n",
              "              ('LOR ', '5'),\n",
              "              ('CGPA', '9.12'),\n",
              "              ('Research', '0'),\n",
              "              ('Chance of Admit ', '0.85')]),\n",
              " OrderedDict([('Serial No.', '256'),\n",
              "              ('GRE Score', '307'),\n",
              "              ('TOEFL Score', '110'),\n",
              "              ('University Rating', '4'),\n",
              "              ('SOP', '4'),\n",
              "              ('LOR ', '4.5'),\n",
              "              ('CGPA', '8.37'),\n",
              "              ('Research', '0'),\n",
              "              ('Chance of Admit ', '0.79')]),\n",
              " OrderedDict([('Serial No.', '257'),\n",
              "              ('GRE Score', '309'),\n",
              "              ('TOEFL Score', '99'),\n",
              "              ('University Rating', '3'),\n",
              "              ('SOP', '4'),\n",
              "              ('LOR ', '4'),\n",
              "              ('CGPA', '8.56'),\n",
              "              ('Research', '0'),\n",
              "              ('Chance of Admit ', '0.76')]),\n",
              " OrderedDict([('Serial No.', '258'),\n",
              "              ('GRE Score', '324'),\n",
              "              ('TOEFL Score', '100'),\n",
              "              ('University Rating', '3'),\n",
              "              ('SOP', '4'),\n",
              "              ('LOR ', '5'),\n",
              "              ('CGPA', '8.64'),\n",
              "              ('Research', '1'),\n",
              "              ('Chance of Admit ', '0.78')]),\n",
              " OrderedDict([('Serial No.', '259'),\n",
              "              ('GRE Score', '326'),\n",
              "              ('TOEFL Score', '102'),\n",
              "              ('University Rating', '4'),\n",
              "              ('SOP', '5'),\n",
              "              ('LOR ', '5'),\n",
              "              ('CGPA', '8.76'),\n",
              "              ('Research', '1'),\n",
              "              ('Chance of Admit ', '0.77')]),\n",
              " OrderedDict([('Serial No.', '260'),\n",
              "              ('GRE Score', '331'),\n",
              "              ('TOEFL Score', '119'),\n",
              "              ('University Rating', '4'),\n",
              "              ('SOP', '5'),\n",
              "              ('LOR ', '4.5'),\n",
              "              ('CGPA', '9.34'),\n",
              "              ('Research', '1'),\n",
              "              ('Chance of Admit ', '0.9')]),\n",
              " OrderedDict([('Serial No.', '261'),\n",
              "              ('GRE Score', '327'),\n",
              "              ('TOEFL Score', '108'),\n",
              "              ('University Rating', '5'),\n",
              "              ('SOP', '5'),\n",
              "              ('LOR ', '3.5'),\n",
              "              ('CGPA', '9.13'),\n",
              "              ('Research', '1'),\n",
              "              ('Chance of Admit ', '0.87')]),\n",
              " OrderedDict([('Serial No.', '262'),\n",
              "              ('GRE Score', '312'),\n",
              "              ('TOEFL Score', '104'),\n",
              "              ('University Rating', '3'),\n",
              "              ('SOP', '3.5'),\n",
              "              ('LOR ', '4'),\n",
              "              ('CGPA', '8.09'),\n",
              "              ('Research', '0'),\n",
              "              ('Chance of Admit ', '0.71')]),\n",
              " OrderedDict([('Serial No.', '263'),\n",
              "              ('GRE Score', '308'),\n",
              "              ('TOEFL Score', '103'),\n",
              "              ('University Rating', '2'),\n",
              "              ('SOP', '2.5'),\n",
              "              ('LOR ', '4'),\n",
              "              ('CGPA', '8.36'),\n",
              "              ('Research', '1'),\n",
              "              ('Chance of Admit ', '0.7')]),\n",
              " OrderedDict([('Serial No.', '264'),\n",
              "              ('GRE Score', '324'),\n",
              "              ('TOEFL Score', '111'),\n",
              "              ('University Rating', '3'),\n",
              "              ('SOP', '2.5'),\n",
              "              ('LOR ', '1.5'),\n",
              "              ('CGPA', '8.79'),\n",
              "              ('Research', '1'),\n",
              "              ('Chance of Admit ', '0.7')]),\n",
              " OrderedDict([('Serial No.', '265'),\n",
              "              ('GRE Score', '325'),\n",
              "              ('TOEFL Score', '110'),\n",
              "              ('University Rating', '2'),\n",
              "              ('SOP', '3'),\n",
              "              ('LOR ', '2.5'),\n",
              "              ('CGPA', '8.76'),\n",
              "              ('Research', '1'),\n",
              "              ('Chance of Admit ', '0.75')]),\n",
              " OrderedDict([('Serial No.', '266'),\n",
              "              ('GRE Score', '313'),\n",
              "              ('TOEFL Score', '102'),\n",
              "              ('University Rating', '3'),\n",
              "              ('SOP', '2.5'),\n",
              "              ('LOR ', '2.5'),\n",
              "              ('CGPA', '8.68'),\n",
              "              ('Research', '0'),\n",
              "              ('Chance of Admit ', '0.71')]),\n",
              " OrderedDict([('Serial No.', '267'),\n",
              "              ('GRE Score', '312'),\n",
              "              ('TOEFL Score', '105'),\n",
              "              ('University Rating', '2'),\n",
              "              ('SOP', '2'),\n",
              "              ('LOR ', '2.5'),\n",
              "              ('CGPA', '8.45'),\n",
              "              ('Research', '0'),\n",
              "              ('Chance of Admit ', '0.72')]),\n",
              " OrderedDict([('Serial No.', '268'),\n",
              "              ('GRE Score', '314'),\n",
              "              ('TOEFL Score', '107'),\n",
              "              ('University Rating', '3'),\n",
              "              ('SOP', '3'),\n",
              "              ('LOR ', '3.5'),\n",
              "              ('CGPA', '8.17'),\n",
              "              ('Research', '1'),\n",
              "              ('Chance of Admit ', '0.73')]),\n",
              " OrderedDict([('Serial No.', '269'),\n",
              "              ('GRE Score', '327'),\n",
              "              ('TOEFL Score', '113'),\n",
              "              ('University Rating', '4'),\n",
              "              ('SOP', '4.5'),\n",
              "              ('LOR ', '5'),\n",
              "              ('CGPA', '9.14'),\n",
              "              ('Research', '0'),\n",
              "              ('Chance of Admit ', '0.83')]),\n",
              " OrderedDict([('Serial No.', '270'),\n",
              "              ('GRE Score', '308'),\n",
              "              ('TOEFL Score', '108'),\n",
              "              ('University Rating', '4'),\n",
              "              ('SOP', '4.5'),\n",
              "              ('LOR ', '5'),\n",
              "              ('CGPA', '8.34'),\n",
              "              ('Research', '0'),\n",
              "              ('Chance of Admit ', '0.77')]),\n",
              " OrderedDict([('Serial No.', '271'),\n",
              "              ('GRE Score', '306'),\n",
              "              ('TOEFL Score', '105'),\n",
              "              ('University Rating', '2'),\n",
              "              ('SOP', '2.5'),\n",
              "              ('LOR ', '3'),\n",
              "              ('CGPA', '8.22'),\n",
              "              ('Research', '1'),\n",
              "              ('Chance of Admit ', '0.72')]),\n",
              " OrderedDict([('Serial No.', '272'),\n",
              "              ('GRE Score', '299'),\n",
              "              ('TOEFL Score', '96'),\n",
              "              ('University Rating', '2'),\n",
              "              ('SOP', '1.5'),\n",
              "              ('LOR ', '2'),\n",
              "              ('CGPA', '7.86'),\n",
              "              ('Research', '0'),\n",
              "              ('Chance of Admit ', '0.54')]),\n",
              " OrderedDict([('Serial No.', '273'),\n",
              "              ('GRE Score', '294'),\n",
              "              ('TOEFL Score', '95'),\n",
              "              ('University Rating', '1'),\n",
              "              ('SOP', '1.5'),\n",
              "              ('LOR ', '1.5'),\n",
              "              ('CGPA', '7.64'),\n",
              "              ('Research', '0'),\n",
              "              ('Chance of Admit ', '0.49')]),\n",
              " OrderedDict([('Serial No.', '274'),\n",
              "              ('GRE Score', '312'),\n",
              "              ('TOEFL Score', '99'),\n",
              "              ('University Rating', '1'),\n",
              "              ('SOP', '1'),\n",
              "              ('LOR ', '1.5'),\n",
              "              ('CGPA', '8.01'),\n",
              "              ('Research', '1'),\n",
              "              ('Chance of Admit ', '0.52')]),\n",
              " OrderedDict([('Serial No.', '275'),\n",
              "              ('GRE Score', '315'),\n",
              "              ('TOEFL Score', '100'),\n",
              "              ('University Rating', '1'),\n",
              "              ('SOP', '2'),\n",
              "              ('LOR ', '2.5'),\n",
              "              ('CGPA', '7.95'),\n",
              "              ('Research', '0'),\n",
              "              ('Chance of Admit ', '0.58')]),\n",
              " OrderedDict([('Serial No.', '276'),\n",
              "              ('GRE Score', '322'),\n",
              "              ('TOEFL Score', '110'),\n",
              "              ('University Rating', '3'),\n",
              "              ('SOP', '3.5'),\n",
              "              ('LOR ', '3'),\n",
              "              ('CGPA', '8.96'),\n",
              "              ('Research', '1'),\n",
              "              ('Chance of Admit ', '0.78')]),\n",
              " OrderedDict([('Serial No.', '277'),\n",
              "              ('GRE Score', '329'),\n",
              "              ('TOEFL Score', '113'),\n",
              "              ('University Rating', '5'),\n",
              "              ('SOP', '5'),\n",
              "              ('LOR ', '4.5'),\n",
              "              ('CGPA', '9.45'),\n",
              "              ('Research', '1'),\n",
              "              ('Chance of Admit ', '0.89')]),\n",
              " OrderedDict([('Serial No.', '278'),\n",
              "              ('GRE Score', '320'),\n",
              "              ('TOEFL Score', '101'),\n",
              "              ('University Rating', '2'),\n",
              "              ('SOP', '2.5'),\n",
              "              ('LOR ', '3'),\n",
              "              ('CGPA', '8.62'),\n",
              "              ('Research', '0'),\n",
              "              ('Chance of Admit ', '0.7')]),\n",
              " OrderedDict([('Serial No.', '279'),\n",
              "              ('GRE Score', '308'),\n",
              "              ('TOEFL Score', '103'),\n",
              "              ('University Rating', '2'),\n",
              "              ('SOP', '3'),\n",
              "              ('LOR ', '3.5'),\n",
              "              ('CGPA', '8.49'),\n",
              "              ('Research', '0'),\n",
              "              ('Chance of Admit ', '0.66')]),\n",
              " OrderedDict([('Serial No.', '280'),\n",
              "              ('GRE Score', '304'),\n",
              "              ('TOEFL Score', '102'),\n",
              "              ('University Rating', '2'),\n",
              "              ('SOP', '3'),\n",
              "              ('LOR ', '4'),\n",
              "              ('CGPA', '8.73'),\n",
              "              ('Research', '0'),\n",
              "              ('Chance of Admit ', '0.67')]),\n",
              " OrderedDict([('Serial No.', '281'),\n",
              "              ('GRE Score', '311'),\n",
              "              ('TOEFL Score', '102'),\n",
              "              ('University Rating', '3'),\n",
              "              ('SOP', '4.5'),\n",
              "              ('LOR ', '4'),\n",
              "              ('CGPA', '8.64'),\n",
              "              ('Research', '1'),\n",
              "              ('Chance of Admit ', '0.68')]),\n",
              " OrderedDict([('Serial No.', '282'),\n",
              "              ('GRE Score', '317'),\n",
              "              ('TOEFL Score', '110'),\n",
              "              ('University Rating', '3'),\n",
              "              ('SOP', '4'),\n",
              "              ('LOR ', '4.5'),\n",
              "              ('CGPA', '9.11'),\n",
              "              ('Research', '1'),\n",
              "              ('Chance of Admit ', '0.8')]),\n",
              " OrderedDict([('Serial No.', '283'),\n",
              "              ('GRE Score', '312'),\n",
              "              ('TOEFL Score', '106'),\n",
              "              ('University Rating', '3'),\n",
              "              ('SOP', '4'),\n",
              "              ('LOR ', '3.5'),\n",
              "              ('CGPA', '8.79'),\n",
              "              ('Research', '1'),\n",
              "              ('Chance of Admit ', '0.81')]),\n",
              " OrderedDict([('Serial No.', '284'),\n",
              "              ('GRE Score', '321'),\n",
              "              ('TOEFL Score', '111'),\n",
              "              ('University Rating', '3'),\n",
              "              ('SOP', '2.5'),\n",
              "              ('LOR ', '3'),\n",
              "              ('CGPA', '8.9'),\n",
              "              ('Research', '1'),\n",
              "              ('Chance of Admit ', '0.8')]),\n",
              " OrderedDict([('Serial No.', '285'),\n",
              "              ('GRE Score', '340'),\n",
              "              ('TOEFL Score', '112'),\n",
              "              ('University Rating', '4'),\n",
              "              ('SOP', '5'),\n",
              "              ('LOR ', '4.5'),\n",
              "              ('CGPA', '9.66'),\n",
              "              ('Research', '1'),\n",
              "              ('Chance of Admit ', '0.94')]),\n",
              " OrderedDict([('Serial No.', '286'),\n",
              "              ('GRE Score', '331'),\n",
              "              ('TOEFL Score', '116'),\n",
              "              ('University Rating', '5'),\n",
              "              ('SOP', '4'),\n",
              "              ('LOR ', '4'),\n",
              "              ('CGPA', '9.26'),\n",
              "              ('Research', '1'),\n",
              "              ('Chance of Admit ', '0.93')]),\n",
              " OrderedDict([('Serial No.', '287'),\n",
              "              ('GRE Score', '336'),\n",
              "              ('TOEFL Score', '118'),\n",
              "              ('University Rating', '5'),\n",
              "              ('SOP', '4.5'),\n",
              "              ('LOR ', '4'),\n",
              "              ('CGPA', '9.19'),\n",
              "              ('Research', '1'),\n",
              "              ('Chance of Admit ', '0.92')]),\n",
              " OrderedDict([('Serial No.', '288'),\n",
              "              ('GRE Score', '324'),\n",
              "              ('TOEFL Score', '114'),\n",
              "              ('University Rating', '5'),\n",
              "              ('SOP', '5'),\n",
              "              ('LOR ', '4.5'),\n",
              "              ('CGPA', '9.08'),\n",
              "              ('Research', '1'),\n",
              "              ('Chance of Admit ', '0.89')]),\n",
              " OrderedDict([('Serial No.', '289'),\n",
              "              ('GRE Score', '314'),\n",
              "              ('TOEFL Score', '104'),\n",
              "              ('University Rating', '4'),\n",
              "              ('SOP', '5'),\n",
              "              ('LOR ', '5'),\n",
              "              ('CGPA', '9.02'),\n",
              "              ('Research', '0'),\n",
              "              ('Chance of Admit ', '0.82')]),\n",
              " OrderedDict([('Serial No.', '290'),\n",
              "              ('GRE Score', '313'),\n",
              "              ('TOEFL Score', '109'),\n",
              "              ('University Rating', '3'),\n",
              "              ('SOP', '4'),\n",
              "              ('LOR ', '3.5'),\n",
              "              ('CGPA', '9'),\n",
              "              ('Research', '0'),\n",
              "              ('Chance of Admit ', '0.79')]),\n",
              " OrderedDict([('Serial No.', '291'),\n",
              "              ('GRE Score', '307'),\n",
              "              ('TOEFL Score', '105'),\n",
              "              ('University Rating', '2'),\n",
              "              ('SOP', '2.5'),\n",
              "              ('LOR ', '3'),\n",
              "              ('CGPA', '7.65'),\n",
              "              ('Research', '0'),\n",
              "              ('Chance of Admit ', '0.58')]),\n",
              " OrderedDict([('Serial No.', '292'),\n",
              "              ('GRE Score', '300'),\n",
              "              ('TOEFL Score', '102'),\n",
              "              ('University Rating', '2'),\n",
              "              ('SOP', '1.5'),\n",
              "              ('LOR ', '2'),\n",
              "              ('CGPA', '7.87'),\n",
              "              ('Research', '0'),\n",
              "              ('Chance of Admit ', '0.56')]),\n",
              " OrderedDict([('Serial No.', '293'),\n",
              "              ('GRE Score', '302'),\n",
              "              ('TOEFL Score', '99'),\n",
              "              ('University Rating', '2'),\n",
              "              ('SOP', '1'),\n",
              "              ('LOR ', '2'),\n",
              "              ('CGPA', '7.97'),\n",
              "              ('Research', '0'),\n",
              "              ('Chance of Admit ', '0.56')]),\n",
              " OrderedDict([('Serial No.', '294'),\n",
              "              ('GRE Score', '312'),\n",
              "              ('TOEFL Score', '98'),\n",
              "              ('University Rating', '1'),\n",
              "              ('SOP', '3.5'),\n",
              "              ('LOR ', '3'),\n",
              "              ('CGPA', '8.18'),\n",
              "              ('Research', '1'),\n",
              "              ('Chance of Admit ', '0.64')]),\n",
              " OrderedDict([('Serial No.', '295'),\n",
              "              ('GRE Score', '316'),\n",
              "              ('TOEFL Score', '101'),\n",
              "              ('University Rating', '2'),\n",
              "              ('SOP', '2.5'),\n",
              "              ('LOR ', '2'),\n",
              "              ('CGPA', '8.32'),\n",
              "              ('Research', '1'),\n",
              "              ('Chance of Admit ', '0.61')]),\n",
              " OrderedDict([('Serial No.', '296'),\n",
              "              ('GRE Score', '317'),\n",
              "              ('TOEFL Score', '100'),\n",
              "              ('University Rating', '2'),\n",
              "              ('SOP', '3'),\n",
              "              ('LOR ', '2.5'),\n",
              "              ('CGPA', '8.57'),\n",
              "              ('Research', '0'),\n",
              "              ('Chance of Admit ', '0.68')]),\n",
              " OrderedDict([('Serial No.', '297'),\n",
              "              ('GRE Score', '310'),\n",
              "              ('TOEFL Score', '107'),\n",
              "              ('University Rating', '3'),\n",
              "              ('SOP', '3.5'),\n",
              "              ('LOR ', '3.5'),\n",
              "              ('CGPA', '8.67'),\n",
              "              ('Research', '0'),\n",
              "              ('Chance of Admit ', '0.76')]),\n",
              " OrderedDict([('Serial No.', '298'),\n",
              "              ('GRE Score', '320'),\n",
              "              ('TOEFL Score', '120'),\n",
              "              ('University Rating', '3'),\n",
              "              ('SOP', '4'),\n",
              "              ('LOR ', '4.5'),\n",
              "              ('CGPA', '9.11'),\n",
              "              ('Research', '0'),\n",
              "              ('Chance of Admit ', '0.86')]),\n",
              " OrderedDict([('Serial No.', '299'),\n",
              "              ('GRE Score', '330'),\n",
              "              ('TOEFL Score', '114'),\n",
              "              ('University Rating', '3'),\n",
              "              ('SOP', '4.5'),\n",
              "              ('LOR ', '4.5'),\n",
              "              ('CGPA', '9.24'),\n",
              "              ('Research', '1'),\n",
              "              ('Chance of Admit ', '0.9')]),\n",
              " OrderedDict([('Serial No.', '300'),\n",
              "              ('GRE Score', '305'),\n",
              "              ('TOEFL Score', '112'),\n",
              "              ('University Rating', '3'),\n",
              "              ('SOP', '3'),\n",
              "              ('LOR ', '3.5'),\n",
              "              ('CGPA', '8.65'),\n",
              "              ('Research', '0'),\n",
              "              ('Chance of Admit ', '0.71')]),\n",
              " OrderedDict([('Serial No.', '301'),\n",
              "              ('GRE Score', '309'),\n",
              "              ('TOEFL Score', '106'),\n",
              "              ('University Rating', '2'),\n",
              "              ('SOP', '2.5'),\n",
              "              ('LOR ', '2.5'),\n",
              "              ('CGPA', '8'),\n",
              "              ('Research', '0'),\n",
              "              ('Chance of Admit ', '0.62')]),\n",
              " OrderedDict([('Serial No.', '302'),\n",
              "              ('GRE Score', '319'),\n",
              "              ('TOEFL Score', '108'),\n",
              "              ('University Rating', '2'),\n",
              "              ('SOP', '2.5'),\n",
              "              ('LOR ', '3'),\n",
              "              ('CGPA', '8.76'),\n",
              "              ('Research', '0'),\n",
              "              ('Chance of Admit ', '0.66')]),\n",
              " OrderedDict([('Serial No.', '303'),\n",
              "              ('GRE Score', '322'),\n",
              "              ('TOEFL Score', '105'),\n",
              "              ('University Rating', '2'),\n",
              "              ('SOP', '3'),\n",
              "              ('LOR ', '3'),\n",
              "              ('CGPA', '8.45'),\n",
              "              ('Research', '1'),\n",
              "              ('Chance of Admit ', '0.65')]),\n",
              " OrderedDict([('Serial No.', '304'),\n",
              "              ('GRE Score', '323'),\n",
              "              ('TOEFL Score', '107'),\n",
              "              ('University Rating', '3'),\n",
              "              ('SOP', '3.5'),\n",
              "              ('LOR ', '3.5'),\n",
              "              ('CGPA', '8.55'),\n",
              "              ('Research', '1'),\n",
              "              ('Chance of Admit ', '0.73')]),\n",
              " OrderedDict([('Serial No.', '305'),\n",
              "              ('GRE Score', '313'),\n",
              "              ('TOEFL Score', '106'),\n",
              "              ('University Rating', '2'),\n",
              "              ('SOP', '2.5'),\n",
              "              ('LOR ', '2'),\n",
              "              ('CGPA', '8.43'),\n",
              "              ('Research', '0'),\n",
              "              ('Chance of Admit ', '0.62')]),\n",
              " OrderedDict([('Serial No.', '306'),\n",
              "              ('GRE Score', '321'),\n",
              "              ('TOEFL Score', '109'),\n",
              "              ('University Rating', '3'),\n",
              "              ('SOP', '3.5'),\n",
              "              ('LOR ', '3.5'),\n",
              "              ('CGPA', '8.8'),\n",
              "              ('Research', '1'),\n",
              "              ('Chance of Admit ', '0.74')]),\n",
              " OrderedDict([('Serial No.', '307'),\n",
              "              ('GRE Score', '323'),\n",
              "              ('TOEFL Score', '110'),\n",
              "              ('University Rating', '3'),\n",
              "              ('SOP', '4'),\n",
              "              ('LOR ', '3.5'),\n",
              "              ('CGPA', '9.1'),\n",
              "              ('Research', '1'),\n",
              "              ('Chance of Admit ', '0.79')]),\n",
              " OrderedDict([('Serial No.', '308'),\n",
              "              ('GRE Score', '325'),\n",
              "              ('TOEFL Score', '112'),\n",
              "              ('University Rating', '4'),\n",
              "              ('SOP', '4'),\n",
              "              ('LOR ', '4'),\n",
              "              ('CGPA', '9'),\n",
              "              ('Research', '1'),\n",
              "              ('Chance of Admit ', '0.8')]),\n",
              " OrderedDict([('Serial No.', '309'),\n",
              "              ('GRE Score', '312'),\n",
              "              ('TOEFL Score', '108'),\n",
              "              ('University Rating', '3'),\n",
              "              ('SOP', '3.5'),\n",
              "              ('LOR ', '3'),\n",
              "              ('CGPA', '8.53'),\n",
              "              ('Research', '0'),\n",
              "              ('Chance of Admit ', '0.69')]),\n",
              " OrderedDict([('Serial No.', '310'),\n",
              "              ('GRE Score', '308'),\n",
              "              ('TOEFL Score', '110'),\n",
              "              ('University Rating', '4'),\n",
              "              ('SOP', '3.5'),\n",
              "              ('LOR ', '3'),\n",
              "              ('CGPA', '8.6'),\n",
              "              ('Research', '0'),\n",
              "              ('Chance of Admit ', '0.7')]),\n",
              " OrderedDict([('Serial No.', '311'),\n",
              "              ('GRE Score', '320'),\n",
              "              ('TOEFL Score', '104'),\n",
              "              ('University Rating', '3'),\n",
              "              ('SOP', '3'),\n",
              "              ('LOR ', '3.5'),\n",
              "              ('CGPA', '8.74'),\n",
              "              ('Research', '1'),\n",
              "              ('Chance of Admit ', '0.76')]),\n",
              " OrderedDict([('Serial No.', '312'),\n",
              "              ('GRE Score', '328'),\n",
              "              ('TOEFL Score', '108'),\n",
              "              ('University Rating', '4'),\n",
              "              ('SOP', '4.5'),\n",
              "              ('LOR ', '4'),\n",
              "              ('CGPA', '9.18'),\n",
              "              ('Research', '1'),\n",
              "              ('Chance of Admit ', '0.84')]),\n",
              " OrderedDict([('Serial No.', '313'),\n",
              "              ('GRE Score', '311'),\n",
              "              ('TOEFL Score', '107'),\n",
              "              ('University Rating', '4'),\n",
              "              ('SOP', '4.5'),\n",
              "              ('LOR ', '4.5'),\n",
              "              ('CGPA', '9'),\n",
              "              ('Research', '1'),\n",
              "              ('Chance of Admit ', '0.78')]),\n",
              " OrderedDict([('Serial No.', '314'),\n",
              "              ('GRE Score', '301'),\n",
              "              ('TOEFL Score', '100'),\n",
              "              ('University Rating', '3'),\n",
              "              ('SOP', '3.5'),\n",
              "              ('LOR ', '3'),\n",
              "              ('CGPA', '8.04'),\n",
              "              ('Research', '0'),\n",
              "              ('Chance of Admit ', '0.67')]),\n",
              " OrderedDict([('Serial No.', '315'),\n",
              "              ('GRE Score', '305'),\n",
              "              ('TOEFL Score', '105'),\n",
              "              ('University Rating', '2'),\n",
              "              ('SOP', '3'),\n",
              "              ('LOR ', '4'),\n",
              "              ('CGPA', '8.13'),\n",
              "              ('Research', '0'),\n",
              "              ('Chance of Admit ', '0.66')]),\n",
              " OrderedDict([('Serial No.', '316'),\n",
              "              ('GRE Score', '308'),\n",
              "              ('TOEFL Score', '104'),\n",
              "              ('University Rating', '2'),\n",
              "              ('SOP', '2.5'),\n",
              "              ('LOR ', '3'),\n",
              "              ('CGPA', '8.07'),\n",
              "              ('Research', '0'),\n",
              "              ('Chance of Admit ', '0.65')]),\n",
              " OrderedDict([('Serial No.', '317'),\n",
              "              ('GRE Score', '298'),\n",
              "              ('TOEFL Score', '101'),\n",
              "              ('University Rating', '2'),\n",
              "              ('SOP', '1.5'),\n",
              "              ('LOR ', '2'),\n",
              "              ('CGPA', '7.86'),\n",
              "              ('Research', '0'),\n",
              "              ('Chance of Admit ', '0.54')]),\n",
              " OrderedDict([('Serial No.', '318'),\n",
              "              ('GRE Score', '300'),\n",
              "              ('TOEFL Score', '99'),\n",
              "              ('University Rating', '1'),\n",
              "              ('SOP', '1'),\n",
              "              ('LOR ', '2.5'),\n",
              "              ('CGPA', '8.01'),\n",
              "              ('Research', '0'),\n",
              "              ('Chance of Admit ', '0.58')]),\n",
              " OrderedDict([('Serial No.', '319'),\n",
              "              ('GRE Score', '324'),\n",
              "              ('TOEFL Score', '111'),\n",
              "              ('University Rating', '3'),\n",
              "              ('SOP', '2.5'),\n",
              "              ('LOR ', '2'),\n",
              "              ('CGPA', '8.8'),\n",
              "              ('Research', '1'),\n",
              "              ('Chance of Admit ', '0.79')]),\n",
              " OrderedDict([('Serial No.', '320'),\n",
              "              ('GRE Score', '327'),\n",
              "              ('TOEFL Score', '113'),\n",
              "              ('University Rating', '4'),\n",
              "              ('SOP', '3.5'),\n",
              "              ('LOR ', '3'),\n",
              "              ('CGPA', '8.69'),\n",
              "              ('Research', '1'),\n",
              "              ('Chance of Admit ', '0.8')]),\n",
              " OrderedDict([('Serial No.', '321'),\n",
              "              ('GRE Score', '317'),\n",
              "              ('TOEFL Score', '106'),\n",
              "              ('University Rating', '3'),\n",
              "              ('SOP', '4'),\n",
              "              ('LOR ', '3.5'),\n",
              "              ('CGPA', '8.5'),\n",
              "              ('Research', '1'),\n",
              "              ('Chance of Admit ', '0.75')]),\n",
              " OrderedDict([('Serial No.', '322'),\n",
              "              ('GRE Score', '323'),\n",
              "              ('TOEFL Score', '104'),\n",
              "              ('University Rating', '3'),\n",
              "              ('SOP', '4'),\n",
              "              ('LOR ', '4'),\n",
              "              ('CGPA', '8.44'),\n",
              "              ('Research', '1'),\n",
              "              ('Chance of Admit ', '0.73')]),\n",
              " OrderedDict([('Serial No.', '323'),\n",
              "              ('GRE Score', '314'),\n",
              "              ('TOEFL Score', '107'),\n",
              "              ('University Rating', '2'),\n",
              "              ('SOP', '2.5'),\n",
              "              ('LOR ', '4'),\n",
              "              ('CGPA', '8.27'),\n",
              "              ('Research', '0'),\n",
              "              ('Chance of Admit ', '0.72')]),\n",
              " OrderedDict([('Serial No.', '324'),\n",
              "              ('GRE Score', '305'),\n",
              "              ('TOEFL Score', '102'),\n",
              "              ('University Rating', '2'),\n",
              "              ('SOP', '2'),\n",
              "              ('LOR ', '2.5'),\n",
              "              ('CGPA', '8.18'),\n",
              "              ('Research', '0'),\n",
              "              ('Chance of Admit ', '0.62')]),\n",
              " OrderedDict([('Serial No.', '325'),\n",
              "              ('GRE Score', '315'),\n",
              "              ('TOEFL Score', '104'),\n",
              "              ('University Rating', '3'),\n",
              "              ('SOP', '3'),\n",
              "              ('LOR ', '2.5'),\n",
              "              ('CGPA', '8.33'),\n",
              "              ('Research', '0'),\n",
              "              ('Chance of Admit ', '0.67')]),\n",
              " OrderedDict([('Serial No.', '326'),\n",
              "              ('GRE Score', '326'),\n",
              "              ('TOEFL Score', '116'),\n",
              "              ('University Rating', '3'),\n",
              "              ('SOP', '3.5'),\n",
              "              ('LOR ', '4'),\n",
              "              ('CGPA', '9.14'),\n",
              "              ('Research', '1'),\n",
              "              ('Chance of Admit ', '0.81')]),\n",
              " OrderedDict([('Serial No.', '327'),\n",
              "              ('GRE Score', '299'),\n",
              "              ('TOEFL Score', '100'),\n",
              "              ('University Rating', '3'),\n",
              "              ('SOP', '2'),\n",
              "              ('LOR ', '2'),\n",
              "              ('CGPA', '8.02'),\n",
              "              ('Research', '0'),\n",
              "              ('Chance of Admit ', '0.63')]),\n",
              " OrderedDict([('Serial No.', '328'),\n",
              "              ('GRE Score', '295'),\n",
              "              ('TOEFL Score', '101'),\n",
              "              ('University Rating', '2'),\n",
              "              ('SOP', '2.5'),\n",
              "              ('LOR ', '2'),\n",
              "              ('CGPA', '7.86'),\n",
              "              ('Research', '0'),\n",
              "              ('Chance of Admit ', '0.69')]),\n",
              " OrderedDict([('Serial No.', '329'),\n",
              "              ('GRE Score', '324'),\n",
              "              ('TOEFL Score', '112'),\n",
              "              ('University Rating', '4'),\n",
              "              ('SOP', '4'),\n",
              "              ('LOR ', '3.5'),\n",
              "              ('CGPA', '8.77'),\n",
              "              ('Research', '1'),\n",
              "              ('Chance of Admit ', '0.8')]),\n",
              " OrderedDict([('Serial No.', '330'),\n",
              "              ('GRE Score', '297'),\n",
              "              ('TOEFL Score', '96'),\n",
              "              ('University Rating', '2'),\n",
              "              ('SOP', '2.5'),\n",
              "              ('LOR ', '1.5'),\n",
              "              ('CGPA', '7.89'),\n",
              "              ('Research', '0'),\n",
              "              ('Chance of Admit ', '0.43')]),\n",
              " OrderedDict([('Serial No.', '331'),\n",
              "              ('GRE Score', '327'),\n",
              "              ('TOEFL Score', '113'),\n",
              "              ('University Rating', '3'),\n",
              "              ('SOP', '3.5'),\n",
              "              ('LOR ', '3'),\n",
              "              ('CGPA', '8.66'),\n",
              "              ('Research', '1'),\n",
              "              ('Chance of Admit ', '0.8')]),\n",
              " OrderedDict([('Serial No.', '332'),\n",
              "              ('GRE Score', '311'),\n",
              "              ('TOEFL Score', '105'),\n",
              "              ('University Rating', '2'),\n",
              "              ('SOP', '3'),\n",
              "              ('LOR ', '2'),\n",
              "              ('CGPA', '8.12'),\n",
              "              ('Research', '1'),\n",
              "              ('Chance of Admit ', '0.73')]),\n",
              " OrderedDict([('Serial No.', '333'),\n",
              "              ('GRE Score', '308'),\n",
              "              ('TOEFL Score', '106'),\n",
              "              ('University Rating', '3'),\n",
              "              ('SOP', '3.5'),\n",
              "              ('LOR ', '2.5'),\n",
              "              ('CGPA', '8.21'),\n",
              "              ('Research', '1'),\n",
              "              ('Chance of Admit ', '0.75')]),\n",
              " OrderedDict([('Serial No.', '334'),\n",
              "              ('GRE Score', '319'),\n",
              "              ('TOEFL Score', '108'),\n",
              "              ('University Rating', '3'),\n",
              "              ('SOP', '3'),\n",
              "              ('LOR ', '3.5'),\n",
              "              ('CGPA', '8.54'),\n",
              "              ('Research', '1'),\n",
              "              ('Chance of Admit ', '0.71')]),\n",
              " OrderedDict([('Serial No.', '335'),\n",
              "              ('GRE Score', '312'),\n",
              "              ('TOEFL Score', '107'),\n",
              "              ('University Rating', '4'),\n",
              "              ('SOP', '4.5'),\n",
              "              ('LOR ', '4'),\n",
              "              ('CGPA', '8.65'),\n",
              "              ('Research', '1'),\n",
              "              ('Chance of Admit ', '0.73')]),\n",
              " OrderedDict([('Serial No.', '336'),\n",
              "              ('GRE Score', '325'),\n",
              "              ('TOEFL Score', '111'),\n",
              "              ('University Rating', '4'),\n",
              "              ('SOP', '4'),\n",
              "              ('LOR ', '4.5'),\n",
              "              ('CGPA', '9.11'),\n",
              "              ('Research', '1'),\n",
              "              ('Chance of Admit ', '0.83')]),\n",
              " OrderedDict([('Serial No.', '337'),\n",
              "              ('GRE Score', '319'),\n",
              "              ('TOEFL Score', '110'),\n",
              "              ('University Rating', '3'),\n",
              "              ('SOP', '3'),\n",
              "              ('LOR ', '2.5'),\n",
              "              ('CGPA', '8.79'),\n",
              "              ('Research', '0'),\n",
              "              ('Chance of Admit ', '0.72')]),\n",
              " OrderedDict([('Serial No.', '338'),\n",
              "              ('GRE Score', '332'),\n",
              "              ('TOEFL Score', '118'),\n",
              "              ('University Rating', '5'),\n",
              "              ('SOP', '5'),\n",
              "              ('LOR ', '5'),\n",
              "              ('CGPA', '9.47'),\n",
              "              ('Research', '1'),\n",
              "              ('Chance of Admit ', '0.94')]),\n",
              " OrderedDict([('Serial No.', '339'),\n",
              "              ('GRE Score', '323'),\n",
              "              ('TOEFL Score', '108'),\n",
              "              ('University Rating', '5'),\n",
              "              ('SOP', '4'),\n",
              "              ('LOR ', '4'),\n",
              "              ('CGPA', '8.74'),\n",
              "              ('Research', '1'),\n",
              "              ('Chance of Admit ', '0.81')]),\n",
              " OrderedDict([('Serial No.', '340'),\n",
              "              ('GRE Score', '324'),\n",
              "              ('TOEFL Score', '107'),\n",
              "              ('University Rating', '5'),\n",
              "              ('SOP', '3.5'),\n",
              "              ('LOR ', '4'),\n",
              "              ('CGPA', '8.66'),\n",
              "              ('Research', '1'),\n",
              "              ('Chance of Admit ', '0.81')]),\n",
              " OrderedDict([('Serial No.', '341'),\n",
              "              ('GRE Score', '312'),\n",
              "              ('TOEFL Score', '107'),\n",
              "              ('University Rating', '3'),\n",
              "              ('SOP', '3'),\n",
              "              ('LOR ', '3'),\n",
              "              ('CGPA', '8.46'),\n",
              "              ('Research', '1'),\n",
              "              ('Chance of Admit ', '0.75')]),\n",
              " OrderedDict([('Serial No.', '342'),\n",
              "              ('GRE Score', '326'),\n",
              "              ('TOEFL Score', '110'),\n",
              "              ('University Rating', '3'),\n",
              "              ('SOP', '3.5'),\n",
              "              ('LOR ', '3.5'),\n",
              "              ('CGPA', '8.76'),\n",
              "              ('Research', '1'),\n",
              "              ('Chance of Admit ', '0.79')]),\n",
              " OrderedDict([('Serial No.', '343'),\n",
              "              ('GRE Score', '308'),\n",
              "              ('TOEFL Score', '106'),\n",
              "              ('University Rating', '3'),\n",
              "              ('SOP', '3'),\n",
              "              ('LOR ', '3'),\n",
              "              ('CGPA', '8.24'),\n",
              "              ('Research', '0'),\n",
              "              ('Chance of Admit ', '0.58')]),\n",
              " OrderedDict([('Serial No.', '344'),\n",
              "              ('GRE Score', '305'),\n",
              "              ('TOEFL Score', '103'),\n",
              "              ('University Rating', '2'),\n",
              "              ('SOP', '2.5'),\n",
              "              ('LOR ', '3.5'),\n",
              "              ('CGPA', '8.13'),\n",
              "              ('Research', '0'),\n",
              "              ('Chance of Admit ', '0.59')]),\n",
              " OrderedDict([('Serial No.', '345'),\n",
              "              ('GRE Score', '295'),\n",
              "              ('TOEFL Score', '96'),\n",
              "              ('University Rating', '2'),\n",
              "              ('SOP', '1.5'),\n",
              "              ('LOR ', '2'),\n",
              "              ('CGPA', '7.34'),\n",
              "              ('Research', '0'),\n",
              "              ('Chance of Admit ', '0.47')]),\n",
              " OrderedDict([('Serial No.', '346'),\n",
              "              ('GRE Score', '316'),\n",
              "              ('TOEFL Score', '98'),\n",
              "              ('University Rating', '1'),\n",
              "              ('SOP', '1.5'),\n",
              "              ('LOR ', '2'),\n",
              "              ('CGPA', '7.43'),\n",
              "              ('Research', '0'),\n",
              "              ('Chance of Admit ', '0.49')]),\n",
              " OrderedDict([('Serial No.', '347'),\n",
              "              ('GRE Score', '304'),\n",
              "              ('TOEFL Score', '97'),\n",
              "              ('University Rating', '2'),\n",
              "              ('SOP', '1.5'),\n",
              "              ('LOR ', '2'),\n",
              "              ('CGPA', '7.64'),\n",
              "              ('Research', '0'),\n",
              "              ('Chance of Admit ', '0.47')]),\n",
              " OrderedDict([('Serial No.', '348'),\n",
              "              ('GRE Score', '299'),\n",
              "              ('TOEFL Score', '94'),\n",
              "              ('University Rating', '1'),\n",
              "              ('SOP', '1'),\n",
              "              ('LOR ', '1'),\n",
              "              ('CGPA', '7.34'),\n",
              "              ('Research', '0'),\n",
              "              ('Chance of Admit ', '0.42')]),\n",
              " OrderedDict([('Serial No.', '349'),\n",
              "              ('GRE Score', '302'),\n",
              "              ('TOEFL Score', '99'),\n",
              "              ('University Rating', '1'),\n",
              "              ('SOP', '2'),\n",
              "              ('LOR ', '2'),\n",
              "              ('CGPA', '7.25'),\n",
              "              ('Research', '0'),\n",
              "              ('Chance of Admit ', '0.57')]),\n",
              " OrderedDict([('Serial No.', '350'),\n",
              "              ('GRE Score', '313'),\n",
              "              ('TOEFL Score', '101'),\n",
              "              ('University Rating', '3'),\n",
              "              ('SOP', '2.5'),\n",
              "              ('LOR ', '3'),\n",
              "              ('CGPA', '8.04'),\n",
              "              ('Research', '0'),\n",
              "              ('Chance of Admit ', '0.62')]),\n",
              " OrderedDict([('Serial No.', '351'),\n",
              "              ('GRE Score', '318'),\n",
              "              ('TOEFL Score', '107'),\n",
              "              ('University Rating', '3'),\n",
              "              ('SOP', '3'),\n",
              "              ('LOR ', '3.5'),\n",
              "              ('CGPA', '8.27'),\n",
              "              ('Research', '1'),\n",
              "              ('Chance of Admit ', '0.74')]),\n",
              " OrderedDict([('Serial No.', '352'),\n",
              "              ('GRE Score', '325'),\n",
              "              ('TOEFL Score', '110'),\n",
              "              ('University Rating', '4'),\n",
              "              ('SOP', '3.5'),\n",
              "              ('LOR ', '4'),\n",
              "              ('CGPA', '8.67'),\n",
              "              ('Research', '1'),\n",
              "              ('Chance of Admit ', '0.73')]),\n",
              " OrderedDict([('Serial No.', '353'),\n",
              "              ('GRE Score', '303'),\n",
              "              ('TOEFL Score', '100'),\n",
              "              ('University Rating', '2'),\n",
              "              ('SOP', '3'),\n",
              "              ('LOR ', '3.5'),\n",
              "              ('CGPA', '8.06'),\n",
              "              ('Research', '1'),\n",
              "              ('Chance of Admit ', '0.64')]),\n",
              " OrderedDict([('Serial No.', '354'),\n",
              "              ('GRE Score', '300'),\n",
              "              ('TOEFL Score', '102'),\n",
              "              ('University Rating', '3'),\n",
              "              ('SOP', '3.5'),\n",
              "              ('LOR ', '2.5'),\n",
              "              ('CGPA', '8.17'),\n",
              "              ('Research', '0'),\n",
              "              ('Chance of Admit ', '0.63')]),\n",
              " OrderedDict([('Serial No.', '355'),\n",
              "              ('GRE Score', '297'),\n",
              "              ('TOEFL Score', '98'),\n",
              "              ('University Rating', '2'),\n",
              "              ('SOP', '2.5'),\n",
              "              ('LOR ', '3'),\n",
              "              ('CGPA', '7.67'),\n",
              "              ('Research', '0'),\n",
              "              ('Chance of Admit ', '0.59')]),\n",
              " OrderedDict([('Serial No.', '356'),\n",
              "              ('GRE Score', '317'),\n",
              "              ('TOEFL Score', '106'),\n",
              "              ('University Rating', '2'),\n",
              "              ('SOP', '2'),\n",
              "              ('LOR ', '3.5'),\n",
              "              ('CGPA', '8.12'),\n",
              "              ('Research', '0'),\n",
              "              ('Chance of Admit ', '0.73')]),\n",
              " OrderedDict([('Serial No.', '357'),\n",
              "              ('GRE Score', '327'),\n",
              "              ('TOEFL Score', '109'),\n",
              "              ('University Rating', '3'),\n",
              "              ('SOP', '3.5'),\n",
              "              ('LOR ', '4'),\n",
              "              ('CGPA', '8.77'),\n",
              "              ('Research', '1'),\n",
              "              ('Chance of Admit ', '0.79')]),\n",
              " OrderedDict([('Serial No.', '358'),\n",
              "              ('GRE Score', '301'),\n",
              "              ('TOEFL Score', '104'),\n",
              "              ('University Rating', '2'),\n",
              "              ('SOP', '3.5'),\n",
              "              ('LOR ', '3.5'),\n",
              "              ('CGPA', '7.89'),\n",
              "              ('Research', '1'),\n",
              "              ('Chance of Admit ', '0.68')]),\n",
              " OrderedDict([('Serial No.', '359'),\n",
              "              ('GRE Score', '314'),\n",
              "              ('TOEFL Score', '105'),\n",
              "              ('University Rating', '2'),\n",
              "              ('SOP', '2.5'),\n",
              "              ('LOR ', '2'),\n",
              "              ('CGPA', '7.64'),\n",
              "              ('Research', '0'),\n",
              "              ('Chance of Admit ', '0.7')]),\n",
              " OrderedDict([('Serial No.', '360'),\n",
              "              ('GRE Score', '321'),\n",
              "              ('TOEFL Score', '107'),\n",
              "              ('University Rating', '2'),\n",
              "              ('SOP', '2'),\n",
              "              ('LOR ', '1.5'),\n",
              "              ('CGPA', '8.44'),\n",
              "              ('Research', '0'),\n",
              "              ('Chance of Admit ', '0.81')]),\n",
              " OrderedDict([('Serial No.', '361'),\n",
              "              ('GRE Score', '322'),\n",
              "              ('TOEFL Score', '110'),\n",
              "              ('University Rating', '3'),\n",
              "              ('SOP', '4'),\n",
              "              ('LOR ', '5'),\n",
              "              ('CGPA', '8.64'),\n",
              "              ('Research', '1'),\n",
              "              ('Chance of Admit ', '0.85')]),\n",
              " OrderedDict([('Serial No.', '362'),\n",
              "              ('GRE Score', '334'),\n",
              "              ('TOEFL Score', '116'),\n",
              "              ('University Rating', '4'),\n",
              "              ('SOP', '4'),\n",
              "              ('LOR ', '3.5'),\n",
              "              ('CGPA', '9.54'),\n",
              "              ('Research', '1'),\n",
              "              ('Chance of Admit ', '0.93')]),\n",
              " OrderedDict([('Serial No.', '363'),\n",
              "              ('GRE Score', '338'),\n",
              "              ('TOEFL Score', '115'),\n",
              "              ('University Rating', '5'),\n",
              "              ('SOP', '4.5'),\n",
              "              ('LOR ', '5'),\n",
              "              ('CGPA', '9.23'),\n",
              "              ('Research', '1'),\n",
              "              ('Chance of Admit ', '0.91')]),\n",
              " OrderedDict([('Serial No.', '364'),\n",
              "              ('GRE Score', '306'),\n",
              "              ('TOEFL Score', '103'),\n",
              "              ('University Rating', '2'),\n",
              "              ('SOP', '2.5'),\n",
              "              ('LOR ', '3'),\n",
              "              ('CGPA', '8.36'),\n",
              "              ('Research', '0'),\n",
              "              ('Chance of Admit ', '0.69')]),\n",
              " OrderedDict([('Serial No.', '365'),\n",
              "              ('GRE Score', '313'),\n",
              "              ('TOEFL Score', '102'),\n",
              "              ('University Rating', '3'),\n",
              "              ('SOP', '3.5'),\n",
              "              ('LOR ', '4'),\n",
              "              ('CGPA', '8.9'),\n",
              "              ('Research', '1'),\n",
              "              ('Chance of Admit ', '0.77')]),\n",
              " OrderedDict([('Serial No.', '366'),\n",
              "              ('GRE Score', '330'),\n",
              "              ('TOEFL Score', '114'),\n",
              "              ('University Rating', '4'),\n",
              "              ('SOP', '4.5'),\n",
              "              ('LOR ', '3'),\n",
              "              ('CGPA', '9.17'),\n",
              "              ('Research', '1'),\n",
              "              ('Chance of Admit ', '0.86')]),\n",
              " OrderedDict([('Serial No.', '367'),\n",
              "              ('GRE Score', '320'),\n",
              "              ('TOEFL Score', '104'),\n",
              "              ('University Rating', '3'),\n",
              "              ('SOP', '3.5'),\n",
              "              ('LOR ', '4.5'),\n",
              "              ('CGPA', '8.34'),\n",
              "              ('Research', '1'),\n",
              "              ('Chance of Admit ', '0.74')]),\n",
              " OrderedDict([('Serial No.', '368'),\n",
              "              ('GRE Score', '311'),\n",
              "              ('TOEFL Score', '98'),\n",
              "              ('University Rating', '1'),\n",
              "              ('SOP', '1'),\n",
              "              ('LOR ', '2.5'),\n",
              "              ('CGPA', '7.46'),\n",
              "              ('Research', '0'),\n",
              "              ('Chance of Admit ', '0.57')]),\n",
              " OrderedDict([('Serial No.', '369'),\n",
              "              ('GRE Score', '298'),\n",
              "              ('TOEFL Score', '92'),\n",
              "              ('University Rating', '1'),\n",
              "              ('SOP', '2'),\n",
              "              ('LOR ', '2'),\n",
              "              ('CGPA', '7.88'),\n",
              "              ('Research', '0'),\n",
              "              ('Chance of Admit ', '0.51')]),\n",
              " OrderedDict([('Serial No.', '370'),\n",
              "              ('GRE Score', '301'),\n",
              "              ('TOEFL Score', '98'),\n",
              "              ('University Rating', '1'),\n",
              "              ('SOP', '2'),\n",
              "              ('LOR ', '3'),\n",
              "              ('CGPA', '8.03'),\n",
              "              ('Research', '1'),\n",
              "              ('Chance of Admit ', '0.67')]),\n",
              " OrderedDict([('Serial No.', '371'),\n",
              "              ('GRE Score', '310'),\n",
              "              ('TOEFL Score', '103'),\n",
              "              ('University Rating', '2'),\n",
              "              ('SOP', '2.5'),\n",
              "              ('LOR ', '2.5'),\n",
              "              ('CGPA', '8.24'),\n",
              "              ('Research', '0'),\n",
              "              ('Chance of Admit ', '0.72')]),\n",
              " OrderedDict([('Serial No.', '372'),\n",
              "              ('GRE Score', '324'),\n",
              "              ('TOEFL Score', '110'),\n",
              "              ('University Rating', '3'),\n",
              "              ('SOP', '3.5'),\n",
              "              ('LOR ', '3'),\n",
              "              ('CGPA', '9.22'),\n",
              "              ('Research', '1'),\n",
              "              ('Chance of Admit ', '0.89')]),\n",
              " OrderedDict([('Serial No.', '373'),\n",
              "              ('GRE Score', '336'),\n",
              "              ('TOEFL Score', '119'),\n",
              "              ('University Rating', '4'),\n",
              "              ('SOP', '4.5'),\n",
              "              ('LOR ', '4'),\n",
              "              ('CGPA', '9.62'),\n",
              "              ('Research', '1'),\n",
              "              ('Chance of Admit ', '0.95')]),\n",
              " OrderedDict([('Serial No.', '374'),\n",
              "              ('GRE Score', '321'),\n",
              "              ('TOEFL Score', '109'),\n",
              "              ('University Rating', '3'),\n",
              "              ('SOP', '3'),\n",
              "              ('LOR ', '3'),\n",
              "              ('CGPA', '8.54'),\n",
              "              ('Research', '1'),\n",
              "              ('Chance of Admit ', '0.79')]),\n",
              " OrderedDict([('Serial No.', '375'),\n",
              "              ('GRE Score', '315'),\n",
              "              ('TOEFL Score', '105'),\n",
              "              ('University Rating', '2'),\n",
              "              ('SOP', '2'),\n",
              "              ('LOR ', '2.5'),\n",
              "              ('CGPA', '7.65'),\n",
              "              ('Research', '0'),\n",
              "              ('Chance of Admit ', '0.39')]),\n",
              " OrderedDict([('Serial No.', '376'),\n",
              "              ('GRE Score', '304'),\n",
              "              ('TOEFL Score', '101'),\n",
              "              ('University Rating', '2'),\n",
              "              ('SOP', '2'),\n",
              "              ('LOR ', '2.5'),\n",
              "              ('CGPA', '7.66'),\n",
              "              ('Research', '0'),\n",
              "              ('Chance of Admit ', '0.38')]),\n",
              " OrderedDict([('Serial No.', '377'),\n",
              "              ('GRE Score', '297'),\n",
              "              ('TOEFL Score', '96'),\n",
              "              ('University Rating', '2'),\n",
              "              ('SOP', '2.5'),\n",
              "              ('LOR ', '2'),\n",
              "              ('CGPA', '7.43'),\n",
              "              ('Research', '0'),\n",
              "              ('Chance of Admit ', '0.34')]),\n",
              " OrderedDict([('Serial No.', '378'),\n",
              "              ('GRE Score', '290'),\n",
              "              ('TOEFL Score', '100'),\n",
              "              ('University Rating', '1'),\n",
              "              ('SOP', '1.5'),\n",
              "              ('LOR ', '2'),\n",
              "              ('CGPA', '7.56'),\n",
              "              ('Research', '0'),\n",
              "              ('Chance of Admit ', '0.47')]),\n",
              " OrderedDict([('Serial No.', '379'),\n",
              "              ('GRE Score', '303'),\n",
              "              ('TOEFL Score', '98'),\n",
              "              ('University Rating', '1'),\n",
              "              ('SOP', '2'),\n",
              "              ('LOR ', '2.5'),\n",
              "              ('CGPA', '7.65'),\n",
              "              ('Research', '0'),\n",
              "              ('Chance of Admit ', '0.56')]),\n",
              " OrderedDict([('Serial No.', '380'),\n",
              "              ('GRE Score', '311'),\n",
              "              ('TOEFL Score', '99'),\n",
              "              ('University Rating', '1'),\n",
              "              ('SOP', '2.5'),\n",
              "              ('LOR ', '3'),\n",
              "              ('CGPA', '8.43'),\n",
              "              ('Research', '1'),\n",
              "              ('Chance of Admit ', '0.71')]),\n",
              " OrderedDict([('Serial No.', '381'),\n",
              "              ('GRE Score', '322'),\n",
              "              ('TOEFL Score', '104'),\n",
              "              ('University Rating', '3'),\n",
              "              ('SOP', '3.5'),\n",
              "              ('LOR ', '4'),\n",
              "              ('CGPA', '8.84'),\n",
              "              ('Research', '1'),\n",
              "              ('Chance of Admit ', '0.78')]),\n",
              " OrderedDict([('Serial No.', '382'),\n",
              "              ('GRE Score', '319'),\n",
              "              ('TOEFL Score', '105'),\n",
              "              ('University Rating', '3'),\n",
              "              ('SOP', '3'),\n",
              "              ('LOR ', '3.5'),\n",
              "              ('CGPA', '8.67'),\n",
              "              ('Research', '1'),\n",
              "              ('Chance of Admit ', '0.73')]),\n",
              " OrderedDict([('Serial No.', '383'),\n",
              "              ('GRE Score', '324'),\n",
              "              ('TOEFL Score', '110'),\n",
              "              ('University Rating', '4'),\n",
              "              ('SOP', '4.5'),\n",
              "              ('LOR ', '4'),\n",
              "              ('CGPA', '9.15'),\n",
              "              ('Research', '1'),\n",
              "              ('Chance of Admit ', '0.82')]),\n",
              " OrderedDict([('Serial No.', '384'),\n",
              "              ('GRE Score', '300'),\n",
              "              ('TOEFL Score', '100'),\n",
              "              ('University Rating', '3'),\n",
              "              ('SOP', '3'),\n",
              "              ('LOR ', '3.5'),\n",
              "              ('CGPA', '8.26'),\n",
              "              ('Research', '0'),\n",
              "              ('Chance of Admit ', '0.62')]),\n",
              " OrderedDict([('Serial No.', '385'),\n",
              "              ('GRE Score', '340'),\n",
              "              ('TOEFL Score', '113'),\n",
              "              ('University Rating', '4'),\n",
              "              ('SOP', '5'),\n",
              "              ('LOR ', '5'),\n",
              "              ('CGPA', '9.74'),\n",
              "              ('Research', '1'),\n",
              "              ('Chance of Admit ', '0.96')]),\n",
              " OrderedDict([('Serial No.', '386'),\n",
              "              ('GRE Score', '335'),\n",
              "              ('TOEFL Score', '117'),\n",
              "              ('University Rating', '5'),\n",
              "              ('SOP', '5'),\n",
              "              ('LOR ', '5'),\n",
              "              ('CGPA', '9.82'),\n",
              "              ('Research', '1'),\n",
              "              ('Chance of Admit ', '0.96')]),\n",
              " OrderedDict([('Serial No.', '387'),\n",
              "              ('GRE Score', '302'),\n",
              "              ('TOEFL Score', '101'),\n",
              "              ('University Rating', '2'),\n",
              "              ('SOP', '2.5'),\n",
              "              ('LOR ', '3.5'),\n",
              "              ('CGPA', '7.96'),\n",
              "              ('Research', '0'),\n",
              "              ('Chance of Admit ', '0.46')]),\n",
              " OrderedDict([('Serial No.', '388'),\n",
              "              ('GRE Score', '307'),\n",
              "              ('TOEFL Score', '105'),\n",
              "              ('University Rating', '2'),\n",
              "              ('SOP', '2'),\n",
              "              ('LOR ', '3.5'),\n",
              "              ('CGPA', '8.1'),\n",
              "              ('Research', '0'),\n",
              "              ('Chance of Admit ', '0.53')]),\n",
              " OrderedDict([('Serial No.', '389'),\n",
              "              ('GRE Score', '296'),\n",
              "              ('TOEFL Score', '97'),\n",
              "              ('University Rating', '2'),\n",
              "              ('SOP', '1.5'),\n",
              "              ('LOR ', '2'),\n",
              "              ('CGPA', '7.8'),\n",
              "              ('Research', '0'),\n",
              "              ('Chance of Admit ', '0.49')]),\n",
              " OrderedDict([('Serial No.', '390'),\n",
              "              ('GRE Score', '320'),\n",
              "              ('TOEFL Score', '108'),\n",
              "              ('University Rating', '3'),\n",
              "              ('SOP', '3.5'),\n",
              "              ('LOR ', '4'),\n",
              "              ('CGPA', '8.44'),\n",
              "              ('Research', '1'),\n",
              "              ('Chance of Admit ', '0.76')]),\n",
              " OrderedDict([('Serial No.', '391'),\n",
              "              ('GRE Score', '314'),\n",
              "              ('TOEFL Score', '102'),\n",
              "              ('University Rating', '2'),\n",
              "              ('SOP', '2'),\n",
              "              ('LOR ', '2.5'),\n",
              "              ('CGPA', '8.24'),\n",
              "              ('Research', '0'),\n",
              "              ('Chance of Admit ', '0.64')]),\n",
              " OrderedDict([('Serial No.', '392'),\n",
              "              ('GRE Score', '318'),\n",
              "              ('TOEFL Score', '106'),\n",
              "              ('University Rating', '3'),\n",
              "              ('SOP', '2'),\n",
              "              ('LOR ', '3'),\n",
              "              ('CGPA', '8.65'),\n",
              "              ('Research', '0'),\n",
              "              ('Chance of Admit ', '0.71')]),\n",
              " OrderedDict([('Serial No.', '393'),\n",
              "              ('GRE Score', '326'),\n",
              "              ('TOEFL Score', '112'),\n",
              "              ('University Rating', '4'),\n",
              "              ('SOP', '4'),\n",
              "              ('LOR ', '3.5'),\n",
              "              ('CGPA', '9.12'),\n",
              "              ('Research', '1'),\n",
              "              ('Chance of Admit ', '0.84')]),\n",
              " OrderedDict([('Serial No.', '394'),\n",
              "              ('GRE Score', '317'),\n",
              "              ('TOEFL Score', '104'),\n",
              "              ('University Rating', '2'),\n",
              "              ('SOP', '3'),\n",
              "              ('LOR ', '3'),\n",
              "              ('CGPA', '8.76'),\n",
              "              ('Research', '0'),\n",
              "              ('Chance of Admit ', '0.77')]),\n",
              " OrderedDict([('Serial No.', '395'),\n",
              "              ('GRE Score', '329'),\n",
              "              ('TOEFL Score', '111'),\n",
              "              ('University Rating', '4'),\n",
              "              ('SOP', '4.5'),\n",
              "              ('LOR ', '4'),\n",
              "              ('CGPA', '9.23'),\n",
              "              ('Research', '1'),\n",
              "              ('Chance of Admit ', '0.89')]),\n",
              " OrderedDict([('Serial No.', '396'),\n",
              "              ('GRE Score', '324'),\n",
              "              ('TOEFL Score', '110'),\n",
              "              ('University Rating', '3'),\n",
              "              ('SOP', '3.5'),\n",
              "              ('LOR ', '3.5'),\n",
              "              ('CGPA', '9.04'),\n",
              "              ('Research', '1'),\n",
              "              ('Chance of Admit ', '0.82')]),\n",
              " OrderedDict([('Serial No.', '397'),\n",
              "              ('GRE Score', '325'),\n",
              "              ('TOEFL Score', '107'),\n",
              "              ('University Rating', '3'),\n",
              "              ('SOP', '3'),\n",
              "              ('LOR ', '3.5'),\n",
              "              ('CGPA', '9.11'),\n",
              "              ('Research', '1'),\n",
              "              ('Chance of Admit ', '0.84')]),\n",
              " OrderedDict([('Serial No.', '398'),\n",
              "              ('GRE Score', '330'),\n",
              "              ('TOEFL Score', '116'),\n",
              "              ('University Rating', '4'),\n",
              "              ('SOP', '5'),\n",
              "              ('LOR ', '4.5'),\n",
              "              ('CGPA', '9.45'),\n",
              "              ('Research', '1'),\n",
              "              ('Chance of Admit ', '0.91')]),\n",
              " OrderedDict([('Serial No.', '399'),\n",
              "              ('GRE Score', '312'),\n",
              "              ('TOEFL Score', '103'),\n",
              "              ('University Rating', '3'),\n",
              "              ('SOP', '3.5'),\n",
              "              ('LOR ', '4'),\n",
              "              ('CGPA', '8.78'),\n",
              "              ('Research', '0'),\n",
              "              ('Chance of Admit ', '0.67')]),\n",
              " OrderedDict([('Serial No.', '400'),\n",
              "              ('GRE Score', '333'),\n",
              "              ('TOEFL Score', '117'),\n",
              "              ('University Rating', '4'),\n",
              "              ('SOP', '5'),\n",
              "              ('LOR ', '4'),\n",
              "              ('CGPA', '9.66'),\n",
              "              ('Research', '1'),\n",
              "              ('Chance of Admit ', '0.95')])]"
            ]
          },
          "metadata": {
            "tags": []
          },
          "execution_count": 48
        }
      ]
    },
    {
      "cell_type": "code",
      "metadata": {
        "id": "1MLh-HHWRnAE",
        "outputId": "c73c442d-a53b-4e91-bec2-3fdc56a49124",
        "colab": {
          "base_uri": "https://localhost:8080/"
        }
      },
      "source": [
        "import numpy as np\n",
        "a = np.genfromtxt('/Admission_Predict.csv',delimiter=',',names=('Serial No.','CGPA'),skip_header=1)\n",
        "a"
      ],
      "execution_count": 55,
      "outputs": [
        {
          "output_type": "execute_result",
          "data": {
            "text/plain": [
              "array([(  1., 337.), (  2., 324.), (  3., 316.), (  4., 322.),\n",
              "       (  5., 314.), (  6., 330.), (  7., 321.), (  8., 308.),\n",
              "       (  9., 302.), ( 10., 323.), ( 11., 325.), ( 12., 327.),\n",
              "       ( 13., 328.), ( 14., 307.), ( 15., 311.), ( 16., 314.),\n",
              "       ( 17., 317.), ( 18., 319.), ( 19., 318.), ( 20., 303.),\n",
              "       ( 21., 312.), ( 22., 325.), ( 23., 328.), ( 24., 334.),\n",
              "       ( 25., 336.), ( 26., 340.), ( 27., 322.), ( 28., 298.),\n",
              "       ( 29., 295.), ( 30., 310.), ( 31., 300.), ( 32., 327.),\n",
              "       ( 33., 338.), ( 34., 340.), ( 35., 331.), ( 36., 320.),\n",
              "       ( 37., 299.), ( 38., 300.), ( 39., 304.), ( 40., 307.),\n",
              "       ( 41., 308.), ( 42., 316.), ( 43., 313.), ( 44., 332.),\n",
              "       ( 45., 326.), ( 46., 322.), ( 47., 329.), ( 48., 339.),\n",
              "       ( 49., 321.), ( 50., 327.), ( 51., 313.), ( 52., 312.),\n",
              "       ( 53., 334.), ( 54., 324.), ( 55., 322.), ( 56., 320.),\n",
              "       ( 57., 316.), ( 58., 298.), ( 59., 300.), ( 60., 311.),\n",
              "       ( 61., 309.), ( 62., 307.), ( 63., 304.), ( 64., 315.),\n",
              "       ( 65., 325.), ( 66., 325.), ( 67., 327.), ( 68., 316.),\n",
              "       ( 69., 318.), ( 70., 328.), ( 71., 332.), ( 72., 336.),\n",
              "       ( 73., 321.), ( 74., 314.), ( 75., 314.), ( 76., 329.),\n",
              "       ( 77., 327.), ( 78., 301.), ( 79., 296.), ( 80., 294.),\n",
              "       ( 81., 312.), ( 82., 340.), ( 83., 320.), ( 84., 322.),\n",
              "       ( 85., 340.), ( 86., 319.), ( 87., 315.), ( 88., 317.),\n",
              "       ( 89., 314.), ( 90., 316.), ( 91., 318.), ( 92., 299.),\n",
              "       ( 93., 298.), ( 94., 301.), ( 95., 303.), ( 96., 304.),\n",
              "       ( 97., 306.), ( 98., 331.), ( 99., 332.), (100., 323.),\n",
              "       (101., 322.), (102., 312.), (103., 314.), (104., 317.),\n",
              "       (105., 326.), (106., 316.), (107., 329.), (108., 338.),\n",
              "       (109., 331.), (110., 304.), (111., 305.), (112., 321.),\n",
              "       (113., 301.), (114., 320.), (115., 311.), (116., 310.),\n",
              "       (117., 299.), (118., 290.), (119., 296.), (120., 327.),\n",
              "       (121., 335.), (122., 334.), (123., 310.), (124., 308.),\n",
              "       (125., 301.), (126., 300.), (127., 323.), (128., 319.),\n",
              "       (129., 326.), (130., 333.), (131., 339.), (132., 303.),\n",
              "       (133., 309.), (134., 323.), (135., 333.), (136., 314.),\n",
              "       (137., 312.), (138., 316.), (139., 326.), (140., 318.),\n",
              "       (141., 329.), (142., 332.), (143., 331.), (144., 340.),\n",
              "       (145., 325.), (146., 320.), (147., 315.), (148., 326.),\n",
              "       (149., 339.), (150., 311.), (151., 334.), (152., 332.),\n",
              "       (153., 321.), (154., 324.), (155., 326.), (156., 312.),\n",
              "       (157., 315.), (158., 309.), (159., 306.), (160., 297.),\n",
              "       (161., 315.), (162., 298.), (163., 318.), (164., 317.),\n",
              "       (165., 329.), (166., 322.), (167., 302.), (168., 313.),\n",
              "       (169., 293.), (170., 311.), (171., 312.), (172., 334.),\n",
              "       (173., 322.), (174., 323.), (175., 321.), (176., 320.),\n",
              "       (177., 329.), (178., 319.), (179., 309.), (180., 307.),\n",
              "       (181., 300.), (182., 305.), (183., 299.), (184., 314.),\n",
              "       (185., 316.), (186., 327.), (187., 317.), (188., 335.),\n",
              "       (189., 331.), (190., 324.), (191., 324.), (192., 323.),\n",
              "       (193., 322.), (194., 336.), (195., 316.), (196., 307.),\n",
              "       (197., 306.), (198., 310.), (199., 311.), (200., 313.),\n",
              "       (201., 317.), (202., 315.), (203., 340.), (204., 334.),\n",
              "       (205., 298.), (206., 295.), (207., 315.), (208., 310.),\n",
              "       (209., 305.), (210., 301.), (211., 325.), (212., 328.),\n",
              "       (213., 338.), (214., 333.), (215., 331.), (216., 330.),\n",
              "       (217., 322.), (218., 321.), (219., 324.), (220., 312.),\n",
              "       (221., 313.), (222., 316.), (223., 324.), (224., 308.),\n",
              "       (225., 305.), (226., 296.), (227., 306.), (228., 312.),\n",
              "       (229., 318.), (230., 324.), (231., 313.), (232., 319.),\n",
              "       (233., 312.), (234., 304.), (235., 330.), (236., 326.),\n",
              "       (237., 325.), (238., 329.), (239., 310.), (240., 299.),\n",
              "       (241., 296.), (242., 317.), (243., 324.), (244., 325.),\n",
              "       (245., 314.), (246., 328.), (247., 316.), (248., 311.),\n",
              "       (249., 324.), (250., 321.), (251., 320.), (252., 316.),\n",
              "       (253., 318.), (254., 335.), (255., 321.), (256., 307.),\n",
              "       (257., 309.), (258., 324.), (259., 326.), (260., 331.),\n",
              "       (261., 327.), (262., 312.), (263., 308.), (264., 324.),\n",
              "       (265., 325.), (266., 313.), (267., 312.), (268., 314.),\n",
              "       (269., 327.), (270., 308.), (271., 306.), (272., 299.),\n",
              "       (273., 294.), (274., 312.), (275., 315.), (276., 322.),\n",
              "       (277., 329.), (278., 320.), (279., 308.), (280., 304.),\n",
              "       (281., 311.), (282., 317.), (283., 312.), (284., 321.),\n",
              "       (285., 340.), (286., 331.), (287., 336.), (288., 324.),\n",
              "       (289., 314.), (290., 313.), (291., 307.), (292., 300.),\n",
              "       (293., 302.), (294., 312.), (295., 316.), (296., 317.),\n",
              "       (297., 310.), (298., 320.), (299., 330.), (300., 305.),\n",
              "       (301., 309.), (302., 319.), (303., 322.), (304., 323.),\n",
              "       (305., 313.), (306., 321.), (307., 323.), (308., 325.),\n",
              "       (309., 312.), (310., 308.), (311., 320.), (312., 328.),\n",
              "       (313., 311.), (314., 301.), (315., 305.), (316., 308.),\n",
              "       (317., 298.), (318., 300.), (319., 324.), (320., 327.),\n",
              "       (321., 317.), (322., 323.), (323., 314.), (324., 305.),\n",
              "       (325., 315.), (326., 326.), (327., 299.), (328., 295.),\n",
              "       (329., 324.), (330., 297.), (331., 327.), (332., 311.),\n",
              "       (333., 308.), (334., 319.), (335., 312.), (336., 325.),\n",
              "       (337., 319.), (338., 332.), (339., 323.), (340., 324.),\n",
              "       (341., 312.), (342., 326.), (343., 308.), (344., 305.),\n",
              "       (345., 295.), (346., 316.), (347., 304.), (348., 299.),\n",
              "       (349., 302.), (350., 313.), (351., 318.), (352., 325.),\n",
              "       (353., 303.), (354., 300.), (355., 297.), (356., 317.),\n",
              "       (357., 327.), (358., 301.), (359., 314.), (360., 321.),\n",
              "       (361., 322.), (362., 334.), (363., 338.), (364., 306.),\n",
              "       (365., 313.), (366., 330.), (367., 320.), (368., 311.),\n",
              "       (369., 298.), (370., 301.), (371., 310.), (372., 324.),\n",
              "       (373., 336.), (374., 321.), (375., 315.), (376., 304.),\n",
              "       (377., 297.), (378., 290.), (379., 303.), (380., 311.),\n",
              "       (381., 322.), (382., 319.), (383., 324.), (384., 300.),\n",
              "       (385., 340.), (386., 335.), (387., 302.), (388., 307.),\n",
              "       (389., 296.), (390., 320.), (391., 314.), (392., 318.),\n",
              "       (393., 326.), (394., 317.), (395., 329.), (396., 324.),\n",
              "       (397., 325.), (398., 330.), (399., 312.), (400., 333.)],\n",
              "      dtype=[('Serial_No', '<f8'), ('CGPA', '<f8')])"
            ]
          },
          "metadata": {
            "tags": []
          },
          "execution_count": 55
        }
      ]
    },
    {
      "cell_type": "code",
      "metadata": {
        "id": "iE-L3mouS0Qj",
        "outputId": "9de9f6e8-d787-46af-f3f2-2ccf8f620dac",
        "colab": {
          "base_uri": "https://localhost:8080/",
          "height": 407
        }
      },
      "source": [
        "import pandas as pd\n",
        "df = pd.read_csv('/Admission_Predict.csv')\n",
        "df"
      ],
      "execution_count": 57,
      "outputs": [
        {
          "output_type": "execute_result",
          "data": {
            "text/html": [
              "<div>\n",
              "<style scoped>\n",
              "    .dataframe tbody tr th:only-of-type {\n",
              "        vertical-align: middle;\n",
              "    }\n",
              "\n",
              "    .dataframe tbody tr th {\n",
              "        vertical-align: top;\n",
              "    }\n",
              "\n",
              "    .dataframe thead th {\n",
              "        text-align: right;\n",
              "    }\n",
              "</style>\n",
              "<table border=\"1\" class=\"dataframe\">\n",
              "  <thead>\n",
              "    <tr style=\"text-align: right;\">\n",
              "      <th></th>\n",
              "      <th>Serial No.</th>\n",
              "      <th>GRE Score</th>\n",
              "      <th>TOEFL Score</th>\n",
              "      <th>University Rating</th>\n",
              "      <th>SOP</th>\n",
              "      <th>LOR</th>\n",
              "      <th>CGPA</th>\n",
              "      <th>Research</th>\n",
              "      <th>Chance of Admit</th>\n",
              "    </tr>\n",
              "  </thead>\n",
              "  <tbody>\n",
              "    <tr>\n",
              "      <th>0</th>\n",
              "      <td>1</td>\n",
              "      <td>337</td>\n",
              "      <td>118</td>\n",
              "      <td>4</td>\n",
              "      <td>4.5</td>\n",
              "      <td>4.5</td>\n",
              "      <td>9.65</td>\n",
              "      <td>1</td>\n",
              "      <td>0.92</td>\n",
              "    </tr>\n",
              "    <tr>\n",
              "      <th>1</th>\n",
              "      <td>2</td>\n",
              "      <td>324</td>\n",
              "      <td>107</td>\n",
              "      <td>4</td>\n",
              "      <td>4.0</td>\n",
              "      <td>4.5</td>\n",
              "      <td>8.87</td>\n",
              "      <td>1</td>\n",
              "      <td>0.76</td>\n",
              "    </tr>\n",
              "    <tr>\n",
              "      <th>2</th>\n",
              "      <td>3</td>\n",
              "      <td>316</td>\n",
              "      <td>104</td>\n",
              "      <td>3</td>\n",
              "      <td>3.0</td>\n",
              "      <td>3.5</td>\n",
              "      <td>8.00</td>\n",
              "      <td>1</td>\n",
              "      <td>0.72</td>\n",
              "    </tr>\n",
              "    <tr>\n",
              "      <th>3</th>\n",
              "      <td>4</td>\n",
              "      <td>322</td>\n",
              "      <td>110</td>\n",
              "      <td>3</td>\n",
              "      <td>3.5</td>\n",
              "      <td>2.5</td>\n",
              "      <td>8.67</td>\n",
              "      <td>1</td>\n",
              "      <td>0.80</td>\n",
              "    </tr>\n",
              "    <tr>\n",
              "      <th>4</th>\n",
              "      <td>5</td>\n",
              "      <td>314</td>\n",
              "      <td>103</td>\n",
              "      <td>2</td>\n",
              "      <td>2.0</td>\n",
              "      <td>3.0</td>\n",
              "      <td>8.21</td>\n",
              "      <td>0</td>\n",
              "      <td>0.65</td>\n",
              "    </tr>\n",
              "    <tr>\n",
              "      <th>...</th>\n",
              "      <td>...</td>\n",
              "      <td>...</td>\n",
              "      <td>...</td>\n",
              "      <td>...</td>\n",
              "      <td>...</td>\n",
              "      <td>...</td>\n",
              "      <td>...</td>\n",
              "      <td>...</td>\n",
              "      <td>...</td>\n",
              "    </tr>\n",
              "    <tr>\n",
              "      <th>395</th>\n",
              "      <td>396</td>\n",
              "      <td>324</td>\n",
              "      <td>110</td>\n",
              "      <td>3</td>\n",
              "      <td>3.5</td>\n",
              "      <td>3.5</td>\n",
              "      <td>9.04</td>\n",
              "      <td>1</td>\n",
              "      <td>0.82</td>\n",
              "    </tr>\n",
              "    <tr>\n",
              "      <th>396</th>\n",
              "      <td>397</td>\n",
              "      <td>325</td>\n",
              "      <td>107</td>\n",
              "      <td>3</td>\n",
              "      <td>3.0</td>\n",
              "      <td>3.5</td>\n",
              "      <td>9.11</td>\n",
              "      <td>1</td>\n",
              "      <td>0.84</td>\n",
              "    </tr>\n",
              "    <tr>\n",
              "      <th>397</th>\n",
              "      <td>398</td>\n",
              "      <td>330</td>\n",
              "      <td>116</td>\n",
              "      <td>4</td>\n",
              "      <td>5.0</td>\n",
              "      <td>4.5</td>\n",
              "      <td>9.45</td>\n",
              "      <td>1</td>\n",
              "      <td>0.91</td>\n",
              "    </tr>\n",
              "    <tr>\n",
              "      <th>398</th>\n",
              "      <td>399</td>\n",
              "      <td>312</td>\n",
              "      <td>103</td>\n",
              "      <td>3</td>\n",
              "      <td>3.5</td>\n",
              "      <td>4.0</td>\n",
              "      <td>8.78</td>\n",
              "      <td>0</td>\n",
              "      <td>0.67</td>\n",
              "    </tr>\n",
              "    <tr>\n",
              "      <th>399</th>\n",
              "      <td>400</td>\n",
              "      <td>333</td>\n",
              "      <td>117</td>\n",
              "      <td>4</td>\n",
              "      <td>5.0</td>\n",
              "      <td>4.0</td>\n",
              "      <td>9.66</td>\n",
              "      <td>1</td>\n",
              "      <td>0.95</td>\n",
              "    </tr>\n",
              "  </tbody>\n",
              "</table>\n",
              "<p>400 rows × 9 columns</p>\n",
              "</div>"
            ],
            "text/plain": [
              "     Serial No.  GRE Score  TOEFL Score  ...  CGPA  Research  Chance of Admit \n",
              "0             1        337          118  ...  9.65         1              0.92\n",
              "1             2        324          107  ...  8.87         1              0.76\n",
              "2             3        316          104  ...  8.00         1              0.72\n",
              "3             4        322          110  ...  8.67         1              0.80\n",
              "4             5        314          103  ...  8.21         0              0.65\n",
              "..          ...        ...          ...  ...   ...       ...               ...\n",
              "395         396        324          110  ...  9.04         1              0.82\n",
              "396         397        325          107  ...  9.11         1              0.84\n",
              "397         398        330          116  ...  9.45         1              0.91\n",
              "398         399        312          103  ...  8.78         0              0.67\n",
              "399         400        333          117  ...  9.66         1              0.95\n",
              "\n",
              "[400 rows x 9 columns]"
            ]
          },
          "metadata": {
            "tags": []
          },
          "execution_count": 57
        }
      ]
    },
    {
      "cell_type": "code",
      "metadata": {
        "id": "TCu3GUy5Tak4",
        "outputId": "5d258b4a-1cec-4b42-f7cb-af97fe685aa3",
        "colab": {
          "base_uri": "https://localhost:8080/"
        }
      },
      "source": [
        "import urllib\n",
        "import requests\n",
        "url = 'http://textfiles.com/adventure/aencounter.txt'\n",
        "new = urllib.request.urlopen(url)\n",
        "\n",
        "for i in new:\n",
        "  decoded = i.decode('utf-8')\n",
        "  print(decoded)"
      ],
      "execution_count": 60,
      "outputs": [
        {
          "output_type": "stream",
          "text": [
            "***************************************\r\n",
            "\n",
            "*                                     *\r\n",
            "\n",
            "*            HOW TO SOLVE:            *\r\n",
            "\n",
            "*                                     *\r\n",
            "\n",
            "*        THE ALPINE ENCOUNTER         *\r\n",
            "\n",
            "*                                     *\r\n",
            "\n",
            "***************************************\r\n",
            "\n",
            "\r\n",
            "\n",
            "THIS ADVENTURE IS TRULY AN ENIGMA.\r\n",
            "\n",
            "IT CAN BE SOLVED IN HUNDREDS OF MOVES\r\n",
            "\n",
            "OR HALF A DOZEN....\r\n",
            "\n",
            "WELL I HAVEN'T PLAYED THE HUNDRED MOVE\r\n",
            "\n",
            "VERSION...SO HERE'S THE SHORT ONE.\r\n",
            "\n",
            "\r\n",
            "\n",
            "COMMANDS IN BRACKETS:\r\n",
            "\n",
            "\r\n",
            "\n",
            " [N] THIS WILL PUT YOU INSIDE.\r\n",
            "\n",
            " [N] THIS WILL GET YOU NEAR THE DESK.\r\n",
            "\n",
            " [W] THIS WILL GET YOU TO THE REGIS-\r\n",
            "\n",
            "     TRATION DESK.\r\n",
            "\n",
            " [REGISTER] A FORMALITY. FILL IN ANY\r\n",
            "\n",
            "   NAME, ADDRESS, ETC.\r\n",
            "\n",
            " [WAIT] FOR A BLONDE WOMAN TO APPEAR.\r\n",
            "\n",
            "   SHE'LL APPEAR AROUND 9:45.\r\n",
            "\n",
            "   AT THAT POINT PRESS A KEY (NOT\r\n",
            "\n",
            "   BEFORE.)\r\n",
            "\n",
            " [LOOK BACKPACK] THIS WILL UNCOVER A\r\n",
            "\n",
            "   VASE.\r\n",
            "\n",
            " [TAKE VASE] YOU HAVE THE VITAL\r\n",
            "\n",
            "   INFORMATION UNDER YOUR NOSE!\r\n",
            "\n",
            " [CALL INSPECTOR] YOU HAVE WON!\r\n",
            "\n",
            "\r\n",
            "\n",
            "   THERE ARE MANY OTHER PLACES TO GO,\r\n",
            "\n",
            "THINGS TO DO, ETC.  BUT THE PARSER\r\n",
            "\n",
            "IS BAD AND THE GRAPHICS SLOPPY SO\r\n",
            "\n",
            "WHY BOTHER?\r\n",
            "\n",
            "\r\n",
            "\n",
            "THE EXPLANATION IS AS FOLLOWS:\r\n",
            "\n",
            "\r\n",
            "\n",
            "  1) YOU FIND OUT YOUR MISSION,\r\n",
            "\n",
            "     GETTING THE VASE BY READING THE\r\n",
            "\n",
            "     NEWSPAPER.\r\n",
            "\n",
            "\r\n",
            "\n",
            "  2) YOU FIND OUT THE WOMAN'S NAME\r\n",
            "\n",
            "     (SINCE TYPING 'LOOK WOMAN' DOES\r\n",
            "\n",
            "     NOT WORK) BY FOLLOWING HER AND\r\n",
            "\n",
            "     'LISTEN'-ING TO HER CONVERSATION.\r\n",
            "\n",
            "     IT IS RENEE.\r\n",
            "\n",
            "\r\n",
            "\n",
            "  3) YOU FIND THE BACKPACK ON HER AND\r\n",
            "\n",
            "     LOOK IN IT DUE TO COMMON SENSE.\r\n",
            "\n",
            "\r\n",
            "\n",
            "  4) IF YOU CARRY THE VASE AROUND AND\r\n",
            "\n",
            "     RUN INTO THE INSPECTOR HE ARRESTS\r\n",
            "\n",
            "     YOU. SO YOU 'CALL INSPECTOR'.\r\n",
            "\n",
            "\r\n",
            "\n",
            "\r\n",
            "\n",
            "              WRITTEN BY:\r\n",
            "\n",
            "\r\n",
            "\n",
            "            PIRATE'S FRIEND\r\n",
            "\n",
            "            *FRED SOFTWARE*\r\n",
            "\n"
          ],
          "name": "stdout"
        }
      ]
    }
  ]
}
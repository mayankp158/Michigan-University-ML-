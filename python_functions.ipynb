{
  "nbformat": 4,
  "nbformat_minor": 0,
  "metadata": {
    "colab": {
      "name": "python_functions.ipynb",
      "provenance": [],
      "authorship_tag": "ABX9TyOwCHHKgXxvjr6vcBPEnoJ2",
      "include_colab_link": true
    },
    "kernelspec": {
      "name": "python3",
      "display_name": "Python 3"
    }
  },
  "cells": [
    {
      "cell_type": "markdown",
      "metadata": {
        "id": "view-in-github",
        "colab_type": "text"
      },
      "source": [
        "<a href=\"https://colab.research.google.com/github/mayankp158/Michigan-University-ML-/blob/main/python_functions.ipynb\" target=\"_parent\"><img src=\"https://colab.research.google.com/assets/colab-badge.svg\" alt=\"Open In Colab\"/></a>"
      ]
    },
    {
      "cell_type": "code",
      "metadata": {
        "colab": {
          "base_uri": "https://localhost:8080/"
        },
        "id": "nOeJH0oiycbv",
        "outputId": "3c73df1f-8abc-40cb-ccfb-86c3c41b503b"
      },
      "source": [
        "import csv\n",
        "with open('mpg.csv') as new:\n",
        "  mpg = list(csv.DictReader(new))\n",
        "\n",
        "mpg[:3]"
      ],
      "execution_count": 1,
      "outputs": [
        {
          "output_type": "execute_result",
          "data": {
            "text/plain": [
              "[OrderedDict([('mpg', '18'),\n",
              "              ('cylinders', '8'),\n",
              "              ('displacement', '307'),\n",
              "              ('horsepower', '130'),\n",
              "              ('weight', '3504'),\n",
              "              ('acceleration', '12'),\n",
              "              ('model_year', '70'),\n",
              "              ('origin', '1'),\n",
              "              ('name', 'chevrolet chevelle malibu')]),\n",
              " OrderedDict([('mpg', '15'),\n",
              "              ('cylinders', '8'),\n",
              "              ('displacement', '350'),\n",
              "              ('horsepower', '165'),\n",
              "              ('weight', '3693'),\n",
              "              ('acceleration', '11.5'),\n",
              "              ('model_year', '70'),\n",
              "              ('origin', '1'),\n",
              "              ('name', 'buick skylark 320')]),\n",
              " OrderedDict([('mpg', '18'),\n",
              "              ('cylinders', '8'),\n",
              "              ('displacement', '318'),\n",
              "              ('horsepower', '150'),\n",
              "              ('weight', '3436'),\n",
              "              ('acceleration', '11'),\n",
              "              ('model_year', '70'),\n",
              "              ('origin', '1'),\n",
              "              ('name', 'plymouth satellite')])]"
            ]
          },
          "metadata": {
            "tags": []
          },
          "execution_count": 1
        }
      ]
    }
  ]
}
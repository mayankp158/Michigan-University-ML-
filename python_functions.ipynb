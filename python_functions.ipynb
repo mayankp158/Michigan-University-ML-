{
  "nbformat": 4,
  "nbformat_minor": 0,
  "metadata": {
    "colab": {
      "name": "python_functions.ipynb",
      "provenance": [],
      "collapsed_sections": [],
      "authorship_tag": "ABX9TyNeXFCwUItx5qvWwDPy5Cad",
      "include_colab_link": true
    },
    "kernelspec": {
      "name": "python3",
      "display_name": "Python 3"
    }
  },
  "cells": [
    {
      "cell_type": "markdown",
      "metadata": {
        "id": "view-in-github",
        "colab_type": "text"
      },
      "source": [
        "<a href=\"https://colab.research.google.com/github/mayankp158/Michigan-University-ML-/blob/main/python_functions.ipynb\" target=\"_parent\"><img src=\"https://colab.research.google.com/assets/colab-badge.svg\" alt=\"Open In Colab\"/></a>"
      ]
    },
    {
      "cell_type": "code",
      "metadata": {
        "colab": {
          "base_uri": "https://localhost:8080/"
        },
        "id": "nOeJH0oiycbv",
        "outputId": "f4833c28-aba0-4c95-d471-fe5338550287"
      },
      "source": [
        "import csv\n",
        "%precision 2\n",
        "with open('mpg.csv') as new:\n",
        "  mpg = list(csv.DictReader(new))\n",
        "\n",
        "mpg[:3]"
      ],
      "execution_count": 7,
      "outputs": [
        {
          "output_type": "execute_result",
          "data": {
            "text/plain": [
              "[OrderedDict([('mpg', '18'),\n",
              "              ('cylinders', '8'),\n",
              "              ('displacement', '307'),\n",
              "              ('horsepower', '130'),\n",
              "              ('weight', '3504'),\n",
              "              ('acceleration', '12'),\n",
              "              ('model_year', '70'),\n",
              "              ('origin', '1'),\n",
              "              ('name', 'chevrolet chevelle malibu')]),\n",
              " OrderedDict([('mpg', '15'),\n",
              "              ('cylinders', '8'),\n",
              "              ('displacement', '350'),\n",
              "              ('horsepower', '165'),\n",
              "              ('weight', '3693'),\n",
              "              ('acceleration', '11.5'),\n",
              "              ('model_year', '70'),\n",
              "              ('origin', '1'),\n",
              "              ('name', 'buick skylark 320')]),\n",
              " OrderedDict([('mpg', '18'),\n",
              "              ('cylinders', '8'),\n",
              "              ('displacement', '318'),\n",
              "              ('horsepower', '150'),\n",
              "              ('weight', '3436'),\n",
              "              ('acceleration', '11'),\n",
              "              ('model_year', '70'),\n",
              "              ('origin', '1'),\n",
              "              ('name', 'plymouth satellite')])]"
            ]
          },
          "metadata": {
            "tags": []
          },
          "execution_count": 7
        }
      ]
    },
    {
      "cell_type": "code",
      "metadata": {
        "colab": {
          "base_uri": "https://localhost:8080/"
        },
        "id": "s5_HunFu0_Kj",
        "outputId": "b9a67059-d6fc-4c2b-9bd8-9d2a74e7c2fa"
      },
      "source": [
        "len(mpg)"
      ],
      "execution_count": 9,
      "outputs": [
        {
          "output_type": "execute_result",
          "data": {
            "text/plain": [
              "398"
            ]
          },
          "metadata": {
            "tags": []
          },
          "execution_count": 9
        }
      ]
    },
    {
      "cell_type": "code",
      "metadata": {
        "colab": {
          "base_uri": "https://localhost:8080/"
        },
        "id": "rfxKMrf21C4E",
        "outputId": "792453f2-6581-4b0c-8de1-3cc1711c8fab"
      },
      "source": [
        "mpg[0].keys()"
      ],
      "execution_count": 10,
      "outputs": [
        {
          "output_type": "execute_result",
          "data": {
            "text/plain": [
              "odict_keys(['mpg', 'cylinders', 'displacement', 'horsepower', 'weight', 'acceleration', 'model_year', 'origin', 'name'])"
            ]
          },
          "metadata": {
            "tags": []
          },
          "execution_count": 10
        }
      ]
    },
    {
      "cell_type": "code",
      "metadata": {
        "colab": {
          "base_uri": "https://localhost:8080/"
        },
        "id": "y5UDevmC1XZc",
        "outputId": "d4ed337e-789c-40dd-e60b-4d7fa6c8f9b4"
      },
      "source": [
        "sum(float(i['weight']) for i in mpg)/len(mpg)"
      ],
      "execution_count": 14,
      "outputs": [
        {
          "output_type": "execute_result",
          "data": {
            "text/plain": [
              "2970.42"
            ]
          },
          "metadata": {
            "tags": []
          },
          "execution_count": 14
        }
      ]
    },
    {
      "cell_type": "code",
      "metadata": {
        "colab": {
          "base_uri": "https://localhost:8080/"
        },
        "id": "mkXFQDrF2emk",
        "outputId": "a0e787bb-51d7-4647-cfaa-7f6969897d64"
      },
      "source": [
        "cyl = set(j['cylinders'] for j in mpg)\n",
        "cyl"
      ],
      "execution_count": 15,
      "outputs": [
        {
          "output_type": "execute_result",
          "data": {
            "text/plain": [
              "{'3', '4', '5', '6', '8'}"
            ]
          },
          "metadata": {
            "tags": []
          },
          "execution_count": 15
        }
      ]
    },
    {
      "cell_type": "code",
      "metadata": {
        "colab": {
          "base_uri": "https://localhost:8080/"
        },
        "id": "dv5KmKdx21Iw",
        "outputId": "f2c95f38-a353-4a98-d1e1-c9c95485bbd8"
      },
      "source": [
        "ctympgbycl = []\n",
        "for i in cyl:\n",
        "  sum1 = 0\n",
        "  count1 = 0\n",
        "  for j in mpg:\n",
        "    if j['cylinders'] == i:\n",
        "      sum1 += float(j['cylinders'])\n",
        "      count1 += 1\n",
        "  ctympgbycl.append((i,sum1/count1))\n",
        "\n",
        "ctympgbycl.sort(key=lambda x: x[0])\n",
        "ctympgbycl"
      ],
      "execution_count": 23,
      "outputs": [
        {
          "output_type": "execute_result",
          "data": {
            "text/plain": [
              "[('3', 3.00), ('4', 4.00), ('5', 5.00), ('6', 6.00), ('8', 8.00)]"
            ]
          },
          "metadata": {
            "tags": []
          },
          "execution_count": 23
        }
      ]
    },
    {
      "cell_type": "code",
      "metadata": {
        "colab": {
          "base_uri": "https://localhost:8080/"
        },
        "id": "gcDVJPuI5ahL",
        "outputId": "c67492d6-14fb-4caf-b355-a9aa8176c5cf"
      },
      "source": [
        "vc = set(j['name'] for j in mpg)\n",
        "vc"
      ],
      "execution_count": 24,
      "outputs": [
        {
          "output_type": "execute_result",
          "data": {
            "text/plain": [
              "{'amc ambassador brougham',\n",
              " 'amc ambassador dpl',\n",
              " 'amc ambassador sst',\n",
              " 'amc concord',\n",
              " 'amc concord d/l',\n",
              " 'amc concord dl',\n",
              " 'amc concord dl 6',\n",
              " 'amc gremlin',\n",
              " 'amc hornet',\n",
              " 'amc hornet sportabout (sw)',\n",
              " 'amc matador',\n",
              " 'amc matador (sw)',\n",
              " 'amc pacer',\n",
              " 'amc pacer d/l',\n",
              " 'amc rebel sst',\n",
              " 'amc spirit dl',\n",
              " 'audi 100 ls',\n",
              " 'audi 100ls',\n",
              " 'audi 4000',\n",
              " 'audi 5000',\n",
              " 'audi 5000s (diesel)',\n",
              " 'audi fox',\n",
              " 'bmw 2002',\n",
              " 'bmw 320i',\n",
              " 'buick century',\n",
              " 'buick century 350',\n",
              " 'buick century limited',\n",
              " 'buick century luxus (sw)',\n",
              " 'buick century special',\n",
              " 'buick electra 225 custom',\n",
              " 'buick estate wagon (sw)',\n",
              " 'buick lesabre custom',\n",
              " 'buick opel isuzu deluxe',\n",
              " 'buick regal sport coupe (turbo)',\n",
              " 'buick skyhawk',\n",
              " 'buick skylark',\n",
              " 'buick skylark 320',\n",
              " 'buick skylark limited',\n",
              " 'cadillac eldorado',\n",
              " 'cadillac seville',\n",
              " 'capri ii',\n",
              " 'chevroelt chevelle malibu',\n",
              " 'chevrolet bel air',\n",
              " 'chevrolet camaro',\n",
              " 'chevrolet caprice classic',\n",
              " 'chevrolet cavalier',\n",
              " 'chevrolet cavalier 2-door',\n",
              " 'chevrolet cavalier wagon',\n",
              " 'chevrolet chevelle concours (sw)',\n",
              " 'chevrolet chevelle malibu',\n",
              " 'chevrolet chevelle malibu classic',\n",
              " 'chevrolet chevette',\n",
              " 'chevrolet citation',\n",
              " 'chevrolet concours',\n",
              " 'chevrolet impala',\n",
              " 'chevrolet malibu',\n",
              " 'chevrolet malibu classic (sw)',\n",
              " 'chevrolet monte carlo',\n",
              " 'chevrolet monte carlo landau',\n",
              " 'chevrolet monte carlo s',\n",
              " 'chevrolet monza 2+2',\n",
              " 'chevrolet nova',\n",
              " 'chevrolet nova custom',\n",
              " 'chevrolet vega',\n",
              " 'chevrolet vega (sw)',\n",
              " 'chevrolet vega 2300',\n",
              " 'chevrolet woody',\n",
              " 'chevy c10',\n",
              " 'chevy c20',\n",
              " 'chevy s-10',\n",
              " 'chrysler cordoba',\n",
              " 'chrysler lebaron medallion',\n",
              " 'chrysler lebaron salon',\n",
              " 'chrysler lebaron town @ country (sw)',\n",
              " 'chrysler new yorker brougham',\n",
              " 'chrysler newport royal',\n",
              " 'datsun 1200',\n",
              " 'datsun 200-sx',\n",
              " 'datsun 200sx',\n",
              " 'datsun 210',\n",
              " 'datsun 210 mpg',\n",
              " 'datsun 280-zx',\n",
              " 'datsun 310',\n",
              " 'datsun 310 gx',\n",
              " 'datsun 510',\n",
              " 'datsun 510 (sw)',\n",
              " 'datsun 510 hatchback',\n",
              " 'datsun 610',\n",
              " 'datsun 710',\n",
              " 'datsun 810',\n",
              " 'datsun 810 maxima',\n",
              " 'datsun b-210',\n",
              " 'datsun b210',\n",
              " 'datsun b210 gx',\n",
              " 'datsun f-10 hatchback',\n",
              " 'datsun pl510',\n",
              " 'dodge aries se',\n",
              " 'dodge aries wagon (sw)',\n",
              " 'dodge aspen',\n",
              " 'dodge aspen 6',\n",
              " 'dodge aspen se',\n",
              " 'dodge challenger se',\n",
              " 'dodge charger 2.2',\n",
              " 'dodge colt',\n",
              " 'dodge colt (sw)',\n",
              " 'dodge colt hardtop',\n",
              " 'dodge colt hatchback custom',\n",
              " 'dodge colt m/m',\n",
              " 'dodge coronet brougham',\n",
              " 'dodge coronet custom',\n",
              " 'dodge coronet custom (sw)',\n",
              " 'dodge d100',\n",
              " 'dodge d200',\n",
              " 'dodge dart custom',\n",
              " 'dodge diplomat',\n",
              " 'dodge magnum xe',\n",
              " 'dodge monaco (sw)',\n",
              " 'dodge monaco brougham',\n",
              " 'dodge omni',\n",
              " 'dodge rampage',\n",
              " 'dodge st. regis',\n",
              " 'fiat 124 sport coupe',\n",
              " 'fiat 124 tc',\n",
              " 'fiat 124b',\n",
              " 'fiat 128',\n",
              " 'fiat 131',\n",
              " 'fiat strada custom',\n",
              " 'fiat x1.9',\n",
              " 'ford country',\n",
              " 'ford country squire (sw)',\n",
              " 'ford escort 2h',\n",
              " 'ford escort 4w',\n",
              " 'ford f108',\n",
              " 'ford f250',\n",
              " 'ford fairmont',\n",
              " 'ford fairmont (auto)',\n",
              " 'ford fairmont (man)',\n",
              " 'ford fairmont 4',\n",
              " 'ford fairmont futura',\n",
              " 'ford fiesta',\n",
              " 'ford futura',\n",
              " 'ford galaxie 500',\n",
              " 'ford gran torino',\n",
              " 'ford gran torino (sw)',\n",
              " 'ford granada',\n",
              " 'ford granada ghia',\n",
              " 'ford granada gl',\n",
              " 'ford granada l',\n",
              " 'ford ltd',\n",
              " 'ford ltd landau',\n",
              " 'ford maverick',\n",
              " 'ford mustang',\n",
              " 'ford mustang cobra',\n",
              " 'ford mustang gl',\n",
              " 'ford mustang ii',\n",
              " 'ford mustang ii 2+2',\n",
              " 'ford pinto',\n",
              " 'ford pinto (sw)',\n",
              " 'ford pinto runabout',\n",
              " 'ford ranger',\n",
              " 'ford thunderbird',\n",
              " 'ford torino',\n",
              " 'ford torino 500',\n",
              " 'hi 1200d',\n",
              " 'honda accord',\n",
              " 'honda accord cvcc',\n",
              " 'honda accord lx',\n",
              " 'honda civic',\n",
              " 'honda civic (auto)',\n",
              " 'honda civic 1300',\n",
              " 'honda civic 1500 gl',\n",
              " 'honda civic cvcc',\n",
              " 'honda prelude',\n",
              " 'maxda glc deluxe',\n",
              " 'maxda rx3',\n",
              " 'mazda 626',\n",
              " 'mazda glc',\n",
              " 'mazda glc 4',\n",
              " 'mazda glc custom',\n",
              " 'mazda glc custom l',\n",
              " 'mazda glc deluxe',\n",
              " 'mazda rx-4',\n",
              " 'mazda rx-7 gs',\n",
              " 'mazda rx2 coupe',\n",
              " 'mercedes benz 300d',\n",
              " 'mercedes-benz 240d',\n",
              " 'mercedes-benz 280s',\n",
              " 'mercury capri 2000',\n",
              " 'mercury capri v6',\n",
              " 'mercury cougar brougham',\n",
              " 'mercury grand marquis',\n",
              " 'mercury lynx l',\n",
              " 'mercury marquis',\n",
              " 'mercury marquis brougham',\n",
              " 'mercury monarch',\n",
              " 'mercury monarch ghia',\n",
              " 'mercury zephyr',\n",
              " 'mercury zephyr 6',\n",
              " 'nissan stanza xe',\n",
              " 'oldsmobile cutlass ciera (diesel)',\n",
              " 'oldsmobile cutlass ls',\n",
              " 'oldsmobile cutlass salon brougham',\n",
              " 'oldsmobile cutlass supreme',\n",
              " 'oldsmobile delta 88 royale',\n",
              " 'oldsmobile omega',\n",
              " 'oldsmobile omega brougham',\n",
              " 'oldsmobile starfire sx',\n",
              " 'oldsmobile vista cruiser',\n",
              " 'opel 1900',\n",
              " 'opel manta',\n",
              " 'peugeot 304',\n",
              " 'peugeot 504',\n",
              " 'peugeot 504 (sw)',\n",
              " 'peugeot 505s turbo diesel',\n",
              " 'peugeot 604sl',\n",
              " \"plymouth 'cuda 340\",\n",
              " 'plymouth arrow gs',\n",
              " 'plymouth champ',\n",
              " 'plymouth cricket',\n",
              " 'plymouth custom suburb',\n",
              " 'plymouth duster',\n",
              " 'plymouth fury',\n",
              " 'plymouth fury gran sedan',\n",
              " 'plymouth fury iii',\n",
              " 'plymouth grand fury',\n",
              " 'plymouth horizon',\n",
              " 'plymouth horizon 4',\n",
              " 'plymouth horizon miser',\n",
              " 'plymouth horizon tc3',\n",
              " 'plymouth reliant',\n",
              " 'plymouth sapporo',\n",
              " 'plymouth satellite',\n",
              " 'plymouth satellite custom',\n",
              " 'plymouth satellite custom (sw)',\n",
              " 'plymouth satellite sebring',\n",
              " 'plymouth valiant',\n",
              " 'plymouth valiant custom',\n",
              " 'plymouth volare',\n",
              " 'plymouth volare custom',\n",
              " 'plymouth volare premier v8',\n",
              " 'pontiac astro',\n",
              " 'pontiac catalina',\n",
              " 'pontiac catalina brougham',\n",
              " 'pontiac firebird',\n",
              " 'pontiac grand prix',\n",
              " 'pontiac grand prix lj',\n",
              " 'pontiac j2000 se hatchback',\n",
              " 'pontiac lemans v6',\n",
              " 'pontiac phoenix',\n",
              " 'pontiac phoenix lj',\n",
              " 'pontiac safari (sw)',\n",
              " 'pontiac sunbird coupe',\n",
              " 'pontiac ventura sj',\n",
              " 'renault 12 (sw)',\n",
              " 'renault 12tl',\n",
              " 'renault 18i',\n",
              " 'renault 5 gtl',\n",
              " 'renault lecar deluxe',\n",
              " 'saab 99e',\n",
              " 'saab 99gle',\n",
              " 'saab 99le',\n",
              " 'subaru',\n",
              " 'subaru dl',\n",
              " 'toyota carina',\n",
              " 'toyota celica gt',\n",
              " 'toyota celica gt liftback',\n",
              " 'toyota corolla',\n",
              " 'toyota corolla 1200',\n",
              " 'toyota corolla 1600 (sw)',\n",
              " 'toyota corolla liftback',\n",
              " 'toyota corolla tercel',\n",
              " 'toyota corona',\n",
              " 'toyota corona hardtop',\n",
              " 'toyota corona liftback',\n",
              " 'toyota corona mark ii',\n",
              " 'toyota cressida',\n",
              " 'toyota mark ii',\n",
              " 'toyota starlet',\n",
              " 'toyota tercel',\n",
              " 'toyouta corona mark ii (sw)',\n",
              " 'triumph tr7 coupe',\n",
              " 'vokswagen rabbit',\n",
              " 'volkswagen 1131 deluxe sedan',\n",
              " 'volkswagen 411 (sw)',\n",
              " 'volkswagen dasher',\n",
              " 'volkswagen jetta',\n",
              " 'volkswagen model 111',\n",
              " 'volkswagen rabbit',\n",
              " 'volkswagen rabbit custom',\n",
              " 'volkswagen rabbit custom diesel',\n",
              " 'volkswagen rabbit l',\n",
              " 'volkswagen scirocco',\n",
              " 'volkswagen super beetle',\n",
              " 'volkswagen type 3',\n",
              " 'volvo 144ea',\n",
              " 'volvo 145e (sw)',\n",
              " 'volvo 244dl',\n",
              " 'volvo 245',\n",
              " 'volvo 264gl',\n",
              " 'volvo diesel',\n",
              " 'vw dasher (diesel)',\n",
              " 'vw pickup',\n",
              " 'vw rabbit',\n",
              " 'vw rabbit c (diesel)',\n",
              " 'vw rabbit custom'}"
            ]
          },
          "metadata": {
            "tags": []
          },
          "execution_count": 24
        }
      ]
    },
    {
      "cell_type": "code",
      "metadata": {
        "id": "q_JAfvNc6CXo"
      },
      "source": [
        "import datetime as dt\n",
        "import time as t"
      ],
      "execution_count": 30,
      "outputs": []
    },
    {
      "cell_type": "code",
      "metadata": {
        "colab": {
          "base_uri": "https://localhost:8080/"
        },
        "id": "CVpXxfSA9Qpv",
        "outputId": "6a20e685-4b18-4802-c200-4ccfa58a304d"
      },
      "source": [
        "print(t.time())"
      ],
      "execution_count": 31,
      "outputs": [
        {
          "output_type": "stream",
          "text": [
            "1606753267.2124684\n"
          ],
          "name": "stdout"
        }
      ]
    },
    {
      "cell_type": "code",
      "metadata": {
        "colab": {
          "base_uri": "https://localhost:8080/"
        },
        "id": "500W89Rn9Tn0",
        "outputId": "602d4e60-ea4d-4b9a-dc34-fea236c4215b"
      },
      "source": [
        "dtnow = dt.datetime.fromtimestamp(t.time())\n",
        "dtnow"
      ],
      "execution_count": 33,
      "outputs": [
        {
          "output_type": "execute_result",
          "data": {
            "text/plain": [
              "datetime.datetime(2020, 11, 30, 16, 22, 38, 545832)"
            ]
          },
          "metadata": {
            "tags": []
          },
          "execution_count": 33
        }
      ]
    },
    {
      "cell_type": "code",
      "metadata": {
        "colab": {
          "base_uri": "https://localhost:8080/"
        },
        "id": "MMe5xOLr9rlX",
        "outputId": "2dd0f96d-e9a3-45dc-fadc-72fd06c18aa5"
      },
      "source": [
        "dtnow.year, dtnow.month, dtnow.day, dtnow.hour,dtnow.minute,dtnow.second"
      ],
      "execution_count": 35,
      "outputs": [
        {
          "output_type": "execute_result",
          "data": {
            "text/plain": [
              "(2020, 11, 30, 16, 22, 38)"
            ]
          },
          "metadata": {
            "tags": []
          },
          "execution_count": 35
        }
      ]
    },
    {
      "cell_type": "code",
      "metadata": {
        "colab": {
          "base_uri": "https://localhost:8080/"
        },
        "id": "fQAmD3rh-EHi",
        "outputId": "c03aed1c-c8e9-4997-f881-685f636cd374"
      },
      "source": [
        "delta = dt.timedelta(days=100)\n",
        "delta"
      ],
      "execution_count": 36,
      "outputs": [
        {
          "output_type": "execute_result",
          "data": {
            "text/plain": [
              "datetime.timedelta(100)"
            ]
          },
          "metadata": {
            "tags": []
          },
          "execution_count": 36
        }
      ]
    },
    {
      "cell_type": "code",
      "metadata": {
        "id": "8sqYZpFQ-bE1"
      },
      "source": [
        "today = dt.date.today()"
      ],
      "execution_count": 39,
      "outputs": []
    },
    {
      "cell_type": "code",
      "metadata": {
        "colab": {
          "base_uri": "https://localhost:8080/"
        },
        "id": "rCBn08nx-ppv",
        "outputId": "09c547d1-e6ca-41f6-f59e-ce730fce2854"
      },
      "source": [
        "today-delta"
      ],
      "execution_count": 40,
      "outputs": [
        {
          "output_type": "execute_result",
          "data": {
            "text/plain": [
              "datetime.date(2020, 8, 22)"
            ]
          },
          "metadata": {
            "tags": []
          },
          "execution_count": 40
        }
      ]
    },
    {
      "cell_type": "code",
      "metadata": {
        "colab": {
          "base_uri": "https://localhost:8080/"
        },
        "id": "miqrRvs6-9mp",
        "outputId": "fc9f56e6-5458-48a2-f951-355352443629"
      },
      "source": [
        "today>today-delta"
      ],
      "execution_count": 41,
      "outputs": [
        {
          "output_type": "execute_result",
          "data": {
            "text/plain": [
              "True"
            ]
          },
          "metadata": {
            "tags": []
          },
          "execution_count": 41
        }
      ]
    },
    {
      "cell_type": "code",
      "metadata": {
        "colab": {
          "base_uri": "https://localhost:8080/"
        },
        "id": "fh7xi7V7B7GV",
        "outputId": "f77103e0-ae78-42f9-9120-d862b720261d"
      },
      "source": [
        "people = ['Dr. Christopher Brooks', 'Dr. Kevyn Collins-Thompson', 'Dr. VG Vinod Vydiswaran', 'Dr. Daniel Romero']\n",
        "\n",
        "def split_title_and_name(person):\n",
        "    return person.split()[0] + ' ' + person.split()[-1]\n",
        "\n",
        "#option 1\n",
        "for person in people:\n",
        "    print(split_title_and_name(person) == (lambda person: person.split()[0] + ' ' + person.split()[-1])(person))\n",
        "\n",
        "#option 2\n",
        "#list(map(split_title_and_name, people)) == list(map(???))\n"
      ],
      "execution_count": 43,
      "outputs": [
        {
          "output_type": "stream",
          "text": [
            "True\n",
            "True\n",
            "True\n",
            "True\n"
          ],
          "name": "stdout"
        }
      ]
    }
  ]
}